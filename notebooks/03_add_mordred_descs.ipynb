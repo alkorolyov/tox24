{
 "cells": [
  {
   "metadata": {
    "ExecuteTime": {
     "end_time": "2024-08-14T06:53:05.325184Z",
     "start_time": "2024-08-14T06:53:05.311557Z"
    }
   },
   "cell_type": "code",
   "source": [
    "%load_ext autoreload\n",
    "%autoreload 2"
   ],
   "id": "d5b29868638404e",
   "outputs": [],
   "execution_count": 1
  },
  {
   "metadata": {
    "ExecuteTime": {
     "end_time": "2024-08-14T08:27:17.716737Z",
     "start_time": "2024-08-14T08:27:17.679428Z"
    }
   },
   "cell_type": "code",
   "source": [
    "import pandas as pd\n",
    "import numpy as np\n",
    "import seaborn as sns\n",
    "import mols2grid\n",
    "\n",
    "from rdkit import Chem\n",
    "\n",
    "from src.utils import smi2mol\n",
    "from src.config import mem\n",
    "from mordred import Calculator, descriptors"
   ],
   "id": "554c847250ca530e",
   "outputs": [],
   "execution_count": 156
  },
  {
   "metadata": {
    "ExecuteTime": {
     "end_time": "2024-08-14T08:26:49.141611Z",
     "start_time": "2024-08-14T08:26:49.044173Z"
    }
   },
   "cell_type": "code",
   "source": [
    "train = pd.read_csv('../data/processed/train.csv')\n",
    "train['rdmol'] = train.smi.apply(smi2mol)"
   ],
   "id": "bade0256b3340e49",
   "outputs": [],
   "execution_count": 150
  },
  {
   "metadata": {
    "ExecuteTime": {
     "end_time": "2024-08-14T08:26:51.607384Z",
     "start_time": "2024-08-14T08:26:51.590604Z"
    }
   },
   "cell_type": "code",
   "source": [
    "mol = smi2mol('NC1COC1')\n",
    "mol"
   ],
   "id": "9a8bbe70453b289a",
   "outputs": [
    {
     "data": {
      "text/plain": [
       "<rdkit.Chem.rdchem.Mol at 0x7fd46950ba70>"
      ],
      "image/png": "[encoded data removed]"
     },
     "execution_count": 151,
     "metadata": {},
     "output_type": "execute_result"
    }
   ],
   "execution_count": 151
  },
  {
   "metadata": {
    "ExecuteTime": {
     "end_time": "2024-08-14T08:26:54.262172Z",
     "start_time": "2024-08-14T08:26:54.249553Z"
    }
   },
   "cell_type": "code",
   "source": [
    "from src.fingerprints import get_fingerprints\n",
    "from src.descriptors import get_rd_descriptors, get_md_descriptors\n",
    "from src.representation import get_representation\n",
    "\n",
    "def get_representation(smiles: str, config=None) -> pd.Series | None:\n",
    "    \"\"\"\n",
    "    This function computes the vector representation for a single molecule\n",
    "    Representation consists of stacked vectors of fingerprints and rdkit descriptors in the following order:\n",
    "     - morgan fingerprints, size MORGAN_FP_SIZE, radius MORGAN_RADIUS\n",
    "     - avalon fingerprints, size AVALON_FP_SIZE\n",
    "     - erg fingerprints, size ERG_FP_SIZE\n",
    "     - rdkit descriptors, size RD_DESCS_SIZE\n",
    "    \"\"\"\n",
    "\n",
    "    mol = Chem.MolFromSmiles(smiles)\n",
    "    if not smiles or mol is None:  # for some weird reason empty smiles string produces a valid rdkit.Chem.Mol\n",
    "        return\n",
    "    \n",
    "    # default config\n",
    "    if config is None:\n",
    "        config = {}\n",
    "        config['fingerprints_config'] = None\n",
    "        config['rdkit_descriptors'] = None\n",
    "        config['morgan_descriptors'] = None\n",
    "    \n",
    "    results = []\n",
    "    \n",
    "    for k, v in config.items():\n",
    "        if k == 'fingerprints_config':\n",
    "            results.append(get_fingerprints(mol, config=v))\n",
    "        elif k == 'rdkit_descriptors':\n",
    "            results.append(get_rd_descriptors(mol, v))\n",
    "        elif k == 'morgan_descriptors':\n",
    "            results.append(get_md_descriptors(mol, v))\n",
    "    return pd.concat(results)"
   ],
   "id": "e836335347c7e997",
   "outputs": [],
   "execution_count": 152
  },
  {
   "metadata": {
    "ExecuteTime": {
     "end_time": "2024-08-14T08:26:55.070209Z",
     "start_time": "2024-08-14T08:26:55.056167Z"
    }
   },
   "cell_type": "code",
   "source": "get_fingerprints(mol)",
   "id": "c76e4308c1283ae9",
   "outputs": [
    {
     "data": {
      "text/plain": [
       "0       0.0\n",
       "1       0.0\n",
       "2       0.0\n",
       "3       0.0\n",
       "4       0.0\n",
       "       ... \n",
       "2358    0.0\n",
       "2359    0.0\n",
       "2360    0.0\n",
       "2361    0.0\n",
       "2362    0.0\n",
       "Length: 2363, dtype: float64"
      ]
     },
     "execution_count": 153,
     "metadata": {},
     "output_type": "execute_result"
    }
   ],
   "execution_count": 153
  },
  {
   "metadata": {
    "ExecuteTime": {
     "end_time": "2024-08-14T08:26:56.705823Z",
     "start_time": "2024-08-14T08:26:56.688921Z"
    }
   },
   "cell_type": "code",
   "source": "get_rd_descriptors(mol)",
   "id": "82dec49dbd05a085",
   "outputs": [
    {
     "data": {
      "text/plain": [
       "rd_BalabanJ             2.079672\n",
       "rd_BertzCT             33.874303\n",
       "rd_Chi0                 3.698671\n",
       "rd_Chi0n                2.977162\n",
       "rd_Chi0v                2.977162\n",
       "                         ...    \n",
       "rd_fr_thiocyan          0.000000\n",
       "rd_fr_thiophene         0.000000\n",
       "rd_fr_unbrch_alkane     0.000000\n",
       "rd_fr_urea              0.000000\n",
       "rd_qed                  0.413038\n",
       "Length: 200, dtype: float64"
      ]
     },
     "execution_count": 154,
     "metadata": {},
     "output_type": "execute_result"
    }
   ],
   "execution_count": 154
  },
  {
   "metadata": {
    "ExecuteTime": {
     "end_time": "2024-08-14T08:26:58.260728Z",
     "start_time": "2024-08-14T08:26:58.198858Z"
    }
   },
   "cell_type": "code",
   "source": "get_md_descriptors(mol)",
   "id": "769911df54f4a01",
   "outputs": [
    {
     "data": {
      "text/plain": [
       "md_ABC          3.644924\n",
       "md_ABCGG        3.694453\n",
       "md_nAcid        0.000000\n",
       "md_nBase        1.000000\n",
       "md_SpAbs_A      5.595865\n",
       "                 ...    \n",
       "md_WPol         1.000000\n",
       "md_Zagreb1     22.000000\n",
       "md_Zagreb2     23.000000\n",
       "md_mZagreb1     1.861111\n",
       "md_mZagreb2     1.166667\n",
       "Length: 1826, dtype: float64"
      ]
     },
     "execution_count": 155,
     "metadata": {},
     "output_type": "execute_result"
    }
   ],
   "execution_count": 155
  },
  {
   "metadata": {
    "ExecuteTime": {
     "end_time": "2024-08-14T08:10:14.177275Z",
     "start_time": "2024-08-14T08:07:41.659632Z"
    }
   },
   "cell_type": "code",
   "source": [
    "\n",
    "\n",
    "X = train.smi.apply(get_representation)"
   ],
   "id": "1165adf1303ecb92",
   "outputs": [],
   "execution_count": 132
  },
  {
   "metadata": {
    "ExecuteTime": {
     "end_time": "2024-08-14T08:11:23.085451Z",
     "start_time": "2024-08-14T08:10:49.661132Z"
    }
   },
   "cell_type": "code",
   "source": [
    "from src.utils import apply_mp\n",
    "\n",
    "X_mp = apply_mp(train.smi, get_representation)"
   ],
   "id": "9cc78a4bee7bcd20",
   "outputs": [
    {
     "name": "stderr",
     "output_type": "stream",
     "text": [
      "/home/ergot/.local/lib/python3.10/site-packages/numpy/core/fromnumeric.py:59: FutureWarning: 'Series.swapaxes' is deprecated and will be removed in a future version. Please use 'Series.transpose' instead.\n",
      "  return bound(*args, **kwds)\n"
     ]
    }
   ],
   "execution_count": 133
  },
  {
   "metadata": {
    "ExecuteTime": {
     "end_time": "2024-08-14T08:14:29.213981Z",
     "start_time": "2024-08-14T08:14:29.197012Z"
    }
   },
   "cell_type": "code",
   "source": [
    "X = X.dropna(axis=1)\n",
    "X.shape"
   ],
   "id": "4160e7fdac8b58ad",
   "outputs": [
    {
     "data": {
      "text/plain": [
       "(960, 3458)"
      ]
     },
     "execution_count": 142,
     "metadata": {},
     "output_type": "execute_result"
    }
   ],
   "execution_count": 142
  },
  {
   "metadata": {
    "ExecuteTime": {
     "end_time": "2024-08-14T08:14:38.447111Z",
     "start_time": "2024-08-14T08:14:38.429412Z"
    }
   },
   "cell_type": "code",
   "source": [
    "X_mp = X_mp.dropna(axis=1)\n",
    "X_mp.shape"
   ],
   "id": "58178b80df7acc1",
   "outputs": [
    {
     "data": {
      "text/plain": [
       "(960, 3458)"
      ]
     },
     "execution_count": 143,
     "metadata": {},
     "output_type": "execute_result"
    }
   ],
   "execution_count": 143
  },
  {
   "metadata": {
    "ExecuteTime": {
     "end_time": "2024-08-14T08:14:57.383776Z",
     "start_time": "2024-08-14T08:14:57.352045Z"
    }
   },
   "cell_type": "code",
   "source": "np.isclose(X.values, X_mp.values).all()",
   "id": "4803566df42706ac",
   "outputs": [
    {
     "data": {
      "text/plain": [
       "True"
      ]
     },
     "execution_count": 144,
     "metadata": {},
     "output_type": "execute_result"
    }
   ],
   "execution_count": 144
  },
  {
   "metadata": {
    "ExecuteTime": {
     "end_time": "2024-08-14T08:16:03.621173Z",
     "start_time": "2024-08-14T08:16:03.609811Z"
    }
   },
   "cell_type": "code",
   "source": "from src.fingerprints import FPS_SIZE",
   "id": "7ba8844bd782f1d9",
   "outputs": [],
   "execution_count": 146
  },
  {
   "metadata": {
    "ExecuteTime": {
     "end_time": "2024-08-14T08:16:12.402747Z",
     "start_time": "2024-08-14T08:16:12.390064Z"
    }
   },
   "cell_type": "code",
   "source": "X.columns[FPS_SIZE:]",
   "id": "eee876fac737374f",
   "outputs": [
    {
     "data": {
      "text/plain": [
       "Index(['rd_BalabanJ', 'rd_BertzCT', 'rd_Chi0', 'rd_Chi0n', 'rd_Chi0v',\n",
       "       'rd_Chi1', 'rd_Chi1n', 'rd_Chi1v', 'rd_Chi2n', 'rd_Chi2v',\n",
       "       ...\n",
       "       'md_SRW09', 'md_SRW10', 'md_TSRW10', 'md_MW', 'md_AMW', 'md_WPath',\n",
       "       'md_WPol', 'md_Zagreb1', 'md_Zagreb2', 'md_mZagreb2'],\n",
       "      dtype='object', length=1095)"
      ]
     },
     "execution_count": 148,
     "metadata": {},
     "output_type": "execute_result"
    }
   ],
   "execution_count": 148
  },
  {
   "metadata": {},
   "cell_type": "code",
   "outputs": [],
   "execution_count": null,
   "source": "",
   "id": "9c878e13032fd924"
  }
 ],
 "metadata": {
  "kernelspec": {
   "display_name": "Python 3",
   "language": "python",
   "name": "python3"
  },
  "language_info": {
   "codemirror_mode": {
    "name": "ipython",
    "version": 2
   },
   "file_extension": ".py",
   "mimetype": "text/x-python",
   "name": "python",
   "nbconvert_exporter": "python",
   "pygments_lexer": "ipython2",
   "version": "2.7.6"
  }
 },
 "nbformat": 4,
 "nbformat_minor": 5
}
