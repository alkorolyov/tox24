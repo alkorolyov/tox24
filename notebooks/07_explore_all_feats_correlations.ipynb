{
 "cells": [
  {
   "metadata": {
    "ExecuteTime": {
     "end_time": "2024-08-30T09:01:33.054250Z",
     "start_time": "2024-08-30T09:01:33.041586Z"
    }
   },
   "cell_type": "code",
   "source": [
    "%load_ext autoreload\n",
    "%autoreload 2\n",
    "\n",
    "import sys\n",
    "sys.path.append('../')"
   ],
   "id": "dbdec286b57c71ac",
   "outputs": [
    {
     "name": "stdout",
     "output_type": "stream",
     "text": [
      "The autoreload extension is already loaded. To reload it, use:\n",
      "  %reload_ext autoreload\n"
     ]
    }
   ],
   "execution_count": 43
  },
  {
   "metadata": {
    "ExecuteTime": {
     "end_time": "2024-08-30T09:01:34.120538Z",
     "start_time": "2024-08-30T09:01:34.108239Z"
    }
   },
   "cell_type": "code",
   "source": [
    "def preprocess(df):\n",
    "    df.dropna(axis=1, inplace=True)\n",
    "    df = df.loc[:, df.nunique() > 1].copy()\n",
    "    return df"
   ],
   "id": "4139c1a1f5640b9c",
   "outputs": [],
   "execution_count": 44
  },
  {
   "metadata": {
    "ExecuteTime": {
     "end_time": "2024-08-30T09:05:23.799626Z",
     "start_time": "2024-08-30T09:05:23.322336Z"
    }
   },
   "cell_type": "code",
   "source": [
    "import pandas as pd\n",
    "from src.utils import get_fps_offset, get_fps_cols, OffsetScaler\n",
    "\n",
    "RANDOM_SEED = 42\n",
    "N_JOBS = 12\n",
    "\n",
    "X_train = preprocess(pd.read_csv('../data/processed/X_train.csv'))\n",
    "cols_to_keep = X_train.columns.tolist()\n",
    "X_test = pd.read_csv('../data/processed/X_test.csv')[cols_to_keep]\n",
    "y_train = pd.read_csv('../data/processed/y_train.csv').target\n",
    "\n",
    "# fps_offset = get_fps_offset(X_train)\n",
    "fps_cols = get_fps_cols(X_train)\n",
    "scaler = OffsetScaler(len(fps_cols))\n",
    "\n",
    "X_train = pd.DataFrame(\n",
    "    scaler.fit_transform(X_train.values),\n",
    "    index=X_train.index,\n",
    "    columns=X_train.columns\n",
    ")\n",
    "\n",
    "X_test = pd.DataFrame(\n",
    "    scaler.transform(X_test.values),\n",
    "    index=X_test.index,\n",
    "    columns=X_test.columns\n",
    ")"
   ],
   "id": "b2605f15bb043eb3",
   "outputs": [],
   "execution_count": 54
  },
  {
   "metadata": {
    "ExecuteTime": {
     "end_time": "2024-08-30T08:05:22.521506Z",
     "start_time": "2024-08-30T08:05:22.500780Z"
    }
   },
   "cell_type": "code",
   "source": [
    "import time\n",
    "from xgboost import XGBRegressor\n",
    "from catboost import CatBoostRegressor\n",
    "from sklearn.ensemble import RandomForestRegressor\n",
    "from sklearn.model_selection import KFold, cross_val_score\n",
    "\n",
    "def evaluate_single(model, X):\n",
    "    tic = time.time()\n",
    "    \n",
    "    kfold = KFold(n_splits=5, shuffle=True, random_state=RANDOM_SEED)\n",
    "    cv_res = cross_val_score(model, X, y_train, cv=kfold, scoring=rmse)\n",
    "    \n",
    "    toc = time.time()\n",
    "    final_score = cv_res.mean() - cv_res.std()\n",
    "    print(\"%3.3f     %3.3f ± %3.3f      %.1fs\" % (final_score, cv_res.mean(), cv_res.std(), toc - tic))\n",
    "    return cv_res\n",
    "\n",
    "rmse = 'neg_root_mean_squared_error'\n",
    "\n",
    "best_params = {\n",
    "    'rf': {        \n",
    "        'n_estimators': 200,\n",
    "        'max_depth': 25,\n",
    "        'min_samples_split': 2,\n",
    "        'min_samples_leaf': 1,\n",
    "        'bootstrap': True,\n",
    "        'max_features': 0.2,\n",
    "        'random_state': RANDOM_SEED,\n",
    "        'n_jobs': N_JOBS,\n",
    "    },\n",
    "    'lasso': {\n",
    "        'alpha': 1.0531212524084377,\n",
    "    },\n",
    "    'knn': {\n",
    "        'n_neighbors': 10, \n",
    "        'weights': 'distance', \n",
    "        'algorithm': 'kd_tree',\n",
    "    },\n",
    "    'xgb': {\n",
    "        'n_estimators': 2000,\n",
    "        'max_depth': 3,\n",
    "        'learning_rate': 0.006929151892786309,\n",
    "        'subsample': 0.580956029244851,\n",
    "        'colsample_bytree': 0.5326676728408477,\n",
    "        'gamma': 0.638354307456016,\n",
    "        'reg_alpha': 0.7784317061199424,\n",
    "        'reg_lambda': 0.8587656947103454,\n",
    "        'random_state': RANDOM_SEED,\n",
    "        'n_jobs': N_JOBS,        \n",
    "    },\n",
    "    'cb': {\n",
    "        'n_estimators': 2000,\n",
    "        'depth': 4,\n",
    "        'learning_rate': 0.014471212873059244,\n",
    "        'l2_leaf_reg': 0.40949275910093563,\n",
    "        'subsample': 0.7134111640862024,\n",
    "        'colsample_bylevel': 0.7109836464817926,\n",
    "        'bootstrap_type': 'Bernoulli',\n",
    "        'verbose': False,\n",
    "        'random_seed': RANDOM_SEED,\n",
    "        'thread_count': N_JOBS,        \n",
    "    },\n",
    "}\n",
    "\n",
    "rf = RandomForestRegressor(**best_params['rf'])\n",
    "cb = CatBoostRegressor(**best_params['cb'])\n",
    "xgb = XGBRegressor(**best_params['xgb'])"
   ],
   "id": "a571fcfa013eafc4",
   "outputs": [],
   "execution_count": 25
  },
  {
   "metadata": {
    "ExecuteTime": {
     "end_time": "2024-08-30T08:11:58.196753Z",
     "start_time": "2024-08-30T08:05:22.522561Z"
    }
   },
   "cell_type": "code",
   "source": [
    "evaluate_single(rf, X_train);\n",
    "evaluate_single(cb, X_train);\n",
    "evaluate_single(xgb, X_train);"
   ],
   "id": "509bdb1b13c38d8a",
   "outputs": [
    {
     "name": "stdout",
     "output_type": "stream",
     "text": [
      "-25.764     -24.129 ± 1.635      11.4s\n",
      "-24.981     -23.621 ± 1.360      221.2s\n",
      "-25.021     -23.623 ± 1.398      163.0s\n"
     ]
    }
   ],
   "execution_count": 26
  },
  {
   "metadata": {
    "ExecuteTime": {
     "end_time": "2024-08-30T08:28:12.937152Z",
     "start_time": "2024-08-30T08:22:56.793720Z"
    }
   },
   "cell_type": "code",
   "source": [
    "rf = RandomForestRegressor(random_state=RANDOM_SEED, n_jobs=N_JOBS)\n",
    "cb = CatBoostRegressor(random_seed=RANDOM_SEED, thread_count=N_JOBS, verbose=False)\n",
    "xgb = XGBRegressor(random_state=RANDOM_SEED, n_jobs=N_JOBS)\n",
    "\n",
    "evaluate_single(rf, X_train);\n",
    "evaluate_single(cb, X_train);\n",
    "evaluate_single(xgb, X_train);"
   ],
   "id": "24124843464a7c66",
   "outputs": [
    {
     "name": "stdout",
     "output_type": "stream",
     "text": [
      "-25.853     -24.100 ± 1.753      23.7s\n",
      "-25.142     -23.736 ± 1.407      274.1s\n"
     ]
    },
    {
     "name": "stderr",
     "output_type": "stream",
     "text": [
      "/home/ergot/miniforge3/envs/chem/lib/python3.10/site-packages/xgboost/core.py:160: UserWarning: [10:27:54] WARNING: /home/conda/feedstock_root/build_artifacts/xgboost-split_1713397688861/work/src/learner.cc:742: \n",
      "Parameters: { \"random_seed\" } are not used.\n",
      "\n",
      "  warnings.warn(smsg, UserWarning)\n",
      "/home/ergot/miniforge3/envs/chem/lib/python3.10/site-packages/xgboost/core.py:160: UserWarning: [10:27:58] WARNING: /home/conda/feedstock_root/build_artifacts/xgboost-split_1713397688861/work/src/learner.cc:742: \n",
      "Parameters: { \"random_seed\" } are not used.\n",
      "\n",
      "  warnings.warn(smsg, UserWarning)\n",
      "/home/ergot/miniforge3/envs/chem/lib/python3.10/site-packages/xgboost/core.py:160: UserWarning: [10:28:02] WARNING: /home/conda/feedstock_root/build_artifacts/xgboost-split_1713397688861/work/src/learner.cc:742: \n",
      "Parameters: { \"random_seed\" } are not used.\n",
      "\n",
      "  warnings.warn(smsg, UserWarning)\n",
      "/home/ergot/miniforge3/envs/chem/lib/python3.10/site-packages/xgboost/core.py:160: UserWarning: [10:28:05] WARNING: /home/conda/feedstock_root/build_artifacts/xgboost-split_1713397688861/work/src/learner.cc:742: \n",
      "Parameters: { \"random_seed\" } are not used.\n",
      "\n",
      "  warnings.warn(smsg, UserWarning)\n",
      "/home/ergot/miniforge3/envs/chem/lib/python3.10/site-packages/xgboost/core.py:160: UserWarning: [10:28:09] WARNING: /home/conda/feedstock_root/build_artifacts/xgboost-split_1713397688861/work/src/learner.cc:742: \n",
      "Parameters: { \"random_seed\" } are not used.\n",
      "\n",
      "  warnings.warn(smsg, UserWarning)\n"
     ]
    },
    {
     "name": "stdout",
     "output_type": "stream",
     "text": [
      "-26.472     -24.798 ± 1.675      18.3s\n"
     ]
    }
   ],
   "execution_count": 30
  },
  {
   "metadata": {
    "ExecuteTime": {
     "end_time": "2024-08-30T08:36:26.528234Z",
     "start_time": "2024-08-30T08:36:09.740879Z"
    }
   },
   "cell_type": "code",
   "source": [
    "cb = CatBoostRegressor(\n",
    "    iterations=100,\n",
    "    colsample_bylevel=0.1,\n",
    "    random_seed=RANDOM_SEED, \n",
    "    thread_count=N_JOBS, \n",
    "    verbose=False\n",
    ")\n",
    "\n",
    "evaluate_single(cb, X_train);"
   ],
   "id": "cf9429284b8ce74c",
   "outputs": [
    {
     "name": "stdout",
     "output_type": "stream",
     "text": [
      "-25.672     -24.447 ± 1.225      16.8s\n"
     ]
    }
   ],
   "execution_count": 36
  },
  {
   "metadata": {
    "ExecuteTime": {
     "end_time": "2024-08-30T08:42:30.765393Z",
     "start_time": "2024-08-30T08:42:04.348514Z"
    }
   },
   "cell_type": "code",
   "source": [
    "cb = CatBoostRegressor(\n",
    "    iterations=100,\n",
    "    # colsample_bylevel=0.1,\n",
    "    random_seed=RANDOM_SEED, \n",
    "    thread_count=N_JOBS, \n",
    "    verbose=False\n",
    ")\n",
    "\n",
    "evaluate_single(cb, X_train);"
   ],
   "id": "ff3e1f584ec6465",
   "outputs": [
    {
     "name": "stdout",
     "output_type": "stream",
     "text": [
      "-25.740     -24.713 ± 1.027      26.4s\n"
     ]
    }
   ],
   "execution_count": 40
  },
  {
   "metadata": {
    "ExecuteTime": {
     "end_time": "2024-08-30T08:40:30.202761Z",
     "start_time": "2024-08-30T08:40:26.994453Z"
    }
   },
   "cell_type": "code",
   "source": "cb.fit(X_train, y_train)",
   "id": "d49700ed3cfe1670",
   "outputs": [
    {
     "data": {
      "text/plain": [
       "<catboost.core.CatBoostRegressor at 0x7f4fa0fb68f0>"
      ]
     },
     "execution_count": 38,
     "metadata": {},
     "output_type": "execute_result"
    }
   ],
   "execution_count": 38
  },
  {
   "metadata": {
    "ExecuteTime": {
     "end_time": "2024-08-30T08:40:30.217190Z",
     "start_time": "2024-08-30T08:40:30.204318Z"
    }
   },
   "cell_type": "code",
   "source": "cb.get_all_params()",
   "id": "ed0d9de860f94fa0",
   "outputs": [
    {
     "data": {
      "text/plain": [
       "{'nan_mode': 'Min',\n",
       " 'eval_metric': 'RMSE',\n",
       " 'iterations': 100,\n",
       " 'sampling_frequency': 'PerTree',\n",
       " 'leaf_estimation_method': 'Newton',\n",
       " 'random_score_type': 'NormalWithModelSizeDecrease',\n",
       " 'grow_policy': 'SymmetricTree',\n",
       " 'penalties_coefficient': 1,\n",
       " 'boosting_type': 'Plain',\n",
       " 'model_shrink_mode': 'Constant',\n",
       " 'feature_border_type': 'GreedyLogSum',\n",
       " 'bayesian_matrix_reg': 0.10000000149011612,\n",
       " 'eval_fraction': 0,\n",
       " 'force_unit_auto_pair_weights': False,\n",
       " 'l2_leaf_reg': 3,\n",
       " 'random_strength': 1,\n",
       " 'rsm': 0.10000000149011612,\n",
       " 'boost_from_average': True,\n",
       " 'model_size_reg': 0.5,\n",
       " 'pool_metainfo_options': {'tags': {}},\n",
       " 'subsample': 0.800000011920929,\n",
       " 'use_best_model': False,\n",
       " 'random_seed': 42,\n",
       " 'depth': 6,\n",
       " 'posterior_sampling': False,\n",
       " 'border_count': 254,\n",
       " 'classes_count': 0,\n",
       " 'auto_class_weights': 'None',\n",
       " 'sparse_features_conflict_fraction': 0,\n",
       " 'leaf_estimation_backtracking': 'AnyImprovement',\n",
       " 'best_model_min_trees': 1,\n",
       " 'model_shrink_rate': 0,\n",
       " 'min_data_in_leaf': 1,\n",
       " 'loss_function': 'RMSE',\n",
       " 'learning_rate': 0.2666429877281189,\n",
       " 'score_function': 'Cosine',\n",
       " 'task_type': 'CPU',\n",
       " 'leaf_estimation_iterations': 1,\n",
       " 'bootstrap_type': 'MVS',\n",
       " 'max_leaves': 64}"
      ]
     },
     "execution_count": 39,
     "metadata": {},
     "output_type": "execute_result"
    }
   ],
   "execution_count": 39
  }
 ],
 "metadata": {
  "kernelspec": {
   "display_name": "Python 3",
   "language": "python",
   "name": "python3"
  },
  "language_info": {
   "codemirror_mode": {
    "name": "ipython",
    "version": 2
   },
   "file_extension": ".py",
   "mimetype": "text/x-python",
   "name": "python",
   "nbconvert_exporter": "python",
   "pygments_lexer": "ipython2",
   "version": "2.7.6"
  }
 },
 "nbformat": 4,
 "nbformat_minor": 5
}
