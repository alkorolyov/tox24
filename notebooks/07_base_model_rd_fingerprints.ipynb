{
 "cells": [
  {
   "cell_type": "code",
   "id": "initial_id",
   "metadata": {
    "ExecuteTime": {
     "end_time": "2024-08-30T09:00:20.279919Z",
     "start_time": "2024-08-30T09:00:20.258353Z"
    }
   },
   "source": [
    "%load_ext autoreload\n",
    "%autoreload 2\n",
    "\n",
    "import sys\n",
    "sys.path.append('../')"
   ],
   "outputs": [
    {
     "name": "stdout",
     "output_type": "stream",
     "text": [
      "The autoreload extension is already loaded. To reload it, use:\n",
      "  %reload_ext autoreload\n"
     ]
    }
   ],
   "execution_count": 111
  },
  {
   "cell_type": "markdown",
   "id": "bc6f454d5cfd4ecd",
   "metadata": {},
   "source": [
    "#You need manually fix data in tox24_alogps_oestate.csv, row 1509\n",
    "\n",
    "#this is causing errors in standardization\n",
    "\n",
    "#'C1=CC=[N+](C(=C1)[S-])[O-].C1=CC=[N+](C(=C1)[S-])[O-].[ZnH2+2]' -> \n",
    "#'C1=CC=N(=O)C([S-])=C1.C1=CC=N(=O)C([S-])=C1.[Zn+2]'"
   ]
  },
  {
   "cell_type": "code",
   "id": "bdc67dd80b6c5627",
   "metadata": {
    "ExecuteTime": {
     "end_time": "2024-08-30T09:00:20.487716Z",
     "start_time": "2024-08-30T09:00:20.399996Z"
    }
   },
   "source": [
    "import pandas as pd\n",
    "import numpy as np\n",
    "\n",
    "from src.config import mem\n",
    "N_JOBS = 40\n",
    "RANDOM_SEED = 42\n",
    "\n",
    "df = pd.read_csv('../data/raw/tox24_alogps_oestate.csv')\n",
    "\n",
    "df.drop(['N'], axis=1, inplace=True)\n",
    "df.drop_duplicates(inplace=True)\n",
    "\n",
    "print(df.shape)\n",
    "df.head()"
   ],
   "outputs": [
    {
     "name": "stdout",
     "output_type": "stream",
     "text": [
      "(1511, 367)\n"
     ]
    },
    {
     "data": {
      "text/plain": [
       "                                        SMILES  ALogPS_logP  ALogPS_logS  \\\n",
       "0                   CC1=CC[C@H]2C[C@@H]1C2(C)C         3.66        -2.94   \n",
       "1                 CC1(C)[C@@H]2C[C@H]1C(=C)CC2         3.94        -3.33   \n",
       "2  COC(=O)C(C)OC1=CC=C(OC2=CC=C(Cl)C=C2Cl)C=C1         5.13        -5.40   \n",
       "3                CC(OC1=C(C)C=C(Cl)C=C1)C(O)=O         2.87        -2.47   \n",
       "4                   CCCCCCCCCCCCCC(=O)OCC(O)CO         4.77        -4.09   \n",
       "\n",
       "   HALOG     MW  N.1  NA  NH  O  P  ...  Se1C2N2dd  Se1C2N==sd  SdddN  \\\n",
       "0      0  136.3    0  10  16  0  0  ...        0.0         0.0    0.0   \n",
       "1      0  136.3    0  10  16  0  0  ...        0.0         0.0    0.0   \n",
       "2      2  341.2    0  22  14  4  0  ...        0.0         0.0    0.0   \n",
       "3      1  214.7    0  14  11  3  0  ...        0.0         0.0    0.0   \n",
       "4      0  302.5    0  21  34  4  0  ...        0.0         0.0    0.0   \n",
       "\n",
       "   SdddN(nitro)  Se2N3O1d  SddSi  Se2O1Si2d  Se1B3C3sa  Se1N3pO1a  SeaC2N3paa  \n",
       "0           0.0       0.0    0.0        0.0        0.0        0.0         0.0  \n",
       "1           0.0       0.0    0.0        0.0        0.0        0.0         0.0  \n",
       "2           0.0       0.0    0.0        0.0        0.0        0.0         0.0  \n",
       "3           0.0       0.0    0.0        0.0        0.0        0.0         0.0  \n",
       "4           0.0       0.0    0.0        0.0        0.0        0.0         0.0  \n",
       "\n",
       "[5 rows x 367 columns]"
      ],
      "text/html": [
       "<div>\n",
       "<style scoped>\n",
       "    .dataframe tbody tr th:only-of-type {\n",
       "        vertical-align: middle;\n",
       "    }\n",
       "\n",
       "    .dataframe tbody tr th {\n",
       "        vertical-align: top;\n",
       "    }\n",
       "\n",
       "    .dataframe thead th {\n",
       "        text-align: right;\n",
       "    }\n",
       "</style>\n",
       "<table border=\"1\" class=\"dataframe\">\n",
       "  <thead>\n",
       "    <tr style=\"text-align: right;\">\n",
       "      <th></th>\n",
       "      <th>SMILES</th>\n",
       "      <th>ALogPS_logP</th>\n",
       "      <th>ALogPS_logS</th>\n",
       "      <th>HALOG</th>\n",
       "      <th>MW</th>\n",
       "      <th>N.1</th>\n",
       "      <th>NA</th>\n",
       "      <th>NH</th>\n",
       "      <th>O</th>\n",
       "      <th>P</th>\n",
       "      <th>...</th>\n",
       "      <th>Se1C2N2dd</th>\n",
       "      <th>Se1C2N==sd</th>\n",
       "      <th>SdddN</th>\n",
       "      <th>SdddN(nitro)</th>\n",
       "      <th>Se2N3O1d</th>\n",
       "      <th>SddSi</th>\n",
       "      <th>Se2O1Si2d</th>\n",
       "      <th>Se1B3C3sa</th>\n",
       "      <th>Se1N3pO1a</th>\n",
       "      <th>SeaC2N3paa</th>\n",
       "    </tr>\n",
       "  </thead>\n",
       "  <tbody>\n",
       "    <tr>\n",
       "      <th>0</th>\n",
       "      <td>CC1=CC[C@H]2C[C@@H]1C2(C)C</td>\n",
       "      <td>3.66</td>\n",
       "      <td>-2.94</td>\n",
       "      <td>0</td>\n",
       "      <td>136.3</td>\n",
       "      <td>0</td>\n",
       "      <td>10</td>\n",
       "      <td>16</td>\n",
       "      <td>0</td>\n",
       "      <td>0</td>\n",
       "      <td>...</td>\n",
       "      <td>0.0</td>\n",
       "      <td>0.0</td>\n",
       "      <td>0.0</td>\n",
       "      <td>0.0</td>\n",
       "      <td>0.0</td>\n",
       "      <td>0.0</td>\n",
       "      <td>0.0</td>\n",
       "      <td>0.0</td>\n",
       "      <td>0.0</td>\n",
       "      <td>0.0</td>\n",
       "    </tr>\n",
       "    <tr>\n",
       "      <th>1</th>\n",
       "      <td>CC1(C)[C@@H]2C[C@H]1C(=C)CC2</td>\n",
       "      <td>3.94</td>\n",
       "      <td>-3.33</td>\n",
       "      <td>0</td>\n",
       "      <td>136.3</td>\n",
       "      <td>0</td>\n",
       "      <td>10</td>\n",
       "      <td>16</td>\n",
       "      <td>0</td>\n",
       "      <td>0</td>\n",
       "      <td>...</td>\n",
       "      <td>0.0</td>\n",
       "      <td>0.0</td>\n",
       "      <td>0.0</td>\n",
       "      <td>0.0</td>\n",
       "      <td>0.0</td>\n",
       "      <td>0.0</td>\n",
       "      <td>0.0</td>\n",
       "      <td>0.0</td>\n",
       "      <td>0.0</td>\n",
       "      <td>0.0</td>\n",
       "    </tr>\n",
       "    <tr>\n",
       "      <th>2</th>\n",
       "      <td>COC(=O)C(C)OC1=CC=C(OC2=CC=C(Cl)C=C2Cl)C=C1</td>\n",
       "      <td>5.13</td>\n",
       "      <td>-5.40</td>\n",
       "      <td>2</td>\n",
       "      <td>341.2</td>\n",
       "      <td>0</td>\n",
       "      <td>22</td>\n",
       "      <td>14</td>\n",
       "      <td>4</td>\n",
       "      <td>0</td>\n",
       "      <td>...</td>\n",
       "      <td>0.0</td>\n",
       "      <td>0.0</td>\n",
       "      <td>0.0</td>\n",
       "      <td>0.0</td>\n",
       "      <td>0.0</td>\n",
       "      <td>0.0</td>\n",
       "      <td>0.0</td>\n",
       "      <td>0.0</td>\n",
       "      <td>0.0</td>\n",
       "      <td>0.0</td>\n",
       "    </tr>\n",
       "    <tr>\n",
       "      <th>3</th>\n",
       "      <td>CC(OC1=C(C)C=C(Cl)C=C1)C(O)=O</td>\n",
       "      <td>2.87</td>\n",
       "      <td>-2.47</td>\n",
       "      <td>1</td>\n",
       "      <td>214.7</td>\n",
       "      <td>0</td>\n",
       "      <td>14</td>\n",
       "      <td>11</td>\n",
       "      <td>3</td>\n",
       "      <td>0</td>\n",
       "      <td>...</td>\n",
       "      <td>0.0</td>\n",
       "      <td>0.0</td>\n",
       "      <td>0.0</td>\n",
       "      <td>0.0</td>\n",
       "      <td>0.0</td>\n",
       "      <td>0.0</td>\n",
       "      <td>0.0</td>\n",
       "      <td>0.0</td>\n",
       "      <td>0.0</td>\n",
       "      <td>0.0</td>\n",
       "    </tr>\n",
       "    <tr>\n",
       "      <th>4</th>\n",
       "      <td>CCCCCCCCCCCCCC(=O)OCC(O)CO</td>\n",
       "      <td>4.77</td>\n",
       "      <td>-4.09</td>\n",
       "      <td>0</td>\n",
       "      <td>302.5</td>\n",
       "      <td>0</td>\n",
       "      <td>21</td>\n",
       "      <td>34</td>\n",
       "      <td>4</td>\n",
       "      <td>0</td>\n",
       "      <td>...</td>\n",
       "      <td>0.0</td>\n",
       "      <td>0.0</td>\n",
       "      <td>0.0</td>\n",
       "      <td>0.0</td>\n",
       "      <td>0.0</td>\n",
       "      <td>0.0</td>\n",
       "      <td>0.0</td>\n",
       "      <td>0.0</td>\n",
       "      <td>0.0</td>\n",
       "      <td>0.0</td>\n",
       "    </tr>\n",
       "  </tbody>\n",
       "</table>\n",
       "<p>5 rows × 367 columns</p>\n",
       "</div>"
      ]
     },
     "execution_count": 112,
     "metadata": {},
     "output_type": "execute_result"
    }
   ],
   "execution_count": 112
  },
  {
   "cell_type": "code",
   "id": "c69dcf1d1876bad5",
   "metadata": {
    "ExecuteTime": {
     "end_time": "2024-08-30T09:00:20.504321Z",
     "start_time": "2024-08-30T09:00:20.489404Z"
    }
   },
   "source": [
    "train = pd.read_csv('../data/raw/tox24_challenge_train.csv')\n",
    "train.drop_duplicates(subset='SMILES', inplace=True)\n",
    "\n",
    "test = pd.read_csv('../data/raw/tox24_challenge_test.csv')"
   ],
   "outputs": [],
   "execution_count": 113
  },
  {
   "cell_type": "code",
   "id": "b0526f90d70d8971",
   "metadata": {
    "ExecuteTime": {
     "end_time": "2024-08-30T09:00:20.518534Z",
     "start_time": "2024-08-30T09:00:20.505642Z"
    }
   },
   "source": [
    "len(test), test.SMILES.isin(df.SMILES).sum()"
   ],
   "outputs": [
    {
     "data": {
      "text/plain": [
       "(500, 500)"
      ]
     },
     "execution_count": 114,
     "metadata": {},
     "output_type": "execute_result"
    }
   ],
   "execution_count": 114
  },
  {
   "cell_type": "code",
   "id": "61e443fc6ceaecdc",
   "metadata": {
    "ExecuteTime": {
     "end_time": "2024-08-30T09:00:20.534566Z",
     "start_time": "2024-08-30T09:00:20.520287Z"
    }
   },
   "source": [
    "len(train), train.SMILES.isin(df.SMILES).sum()"
   ],
   "outputs": [
    {
     "data": {
      "text/plain": [
       "(1011, 1011)"
      ]
     },
     "execution_count": 115,
     "metadata": {},
     "output_type": "execute_result"
    }
   ],
   "execution_count": 115
  },
  {
   "cell_type": "code",
   "id": "85c8215d7d9093f7",
   "metadata": {
    "ExecuteTime": {
     "end_time": "2024-08-30T09:00:20.551697Z",
     "start_time": "2024-08-30T09:00:20.537114Z"
    }
   },
   "source": [
    "len(test) + len(train), len(df)"
   ],
   "outputs": [
    {
     "data": {
      "text/plain": [
       "(1511, 1511)"
      ]
     },
     "execution_count": 116,
     "metadata": {},
     "output_type": "execute_result"
    }
   ],
   "execution_count": 116
  },
  {
   "cell_type": "code",
   "id": "b5e06480458b3fca",
   "metadata": {
    "scrolled": true,
    "ExecuteTime": {
     "end_time": "2024-08-30T09:00:20.571249Z",
     "start_time": "2024-08-30T09:00:20.553343Z"
    }
   },
   "source": [
    "features = df.columns.tolist()\n",
    "features.remove('SMILES')\n",
    "features"
   ],
   "outputs": [
    {
     "data": {
      "text/plain": [
       "['ALogPS_logP',\n",
       " 'ALogPS_logS',\n",
       " 'HALOG',\n",
       " 'MW',\n",
       " 'N.1',\n",
       " 'NA',\n",
       " 'NH',\n",
       " 'O',\n",
       " 'P',\n",
       " 'PSA',\n",
       " 'S',\n",
       " 'SdCH2',\n",
       " 'SdssC',\n",
       " 'Se1C1C4s',\n",
       " 'Se1C2C2ss',\n",
       " 'Se1C2C3sd',\n",
       " 'Se1C2C3ss',\n",
       " 'Se1C3C3ds',\n",
       " 'Se1C3C4ss',\n",
       " 'Se2C1C3s',\n",
       " 'SsCH3',\n",
       " 'SssCH2',\n",
       " 'SsssCH',\n",
       " 'SssssC',\n",
       " 'aCNOS',\n",
       " 'ACCEPTORS',\n",
       " 'RBONDS',\n",
       " 'SaaCH',\n",
       " 'SaasC',\n",
       " 'SdO',\n",
       " 'SdO(ester)',\n",
       " 'Se1C1C3s',\n",
       " 'Se1C1O2s',\n",
       " 'Se1C3Cl1a',\n",
       " 'Se1C3O2as',\n",
       " 'Se1C3O2ds',\n",
       " 'Se1C3O2ss',\n",
       " 'Se2C3O1s',\n",
       " 'SeaC2C2aa',\n",
       " 'SeaC2C3aa',\n",
       " 'SeaC3C3aa',\n",
       " 'SsCl',\n",
       " 'SssO',\n",
       " 'SssO(ester)',\n",
       " 'DONORS',\n",
       " 'Se1C1C2s',\n",
       " 'Se1C2O1s',\n",
       " 'Se1C2O2ss',\n",
       " 'Se1C3O1s',\n",
       " 'SsOH',\n",
       " 'SsOH(alc)',\n",
       " 'Se1C1C3d',\n",
       " 'Se1C2C4ss',\n",
       " 'Se1C4C4ss',\n",
       " 'SdsCH',\n",
       " 'Se1C2C2ds',\n",
       " 'Se2C2C2ss',\n",
       " 'SdO(keto)',\n",
       " 'Se1C2C2dd',\n",
       " 'Se2C2O1s',\n",
       " 'SaaN',\n",
       " 'SaasN',\n",
       " 'Se1C1C3a',\n",
       " 'Se1C2N3sa',\n",
       " 'SeaC3N2aa',\n",
       " 'SeaC3N3aa',\n",
       " 'SeaN2N3aa',\n",
       " 'Se1C1C2d',\n",
       " 'Se1C2C3ds',\n",
       " 'Se1C3C3ss',\n",
       " 'Se2C2C3ss',\n",
       " 'SdO(acid)',\n",
       " 'Se1C2S2ss',\n",
       " 'Se1C3N2as',\n",
       " 'Se1C3O1d',\n",
       " 'Se1C3S2as',\n",
       " 'SsOH(acid)',\n",
       " 'SssNH',\n",
       " 'SssNH(ar)',\n",
       " 'SssS',\n",
       " 'Se1C3C3as',\n",
       " 'Se1C3Cl1s',\n",
       " 'SdO(amid)',\n",
       " 'Se1C2N3ss',\n",
       " 'Se1C3C4ds',\n",
       " 'Se1C3N2ds',\n",
       " 'Se1C3N3ds',\n",
       " 'Se1C4N3ss',\n",
       " 'SssNH(oth)',\n",
       " 'SsssN',\n",
       " 'SsssN(oth)',\n",
       " 'SaaaC',\n",
       " 'Se1C2C3sa',\n",
       " 'Se1C3C3ad',\n",
       " 'Se1C3N3da',\n",
       " 'Se1C2N2ss',\n",
       " 'Se1C2Si4ss',\n",
       " 'Se1C3N1d',\n",
       " 'Se1O2Si4ss',\n",
       " 'SsNH2',\n",
       " 'SsNH2(oth)',\n",
       " 'SssssSi',\n",
       " 'Se1C2N1s',\n",
       " 'SsNH2(al)',\n",
       " 'Se1N3Br1s',\n",
       " 'Se1N3Cl1s',\n",
       " 'SsBr',\n",
       " 'Se1C3C4as',\n",
       " 'Se1C4F1s',\n",
       " 'SsF',\n",
       " 'SdO(nitro)',\n",
       " 'SddsN',\n",
       " 'SddsN(nitro)',\n",
       " 'Se1C3N==ad',\n",
       " 'Se2NO2',\n",
       " 'Se1C2S1s',\n",
       " 'SsSH',\n",
       " 'Se1C1N3s',\n",
       " 'Se1C2N3ds',\n",
       " 'Se1C3C3dd',\n",
       " 'Se1C3O1a',\n",
       " 'SsOH(phen)',\n",
       " 'Se2C1C2s',\n",
       " 'Se1C2C3dd',\n",
       " 'Se1C3N3as',\n",
       " 'Se1C1Si3s',\n",
       " 'Se1C1Si4s',\n",
       " 'Se1O2Si3ss',\n",
       " 'SsssSiH',\n",
       " 'SsssN(al)',\n",
       " 'SeaC2N2aa',\n",
       " 'Se1C2C3da',\n",
       " 'Se1C2Br1s',\n",
       " 'Se1C3Cl1d',\n",
       " 'SdsN',\n",
       " 'Se1C3N2ad',\n",
       " 'Se2C3N2ss',\n",
       " 'Se1C2Si4ds',\n",
       " 'Se1C3N1a',\n",
       " 'SsNH2(ar)',\n",
       " 'Se1C4O2ss',\n",
       " 'Se1C2C4ts',\n",
       " 'Se1C4O1s',\n",
       " 'Se3C1C2s',\n",
       " 'StCH',\n",
       " 'StsC',\n",
       " 'SssNH(al)',\n",
       " 'Se1N2O1d',\n",
       " 'Se1C2C2st',\n",
       " 'Se3C2C2ss',\n",
       " 'Se1C3C3aa',\n",
       " 'Se1C2Cl1s',\n",
       " 'SdsssP',\n",
       " 'Se1O2P4sd',\n",
       " 'Se2O1P4s',\n",
       " 'SaaS',\n",
       " 'Se1C3S1a',\n",
       " 'SeaC3S2aa',\n",
       " 'Se1C2C3ts',\n",
       " 'Se3C2N1s',\n",
       " 'StN',\n",
       " 'Se1C4Br1s',\n",
       " 'Se1C3N2ss',\n",
       " 'Se1C3Br1a',\n",
       " 'Se1O2O2ss',\n",
       " 'Se1C2C3ta',\n",
       " 'Se1C2O2ds',\n",
       " 'Se1C3N2sd',\n",
       " 'Se1C3N3ss',\n",
       " 'Se2N2N2st',\n",
       " 'Se3N1N2d',\n",
       " 'StdN',\n",
       " 'Se2C3C3ss',\n",
       " 'SeaC2N3aa',\n",
       " 'Se1N1N3a',\n",
       " 'SeaN2N2aa',\n",
       " 'SdO(sulfo)',\n",
       " 'SddssS',\n",
       " 'Se1N3S4ad',\n",
       " 'Se1N3S4sd',\n",
       " 'Se2O1S4d',\n",
       " 'Se1C4Cl1s',\n",
       " 'SdsN(nitro)',\n",
       " 'Se2N2O1s',\n",
       " 'Se1C3S4ad',\n",
       " 'Se1N1S4d',\n",
       " 'Se1N3S2ss',\n",
       " 'Se1S2S2ss',\n",
       " 'SsssN(ar)',\n",
       " 'Se1C3S2ds',\n",
       " 'Se1C4N2ss',\n",
       " 'Se1C2N2ds',\n",
       " 'Se1C3F1d',\n",
       " 'SdS',\n",
       " 'Se2C3S1s',\n",
       " 'Se1O1S4d',\n",
       " 'Se1O2S4sd',\n",
       " 'Se1N2S4sd',\n",
       " 'Se1C1S2s',\n",
       " 'SeaN2S2aa',\n",
       " 'Se2N2N2ss',\n",
       " 'Se1C2C4ds',\n",
       " 'Se1C4S2ss',\n",
       " 'Se2C2N2ss',\n",
       " 'Se1C1N2s',\n",
       " 'Se1C1S4d',\n",
       " 'Se1C4S4sd',\n",
       " 'Se1N2O2ds',\n",
       " 'SdssS',\n",
       " 'Se1C1S3d',\n",
       " 'Se1C4S3sd',\n",
       " 'Se2O1S3s',\n",
       " 'SaaO',\n",
       " 'Se1C3I1a',\n",
       " 'SeaC3O2aa',\n",
       " 'SsI',\n",
       " 'Se1C2S1t',\n",
       " 'Se1C3F1a',\n",
       " 'SeaN2O2aa',\n",
       " 'Se1P4S2ds',\n",
       " 'SaaNH',\n",
       " 'Se1C1N3a',\n",
       " 'SeaC2NHaa',\n",
       " 'SeaC3NHaa',\n",
       " 'SdssN',\n",
       " 'Se1C2N3psd',\n",
       " 'Se2C3N3pss',\n",
       " 'Se2P4S1s',\n",
       " 'Se1C1N4ps',\n",
       " 'Se1C2N4pss',\n",
       " 'SssssN',\n",
       " 'Se1C2S3sd',\n",
       " 'Se1C3S3ad',\n",
       " 'Se1C1P4d',\n",
       " 'Se1B3O1s',\n",
       " 'SsssB',\n",
       " 'Se1C3Br1d',\n",
       " 'Se1N2N3ds',\n",
       " 'Se1C2S4sd',\n",
       " 'Se1C3N2dd',\n",
       " 'Se1C3N3aa',\n",
       " 'Se1N2Cl1s',\n",
       " 'Se1N3O1s',\n",
       " 'Se1C3N3sa',\n",
       " 'Se1C3N1s',\n",
       " 'SeaC2S2aa',\n",
       " 'SeaC2O2aa',\n",
       " 'Se1N2O1s',\n",
       " 'Se1N2P4sd',\n",
       " 'Se1N3P4sd',\n",
       " 'Se1O1P4d',\n",
       " 'Se1C3S2ss',\n",
       " 'Se1C3S4sd',\n",
       " 'SdssPH',\n",
       " 'Se1O2P3sd',\n",
       " 'Se2O1P3s',\n",
       " 'Se1C1N3pa',\n",
       " 'SeaC3N3paa',\n",
       " 'SeaN3N3paa',\n",
       " 'Se1C3F1s',\n",
       " 'Se1O2P3ss',\n",
       " 'SsssP',\n",
       " 'SdsssAs',\n",
       " 'Se1C1As4d',\n",
       " 'Se1O1As4d',\n",
       " 'Se2O1As4s',\n",
       " 'Se1C1Sn4s',\n",
       " 'Se1Cl1Sn4s',\n",
       " 'SssssSn',\n",
       " 'Se1N2N==dd',\n",
       " 'Se1O2S3sd',\n",
       " 'Se1C3P4ad',\n",
       " 'Se1C4N2sd',\n",
       " 'Se1N2N3ss',\n",
       " 'Se1C3Si4as',\n",
       " 'Se2C1O1',\n",
       " 'Se1C2N1d',\n",
       " 'Se3As1In1',\n",
       " 'StAs',\n",
       " 'StIn',\n",
       " 'Se1N1N2s',\n",
       " 'Se1N3O2ss',\n",
       " 'Se1N2N2ss',\n",
       " 'Se1C3S1d',\n",
       " 'Se1C2C3td',\n",
       " 'Se1N1P4d',\n",
       " 'SdsSH',\n",
       " 'Se1C3S2ad',\n",
       " 'Se2C3S2ss',\n",
       " 'Se1N1N3s',\n",
       " 'Se1N2N2dd',\n",
       " 'Se1C3N2pss',\n",
       " 'SssNH2',\n",
       " 'SssNH2(al)',\n",
       " 'SdsssN',\n",
       " 'SdsssN(oth)',\n",
       " 'Se1C1N4d',\n",
       " 'Se1C2N4sd',\n",
       " 'Se2N4O1s',\n",
       " 'Se1C2S2ds',\n",
       " 'SaaaN',\n",
       " 'Se1N==O2ds',\n",
       " 'Se1C2S4dd',\n",
       " 'Se1C3P3as',\n",
       " 'Se1P3Cl1s',\n",
       " 'Se1C3Hg2as',\n",
       " 'Se1O2Hg2ss',\n",
       " 'SssHg',\n",
       " 'SdssSi',\n",
       " 'Se1C1Si3d',\n",
       " 'Se2O1Si3s',\n",
       " 'SddsCl',\n",
       " 'Se1O1Cl3d',\n",
       " 'Se2O1Cl3d',\n",
       " 'Se1N2N2ds',\n",
       " 'Se1C2N2sd',\n",
       " 'SdNH',\n",
       " 'SddN',\n",
       " 'Se2N1N2pd',\n",
       " 'SdsCl',\n",
       " 'Se1O1Cl2d',\n",
       " 'Se2O1Cl2s',\n",
       " 'Se1C2F1s',\n",
       " 'Se1B4F1s',\n",
       " 'SssssBH',\n",
       " 'Se1C2Cl1d',\n",
       " 'Se1C4N1s',\n",
       " 'Se1C4S1s',\n",
       " 'SeaN2NHaa',\n",
       " 'Se1C3P4sd',\n",
       " 'Se1C3Br1s',\n",
       " 'SaadN',\n",
       " 'SaadN(oth)',\n",
       " 'Se2N3O1a',\n",
       " 'Se1C3N==dd',\n",
       " 'Se2C3N1s',\n",
       " 'Se1C4N==sd',\n",
       " 'Se1C2S2ts',\n",
       " 'Se1C2I1t',\n",
       " 'Se1C2N2td',\n",
       " 'Se1C2C2dt',\n",
       " 'SddC',\n",
       " 'Se2C2N2ds',\n",
       " 'Se2C2S1d',\n",
       " 'SsOH(zwit)',\n",
       " 'Se1C2Sn4ss',\n",
       " 'Se1O1O2s',\n",
       " 'Se1C2N1t',\n",
       " 'Se1C2N2ts',\n",
       " 'Se1C3S4dd',\n",
       " 'Se1C2P4sd',\n",
       " 'Se1N3N3ss',\n",
       " 'Se1C1N3pd',\n",
       " 'Se1N2Si4ss',\n",
       " 'Se1C1N2d',\n",
       " 'Se1C1C2t',\n",
       " 'Se1C2N2dd',\n",
       " 'Se1C2N==sd',\n",
       " 'SdddN',\n",
       " 'SdddN(nitro)',\n",
       " 'Se2N3O1d',\n",
       " 'SddSi',\n",
       " 'Se2O1Si2d',\n",
       " 'Se1B3C3sa',\n",
       " 'Se1N3pO1a',\n",
       " 'SeaC2N3paa']"
      ]
     },
     "execution_count": 117,
     "metadata": {},
     "output_type": "execute_result"
    }
   ],
   "execution_count": 117
  },
  {
   "cell_type": "markdown",
   "id": "cde8b783c9b0b0c7",
   "metadata": {},
   "source": [
    "# assign indexes based on smiles"
   ]
  },
  {
   "cell_type": "code",
   "id": "efc7cef9565bd74c",
   "metadata": {
    "ExecuteTime": {
     "end_time": "2024-08-30T09:00:20.588477Z",
     "start_time": "2024-08-30T09:00:20.573240Z"
    }
   },
   "source": [
    "mask = df.SMILES.isin(test.SMILES)\n",
    "df.loc[mask, 'dataset'] = 'test'\n",
    "\n",
    "mask = df.SMILES.isin(train.SMILES)\n",
    "df.loc[mask, 'dataset'] = 'train'"
   ],
   "outputs": [],
   "execution_count": 118
  },
  {
   "cell_type": "code",
   "id": "3a58db87bdeba9d9",
   "metadata": {
    "ExecuteTime": {
     "end_time": "2024-08-30T09:00:20.603774Z",
     "start_time": "2024-08-30T09:00:20.590295Z"
    }
   },
   "source": [
    "df.dataset.value_counts()"
   ],
   "outputs": [
    {
     "data": {
      "text/plain": [
       "dataset\n",
       "train    1011\n",
       "test      500\n",
       "Name: count, dtype: int64"
      ]
     },
     "execution_count": 119,
     "metadata": {},
     "output_type": "execute_result"
    }
   ],
   "execution_count": 119
  },
  {
   "cell_type": "code",
   "id": "60b8bb16328ec570",
   "metadata": {
    "ExecuteTime": {
     "end_time": "2024-08-30T09:00:20.617154Z",
     "start_time": "2024-08-30T09:00:20.605354Z"
    }
   },
   "source": [
    "# test.loc[498, 'SMILES']"
   ],
   "outputs": [],
   "execution_count": 120
  },
  {
   "cell_type": "code",
   "id": "17437e1790299ad3",
   "metadata": {
    "ExecuteTime": {
     "end_time": "2024-08-30T09:00:20.676455Z",
     "start_time": "2024-08-30T09:00:20.666087Z"
    }
   },
   "source": [
    "# df.loc[1509, 'SMILES']"
   ],
   "outputs": [],
   "execution_count": 121
  },
  {
   "cell_type": "markdown",
   "id": "8605cf60369ce4cc",
   "metadata": {},
   "source": [
    "# Reindex based on smiles"
   ]
  },
  {
   "cell_type": "code",
   "id": "20ab6fa88f894f93",
   "metadata": {
    "ExecuteTime": {
     "end_time": "2024-08-30T09:00:20.750266Z",
     "start_time": "2024-08-30T09:00:20.738353Z"
    }
   },
   "source": [
    "df.set_index('SMILES', inplace=True)\n",
    "train.set_index('SMILES', inplace=True)\n",
    "test.set_index('SMILES', inplace=True)"
   ],
   "outputs": [],
   "execution_count": 122
  },
  {
   "cell_type": "code",
   "id": "e2d99f529ef94398",
   "metadata": {
    "ExecuteTime": {
     "end_time": "2024-08-30T09:00:20.818184Z",
     "start_time": "2024-08-30T09:00:20.804450Z"
    }
   },
   "source": [
    "idx = pd.Index(np.concatenate([train.index, test.index]), name='SMILES')\n",
    "idx.shape"
   ],
   "outputs": [
    {
     "data": {
      "text/plain": [
       "(1511,)"
      ]
     },
     "execution_count": 123,
     "metadata": {},
     "output_type": "execute_result"
    }
   ],
   "execution_count": 123
  },
  {
   "cell_type": "code",
   "id": "9e33a7a95b7c5125",
   "metadata": {
    "ExecuteTime": {
     "end_time": "2024-08-30T09:00:20.853524Z",
     "start_time": "2024-08-30T09:00:20.841127Z"
    }
   },
   "source": [
    "df = df.reindex(idx)"
   ],
   "outputs": [],
   "execution_count": 124
  },
  {
   "cell_type": "code",
   "id": "a2863c7786833ce0",
   "metadata": {
    "ExecuteTime": {
     "end_time": "2024-08-30T09:00:20.874532Z",
     "start_time": "2024-08-30T09:00:20.862489Z"
    }
   },
   "source": [
    "df['target'] = train.activity"
   ],
   "outputs": [],
   "execution_count": 125
  },
  {
   "cell_type": "code",
   "id": "f349edd620154e31",
   "metadata": {
    "ExecuteTime": {
     "end_time": "2024-08-30T09:00:20.888817Z",
     "start_time": "2024-08-30T09:00:20.877414Z"
    }
   },
   "source": [
    "df.reset_index(inplace=True)"
   ],
   "outputs": [],
   "execution_count": 126
  },
  {
   "cell_type": "code",
   "id": "d6b7cedf3369a294",
   "metadata": {
    "ExecuteTime": {
     "end_time": "2024-08-30T09:00:20.913269Z",
     "start_time": "2024-08-30T09:00:20.893387Z"
    }
   },
   "source": [
    "df.head()"
   ],
   "outputs": [
    {
     "data": {
      "text/plain": [
       "                                        SMILES  ALogPS_logP  ALogPS_logS  \\\n",
       "0                 CC1(C)[C@@H]2C[C@H]1C(=C)CC2         3.94        -3.33   \n",
       "1  COC(=O)C(C)OC1=CC=C(OC2=CC=C(Cl)C=C2Cl)C=C1         5.13        -5.40   \n",
       "2                   CCCCCCCCCCCCCC(=O)OCC(O)CO         4.77        -4.09   \n",
       "3      CC(=O)O[C@@H]1C[C@@H]2CC[C@@]1(C)C2(C)C         3.50        -3.52   \n",
       "4                   CCCCCCCCCC=CCC1CC(=O)OC1=O         5.68        -5.73   \n",
       "\n",
       "   HALOG     MW  N.1  NA  NH  O  P  ...  SdddN  SdddN(nitro)  Se2N3O1d  SddSi  \\\n",
       "0      0  136.3    0  10  16  0  0  ...    0.0           0.0       0.0    0.0   \n",
       "1      2  341.2    0  22  14  4  0  ...    0.0           0.0       0.0    0.0   \n",
       "2      0  302.5    0  21  34  4  0  ...    0.0           0.0       0.0    0.0   \n",
       "3      0  196.3    0  14  20  2  0  ...    0.0           0.0       0.0    0.0   \n",
       "4      0  266.4    0  19  26  3  0  ...    0.0           0.0       0.0    0.0   \n",
       "\n",
       "   Se2O1Si2d  Se1B3C3sa  Se1N3pO1a  SeaC2N3paa  dataset  target  \n",
       "0        0.0        0.0        0.0         0.0    train    12.3  \n",
       "1        0.0        0.0        0.0         0.0    train    94.1  \n",
       "2        0.0        0.0        0.0         0.0    train    38.1  \n",
       "3        0.0        0.0        0.0         0.0    train    11.8  \n",
       "4        0.0        0.0        0.0         0.0    train    98.4  \n",
       "\n",
       "[5 rows x 369 columns]"
      ],
      "text/html": [
       "<div>\n",
       "<style scoped>\n",
       "    .dataframe tbody tr th:only-of-type {\n",
       "        vertical-align: middle;\n",
       "    }\n",
       "\n",
       "    .dataframe tbody tr th {\n",
       "        vertical-align: top;\n",
       "    }\n",
       "\n",
       "    .dataframe thead th {\n",
       "        text-align: right;\n",
       "    }\n",
       "</style>\n",
       "<table border=\"1\" class=\"dataframe\">\n",
       "  <thead>\n",
       "    <tr style=\"text-align: right;\">\n",
       "      <th></th>\n",
       "      <th>SMILES</th>\n",
       "      <th>ALogPS_logP</th>\n",
       "      <th>ALogPS_logS</th>\n",
       "      <th>HALOG</th>\n",
       "      <th>MW</th>\n",
       "      <th>N.1</th>\n",
       "      <th>NA</th>\n",
       "      <th>NH</th>\n",
       "      <th>O</th>\n",
       "      <th>P</th>\n",
       "      <th>...</th>\n",
       "      <th>SdddN</th>\n",
       "      <th>SdddN(nitro)</th>\n",
       "      <th>Se2N3O1d</th>\n",
       "      <th>SddSi</th>\n",
       "      <th>Se2O1Si2d</th>\n",
       "      <th>Se1B3C3sa</th>\n",
       "      <th>Se1N3pO1a</th>\n",
       "      <th>SeaC2N3paa</th>\n",
       "      <th>dataset</th>\n",
       "      <th>target</th>\n",
       "    </tr>\n",
       "  </thead>\n",
       "  <tbody>\n",
       "    <tr>\n",
       "      <th>0</th>\n",
       "      <td>CC1(C)[C@@H]2C[C@H]1C(=C)CC2</td>\n",
       "      <td>3.94</td>\n",
       "      <td>-3.33</td>\n",
       "      <td>0</td>\n",
       "      <td>136.3</td>\n",
       "      <td>0</td>\n",
       "      <td>10</td>\n",
       "      <td>16</td>\n",
       "      <td>0</td>\n",
       "      <td>0</td>\n",
       "      <td>...</td>\n",
       "      <td>0.0</td>\n",
       "      <td>0.0</td>\n",
       "      <td>0.0</td>\n",
       "      <td>0.0</td>\n",
       "      <td>0.0</td>\n",
       "      <td>0.0</td>\n",
       "      <td>0.0</td>\n",
       "      <td>0.0</td>\n",
       "      <td>train</td>\n",
       "      <td>12.3</td>\n",
       "    </tr>\n",
       "    <tr>\n",
       "      <th>1</th>\n",
       "      <td>COC(=O)C(C)OC1=CC=C(OC2=CC=C(Cl)C=C2Cl)C=C1</td>\n",
       "      <td>5.13</td>\n",
       "      <td>-5.40</td>\n",
       "      <td>2</td>\n",
       "      <td>341.2</td>\n",
       "      <td>0</td>\n",
       "      <td>22</td>\n",
       "      <td>14</td>\n",
       "      <td>4</td>\n",
       "      <td>0</td>\n",
       "      <td>...</td>\n",
       "      <td>0.0</td>\n",
       "      <td>0.0</td>\n",
       "      <td>0.0</td>\n",
       "      <td>0.0</td>\n",
       "      <td>0.0</td>\n",
       "      <td>0.0</td>\n",
       "      <td>0.0</td>\n",
       "      <td>0.0</td>\n",
       "      <td>train</td>\n",
       "      <td>94.1</td>\n",
       "    </tr>\n",
       "    <tr>\n",
       "      <th>2</th>\n",
       "      <td>CCCCCCCCCCCCCC(=O)OCC(O)CO</td>\n",
       "      <td>4.77</td>\n",
       "      <td>-4.09</td>\n",
       "      <td>0</td>\n",
       "      <td>302.5</td>\n",
       "      <td>0</td>\n",
       "      <td>21</td>\n",
       "      <td>34</td>\n",
       "      <td>4</td>\n",
       "      <td>0</td>\n",
       "      <td>...</td>\n",
       "      <td>0.0</td>\n",
       "      <td>0.0</td>\n",
       "      <td>0.0</td>\n",
       "      <td>0.0</td>\n",
       "      <td>0.0</td>\n",
       "      <td>0.0</td>\n",
       "      <td>0.0</td>\n",
       "      <td>0.0</td>\n",
       "      <td>train</td>\n",
       "      <td>38.1</td>\n",
       "    </tr>\n",
       "    <tr>\n",
       "      <th>3</th>\n",
       "      <td>CC(=O)O[C@@H]1C[C@@H]2CC[C@@]1(C)C2(C)C</td>\n",
       "      <td>3.50</td>\n",
       "      <td>-3.52</td>\n",
       "      <td>0</td>\n",
       "      <td>196.3</td>\n",
       "      <td>0</td>\n",
       "      <td>14</td>\n",
       "      <td>20</td>\n",
       "      <td>2</td>\n",
       "      <td>0</td>\n",
       "      <td>...</td>\n",
       "      <td>0.0</td>\n",
       "      <td>0.0</td>\n",
       "      <td>0.0</td>\n",
       "      <td>0.0</td>\n",
       "      <td>0.0</td>\n",
       "      <td>0.0</td>\n",
       "      <td>0.0</td>\n",
       "      <td>0.0</td>\n",
       "      <td>train</td>\n",
       "      <td>11.8</td>\n",
       "    </tr>\n",
       "    <tr>\n",
       "      <th>4</th>\n",
       "      <td>CCCCCCCCCC=CCC1CC(=O)OC1=O</td>\n",
       "      <td>5.68</td>\n",
       "      <td>-5.73</td>\n",
       "      <td>0</td>\n",
       "      <td>266.4</td>\n",
       "      <td>0</td>\n",
       "      <td>19</td>\n",
       "      <td>26</td>\n",
       "      <td>3</td>\n",
       "      <td>0</td>\n",
       "      <td>...</td>\n",
       "      <td>0.0</td>\n",
       "      <td>0.0</td>\n",
       "      <td>0.0</td>\n",
       "      <td>0.0</td>\n",
       "      <td>0.0</td>\n",
       "      <td>0.0</td>\n",
       "      <td>0.0</td>\n",
       "      <td>0.0</td>\n",
       "      <td>train</td>\n",
       "      <td>98.4</td>\n",
       "    </tr>\n",
       "  </tbody>\n",
       "</table>\n",
       "<p>5 rows × 369 columns</p>\n",
       "</div>"
      ]
     },
     "execution_count": 127,
     "metadata": {},
     "output_type": "execute_result"
    }
   ],
   "execution_count": 127
  },
  {
   "cell_type": "markdown",
   "id": "43d008db4a95c3ac",
   "metadata": {},
   "source": [
    "# Basic preprocessing"
   ]
  },
  {
   "cell_type": "code",
   "id": "1b3f80b9010d6a14",
   "metadata": {
    "ExecuteTime": {
     "end_time": "2024-08-30T09:00:20.933637Z",
     "start_time": "2024-08-30T09:00:20.922361Z"
    }
   },
   "source": [
    "from src.preprocess import preprocess\n",
    "from src.utils import smi2mol, mol2smi, get_fps_offset\n",
    "\n",
    "\n",
    "def prepare_data(df, smi_col='SMILES'):\n",
    "    df['rdmol'] = df[smi_col].apply(smi2mol)\n",
    "    df.rdmol = df.rdmol.apply(preprocess)\n",
    "    df['smi'] = df.rdmol.apply(mol2smi)\n",
    "    return df"
   ],
   "outputs": [],
   "execution_count": 128
  },
  {
   "cell_type": "code",
   "id": "ea7a02ef93283bca",
   "metadata": {
    "ExecuteTime": {
     "end_time": "2024-08-30T09:00:21.002112Z",
     "start_time": "2024-08-30T09:00:20.963767Z"
    }
   },
   "source": [
    "df = mem.cache(prepare_data)(df)"
   ],
   "outputs": [],
   "execution_count": 129
  },
  {
   "cell_type": "markdown",
   "id": "21dcf280fcf32c01",
   "metadata": {},
   "source": [
    "# generate representation: fingerprints, rdkit, mordred descriptors"
   ]
  },
  {
   "cell_type": "code",
   "id": "7196f368874ad703",
   "metadata": {
    "ExecuteTime": {
     "end_time": "2024-08-30T09:00:21.046865Z",
     "start_time": "2024-08-30T09:00:21.003401Z"
    }
   },
   "source": [
    "from src.representation import get_representation_from_series\n",
    "\n",
    "r = mem.cache(get_representation_from_series, ignore=['n_jobs'])(df.smi, n_jobs=N_JOBS)\n",
    "r.shape"
   ],
   "outputs": [
    {
     "data": {
      "text/plain": [
       "(1511, 4389)"
      ]
     },
     "execution_count": 130,
     "metadata": {},
     "output_type": "execute_result"
    }
   ],
   "execution_count": 130
  },
  {
   "cell_type": "code",
   "id": "5f07ef3c3e0fbe6",
   "metadata": {
    "ExecuteTime": {
     "end_time": "2024-08-30T09:00:21.060336Z",
     "start_time": "2024-08-30T09:00:21.048089Z"
    }
   },
   "source": [
    "FPS_OFFSET = get_fps_offset(r.columns)\n",
    "fps_cols = list(range(FPS_OFFSET))"
   ],
   "outputs": [],
   "execution_count": 131
  },
  {
   "cell_type": "code",
   "id": "a39200a58dd333af",
   "metadata": {
    "ExecuteTime": {
     "end_time": "2024-08-30T09:00:21.111598Z",
     "start_time": "2024-08-30T09:00:21.073350Z"
    }
   },
   "source": [
    "r.dropna(axis=1, inplace=True)\n",
    "r.shape"
   ],
   "outputs": [
    {
     "data": {
      "text/plain": [
       "(1511, 3280)"
      ]
     },
     "execution_count": 132,
     "metadata": {},
     "output_type": "execute_result"
    }
   ],
   "execution_count": 132
  },
  {
   "cell_type": "code",
   "id": "8f3526f0ac699d40",
   "metadata": {
    "ExecuteTime": {
     "end_time": "2024-08-30T09:00:21.188860Z",
     "start_time": "2024-08-30T09:00:21.166213Z"
    }
   },
   "source": [
    "mask = (r.iloc[:, FPS_OFFSET:] == 0).all()\n",
    "zero_cols = r.iloc[:, FPS_OFFSET:].columns[mask]\n",
    "r.drop(columns=zero_cols, inplace=True)\n",
    "r.shape"
   ],
   "outputs": [
    {
     "data": {
      "text/plain": [
       "(1511, 3152)"
      ]
     },
     "execution_count": 133,
     "metadata": {},
     "output_type": "execute_result"
    }
   ],
   "execution_count": 133
  },
  {
   "cell_type": "code",
   "id": "9dad4c753df59e1a",
   "metadata": {
    "ExecuteTime": {
     "end_time": "2024-08-30T09:00:21.225901Z",
     "start_time": "2024-08-30T09:00:21.204289Z"
    }
   },
   "source": [
    "df = pd.concat([df, r], axis=1)\n",
    "df.shape"
   ],
   "outputs": [
    {
     "data": {
      "text/plain": [
       "(1511, 3523)"
      ]
     },
     "execution_count": 134,
     "metadata": {},
     "output_type": "execute_result"
    }
   ],
   "execution_count": 134
  },
  {
   "cell_type": "code",
   "id": "9bc2c54a851bf0e3",
   "metadata": {
    "ExecuteTime": {
     "end_time": "2024-08-30T09:00:21.264885Z",
     "start_time": "2024-08-30T09:00:21.251340Z"
    }
   },
   "source": [
    "rd_cols = [c for c in df.columns if 'rd_' in str(c)]\n",
    "md_cols = [c for c in df.columns if 'md_' in str(c)]"
   ],
   "outputs": [],
   "execution_count": 135
  },
  {
   "metadata": {
    "ExecuteTime": {
     "end_time": "2024-08-30T09:00:21.292579Z",
     "start_time": "2024-08-30T09:00:21.280903Z"
    }
   },
   "cell_type": "code",
   "source": "# drop nans and constants",
   "id": "4c5013aa48ac1db5",
   "outputs": [],
   "execution_count": 136
  },
  {
   "metadata": {
    "ExecuteTime": {
     "end_time": "2024-08-30T09:00:21.311907Z",
     "start_time": "2024-08-30T09:00:21.309480Z"
    }
   },
   "cell_type": "code",
   "source": "",
   "id": "53747b2f319db3e2",
   "outputs": [],
   "execution_count": 136
  },
  {
   "cell_type": "markdown",
   "id": "f99ed84ccf7aea2b",
   "metadata": {},
   "source": [
    "# Split train test"
   ]
  },
  {
   "cell_type": "code",
   "id": "561227c5337e1258",
   "metadata": {
    "ExecuteTime": {
     "end_time": "2024-08-30T09:00:21.646518Z",
     "start_time": "2024-08-30T09:00:21.323613Z"
    }
   },
   "source": [
    "train = df.query(\"dataset == 'train'\")[fps_cols + rd_cols + md_cols + features]\n",
    "y_train = df.query(\"dataset == 'train'\").target\n",
    "\n",
    "test = df.query(\"dataset == 'test'\")[fps_cols + rd_cols + md_cols + features]\n",
    "\n",
    "train.shape, test.shape"
   ],
   "outputs": [
    {
     "data": {
      "text/plain": [
       "((1011, 3518), (500, 3518))"
      ]
     },
     "execution_count": 137,
     "metadata": {},
     "output_type": "execute_result"
    }
   ],
   "execution_count": 137
  },
  {
   "metadata": {
    "ExecuteTime": {
     "end_time": "2024-08-30T09:00:23.005541Z",
     "start_time": "2024-08-30T09:00:21.648151Z"
    }
   },
   "cell_type": "code",
   "source": [
    "train.to_csv('../data/processed/X_train.csv', index=False)\n",
    "test.to_csv('../data/processed/X_test.csv', index=False)\n",
    "y_train.to_csv('../data/processed/y_train.csv', index=False)"
   ],
   "id": "279b2c1edea0409d",
   "outputs": [],
   "execution_count": 138
  },
  {
   "cell_type": "markdown",
   "id": "cacf3a7bdf8cd575",
   "metadata": {},
   "source": [
    "# Model training"
   ]
  },
  {
   "cell_type": "code",
   "execution_count": 43,
   "id": "2bcdcec80e630f8a",
   "metadata": {
    "ExecuteTime": {
     "end_time": "2024-08-27T10:52:51.369205Z",
     "start_time": "2024-08-27T10:52:51.353002Z"
    }
   },
   "outputs": [],
   "source": [
    "import time\n",
    "\n",
    "import numpy as np\n",
    "import pandas as pd\n",
    "\n",
    "from sklearn.linear_model import Lasso, Ridge, LinearRegression\n",
    "from sklearn.cross_decomposition import PLSRegression\n",
    "from sklearn.tree import DecisionTreeRegressor\n",
    "from sklearn.ensemble import RandomForestRegressor\n",
    "from sklearn.svm import SVR\n",
    "from sklearn.neighbors import KNeighborsRegressor\n",
    "from sklearn.model_selection import cross_val_score, KFold\n",
    "from sklearn.preprocessing import StandardScaler\n",
    "\n",
    "from src.utils import OffsetScaler, get_fps_offset\n",
    "import xgboost as xgb\n",
    "from catboost import CatBoostRegressor\n",
    "import seaborn as sns\n",
    "\n",
    "\n",
    "mae = 'neg_mean_absolute_error'\n",
    "mse = 'neg_mean_squared_error'\n",
    "rmse = 'neg_root_mean_squared_error'\n",
    "\n",
    "\n",
    "# prepare models\n",
    "models = {}\n",
    "\n",
    "# models['LR'] = LinearRegression()\n",
    "# models['Ridge'] = Ridge()\n",
    "models['PLS'] = PLSRegression()\n",
    "models['DT'] = DecisionTreeRegressor(random_state=RANDOM_SEED)\n",
    "models['Lasso'] = Lasso()\n",
    "models['KNN'] = KNeighborsRegressor(n_jobs=N_JOBS)\n",
    "models['SVR'] = SVR()\n",
    "models['RF'] = RandomForestRegressor(random_state=RANDOM_SEED, n_jobs=N_JOBS)\n",
    "models['XGB'] = xgb.XGBRegressor(random_state=RANDOM_SEED, n_jobs=N_JOBS, verbosity=0)\n",
    "models['CATB'] = CatBoostRegressor(loss_function='RMSE', verbose=False, random_seed=RANDOM_SEED, thread_count=N_JOBS)\n",
    "# models['CATB GPU'] = CatBoostRegressor(loss_function='RMSE', verbose=False, random_seed=RANDOM_SEED, thread_count=N_JOBS, task_type='GPU')\n",
    "\n",
    "scaler = OffsetScaler(offset=FPS_OFFSET)\n",
    "ss = StandardScaler()"
   ]
  },
  {
   "cell_type": "code",
   "execution_count": 29,
   "id": "1e4d566f-9955-4f59-8d36-fcc112832aa2",
   "metadata": {},
   "outputs": [],
   "source": [
    "def evaluate(X):\n",
    "    results = {}\n",
    "\n",
    "    for name in models.keys():\n",
    "        tic = time.time()\n",
    "        \n",
    "        model = models[name]\n",
    "        kfold = KFold(n_splits=5, shuffle=True, random_state=RANDOM_SEED)\n",
    "        results[name] = cross_val_score(model, X, y_train, cv=kfold, scoring=rmse)\n",
    "        \n",
    "        toc = time.time()\n",
    "        mean = results[name].mean()\n",
    "        std = results[name].std()\n",
    "        final_score = mean - std\n",
    "        print(\"%5s: %3.3f     %3.3f ± %3.3f      %.1fs\" % (name, final_score, mean, std, toc - tic))\n",
    "        \n",
    "    return pd.DataFrame(results)"
   ]
  },
  {
   "cell_type": "markdown",
   "id": "7ff8fb0024c4dadd",
   "metadata": {},
   "source": [
    "# Full Features + FPS"
   ]
  },
  {
   "cell_type": "code",
   "execution_count": 32,
   "id": "dc2844e49e91c0e9",
   "metadata": {
    "ExecuteTime": {
     "start_time": "2024-08-27T10:54:13.176648Z"
    },
    "jupyter": {
     "is_executing": true
    }
   },
   "outputs": [
    {
     "name": "stdout",
     "output_type": "stream",
     "text": [
      "  PLS: -30.213     -29.369 ± 0.844      0.4s\n",
      "   DT: -37.060     -33.885 ± 3.175      3.5s\n",
      "Lasso: -28.380     -27.472 ± 0.908      1.9s\n",
      "  KNN: -29.797     -27.694 ± 2.103      0.3s\n",
      "  SVR: -35.665     -34.691 ± 0.974      6.7s\n",
      "   RF: -25.853     -24.100 ± 1.753      9.7s\n",
      "  XGB: -26.472     -24.798 ± 1.675      14.4s\n",
      " CATB: -25.142     -23.736 ± 1.407      215.0s\n"
     ]
    },
    {
     "data": {
      "image/png": "[encoded data removed]",
      "text/plain": [
       "<Figure size 640x480 with 1 Axes>"
      ]
     },
     "metadata": {},
     "output_type": "display_data"
    }
   ],
   "source": [
    "X_train = train[fps_cols + rd_cols + md_cols + features]\n",
    "\n",
    "X_train_scale = scaler.fit_transform(X_train.values)\n",
    "\n",
    "results = evaluate(X_train_scale)\n",
    "\n",
    "sns.boxplot(results);"
   ]
  },
  {
   "cell_type": "code",
   "execution_count": 33,
   "id": "00181f79-cb8b-4e19-b9ed-975aeacf6a70",
   "metadata": {},
   "outputs": [
    {
     "name": "stdout",
     "output_type": "stream",
     "text": [
      "  PLS: -30.350     -29.108 ± 1.243      0.3s\n",
      "   DT: -34.965     -33.371 ± 1.594      1.5s\n",
      "Lasso: -28.716     -27.808 ± 0.908      1.2s\n",
      "  KNN: -30.315     -28.392 ± 1.924      0.2s\n",
      "  SVR: -36.329     -35.362 ± 0.967      5.5s\n",
      "   RF: -25.795     -24.027 ± 1.768      5.3s\n",
      "  XGB: -27.322     -25.314 ± 2.008      5.4s\n",
      " CATB: -25.185     -23.651 ± 1.534      89.2s\n"
     ]
    }
   ],
   "source": [
    "X_train = train[fps_cols + rd_cols + features]\n",
    "X_train_scale = scaler.fit_transform(X_train.values)\n",
    "\n",
    "results = evaluate(X_train_scale)"
   ]
  },
  {
   "cell_type": "code",
   "execution_count": 34,
   "id": "d3f32d8e-3b06-497b-8bb7-f3e97737fb91",
   "metadata": {},
   "outputs": [
    {
     "name": "stdout",
     "output_type": "stream",
     "text": [
      "  PLS: -30.359     -29.470 ± 0.889      0.3s\n",
      "   DT: -38.272     -35.783 ± 2.489      2.8s\n",
      "Lasso: -28.409     -27.510 ± 0.899      2.3s\n",
      "  KNN: -29.663     -27.813 ± 1.850      0.2s\n",
      "  SVR: -35.779     -34.810 ± 0.969      6.5s\n",
      "   RF: -25.794     -24.116 ± 1.678      8.9s\n",
      "  XGB: -27.073     -25.418 ± 1.656      10.0s\n",
      " CATB: -25.032     -23.786 ± 1.246      119.5s\n"
     ]
    }
   ],
   "source": [
    "X_train = train[fps_cols + md_cols + features]\n",
    "X_train_scale = scaler.fit_transform(X_train.values)\n",
    "\n",
    "results = evaluate(X_train_scale)"
   ]
  },
  {
   "cell_type": "code",
   "execution_count": 35,
   "id": "74c924de-d947-4555-a157-eea297c0fffb",
   "metadata": {},
   "outputs": [
    {
     "name": "stdout",
     "output_type": "stream",
     "text": [
      "  PLS: -31.679     -29.643 ± 2.036      0.3s\n",
      "   DT: -34.511     -32.456 ± 2.056      1.5s\n",
      "Lasso: -29.767     -28.465 ± 1.303      2.9s\n",
      "  KNN: -30.857     -29.188 ± 1.669      0.2s\n",
      "  SVR: -36.971     -35.992 ± 0.979      5.5s\n",
      "   RF: -25.646     -24.005 ± 1.641      4.3s\n",
      "  XGB: -26.754     -25.252 ± 1.502      4.0s\n",
      " CATB: -25.289     -23.924 ± 1.364      103.7s\n"
     ]
    }
   ],
   "source": [
    "X_train = train[fps_cols + features]\n",
    "X_train_scale = scaler.fit_transform(X_train.values)\n",
    "\n",
    "results = evaluate(X_train_scale)"
   ]
  },
  {
   "cell_type": "markdown",
   "id": "5efb9c42838d8144",
   "metadata": {},
   "source": [
    "# Features only"
   ]
  },
  {
   "cell_type": "code",
   "execution_count": 36,
   "id": "e5a7093ea7cfcaf2",
   "metadata": {
    "jupyter": {
     "is_executing": true
    }
   },
   "outputs": [
    {
     "name": "stdout",
     "output_type": "stream",
     "text": [
      "  PLS: -36.398     -32.218 ± 4.180      0.0s\n",
      "   DT: -34.366     -33.118 ± 1.247      0.3s\n",
      "Lasso: -39.616     -32.984 ± 6.633      0.3s\n",
      "  KNN: -31.812     -30.134 ± 1.678      0.1s\n",
      "  SVR: -37.199     -36.169 ± 1.030      0.8s\n",
      "   RF: -26.444     -24.600 ± 1.845      1.6s\n",
      "  XGB: -27.463     -25.904 ± 1.559      1.4s\n",
      " CATB: -26.437     -24.556 ± 1.881      18.1s\n"
     ]
    }
   ],
   "source": [
    "from sklearn.preprocessing import StandardScaler\n",
    "\n",
    "X_train = train[features]\n",
    "X_train_scale = ss.fit_transform(X_train.values)\n",
    "\n",
    "results = evaluate(X_train_scale)"
   ]
  },
  {
   "cell_type": "code",
   "execution_count": 37,
   "id": "1ce311ec-63c5-45eb-9c34-18e835c84503",
   "metadata": {},
   "outputs": [
    {
     "name": "stdout",
     "output_type": "stream",
     "text": [
      "  PLS: -32.637     -31.166 ± 1.471      0.1s\n",
      "   DT: -36.768     -34.454 ± 2.314      2.2s\n",
      "Lasso: -32.811     -29.253 ± 3.559      0.8s\n",
      "  KNN: -30.027     -28.287 ± 1.740      0.1s\n",
      "  SVR: -35.552     -34.508 ± 1.044      2.1s\n",
      "   RF: -26.039     -24.530 ± 1.509      7.3s\n",
      "  XGB: -26.684     -25.028 ± 1.656      7.3s\n",
      " CATB: -25.281     -23.617 ± 1.664      60.3s\n"
     ]
    }
   ],
   "source": [
    "from sklearn.preprocessing import StandardScaler\n",
    "\n",
    "X_train = train[rd_cols + md_cols + features]\n",
    "X_train_scale = ss.fit_transform(X_train.values)\n",
    "\n",
    "results = evaluate(X_train_scale)"
   ]
  },
  {
   "cell_type": "markdown",
   "id": "6810d29ada136c2c",
   "metadata": {},
   "source": [
    "# RandomForest finetune"
   ]
  },
  {
   "cell_type": "code",
   "execution_count": 38,
   "id": "4af3951f0d27b0c5",
   "metadata": {
    "ExecuteTime": {
     "end_time": "2024-08-27T10:34:57.024478Z",
     "start_time": "2024-08-27T10:34:57.013817Z"
    }
   },
   "outputs": [],
   "source": [
    "models['RF 100'] = RandomForestRegressor(n_estimators=100, random_state=RANDOM_SEED, n_jobs=N_JOBS)\n",
    "models['RF 200'] = RandomForestRegressor(n_estimators=200, random_state=RANDOM_SEED, n_jobs=N_JOBS)\n",
    "models['RF 400'] = RandomForestRegressor(n_estimators=400, random_state=RANDOM_SEED, n_jobs=N_JOBS)\n",
    "models['RF 800'] = RandomForestRegressor(n_estimators=800, random_state=RANDOM_SEED, n_jobs=N_JOBS)"
   ]
  },
  {
   "cell_type": "code",
   "execution_count": 39,
   "id": "f63f78b1b64ef100",
   "metadata": {
    "ExecuteTime": {
     "end_time": "2024-08-27T10:35:08.982955Z",
     "start_time": "2024-08-27T10:35:06.265540Z"
    }
   },
   "outputs": [
    {
     "name": "stdout",
     "output_type": "stream",
     "text": [
      "RF 100: -24.005 ± 1.641    4.5s\n",
      "RF 200: -23.982 ± 1.709    7.7s\n",
      "RF 400: -23.872 ± 1.781    12.8s\n",
      "RF 800: -23.923 ± 1.816    24.5s\n",
      " CATB: -23.924 ± 1.364    98.5s\n"
     ]
    },
    {
     "data": {
      "image/png": "[encoded data removed]",
      "text/plain": [
       "<Figure size 640x480 with 1 Axes>"
      ]
     },
     "metadata": {},
     "output_type": "display_data"
    }
   ],
   "source": [
    "X_train = train[fps_cols + features]\n",
    "X_train_scale = scaler.fit_transform(X_train.values)\n",
    "\n",
    "results = {}\n",
    "\n",
    "for name in ['RF 100', 'RF 200', 'RF 400', 'RF 800', 'CATB']:\n",
    "    tic = time.time()\n",
    "    \n",
    "    model = models[name]\n",
    "    kfold = KFold(n_splits=5, shuffle=True, random_state=RANDOM_SEED)\n",
    "    results[name] = cross_val_score(model, X_train_scale, y_train, cv=kfold, scoring=rmse)\n",
    "    \n",
    "    toc = time.time()    \n",
    "    print(\"%5s: %3.3f ± %3.3f    %.1fs\" % (name, results[name].mean(), results[name].std(), toc - tic))\n",
    "    \n",
    "results = pd.DataFrame(results)\n",
    "sns.boxplot(results);"
   ]
  },
  {
   "cell_type": "markdown",
   "id": "7dbe3fa9-6a57-43db-a9d0-2f488a1c4cec",
   "metadata": {},
   "source": [
    "# Correlations"
   ]
  },
  {
   "cell_type": "code",
   "id": "a97c3b7b-f36b-4ab3-905c-baef94d1eb4c",
   "metadata": {
    "ExecuteTime": {
     "end_time": "2024-08-28T06:09:29.230118Z",
     "start_time": "2024-08-28T06:09:29.216096Z"
    }
   },
   "source": [
    "train.shape"
   ],
   "outputs": [
    {
     "data": {
      "text/plain": [
       "(1011, 3518)"
      ]
     },
     "execution_count": 494,
     "metadata": {},
     "output_type": "execute_result"
    }
   ],
   "execution_count": 494
  },
  {
   "cell_type": "code",
   "id": "cd368e5a-eff4-4450-8d99-d94769ad2197",
   "metadata": {
    "ExecuteTime": {
     "end_time": "2024-08-28T06:09:30.574681Z",
     "start_time": "2024-08-28T06:09:30.540253Z"
    }
   },
   "source": [
    "full_feats = train[rd_cols + md_cols + features]\n",
    "\n",
    "feats_target = pd.concat([full_feats, y_train], axis=1)\n",
    "feats_target.shape"
   ],
   "outputs": [
    {
     "data": {
      "text/plain": [
       "(1011, 1156)"
      ]
     },
     "execution_count": 495,
     "metadata": {},
     "output_type": "execute_result"
    }
   ],
   "execution_count": 495
  },
  {
   "cell_type": "code",
   "id": "ee55b6a8-f77b-423a-bbae-228af8abb059",
   "metadata": {
    "ExecuteTime": {
     "end_time": "2024-08-28T06:09:31.875843Z",
     "start_time": "2024-08-28T06:09:31.858494Z"
    }
   },
   "source": [
    "full_feats.isna().sum().sum()"
   ],
   "outputs": [
    {
     "data": {
      "text/plain": [
       "0"
      ]
     },
     "execution_count": 496,
     "metadata": {},
     "output_type": "execute_result"
    }
   ],
   "execution_count": 496
  },
  {
   "cell_type": "code",
   "id": "e1b8c779-b8d3-45af-b42c-c19af7a41b19",
   "metadata": {
    "ExecuteTime": {
     "end_time": "2024-08-28T06:09:32.668590Z",
     "start_time": "2024-08-28T06:09:32.608301Z"
    }
   },
   "source": [
    "cols_to_drop = [col for col in feats_target.columns if feats_target[col].nunique() == 1]\n",
    "\n",
    "print(len(cols_to_drop))\n",
    "\n",
    "# Drop those columns\n",
    "feats_target.drop(columns=cols_to_drop, inplace=True)\n",
    "feats_target.shape"
   ],
   "outputs": [
    {
     "name": "stdout",
     "output_type": "stream",
     "text": [
      "38\n"
     ]
    },
    {
     "data": {
      "text/plain": [
       "(1011, 1118)"
      ]
     },
     "execution_count": 497,
     "metadata": {},
     "output_type": "execute_result"
    }
   ],
   "execution_count": 497
  },
  {
   "cell_type": "code",
   "id": "0c7b8c75-a31d-4599-a53b-25e2b5d628a3",
   "metadata": {
    "ExecuteTime": {
     "end_time": "2024-08-28T06:09:35.738294Z",
     "start_time": "2024-08-28T06:09:34.115405Z"
    }
   },
   "source": [
    "corr = mem.cache(lambda x: x.corr())(feats_target)"
   ],
   "outputs": [
    {
     "name": "stdout",
     "output_type": "stream",
     "text": [
      "________________________________________________________________________________\n",
      "[Memory] Calling __main__--tmp-ipykernel-779951703.<lambda>...\n",
      "<lambda>(       rd_BalabanJ   rd_BertzCT    rd_Chi0   rd_Chi0n   rd_Chi0v    rd_Chi1  \\\n",
      "0     2.231081e+00   174.477332   7.353371   6.983128   6.983128   4.621027   \n",
      "1     2.039717e+00   655.695424  16.112520  12.007724  13.519582  10.490402   \n",
      "2     3.158254e+00   230.829998  15.761302  13.687769  13.687769  10.201907   \n",
      "3     2.225540e+00   269.495295  10.560478   9.592517   9.592517   6.376846   \n",
      "4     2.002792e+00   366.070992  13.924439  11.898687  11.898687   9.236382   \n",
      "...            ...          ...        ...        ...        ...        ...   \n",
      "1006  1.547850e+00   726.837791  19.225404  16.027681  16.027681  13.117724   \n",
      "1007  2.258072e+00   909.550973  16.396977  12.652568  12.652568  11...)\n",
      "_________________________________________________________<lambda> - 1.6s, 0.0min\n"
     ]
    }
   ],
   "execution_count": 498
  },
  {
   "cell_type": "code",
   "id": "840d58a7-b465-4310-8db2-70f33432e8e4",
   "metadata": {
    "ExecuteTime": {
     "end_time": "2024-08-28T06:09:37.793495Z",
     "start_time": "2024-08-28T06:09:37.781273Z"
    }
   },
   "source": [
    "corr.shape"
   ],
   "outputs": [
    {
     "data": {
      "text/plain": [
       "(1118, 1118)"
      ]
     },
     "execution_count": 499,
     "metadata": {},
     "output_type": "execute_result"
    }
   ],
   "execution_count": 499
  },
  {
   "cell_type": "code",
   "id": "541efcf0-1d28-458d-ad72-1cd91a9c3974",
   "metadata": {
    "ExecuteTime": {
     "end_time": "2024-08-28T06:09:38.580393Z",
     "start_time": "2024-08-28T06:09:38.539252Z"
    }
   },
   "source": [
    "from src.corr import noncorrelated_features\n",
    "\n",
    "ids = noncorrelated_features(corr, threshold=0.95)\n",
    "\n",
    "corr.columns[ids]"
   ],
   "outputs": [
    {
     "data": {
      "text/plain": [
       "Index(['rd_EState_VSA1', 'rd_EState_VSA10', 'rd_EState_VSA11',\n",
       "       'rd_EState_VSA2', 'rd_EState_VSA7', 'rd_FpDensityMorgan1',\n",
       "       'rd_FpDensityMorgan2', 'rd_FpDensityMorgan3', 'rd_HallKierAlpha',\n",
       "       'rd_Ipc',\n",
       "       ...\n",
       "       'Se1O1Cl2d', 'Se1C2F1s', 'SssssBH', 'Se1C2Cl1d', 'Se1C4N1s', 'Se1C4S1s',\n",
       "       'SeaN2NHaa', 'Se1C3P4sd', 'Se1C3Br1s', 'Se2N3O1a'],\n",
       "      dtype='object', length=658)"
      ]
     },
     "execution_count": 500,
     "metadata": {},
     "output_type": "execute_result"
    }
   ],
   "execution_count": 500
  },
  {
   "cell_type": "code",
   "id": "88c1fe40-caec-4912-8d15-15897648aca0",
   "metadata": {
    "ExecuteTime": {
     "end_time": "2024-08-28T06:09:40.445775Z",
     "start_time": "2024-08-28T06:09:40.428432Z"
    }
   },
   "source": [
    "corr.iloc[ids, -1].abs().sort_values(ascending=False)"
   ],
   "outputs": [
    {
     "data": {
      "text/plain": [
       "rd_fr_benzene    0.382289\n",
       "SeaC2C3aa        0.379202\n",
       "md_piPC7         0.366857\n",
       "md_NaasC         0.364692\n",
       "md_piPC2         0.359232\n",
       "                   ...   \n",
       "Se1C3S2ss        0.000518\n",
       "Se1C2S2ds        0.000482\n",
       "Se1O1P4d         0.000471\n",
       "md_ECIndex       0.000297\n",
       "rd_fr_hdrzine    0.000141\n",
       "Name: target, Length: 658, dtype: float64"
      ]
     },
     "execution_count": 501,
     "metadata": {},
     "output_type": "execute_result"
    }
   ],
   "execution_count": 501
  },
  {
   "cell_type": "code",
   "id": "91198329-ac71-438e-94e2-a426e9b3ea85",
   "metadata": {
    "ExecuteTime": {
     "end_time": "2024-08-28T06:09:44.018856Z",
     "start_time": "2024-08-28T06:09:44.007071Z"
    }
   },
   "source": [
    "uncorr_feats = corr.columns[ids].tolist()"
   ],
   "outputs": [],
   "execution_count": 503
  },
  {
   "metadata": {
    "ExecuteTime": {
     "end_time": "2024-08-28T06:09:47.482698Z",
     "start_time": "2024-08-28T06:09:47.468111Z"
    }
   },
   "cell_type": "code",
   "source": "uncorr_feats",
   "id": "abf0cb4f25824590",
   "outputs": [
    {
     "data": {
      "text/plain": [
       "['rd_EState_VSA1',\n",
       " 'rd_EState_VSA10',\n",
       " 'rd_EState_VSA11',\n",
       " 'rd_EState_VSA2',\n",
       " 'rd_EState_VSA7',\n",
       " 'rd_FpDensityMorgan1',\n",
       " 'rd_FpDensityMorgan2',\n",
       " 'rd_FpDensityMorgan3',\n",
       " 'rd_HallKierAlpha',\n",
       " 'rd_Ipc',\n",
       " 'rd_Kappa1',\n",
       " 'rd_Kappa2',\n",
       " 'rd_Kappa3',\n",
       " 'rd_MaxEStateIndex',\n",
       " 'rd_MinAbsEStateIndex',\n",
       " 'rd_MinEStateIndex',\n",
       " 'rd_MolLogP',\n",
       " 'rd_NOCount',\n",
       " 'rd_NumAliphaticCarbocycles',\n",
       " 'rd_NumAliphaticHeterocycles',\n",
       " 'rd_NumAliphaticRings',\n",
       " 'rd_NumAromaticHeterocycles',\n",
       " 'rd_NumHAcceptors',\n",
       " 'rd_NumHeteroatoms',\n",
       " 'rd_NumRadicalElectrons',\n",
       " 'rd_NumSaturatedCarbocycles',\n",
       " 'rd_NumSaturatedHeterocycles',\n",
       " 'rd_NumSaturatedRings',\n",
       " 'rd_PEOE_VSA1',\n",
       " 'rd_PEOE_VSA10',\n",
       " 'rd_PEOE_VSA14',\n",
       " 'rd_PEOE_VSA2',\n",
       " 'rd_PEOE_VSA3',\n",
       " 'rd_PEOE_VSA4',\n",
       " 'rd_PEOE_VSA5',\n",
       " 'rd_PEOE_VSA8',\n",
       " 'rd_PEOE_VSA9',\n",
       " 'rd_RingCount',\n",
       " 'rd_SMR_VSA10',\n",
       " 'rd_SlogP_VSA10',\n",
       " 'rd_SlogP_VSA12',\n",
       " 'rd_SlogP_VSA3',\n",
       " 'rd_SlogP_VSA4',\n",
       " 'rd_SlogP_VSA5',\n",
       " 'rd_SlogP_VSA7',\n",
       " 'rd_VSA_EState10',\n",
       " 'rd_VSA_EState2',\n",
       " 'rd_VSA_EState3',\n",
       " 'rd_VSA_EState4',\n",
       " 'rd_VSA_EState5',\n",
       " 'rd_VSA_EState7',\n",
       " 'rd_VSA_EState8',\n",
       " 'rd_VSA_EState9',\n",
       " 'rd_fr_Al_COO',\n",
       " 'rd_fr_Al_OH_noTert',\n",
       " 'rd_fr_ArN',\n",
       " 'rd_fr_Ar_COO',\n",
       " 'rd_fr_Ar_N',\n",
       " 'rd_fr_C_O',\n",
       " 'rd_fr_C_O_noCOO',\n",
       " 'rd_fr_C_S',\n",
       " 'rd_fr_HOCCN',\n",
       " 'rd_fr_Imine',\n",
       " 'rd_fr_NH0',\n",
       " 'rd_fr_NH1',\n",
       " 'rd_fr_N_O',\n",
       " 'rd_fr_Ndealkylation1',\n",
       " 'rd_fr_Ndealkylation2',\n",
       " 'rd_fr_aldehyde',\n",
       " 'rd_fr_alkyl_carbamate',\n",
       " 'rd_fr_alkyl_halide',\n",
       " 'rd_fr_allylic_oxid',\n",
       " 'rd_fr_amide',\n",
       " 'rd_fr_amidine',\n",
       " 'rd_fr_aniline',\n",
       " 'rd_fr_aryl_methyl',\n",
       " 'rd_fr_barbitur',\n",
       " 'rd_fr_benzene',\n",
       " 'rd_fr_benzodiazepine',\n",
       " 'rd_fr_bicyclic',\n",
       " 'rd_fr_ether',\n",
       " 'rd_fr_furan',\n",
       " 'rd_fr_guanido',\n",
       " 'rd_fr_hdrzine',\n",
       " 'rd_fr_hdrzone',\n",
       " 'rd_fr_imidazole',\n",
       " 'rd_fr_imide',\n",
       " 'rd_fr_ketone',\n",
       " 'rd_fr_ketone_Topliss',\n",
       " 'rd_fr_lactone',\n",
       " 'rd_fr_methoxy',\n",
       " 'rd_fr_morpholine',\n",
       " 'rd_fr_nitro',\n",
       " 'rd_fr_nitro_arom_nonortho',\n",
       " 'rd_fr_oxazole',\n",
       " 'rd_fr_oxime',\n",
       " 'rd_fr_para_hydroxylation',\n",
       " 'rd_fr_phos_ester',\n",
       " 'rd_fr_piperdine',\n",
       " 'rd_fr_piperzine',\n",
       " 'rd_fr_priamide',\n",
       " 'rd_fr_pyridine',\n",
       " 'rd_fr_sulfide',\n",
       " 'rd_fr_sulfonamd',\n",
       " 'rd_fr_sulfone',\n",
       " 'rd_fr_thiazole',\n",
       " 'rd_fr_thiophene',\n",
       " 'rd_fr_unbrch_alkane',\n",
       " 'rd_fr_urea',\n",
       " 'rd_qed',\n",
       " 'md_nAcid',\n",
       " 'md_nBase',\n",
       " 'md_nSpiro',\n",
       " 'md_nBridgehead',\n",
       " 'md_nB',\n",
       " 'md_nN',\n",
       " 'md_nS',\n",
       " 'md_nI',\n",
       " 'md_ATS1dv',\n",
       " 'md_ATS8dv',\n",
       " 'md_ATS1Z',\n",
       " 'md_ATS2Z',\n",
       " 'md_ATS7Z',\n",
       " 'md_ATS8Z',\n",
       " 'md_ATS0m',\n",
       " 'md_ATS3m',\n",
       " 'md_ATS4m',\n",
       " 'md_ATS6m',\n",
       " 'md_ATS0p',\n",
       " 'md_ATS8i',\n",
       " 'md_AATS0d',\n",
       " 'md_AATS0v',\n",
       " 'md_AATS0i',\n",
       " 'md_ATSC0dv',\n",
       " 'md_ATSC1dv',\n",
       " 'md_ATSC2dv',\n",
       " 'md_ATSC3dv',\n",
       " 'md_ATSC4dv',\n",
       " 'md_ATSC5dv',\n",
       " 'md_ATSC6dv',\n",
       " 'md_ATSC7dv',\n",
       " 'md_ATSC8dv',\n",
       " 'md_ATSC1d',\n",
       " 'md_ATSC2d',\n",
       " 'md_ATSC3d',\n",
       " 'md_ATSC4d',\n",
       " 'md_ATSC5d',\n",
       " 'md_ATSC6d',\n",
       " 'md_ATSC7d',\n",
       " 'md_ATSC8d',\n",
       " 'md_ATSC3Z',\n",
       " 'md_ATSC4Z',\n",
       " 'md_ATSC5Z',\n",
       " 'md_ATSC6Z',\n",
       " 'md_ATSC7Z',\n",
       " 'md_ATSC0m',\n",
       " 'md_ATSC1m',\n",
       " 'md_ATSC2m',\n",
       " 'md_ATSC8m',\n",
       " 'md_ATSC1v',\n",
       " 'md_ATSC2v',\n",
       " 'md_ATSC3v',\n",
       " 'md_ATSC4v',\n",
       " 'md_ATSC5v',\n",
       " 'md_ATSC6v',\n",
       " 'md_ATSC7v',\n",
       " 'md_ATSC8v',\n",
       " 'md_ATSC0pe',\n",
       " 'md_ATSC1pe',\n",
       " 'md_ATSC2pe',\n",
       " 'md_ATSC3pe',\n",
       " 'md_ATSC4pe',\n",
       " 'md_ATSC5pe',\n",
       " 'md_ATSC6pe',\n",
       " 'md_ATSC7pe',\n",
       " 'md_ATSC8pe',\n",
       " 'md_ATSC0p',\n",
       " 'md_ATSC1p',\n",
       " 'md_ATSC2p',\n",
       " 'md_ATSC3p',\n",
       " 'md_ATSC4p',\n",
       " 'md_ATSC5p',\n",
       " 'md_ATSC6p',\n",
       " 'md_ATSC7p',\n",
       " 'md_ATSC8p',\n",
       " 'md_ATSC0i',\n",
       " 'md_ATSC1i',\n",
       " 'md_ATSC2i',\n",
       " 'md_ATSC3i',\n",
       " 'md_ATSC4i',\n",
       " 'md_ATSC5i',\n",
       " 'md_ATSC6i',\n",
       " 'md_ATSC7i',\n",
       " 'md_ATSC8i',\n",
       " 'md_AATSC0dv',\n",
       " 'md_AATSC0d',\n",
       " 'md_AATSC0m',\n",
       " 'md_AATSC0v',\n",
       " 'md_AATSC0pe',\n",
       " 'md_AATSC0p',\n",
       " 'md_AATSC0i',\n",
       " 'md_BalabanJ',\n",
       " 'md_BertzCT',\n",
       " 'md_nBondsD',\n",
       " 'md_nBondsKD',\n",
       " 'md_C1SP1',\n",
       " 'md_C2SP1',\n",
       " 'md_C1SP2',\n",
       " 'md_C3SP2',\n",
       " 'md_C1SP3',\n",
       " 'md_C2SP3',\n",
       " 'md_C3SP3',\n",
       " 'md_C4SP3',\n",
       " 'md_FCSP3',\n",
       " 'md_Xch-5d',\n",
       " 'md_Xch-6d',\n",
       " 'md_Xch-7d',\n",
       " 'md_Xch-4dv',\n",
       " 'md_Xch-5dv',\n",
       " 'md_Xch-7dv',\n",
       " 'md_Xc-4d',\n",
       " 'md_Xc-5d',\n",
       " 'md_Xc-3dv',\n",
       " 'md_Xc-4dv',\n",
       " 'md_Xc-5dv',\n",
       " 'md_Xpc-4dv',\n",
       " 'md_Xpc-5dv',\n",
       " 'md_Xp-7d',\n",
       " 'md_Xp-1dv',\n",
       " 'md_Xp-2dv',\n",
       " 'md_Xp-6dv',\n",
       " 'md_Xp-7dv',\n",
       " 'md_Sm',\n",
       " 'md_Si',\n",
       " 'md_Mm',\n",
       " 'md_Mv',\n",
       " 'md_Mpe',\n",
       " 'md_Mp',\n",
       " 'md_NssCH2',\n",
       " 'md_NsssCH',\n",
       " 'md_NdssC',\n",
       " 'md_NaasC',\n",
       " 'md_NaaaC',\n",
       " 'md_NssssC',\n",
       " 'md_NsNH2',\n",
       " 'md_NdsN',\n",
       " 'md_NsssN',\n",
       " 'md_NaasN',\n",
       " 'md_NssssN',\n",
       " 'md_NdO',\n",
       " 'md_NaaO',\n",
       " 'md_NsssP',\n",
       " 'md_NdS',\n",
       " 'md_SsCH3',\n",
       " 'md_SssCH2',\n",
       " 'md_SdsCH',\n",
       " 'md_SaaCH',\n",
       " 'md_SsssCH',\n",
       " 'md_StsC',\n",
       " 'md_SdssC',\n",
       " 'md_SaasC',\n",
       " 'md_SaaaC',\n",
       " 'md_SssNH',\n",
       " 'md_SaaNH',\n",
       " 'md_SsssN',\n",
       " 'md_SaasN',\n",
       " 'md_SssssN',\n",
       " 'md_SsOH',\n",
       " 'md_SssO',\n",
       " 'md_SsssP',\n",
       " 'md_SsSH',\n",
       " 'md_SaaS',\n",
       " 'md_SsCl',\n",
       " 'md_SsBr',\n",
       " 'md_ECIndex',\n",
       " 'md_fragCpx',\n",
       " 'md_fMF',\n",
       " 'md_nHBDon',\n",
       " 'md_IC0',\n",
       " 'md_IC1',\n",
       " 'md_IC2',\n",
       " 'md_IC5',\n",
       " 'md_CIC0',\n",
       " 'md_CIC1',\n",
       " 'md_CIC2',\n",
       " 'md_CIC3',\n",
       " 'md_CIC5',\n",
       " 'md_MIC0',\n",
       " 'md_MIC1',\n",
       " 'md_MIC5',\n",
       " 'md_ZMIC1',\n",
       " 'md_ZMIC5',\n",
       " 'md_Lipinski',\n",
       " 'md_GhoseFilter',\n",
       " 'md_FilterItLogS',\n",
       " 'md_PEOE_VSA6',\n",
       " 'md_PEOE_VSA7',\n",
       " 'md_PEOE_VSA11',\n",
       " 'md_PEOE_VSA12',\n",
       " 'md_PEOE_VSA13',\n",
       " 'md_SMR_VSA1',\n",
       " 'md_SMR_VSA3',\n",
       " 'md_SMR_VSA4',\n",
       " 'md_SMR_VSA5',\n",
       " 'md_SMR_VSA6',\n",
       " 'md_SMR_VSA9',\n",
       " 'md_SlogP_VSA1',\n",
       " 'md_SlogP_VSA2',\n",
       " 'md_SlogP_VSA6',\n",
       " 'md_SlogP_VSA8',\n",
       " 'md_SlogP_VSA11',\n",
       " 'md_EState_VSA3',\n",
       " 'md_EState_VSA4',\n",
       " 'md_EState_VSA5',\n",
       " 'md_EState_VSA6',\n",
       " 'md_EState_VSA8',\n",
       " 'md_EState_VSA9',\n",
       " 'md_VSA_EState1',\n",
       " 'md_piPC2',\n",
       " 'md_piPC7',\n",
       " 'md_piPC8',\n",
       " 'md_piPC10',\n",
       " 'md_bpol',\n",
       " 'md_n5Ring',\n",
       " 'md_n6Ring',\n",
       " 'md_n7Ring',\n",
       " 'md_nG12Ring',\n",
       " 'md_nHRing',\n",
       " 'md_n5HRing',\n",
       " 'md_n6HRing',\n",
       " 'md_nG12HRing',\n",
       " 'md_n5aRing',\n",
       " 'md_n7aRing',\n",
       " 'md_n6aHRing',\n",
       " 'md_n4ARing',\n",
       " 'md_n5ARing',\n",
       " 'md_n6ARing',\n",
       " 'md_n8ARing',\n",
       " 'md_n12ARing',\n",
       " 'md_n3AHRing',\n",
       " 'md_n4AHRing',\n",
       " 'md_n5AHRing',\n",
       " 'md_n6AHRing',\n",
       " 'md_n7AHRing',\n",
       " 'md_nFRing',\n",
       " 'md_n10FRing',\n",
       " 'md_nG12FRing',\n",
       " 'md_nFHRing',\n",
       " 'md_n7FHRing',\n",
       " 'md_n8FHRing',\n",
       " 'md_n9FHRing',\n",
       " 'md_n10FHRing',\n",
       " 'md_nG12FHRing',\n",
       " 'md_n9FaRing',\n",
       " 'md_n10FaRing',\n",
       " 'md_nFaHRing',\n",
       " 'md_n10FaHRing',\n",
       " 'md_nG12FaHRing',\n",
       " 'md_nFARing',\n",
       " 'md_n7FARing',\n",
       " 'md_n9FARing',\n",
       " 'md_n10FARing',\n",
       " 'md_n11FARing',\n",
       " 'md_n12FARing',\n",
       " 'md_nG12FARing',\n",
       " 'md_nFAHRing',\n",
       " 'md_n6FAHRing',\n",
       " 'md_n9FAHRing',\n",
       " 'md_n10FAHRing',\n",
       " 'md_n11FAHRing',\n",
       " 'md_n12FAHRing',\n",
       " 'md_nG12FAHRing',\n",
       " 'md_TopoPSA',\n",
       " 'md_GGI1',\n",
       " 'md_GGI2',\n",
       " 'md_GGI3',\n",
       " 'md_GGI4',\n",
       " 'md_GGI5',\n",
       " 'md_GGI6',\n",
       " 'md_GGI7',\n",
       " 'md_GGI8',\n",
       " 'md_GGI10',\n",
       " 'md_JGI1',\n",
       " 'md_JGI2',\n",
       " 'md_JGI3',\n",
       " 'md_JGI4',\n",
       " 'md_JGI5',\n",
       " 'md_JGI6',\n",
       " 'md_JGI7',\n",
       " 'md_JGI8',\n",
       " 'md_JGI9',\n",
       " 'md_JGI10',\n",
       " 'md_JGT10',\n",
       " 'md_Diameter',\n",
       " 'md_MWC10',\n",
       " 'md_SRW02',\n",
       " 'md_SRW03',\n",
       " 'md_SRW09',\n",
       " 'md_TSRW10',\n",
       " 'md_WPath',\n",
       " 'md_Zagreb2',\n",
       " 'ALogPS_logP',\n",
       " 'ALogPS_logS',\n",
       " 'HALOG',\n",
       " 'MW',\n",
       " 'NA',\n",
       " 'NH',\n",
       " 'O',\n",
       " 'P',\n",
       " 'SdCH2',\n",
       " 'SdssC',\n",
       " 'Se1C1C4s',\n",
       " 'Se1C2C2ss',\n",
       " 'Se1C2C3sd',\n",
       " 'Se1C2C3ss',\n",
       " 'Se1C3C3ds',\n",
       " 'Se1C3C4ss',\n",
       " 'Se2C1C3s',\n",
       " 'SsCH3',\n",
       " 'ACCEPTORS',\n",
       " 'RBONDS',\n",
       " 'SdO',\n",
       " 'Se1C1C3s',\n",
       " 'Se1C1O2s',\n",
       " 'Se1C3Cl1a',\n",
       " 'Se1C3O2as',\n",
       " 'Se1C3O2ds',\n",
       " 'Se1C3O2ss',\n",
       " 'Se2C3O1s',\n",
       " 'SeaC2C2aa',\n",
       " 'SeaC2C3aa',\n",
       " 'SeaC3C3aa',\n",
       " 'DONORS',\n",
       " 'Se1C1C2s',\n",
       " 'Se1C2O1s',\n",
       " 'Se1C2O2ss',\n",
       " 'Se1C3O1s',\n",
       " 'Se1C1C3d',\n",
       " 'Se1C2C4ss',\n",
       " 'SdsCH',\n",
       " 'Se1C2C2ds',\n",
       " 'Se2C2C2ss',\n",
       " 'SdO(keto)',\n",
       " 'Se1C2C2dd',\n",
       " 'Se2C2O1s',\n",
       " 'SaaN',\n",
       " 'SaasN',\n",
       " 'Se1C1C3a',\n",
       " 'Se1C2N3sa',\n",
       " 'SeaC3N2aa',\n",
       " 'SeaC3N3aa',\n",
       " 'SeaN2N3aa',\n",
       " 'Se1C1C2d',\n",
       " 'Se1C2C3ds',\n",
       " 'Se1C3C3ss',\n",
       " 'Se2C2C3ss',\n",
       " 'Se1C2S2ss',\n",
       " 'Se1C3N2as',\n",
       " 'Se1C3S2as',\n",
       " 'SsOH(acid)',\n",
       " 'SssNH',\n",
       " 'SssNH(ar)',\n",
       " 'SssS',\n",
       " 'Se1C3C3as',\n",
       " 'Se1C3Cl1s',\n",
       " 'SdO(amid)',\n",
       " 'Se1C2N3ss',\n",
       " 'Se1C3C4ds',\n",
       " 'Se1C3N2ds',\n",
       " 'Se1C3N3ds',\n",
       " 'Se1C4N3ss',\n",
       " 'SssNH(oth)',\n",
       " 'SsssN(oth)',\n",
       " 'SaaaC',\n",
       " 'Se1C2C3sa',\n",
       " 'Se1C3C3ad',\n",
       " 'Se1C3N3da',\n",
       " 'Se1C2N2ss',\n",
       " 'Se1C2Si4ss',\n",
       " 'Se1C3N1d',\n",
       " 'SsNH2',\n",
       " 'SssssSi',\n",
       " 'Se1C2N1s',\n",
       " 'SsNH2(al)',\n",
       " 'Se1N3Br1s',\n",
       " 'Se1N3Cl1s',\n",
       " 'Se1C3C4as',\n",
       " 'SsF',\n",
       " 'SdO(nitro)',\n",
       " 'SddsN(nitro)',\n",
       " 'Se1C3N==ad',\n",
       " 'Se1C2S1s',\n",
       " 'SsSH',\n",
       " 'Se1C1N3s',\n",
       " 'Se1C2N3ds',\n",
       " 'Se1C3C3dd',\n",
       " 'SsOH(phen)',\n",
       " 'Se2C1C2s',\n",
       " 'Se1C2C3dd',\n",
       " 'Se1C3N3as',\n",
       " 'Se1C1Si4s',\n",
       " 'SsssSiH',\n",
       " 'SsssN(al)',\n",
       " 'SeaC2N2aa',\n",
       " 'Se1C2C3da',\n",
       " 'Se1C2Br1s',\n",
       " 'Se1C3Cl1d',\n",
       " 'SdsN',\n",
       " 'Se1C3N2ad',\n",
       " 'Se2C3N2ss',\n",
       " 'Se1C2Si4ds',\n",
       " 'SsNH2(ar)',\n",
       " 'Se1C4O2ss',\n",
       " 'Se1C2C4ts',\n",
       " 'Se1C4O1s',\n",
       " 'StCH',\n",
       " 'SssNH(al)',\n",
       " 'Se1N2O1d',\n",
       " 'Se1C2C2st',\n",
       " 'Se3C2C2ss',\n",
       " 'Se1C3C3aa',\n",
       " 'Se1C2Cl1s',\n",
       " 'SdsssP',\n",
       " 'Se1O2P4sd',\n",
       " 'Se2O1P4s',\n",
       " 'SaaS',\n",
       " 'Se1C3S1a',\n",
       " 'SeaC3S2aa',\n",
       " 'Se1C2C3ts',\n",
       " 'StN',\n",
       " 'Se1C4Br1s',\n",
       " 'Se1C3N2ss',\n",
       " 'Se1C3Br1a',\n",
       " 'Se1O2O2ss',\n",
       " 'Se1C2C3ta',\n",
       " 'Se1C2O2ds',\n",
       " 'Se1C3N2sd',\n",
       " 'Se1C3N3ss',\n",
       " 'StdN',\n",
       " 'Se2C3C3ss',\n",
       " 'SeaC2N3aa',\n",
       " 'Se1N1N3a',\n",
       " 'SeaN2N2aa',\n",
       " 'SdO(sulfo)',\n",
       " 'Se1N3S4ad',\n",
       " 'Se1N3S4sd',\n",
       " 'Se1C4Cl1s',\n",
       " 'Se2N2O1s',\n",
       " 'Se1C3S4ad',\n",
       " 'Se1N1S4d',\n",
       " 'Se1N3S2ss',\n",
       " 'Se1S2S2ss',\n",
       " 'SsssN(ar)',\n",
       " 'Se1C3S2ds',\n",
       " 'Se1C4N2ss',\n",
       " 'Se1C2N2ds',\n",
       " 'Se1C3F1d',\n",
       " 'SdS',\n",
       " 'Se2C3S1s',\n",
       " 'Se1O1S4d',\n",
       " 'Se1O2S4sd',\n",
       " 'Se1N2S4sd',\n",
       " 'Se1C1S2s',\n",
       " 'SeaN2S2aa',\n",
       " 'Se2N2N2ss',\n",
       " 'Se1C2C4ds',\n",
       " 'Se1C4S2ss',\n",
       " 'Se2C2N2ss',\n",
       " 'Se1C1N2s',\n",
       " 'Se1C1S4d',\n",
       " 'Se1C4S4sd',\n",
       " 'Se1N2O2ds',\n",
       " 'SdssS',\n",
       " 'Se1C1S3d',\n",
       " 'Se1C4S3sd',\n",
       " 'Se2O1S3s',\n",
       " 'SaaO',\n",
       " 'SeaC3O2aa',\n",
       " 'SsI',\n",
       " 'Se1C2S1t',\n",
       " 'Se1C3F1a',\n",
       " 'SeaN2O2aa',\n",
       " 'Se1P4S2ds',\n",
       " 'SaaNH',\n",
       " 'Se1C1N3a',\n",
       " 'SeaC2NHaa',\n",
       " 'SeaC3NHaa',\n",
       " 'Se2C3N3pss',\n",
       " 'Se2P4S1s',\n",
       " 'Se1C1N4ps',\n",
       " 'Se1C2N4pss',\n",
       " 'Se1C2S3sd',\n",
       " 'Se1C1P4d',\n",
       " 'SsssB',\n",
       " 'Se1C3Br1d',\n",
       " 'Se1N2N3ds',\n",
       " 'Se1C2S4sd',\n",
       " 'Se1C3N2dd',\n",
       " 'Se1C3N3aa',\n",
       " 'Se1N2Cl1s',\n",
       " 'Se1N3O1s',\n",
       " 'Se1C3N3sa',\n",
       " 'Se1C3N1s',\n",
       " 'SeaC2S2aa',\n",
       " 'SeaC2O2aa',\n",
       " 'Se1N2O1s',\n",
       " 'Se1N2P4sd',\n",
       " 'Se1N3P4sd',\n",
       " 'Se1O1P4d',\n",
       " 'Se1C3S2ss',\n",
       " 'Se1C3S4sd',\n",
       " 'Se2O1P3s',\n",
       " 'SeaN3N3paa',\n",
       " 'Se1C3F1s',\n",
       " 'Se1O2P3ss',\n",
       " 'Se2O1As4s',\n",
       " 'SssssSn',\n",
       " 'Se1N2N==dd',\n",
       " 'Se1O2S3sd',\n",
       " 'Se1C3P4ad',\n",
       " 'Se1C4N2sd',\n",
       " 'Se1N2N3ss',\n",
       " 'Se1C3Si4as',\n",
       " 'Se2C1O1',\n",
       " 'Se1C2N1d',\n",
       " 'StIn',\n",
       " 'Se1N1N2s',\n",
       " 'Se1N3O2ss',\n",
       " 'Se1N2N2ss',\n",
       " 'Se1C3S1d',\n",
       " 'Se1C2C3td',\n",
       " 'Se1N1P4d',\n",
       " 'Se2C3S2ss',\n",
       " 'Se1N2N2dd',\n",
       " 'SssNH2(al)',\n",
       " 'Se2N4O1s',\n",
       " 'Se1C2S2ds',\n",
       " 'SaaaN',\n",
       " 'Se1N==O2ds',\n",
       " 'Se1C2S4dd',\n",
       " 'Se1C3P3as',\n",
       " 'Se1P3Cl1s',\n",
       " 'SssHg',\n",
       " 'Se2O1Si3s',\n",
       " 'Se1O1Cl3d',\n",
       " 'Se1N2N2ds',\n",
       " 'Se1C2N2sd',\n",
       " 'Se2N1N2pd',\n",
       " 'Se1O1Cl2d',\n",
       " 'Se1C2F1s',\n",
       " 'SssssBH',\n",
       " 'Se1C2Cl1d',\n",
       " 'Se1C4N1s',\n",
       " 'Se1C4S1s',\n",
       " 'SeaN2NHaa',\n",
       " 'Se1C3P4sd',\n",
       " 'Se1C3Br1s',\n",
       " 'Se2N3O1a']"
      ]
     },
     "execution_count": 504,
     "metadata": {},
     "output_type": "execute_result"
    }
   ],
   "execution_count": 504
  },
  {
   "cell_type": "code",
   "execution_count": 102,
   "id": "2c96d67c-0f2d-46a4-a9b1-1ee4ffc1a75c",
   "metadata": {},
   "outputs": [
    {
     "name": "stdout",
     "output_type": "stream",
     "text": [
      "  PLS: -30.342     -29.136 ± 1.206      0.3s\n",
      "   DT: -36.706     -34.883 ± 1.823      2.5s\n",
      "Lasso: -28.393     -27.522 ± 0.871      1.1s\n",
      "  KNN: -29.130     -27.582 ± 1.548      0.2s\n",
      "  SVR: -36.193     -35.180 ± 1.013      5.9s\n",
      "   RF: -25.701     -24.275 ± 1.426      6.7s\n",
      "  XGB: -27.325     -25.326 ± 1.999      7.9s\n",
      " CATB: -24.968     -23.640 ± 1.327      102.0s\n",
      "RF 100: -25.701     -24.275 ± 1.426      7.2s\n",
      "RF 200: -25.721     -24.140 ± 1.581      11.0s\n",
      "RF 400: -25.691     -24.120 ± 1.571      20.3s\n",
      "RF 800: -25.683     -24.110 ± 1.572      40.8s\n"
     ]
    },
    {
     "data": {
      "image/png": "[encoded data removed]",
      "text/plain": [
       "<Figure size 640x480 with 1 Axes>"
      ]
     },
     "metadata": {},
     "output_type": "display_data"
    }
   ],
   "source": [
    "X_train = train[fps_cols + uncorr_feats]\n",
    "X_train_scale = scaler.fit_transform(X_train.values)\n",
    "results = evaluate(X_train_scale)"
   ]
  },
  {
   "cell_type": "code",
   "execution_count": 55,
   "id": "5fb08dd4-595b-4b8a-91a7-2bff90339b9a",
   "metadata": {
    "scrolled": true
   },
   "outputs": [],
   "source": [
    "fi_train = train[fps_cols + uncorr_feats]\n",
    "fi_train_scale = scaler.fit_transform(fi_train.values)\n",
    "clf = CatBoostRegressor(random_seed=RANDOM_SEED, verbose=False).fit(fi_train_scale, y_train)"
   ]
  },
  {
   "cell_type": "code",
   "execution_count": 46,
   "id": "2058698f-1517-4a96-af47-9c1e8b657271",
   "metadata": {
    "scrolled": true
   },
   "outputs": [],
   "source": [
    "def top_k_feats(model, X, k):\n",
    "    fi = pd.Series(model.get_feature_importance(), index=X.columns, name='importance')\n",
    "    return fi[FPS_OFFSET:].sort_values(ascending=False)[:k].index.tolist()"
   ]
  },
  {
   "cell_type": "code",
   "execution_count": 56,
   "id": "7f9d94e0-fca7-4025-9c05-d8d53f80c29f",
   "metadata": {
    "scrolled": true
   },
   "outputs": [
    {
     "data": {
      "text/plain": [
       "['rd_MolLogP',\n",
       " 'md_FilterItLogS',\n",
       " 'md_SMR_VSA9',\n",
       " 'ALogPS_logP',\n",
       " 'ALogPS_logS',\n",
       " 'md_SlogP_VSA11',\n",
       " 'md_AATS0v',\n",
       " 'md_ATSC1i',\n",
       " 'md_BertzCT',\n",
       " 'SsOH(phen)',\n",
       " 'md_ATSC1pe',\n",
       " 'md_NaasC',\n",
       " 'md_piPC2',\n",
       " 'md_ATS8dv',\n",
       " 'md_Mv',\n",
       " 'md_ATSC1p',\n",
       " 'rd_NOCount',\n",
       " 'MW',\n",
       " 'md_JGI6',\n",
       " 'md_SsOH',\n",
       " 'md_ATSC3Z',\n",
       " 'md_AATS0i',\n",
       " 'md_ATSC1m',\n",
       " 'md_nBondsKD',\n",
       " 'md_ATSC1v',\n",
       " 'md_PEOE_VSA6',\n",
       " 'md_SMR_VSA3',\n",
       " 'md_CIC5',\n",
       " 'md_NsssCH',\n",
       " 'rd_VSA_EState5',\n",
       " 'rd_VSA_EState8',\n",
       " 'md_JGI7',\n",
       " 'md_ATS8i',\n",
       " 'rd_NumHAcceptors',\n",
       " 'rd_VSA_EState9',\n",
       " 'md_ATSC8m',\n",
       " 'rd_VSA_EState3',\n",
       " 'md_nHBDon',\n",
       " 'Se1C2C3sd',\n",
       " 'md_nAcid',\n",
       " 'md_MIC5',\n",
       " 'md_ATSC3i',\n",
       " 'SdO(amid)',\n",
       " 'rd_NumAliphaticHeterocycles',\n",
       " 'md_JGI8',\n",
       " 'md_IC5',\n",
       " 'SeaC3C3aa',\n",
       " 'md_ATSC5pe',\n",
       " 'md_nS',\n",
       " 'md_SMR_VSA4',\n",
       " 'rd_MaxEStateIndex',\n",
       " 'md_ATSC8dv',\n",
       " 'md_GGI6',\n",
       " 'md_fragCpx',\n",
       " 'md_ATSC7v',\n",
       " 'md_ATSC3pe',\n",
       " 'md_CIC0',\n",
       " 'md_Mpe',\n",
       " 'md_ATSC5dv',\n",
       " 'md_nBase',\n",
       " 'md_ATSC2i',\n",
       " 'Se1C2C3ss',\n",
       " 'Se2C3O1s',\n",
       " 'md_Mp',\n",
       " 'rd_MinAbsEStateIndex',\n",
       " 'rd_FpDensityMorgan3',\n",
       " 'md_EState_VSA5',\n",
       " 'md_ATSC2m',\n",
       " 'md_ATSC8i',\n",
       " 'md_C2SP3',\n",
       " 'md_JGI3',\n",
       " 'md_IC1',\n",
       " 'md_VSA_EState1',\n",
       " 'md_Sm',\n",
       " 'DONORS',\n",
       " 'md_piPC8',\n",
       " 'md_ATSC2pe',\n",
       " 'md_ATSC7d',\n",
       " 'md_ATSC6pe',\n",
       " 'md_ATSC3p',\n",
       " 'md_TopoPSA',\n",
       " 'md_EState_VSA6',\n",
       " 'md_GGI8',\n",
       " 'rd_NumSaturatedHeterocycles',\n",
       " 'md_TSRW10',\n",
       " 'md_SsCH3',\n",
       " 'rd_PEOE_VSA8',\n",
       " 'md_JGI1',\n",
       " 'md_ATS3m',\n",
       " 'rd_Kappa2',\n",
       " 'md_ATSC0m',\n",
       " 'md_ATSC6Z',\n",
       " 'md_GGI7',\n",
       " 'rd_PEOE_VSA3',\n",
       " 'rd_SlogP_VSA5',\n",
       " 'md_ATSC7dv',\n",
       " 'md_AATSC0p',\n",
       " 'md_ZMIC5',\n",
       " 'md_ATSC6p',\n",
       " 'Se1C2C2ss']"
      ]
     },
     "execution_count": 56,
     "metadata": {},
     "output_type": "execute_result"
    }
   ],
   "source": [
    "top_100_feats = top_k_feats(clf, fi_train, 100)\n",
    "top_100_feats"
   ]
  },
  {
   "cell_type": "code",
   "execution_count": 48,
   "id": "ea356192-d9d6-4786-97d0-31dde627c6cc",
   "metadata": {},
   "outputs": [
    {
     "name": "stdout",
     "output_type": "stream",
     "text": [
      "  PLS: -30.628     -29.237 ± 1.391      0.3s\n",
      "   DT: -35.555     -33.026 ± 2.529      1.6s\n",
      "Lasso: -29.192     -28.140 ± 1.052      1.0s\n",
      "  KNN: -28.096     -26.584 ± 1.512      0.3s\n",
      "  SVR: -35.125     -34.381 ± 0.743      4.9s\n",
      "   RF: -25.504     -23.908 ± 1.595      4.5s\n",
      "  XGB: -25.945     -24.440 ± 1.505      5.5s\n",
      " CATB: -24.848     -23.489 ± 1.359      98.8s\n"
     ]
    }
   ],
   "source": [
    "X_train = train[fps_cols + top_100_feats]\n",
    "\n",
    "X_train_scale = scaler.fit_transform(X_train.values)\n",
    "\n",
    "results = evaluate(X_train_scale)"
   ]
  },
  {
   "cell_type": "code",
   "execution_count": 57,
   "id": "90bc7ab4-d382-4451-98e9-79244ee0d1a6",
   "metadata": {},
   "outputs": [
    {
     "name": "stdout",
     "output_type": "stream",
     "text": [
      "  PLS: -30.922     -29.249 ± 1.673      0.2s\n",
      "   DT: -33.612     -32.761 ± 0.851      1.4s\n",
      "Lasso: -29.341     -28.264 ± 1.077      1.1s\n",
      "  KNN: -29.000     -27.593 ± 1.407      0.2s\n",
      "  SVR: -35.017     -34.298 ± 0.718      4.6s\n",
      "   RF: -25.285     -23.430 ± 1.855      4.1s\n",
      "  XGB: -26.681     -24.882 ± 1.799      3.9s\n",
      " CATB: -24.281     -22.882 ± 1.399      87.5s\n"
     ]
    }
   ],
   "source": [
    "top_50_feats = top_k_feats(clf, fi_train, 50)\n",
    "\n",
    "X_train = train[fps_cols + top_50_feats]\n",
    "X_train_scale = scaler.fit_transform(X_train.values)\n",
    "\n",
    "results = evaluate(X_train_scale)"
   ]
  },
  {
   "cell_type": "code",
   "execution_count": 60,
   "id": "e321746d-2e00-4b37-85ec-ca9cf3330e7f",
   "metadata": {},
   "outputs": [
    {
     "name": "stdout",
     "output_type": "stream",
     "text": [
      "  PLS: -31.205     -29.470 ± 1.735      0.3s\n",
      "   DT: -37.249     -34.715 ± 2.534      1.3s\n",
      "Lasso: -30.745     -29.218 ± 1.526      0.9s\n",
      "  KNN: -29.240     -27.794 ± 1.446      0.2s\n",
      "  SVR: -35.425     -34.710 ± 0.715      4.6s\n",
      "   RF: -25.522     -23.504 ± 2.018      3.8s\n",
      "  XGB: -25.884     -23.837 ± 2.047      3.4s\n",
      " CATB: -24.724     -23.161 ± 1.563      79.9s\n"
     ]
    }
   ],
   "source": [
    "top_20_feats = top_k_feats(clf, fi_train, 20)\n",
    "\n",
    "X_train = train[fps_cols + top_20_feats]\n",
    "X_train_scale = scaler.fit_transform(X_train.values)\n",
    "\n",
    "results = evaluate(X_train_scale)"
   ]
  },
  {
   "cell_type": "code",
   "execution_count": 66,
   "id": "dc5a46e1-9544-4ba1-ad47-30e88445c86d",
   "metadata": {},
   "outputs": [
    {
     "data": {
      "text/plain": [
       "['rd_MolLogP',\n",
       " 'md_FilterItLogS',\n",
       " 'md_SMR_VSA9',\n",
       " 'ALogPS_logP',\n",
       " 'ALogPS_logS',\n",
       " 'md_SlogP_VSA11',\n",
       " 'md_AATS0v',\n",
       " 'md_ATSC1i',\n",
       " 'md_BertzCT',\n",
       " 'SsOH(phen)',\n",
       " 'md_ATSC1pe',\n",
       " 'md_NaasC',\n",
       " 'md_piPC2',\n",
       " 'md_ATS8dv',\n",
       " 'md_Mv',\n",
       " 'md_ATSC1p',\n",
       " 'rd_NOCount',\n",
       " 'MW',\n",
       " 'md_JGI6',\n",
       " 'md_SsOH',\n",
       " 'md_ATSC3Z',\n",
       " 'md_AATS0i',\n",
       " 'md_ATSC1m',\n",
       " 'md_nBondsKD',\n",
       " 'md_ATSC1v',\n",
       " 'md_PEOE_VSA6',\n",
       " 'md_SMR_VSA3',\n",
       " 'md_CIC5',\n",
       " 'md_NsssCH',\n",
       " 'rd_VSA_EState5',\n",
       " 'rd_VSA_EState8',\n",
       " 'md_JGI7',\n",
       " 'md_ATS8i',\n",
       " 'rd_NumHAcceptors',\n",
       " 'rd_VSA_EState9',\n",
       " 'md_ATSC8m',\n",
       " 'rd_VSA_EState3',\n",
       " 'md_nHBDon',\n",
       " 'Se1C2C3sd',\n",
       " 'md_nAcid',\n",
       " 'md_MIC5',\n",
       " 'md_ATSC3i',\n",
       " 'SdO(amid)',\n",
       " 'rd_NumAliphaticHeterocycles',\n",
       " 'md_JGI8',\n",
       " 'md_IC5',\n",
       " 'SeaC3C3aa',\n",
       " 'md_ATSC5pe',\n",
       " 'md_nS',\n",
       " 'md_SMR_VSA4']"
      ]
     },
     "execution_count": 66,
     "metadata": {},
     "output_type": "execute_result"
    }
   ],
   "source": [
    "top_50_feats"
   ]
  },
  {
   "cell_type": "code",
   "execution_count": 61,
   "id": "0824d347-f630-485e-b561-617710141e8a",
   "metadata": {},
   "outputs": [],
   "source": [
    "X_train = train[fps_cols + top_50_feats]\n",
    "X_train_scale = scaler.fit_transform(X_train.values)\n",
    "\n",
    "models['CATB'].fit(X_train_scale, y_train)\n",
    "\n",
    "X_test = test[fps_cols + top_50_feats]\n",
    "X_test_scale = scaler.transform(X_test.values)\n",
    "y_pred = models['CATB'].predict(X_test_scale)"
   ]
  },
  {
   "cell_type": "code",
   "execution_count": 65,
   "id": "f9c07488-13a7-43ef-8693-a3cd497356c3",
   "metadata": {},
   "outputs": [],
   "source": [
    "pd.Series(y_pred, name='Results').to_csv('fps_top_50_feats_catboost.csv', index=False)"
   ]
  }
 ],
 "metadata": {
  "kernelspec": {
   "display_name": "chem",
   "language": "python",
   "name": "chem"
  },
  "language_info": {
   "codemirror_mode": {
    "name": "ipython",
    "version": 3
   },
   "file_extension": ".py",
   "mimetype": "text/x-python",
   "name": "python",
   "nbconvert_exporter": "python",
   "pygments_lexer": "ipython3",
   "version": "3.10.0"
  }
 },
 "nbformat": 4,
 "nbformat_minor": 5
}
