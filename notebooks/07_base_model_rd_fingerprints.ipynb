{
 "cells": [
  {
   "cell_type": "code",
   "id": "initial_id",
   "metadata": {
    "collapsed": true,
    "ExecuteTime": {
     "end_time": "2024-08-27T10:45:49.537646Z",
     "start_time": "2024-08-27T10:45:49.523883Z"
    }
   },
   "source": [
    "%load_ext autoreload\n",
    "%autoreload 2\n",
    "\n",
    "import sys\n",
    "sys.path.append('../')"
   ],
   "outputs": [
    {
     "name": "stdout",
     "output_type": "stream",
     "text": [
      "The autoreload extension is already loaded. To reload it, use:\n",
      "  %reload_ext autoreload\n"
     ]
    }
   ],
   "execution_count": 411
  },
  {
   "metadata": {},
   "cell_type": "markdown",
   "source": [
    "#You need manually fix data in tox24_alogps_oestate.csv, row 1509\n",
    "\n",
    "#this is causing errors in standardization\n",
    "\n",
    "#'C1=CC=[N+](C(=C1)[S-])[O-].C1=CC=[N+](C(=C1)[S-])[O-].[ZnH2+2]' -> \n",
    "#'C1=CC=N(=O)C([S-])=C1.C1=CC=N(=O)C([S-])=C1.[Zn+2]'"
   ],
   "id": "bc6f454d5cfd4ecd"
  },
  {
   "metadata": {
    "ExecuteTime": {
     "end_time": "2024-08-27T10:45:49.699496Z",
     "start_time": "2024-08-27T10:45:49.633104Z"
    }
   },
   "cell_type": "code",
   "source": [
    "import pandas as pd\n",
    "import numpy as np\n",
    "\n",
    "from src.config import mem\n",
    "N_JOBS = 12\n",
    "RANDOM_SEED = 42\n",
    "\n",
    "df = pd.read_csv('../data/raw/tox24_alogps_oestate.csv')\n",
    "\n",
    "df.drop(['N'], axis=1, inplace=True)\n",
    "df.drop_duplicates(inplace=True)\n",
    "\n",
    "print(df.shape)\n",
    "df.head()"
   ],
   "id": "bdc67dd80b6c5627",
   "outputs": [
    {
     "name": "stdout",
     "output_type": "stream",
     "text": [
      "(1511, 367)\n"
     ]
    },
    {
     "data": {
      "text/plain": [
       "                                        SMILES  ALogPS_logP  ALogPS_logS  \\\n",
       "0                   CC1=CC[C@H]2C[C@@H]1C2(C)C         3.66        -2.94   \n",
       "1                 CC1(C)[C@@H]2C[C@H]1C(=C)CC2         3.94        -3.33   \n",
       "2  COC(=O)C(C)OC1=CC=C(OC2=CC=C(Cl)C=C2Cl)C=C1         5.13        -5.40   \n",
       "3                CC(OC1=C(C)C=C(Cl)C=C1)C(O)=O         2.87        -2.47   \n",
       "4                   CCCCCCCCCCCCCC(=O)OCC(O)CO         4.77        -4.09   \n",
       "\n",
       "   HALOG     MW  N.1  NA  NH  O  P  ...  Se1C2N2dd  Se1C2N==sd  SdddN  \\\n",
       "0      0  136.3    0  10  16  0  0  ...        0.0         0.0    0.0   \n",
       "1      0  136.3    0  10  16  0  0  ...        0.0         0.0    0.0   \n",
       "2      2  341.2    0  22  14  4  0  ...        0.0         0.0    0.0   \n",
       "3      1  214.7    0  14  11  3  0  ...        0.0         0.0    0.0   \n",
       "4      0  302.5    0  21  34  4  0  ...        0.0         0.0    0.0   \n",
       "\n",
       "   SdddN(nitro)  Se2N3O1d  SddSi  Se2O1Si2d  Se1B3C3sa  Se1N3pO1a  SeaC2N3paa  \n",
       "0           0.0       0.0    0.0        0.0        0.0        0.0         0.0  \n",
       "1           0.0       0.0    0.0        0.0        0.0        0.0         0.0  \n",
       "2           0.0       0.0    0.0        0.0        0.0        0.0         0.0  \n",
       "3           0.0       0.0    0.0        0.0        0.0        0.0         0.0  \n",
       "4           0.0       0.0    0.0        0.0        0.0        0.0         0.0  \n",
       "\n",
       "[5 rows x 367 columns]"
      ],
      "text/html": [
       "<div>\n",
       "<style scoped>\n",
       "    .dataframe tbody tr th:only-of-type {\n",
       "        vertical-align: middle;\n",
       "    }\n",
       "\n",
       "    .dataframe tbody tr th {\n",
       "        vertical-align: top;\n",
       "    }\n",
       "\n",
       "    .dataframe thead th {\n",
       "        text-align: right;\n",
       "    }\n",
       "</style>\n",
       "<table border=\"1\" class=\"dataframe\">\n",
       "  <thead>\n",
       "    <tr style=\"text-align: right;\">\n",
       "      <th></th>\n",
       "      <th>SMILES</th>\n",
       "      <th>ALogPS_logP</th>\n",
       "      <th>ALogPS_logS</th>\n",
       "      <th>HALOG</th>\n",
       "      <th>MW</th>\n",
       "      <th>N.1</th>\n",
       "      <th>NA</th>\n",
       "      <th>NH</th>\n",
       "      <th>O</th>\n",
       "      <th>P</th>\n",
       "      <th>...</th>\n",
       "      <th>Se1C2N2dd</th>\n",
       "      <th>Se1C2N==sd</th>\n",
       "      <th>SdddN</th>\n",
       "      <th>SdddN(nitro)</th>\n",
       "      <th>Se2N3O1d</th>\n",
       "      <th>SddSi</th>\n",
       "      <th>Se2O1Si2d</th>\n",
       "      <th>Se1B3C3sa</th>\n",
       "      <th>Se1N3pO1a</th>\n",
       "      <th>SeaC2N3paa</th>\n",
       "    </tr>\n",
       "  </thead>\n",
       "  <tbody>\n",
       "    <tr>\n",
       "      <th>0</th>\n",
       "      <td>CC1=CC[C@H]2C[C@@H]1C2(C)C</td>\n",
       "      <td>3.66</td>\n",
       "      <td>-2.94</td>\n",
       "      <td>0</td>\n",
       "      <td>136.3</td>\n",
       "      <td>0</td>\n",
       "      <td>10</td>\n",
       "      <td>16</td>\n",
       "      <td>0</td>\n",
       "      <td>0</td>\n",
       "      <td>...</td>\n",
       "      <td>0.0</td>\n",
       "      <td>0.0</td>\n",
       "      <td>0.0</td>\n",
       "      <td>0.0</td>\n",
       "      <td>0.0</td>\n",
       "      <td>0.0</td>\n",
       "      <td>0.0</td>\n",
       "      <td>0.0</td>\n",
       "      <td>0.0</td>\n",
       "      <td>0.0</td>\n",
       "    </tr>\n",
       "    <tr>\n",
       "      <th>1</th>\n",
       "      <td>CC1(C)[C@@H]2C[C@H]1C(=C)CC2</td>\n",
       "      <td>3.94</td>\n",
       "      <td>-3.33</td>\n",
       "      <td>0</td>\n",
       "      <td>136.3</td>\n",
       "      <td>0</td>\n",
       "      <td>10</td>\n",
       "      <td>16</td>\n",
       "      <td>0</td>\n",
       "      <td>0</td>\n",
       "      <td>...</td>\n",
       "      <td>0.0</td>\n",
       "      <td>0.0</td>\n",
       "      <td>0.0</td>\n",
       "      <td>0.0</td>\n",
       "      <td>0.0</td>\n",
       "      <td>0.0</td>\n",
       "      <td>0.0</td>\n",
       "      <td>0.0</td>\n",
       "      <td>0.0</td>\n",
       "      <td>0.0</td>\n",
       "    </tr>\n",
       "    <tr>\n",
       "      <th>2</th>\n",
       "      <td>COC(=O)C(C)OC1=CC=C(OC2=CC=C(Cl)C=C2Cl)C=C1</td>\n",
       "      <td>5.13</td>\n",
       "      <td>-5.40</td>\n",
       "      <td>2</td>\n",
       "      <td>341.2</td>\n",
       "      <td>0</td>\n",
       "      <td>22</td>\n",
       "      <td>14</td>\n",
       "      <td>4</td>\n",
       "      <td>0</td>\n",
       "      <td>...</td>\n",
       "      <td>0.0</td>\n",
       "      <td>0.0</td>\n",
       "      <td>0.0</td>\n",
       "      <td>0.0</td>\n",
       "      <td>0.0</td>\n",
       "      <td>0.0</td>\n",
       "      <td>0.0</td>\n",
       "      <td>0.0</td>\n",
       "      <td>0.0</td>\n",
       "      <td>0.0</td>\n",
       "    </tr>\n",
       "    <tr>\n",
       "      <th>3</th>\n",
       "      <td>CC(OC1=C(C)C=C(Cl)C=C1)C(O)=O</td>\n",
       "      <td>2.87</td>\n",
       "      <td>-2.47</td>\n",
       "      <td>1</td>\n",
       "      <td>214.7</td>\n",
       "      <td>0</td>\n",
       "      <td>14</td>\n",
       "      <td>11</td>\n",
       "      <td>3</td>\n",
       "      <td>0</td>\n",
       "      <td>...</td>\n",
       "      <td>0.0</td>\n",
       "      <td>0.0</td>\n",
       "      <td>0.0</td>\n",
       "      <td>0.0</td>\n",
       "      <td>0.0</td>\n",
       "      <td>0.0</td>\n",
       "      <td>0.0</td>\n",
       "      <td>0.0</td>\n",
       "      <td>0.0</td>\n",
       "      <td>0.0</td>\n",
       "    </tr>\n",
       "    <tr>\n",
       "      <th>4</th>\n",
       "      <td>CCCCCCCCCCCCCC(=O)OCC(O)CO</td>\n",
       "      <td>4.77</td>\n",
       "      <td>-4.09</td>\n",
       "      <td>0</td>\n",
       "      <td>302.5</td>\n",
       "      <td>0</td>\n",
       "      <td>21</td>\n",
       "      <td>34</td>\n",
       "      <td>4</td>\n",
       "      <td>0</td>\n",
       "      <td>...</td>\n",
       "      <td>0.0</td>\n",
       "      <td>0.0</td>\n",
       "      <td>0.0</td>\n",
       "      <td>0.0</td>\n",
       "      <td>0.0</td>\n",
       "      <td>0.0</td>\n",
       "      <td>0.0</td>\n",
       "      <td>0.0</td>\n",
       "      <td>0.0</td>\n",
       "      <td>0.0</td>\n",
       "    </tr>\n",
       "  </tbody>\n",
       "</table>\n",
       "<p>5 rows × 367 columns</p>\n",
       "</div>"
      ]
     },
     "execution_count": 412,
     "metadata": {},
     "output_type": "execute_result"
    }
   ],
   "execution_count": 412
  },
  {
   "metadata": {
    "ExecuteTime": {
     "end_time": "2024-08-27T10:45:49.717824Z",
     "start_time": "2024-08-27T10:45:49.701104Z"
    }
   },
   "cell_type": "code",
   "source": [
    "train = pd.read_csv('../data/raw/tox24_challenge_train.csv')\n",
    "train.drop_duplicates(subset='SMILES', inplace=True)\n",
    "\n",
    "test = pd.read_csv('../data/raw/tox24_challenge_test.csv')"
   ],
   "id": "c69dcf1d1876bad5",
   "outputs": [],
   "execution_count": 413
  },
  {
   "metadata": {
    "ExecuteTime": {
     "end_time": "2024-08-27T10:45:49.733265Z",
     "start_time": "2024-08-27T10:45:49.719077Z"
    }
   },
   "cell_type": "code",
   "source": "len(test), test.SMILES.isin(df.SMILES).sum()",
   "id": "b0526f90d70d8971",
   "outputs": [
    {
     "data": {
      "text/plain": [
       "(500, 500)"
      ]
     },
     "execution_count": 414,
     "metadata": {},
     "output_type": "execute_result"
    }
   ],
   "execution_count": 414
  },
  {
   "metadata": {
    "ExecuteTime": {
     "end_time": "2024-08-27T10:45:49.751925Z",
     "start_time": "2024-08-27T10:45:49.734820Z"
    }
   },
   "cell_type": "code",
   "source": "len(train), train.SMILES.isin(df.SMILES).sum()",
   "id": "61e443fc6ceaecdc",
   "outputs": [
    {
     "data": {
      "text/plain": [
       "(1011, 1011)"
      ]
     },
     "execution_count": 415,
     "metadata": {},
     "output_type": "execute_result"
    }
   ],
   "execution_count": 415
  },
  {
   "metadata": {
    "ExecuteTime": {
     "end_time": "2024-08-27T10:45:49.767438Z",
     "start_time": "2024-08-27T10:45:49.753213Z"
    }
   },
   "cell_type": "code",
   "source": "len(test) + len(train), len(df)",
   "id": "85c8215d7d9093f7",
   "outputs": [
    {
     "data": {
      "text/plain": [
       "(1511, 1511)"
      ]
     },
     "execution_count": 416,
     "metadata": {},
     "output_type": "execute_result"
    }
   ],
   "execution_count": 416
  },
  {
   "metadata": {
    "ExecuteTime": {
     "end_time": "2024-08-27T10:45:49.785201Z",
     "start_time": "2024-08-27T10:45:49.769201Z"
    }
   },
   "cell_type": "code",
   "source": [
    "features = df.columns.tolist()\n",
    "features.remove('SMILES')\n",
    "features"
   ],
   "id": "b5e06480458b3fca",
   "outputs": [
    {
     "data": {
      "text/plain": [
       "['ALogPS_logP',\n",
       " 'ALogPS_logS',\n",
       " 'HALOG',\n",
       " 'MW',\n",
       " 'N.1',\n",
       " 'NA',\n",
       " 'NH',\n",
       " 'O',\n",
       " 'P',\n",
       " 'PSA',\n",
       " 'S',\n",
       " 'SdCH2',\n",
       " 'SdssC',\n",
       " 'Se1C1C4s',\n",
       " 'Se1C2C2ss',\n",
       " 'Se1C2C3sd',\n",
       " 'Se1C2C3ss',\n",
       " 'Se1C3C3ds',\n",
       " 'Se1C3C4ss',\n",
       " 'Se2C1C3s',\n",
       " 'SsCH3',\n",
       " 'SssCH2',\n",
       " 'SsssCH',\n",
       " 'SssssC',\n",
       " 'aCNOS',\n",
       " 'ACCEPTORS',\n",
       " 'RBONDS',\n",
       " 'SaaCH',\n",
       " 'SaasC',\n",
       " 'SdO',\n",
       " 'SdO(ester)',\n",
       " 'Se1C1C3s',\n",
       " 'Se1C1O2s',\n",
       " 'Se1C3Cl1a',\n",
       " 'Se1C3O2as',\n",
       " 'Se1C3O2ds',\n",
       " 'Se1C3O2ss',\n",
       " 'Se2C3O1s',\n",
       " 'SeaC2C2aa',\n",
       " 'SeaC2C3aa',\n",
       " 'SeaC3C3aa',\n",
       " 'SsCl',\n",
       " 'SssO',\n",
       " 'SssO(ester)',\n",
       " 'DONORS',\n",
       " 'Se1C1C2s',\n",
       " 'Se1C2O1s',\n",
       " 'Se1C2O2ss',\n",
       " 'Se1C3O1s',\n",
       " 'SsOH',\n",
       " 'SsOH(alc)',\n",
       " 'Se1C1C3d',\n",
       " 'Se1C2C4ss',\n",
       " 'Se1C4C4ss',\n",
       " 'SdsCH',\n",
       " 'Se1C2C2ds',\n",
       " 'Se2C2C2ss',\n",
       " 'SdO(keto)',\n",
       " 'Se1C2C2dd',\n",
       " 'Se2C2O1s',\n",
       " 'SaaN',\n",
       " 'SaasN',\n",
       " 'Se1C1C3a',\n",
       " 'Se1C2N3sa',\n",
       " 'SeaC3N2aa',\n",
       " 'SeaC3N3aa',\n",
       " 'SeaN2N3aa',\n",
       " 'Se1C1C2d',\n",
       " 'Se1C2C3ds',\n",
       " 'Se1C3C3ss',\n",
       " 'Se2C2C3ss',\n",
       " 'SdO(acid)',\n",
       " 'Se1C2S2ss',\n",
       " 'Se1C3N2as',\n",
       " 'Se1C3O1d',\n",
       " 'Se1C3S2as',\n",
       " 'SsOH(acid)',\n",
       " 'SssNH',\n",
       " 'SssNH(ar)',\n",
       " 'SssS',\n",
       " 'Se1C3C3as',\n",
       " 'Se1C3Cl1s',\n",
       " 'SdO(amid)',\n",
       " 'Se1C2N3ss',\n",
       " 'Se1C3C4ds',\n",
       " 'Se1C3N2ds',\n",
       " 'Se1C3N3ds',\n",
       " 'Se1C4N3ss',\n",
       " 'SssNH(oth)',\n",
       " 'SsssN',\n",
       " 'SsssN(oth)',\n",
       " 'SaaaC',\n",
       " 'Se1C2C3sa',\n",
       " 'Se1C3C3ad',\n",
       " 'Se1C3N3da',\n",
       " 'Se1C2N2ss',\n",
       " 'Se1C2Si4ss',\n",
       " 'Se1C3N1d',\n",
       " 'Se1O2Si4ss',\n",
       " 'SsNH2',\n",
       " 'SsNH2(oth)',\n",
       " 'SssssSi',\n",
       " 'Se1C2N1s',\n",
       " 'SsNH2(al)',\n",
       " 'Se1N3Br1s',\n",
       " 'Se1N3Cl1s',\n",
       " 'SsBr',\n",
       " 'Se1C3C4as',\n",
       " 'Se1C4F1s',\n",
       " 'SsF',\n",
       " 'SdO(nitro)',\n",
       " 'SddsN',\n",
       " 'SddsN(nitro)',\n",
       " 'Se1C3N==ad',\n",
       " 'Se2NO2',\n",
       " 'Se1C2S1s',\n",
       " 'SsSH',\n",
       " 'Se1C1N3s',\n",
       " 'Se1C2N3ds',\n",
       " 'Se1C3C3dd',\n",
       " 'Se1C3O1a',\n",
       " 'SsOH(phen)',\n",
       " 'Se2C1C2s',\n",
       " 'Se1C2C3dd',\n",
       " 'Se1C3N3as',\n",
       " 'Se1C1Si3s',\n",
       " 'Se1C1Si4s',\n",
       " 'Se1O2Si3ss',\n",
       " 'SsssSiH',\n",
       " 'SsssN(al)',\n",
       " 'SeaC2N2aa',\n",
       " 'Se1C2C3da',\n",
       " 'Se1C2Br1s',\n",
       " 'Se1C3Cl1d',\n",
       " 'SdsN',\n",
       " 'Se1C3N2ad',\n",
       " 'Se2C3N2ss',\n",
       " 'Se1C2Si4ds',\n",
       " 'Se1C3N1a',\n",
       " 'SsNH2(ar)',\n",
       " 'Se1C4O2ss',\n",
       " 'Se1C2C4ts',\n",
       " 'Se1C4O1s',\n",
       " 'Se3C1C2s',\n",
       " 'StCH',\n",
       " 'StsC',\n",
       " 'SssNH(al)',\n",
       " 'Se1N2O1d',\n",
       " 'Se1C2C2st',\n",
       " 'Se3C2C2ss',\n",
       " 'Se1C3C3aa',\n",
       " 'Se1C2Cl1s',\n",
       " 'SdsssP',\n",
       " 'Se1O2P4sd',\n",
       " 'Se2O1P4s',\n",
       " 'SaaS',\n",
       " 'Se1C3S1a',\n",
       " 'SeaC3S2aa',\n",
       " 'Se1C2C3ts',\n",
       " 'Se3C2N1s',\n",
       " 'StN',\n",
       " 'Se1C4Br1s',\n",
       " 'Se1C3N2ss',\n",
       " 'Se1C3Br1a',\n",
       " 'Se1O2O2ss',\n",
       " 'Se1C2C3ta',\n",
       " 'Se1C2O2ds',\n",
       " 'Se1C3N2sd',\n",
       " 'Se1C3N3ss',\n",
       " 'Se2N2N2st',\n",
       " 'Se3N1N2d',\n",
       " 'StdN',\n",
       " 'Se2C3C3ss',\n",
       " 'SeaC2N3aa',\n",
       " 'Se1N1N3a',\n",
       " 'SeaN2N2aa',\n",
       " 'SdO(sulfo)',\n",
       " 'SddssS',\n",
       " 'Se1N3S4ad',\n",
       " 'Se1N3S4sd',\n",
       " 'Se2O1S4d',\n",
       " 'Se1C4Cl1s',\n",
       " 'SdsN(nitro)',\n",
       " 'Se2N2O1s',\n",
       " 'Se1C3S4ad',\n",
       " 'Se1N1S4d',\n",
       " 'Se1N3S2ss',\n",
       " 'Se1S2S2ss',\n",
       " 'SsssN(ar)',\n",
       " 'Se1C3S2ds',\n",
       " 'Se1C4N2ss',\n",
       " 'Se1C2N2ds',\n",
       " 'Se1C3F1d',\n",
       " 'SdS',\n",
       " 'Se2C3S1s',\n",
       " 'Se1O1S4d',\n",
       " 'Se1O2S4sd',\n",
       " 'Se1N2S4sd',\n",
       " 'Se1C1S2s',\n",
       " 'SeaN2S2aa',\n",
       " 'Se2N2N2ss',\n",
       " 'Se1C2C4ds',\n",
       " 'Se1C4S2ss',\n",
       " 'Se2C2N2ss',\n",
       " 'Se1C1N2s',\n",
       " 'Se1C1S4d',\n",
       " 'Se1C4S4sd',\n",
       " 'Se1N2O2ds',\n",
       " 'SdssS',\n",
       " 'Se1C1S3d',\n",
       " 'Se1C4S3sd',\n",
       " 'Se2O1S3s',\n",
       " 'SaaO',\n",
       " 'Se1C3I1a',\n",
       " 'SeaC3O2aa',\n",
       " 'SsI',\n",
       " 'Se1C2S1t',\n",
       " 'Se1C3F1a',\n",
       " 'SeaN2O2aa',\n",
       " 'Se1P4S2ds',\n",
       " 'SaaNH',\n",
       " 'Se1C1N3a',\n",
       " 'SeaC2NHaa',\n",
       " 'SeaC3NHaa',\n",
       " 'SdssN',\n",
       " 'Se1C2N3psd',\n",
       " 'Se2C3N3pss',\n",
       " 'Se2P4S1s',\n",
       " 'Se1C1N4ps',\n",
       " 'Se1C2N4pss',\n",
       " 'SssssN',\n",
       " 'Se1C2S3sd',\n",
       " 'Se1C3S3ad',\n",
       " 'Se1C1P4d',\n",
       " 'Se1B3O1s',\n",
       " 'SsssB',\n",
       " 'Se1C3Br1d',\n",
       " 'Se1N2N3ds',\n",
       " 'Se1C2S4sd',\n",
       " 'Se1C3N2dd',\n",
       " 'Se1C3N3aa',\n",
       " 'Se1N2Cl1s',\n",
       " 'Se1N3O1s',\n",
       " 'Se1C3N3sa',\n",
       " 'Se1C3N1s',\n",
       " 'SeaC2S2aa',\n",
       " 'SeaC2O2aa',\n",
       " 'Se1N2O1s',\n",
       " 'Se1N2P4sd',\n",
       " 'Se1N3P4sd',\n",
       " 'Se1O1P4d',\n",
       " 'Se1C3S2ss',\n",
       " 'Se1C3S4sd',\n",
       " 'SdssPH',\n",
       " 'Se1O2P3sd',\n",
       " 'Se2O1P3s',\n",
       " 'Se1C1N3pa',\n",
       " 'SeaC3N3paa',\n",
       " 'SeaN3N3paa',\n",
       " 'Se1C3F1s',\n",
       " 'Se1O2P3ss',\n",
       " 'SsssP',\n",
       " 'SdsssAs',\n",
       " 'Se1C1As4d',\n",
       " 'Se1O1As4d',\n",
       " 'Se2O1As4s',\n",
       " 'Se1C1Sn4s',\n",
       " 'Se1Cl1Sn4s',\n",
       " 'SssssSn',\n",
       " 'Se1N2N==dd',\n",
       " 'Se1O2S3sd',\n",
       " 'Se1C3P4ad',\n",
       " 'Se1C4N2sd',\n",
       " 'Se1N2N3ss',\n",
       " 'Se1C3Si4as',\n",
       " 'Se2C1O1',\n",
       " 'Se1C2N1d',\n",
       " 'Se3As1In1',\n",
       " 'StAs',\n",
       " 'StIn',\n",
       " 'Se1N1N2s',\n",
       " 'Se1N3O2ss',\n",
       " 'Se1N2N2ss',\n",
       " 'Se1C3S1d',\n",
       " 'Se1C2C3td',\n",
       " 'Se1N1P4d',\n",
       " 'SdsSH',\n",
       " 'Se1C3S2ad',\n",
       " 'Se2C3S2ss',\n",
       " 'Se1N1N3s',\n",
       " 'Se1N2N2dd',\n",
       " 'Se1C3N2pss',\n",
       " 'SssNH2',\n",
       " 'SssNH2(al)',\n",
       " 'SdsssN',\n",
       " 'SdsssN(oth)',\n",
       " 'Se1C1N4d',\n",
       " 'Se1C2N4sd',\n",
       " 'Se2N4O1s',\n",
       " 'Se1C2S2ds',\n",
       " 'SaaaN',\n",
       " 'Se1N==O2ds',\n",
       " 'Se1C2S4dd',\n",
       " 'Se1C3P3as',\n",
       " 'Se1P3Cl1s',\n",
       " 'Se1C3Hg2as',\n",
       " 'Se1O2Hg2ss',\n",
       " 'SssHg',\n",
       " 'SdssSi',\n",
       " 'Se1C1Si3d',\n",
       " 'Se2O1Si3s',\n",
       " 'SddsCl',\n",
       " 'Se1O1Cl3d',\n",
       " 'Se2O1Cl3d',\n",
       " 'Se1N2N2ds',\n",
       " 'Se1C2N2sd',\n",
       " 'SdNH',\n",
       " 'SddN',\n",
       " 'Se2N1N2pd',\n",
       " 'SdsCl',\n",
       " 'Se1O1Cl2d',\n",
       " 'Se2O1Cl2s',\n",
       " 'Se1C2F1s',\n",
       " 'Se1B4F1s',\n",
       " 'SssssBH',\n",
       " 'Se1C2Cl1d',\n",
       " 'Se1C4N1s',\n",
       " 'Se1C4S1s',\n",
       " 'SeaN2NHaa',\n",
       " 'Se1C3P4sd',\n",
       " 'Se1C3Br1s',\n",
       " 'SaadN',\n",
       " 'SaadN(oth)',\n",
       " 'Se2N3O1a',\n",
       " 'Se1C3N==dd',\n",
       " 'Se2C3N1s',\n",
       " 'Se1C4N==sd',\n",
       " 'Se1C2S2ts',\n",
       " 'Se1C2I1t',\n",
       " 'Se1C2N2td',\n",
       " 'Se1C2C2dt',\n",
       " 'SddC',\n",
       " 'Se2C2N2ds',\n",
       " 'Se2C2S1d',\n",
       " 'SsOH(zwit)',\n",
       " 'Se1C2Sn4ss',\n",
       " 'Se1O1O2s',\n",
       " 'Se1C2N1t',\n",
       " 'Se1C2N2ts',\n",
       " 'Se1C3S4dd',\n",
       " 'Se1C2P4sd',\n",
       " 'Se1N3N3ss',\n",
       " 'Se1C1N3pd',\n",
       " 'Se1N2Si4ss',\n",
       " 'Se1C1N2d',\n",
       " 'Se1C1C2t',\n",
       " 'Se1C2N2dd',\n",
       " 'Se1C2N==sd',\n",
       " 'SdddN',\n",
       " 'SdddN(nitro)',\n",
       " 'Se2N3O1d',\n",
       " 'SddSi',\n",
       " 'Se2O1Si2d',\n",
       " 'Se1B3C3sa',\n",
       " 'Se1N3pO1a',\n",
       " 'SeaC2N3paa']"
      ]
     },
     "execution_count": 417,
     "metadata": {},
     "output_type": "execute_result"
    }
   ],
   "execution_count": 417
  },
  {
   "metadata": {},
   "cell_type": "markdown",
   "source": "# assign indexes based on smiles",
   "id": "cde8b783c9b0b0c7"
  },
  {
   "metadata": {
    "ExecuteTime": {
     "end_time": "2024-08-27T10:45:49.807069Z",
     "start_time": "2024-08-27T10:45:49.787193Z"
    }
   },
   "cell_type": "code",
   "source": [
    "mask = df.SMILES.isin(test.SMILES)\n",
    "df.loc[mask, 'dataset'] = 'test'\n",
    "\n",
    "mask = df.SMILES.isin(train.SMILES)\n",
    "df.loc[mask, 'dataset'] = 'train'"
   ],
   "id": "efc7cef9565bd74c",
   "outputs": [],
   "execution_count": 418
  },
  {
   "metadata": {
    "ExecuteTime": {
     "end_time": "2024-08-27T10:45:49.825277Z",
     "start_time": "2024-08-27T10:45:49.809793Z"
    }
   },
   "cell_type": "code",
   "source": "df.dataset.value_counts()",
   "id": "3a58db87bdeba9d9",
   "outputs": [
    {
     "data": {
      "text/plain": [
       "dataset\n",
       "train    1011\n",
       "test      500\n",
       "Name: count, dtype: int64"
      ]
     },
     "execution_count": 419,
     "metadata": {},
     "output_type": "execute_result"
    }
   ],
   "execution_count": 419
  },
  {
   "metadata": {
    "ExecuteTime": {
     "end_time": "2024-08-27T10:45:49.842017Z",
     "start_time": "2024-08-27T10:45:49.827570Z"
    }
   },
   "cell_type": "code",
   "source": "# test.loc[498, 'SMILES']",
   "id": "60b8bb16328ec570",
   "outputs": [],
   "execution_count": 420
  },
  {
   "metadata": {
    "ExecuteTime": {
     "end_time": "2024-08-27T10:45:49.857239Z",
     "start_time": "2024-08-27T10:45:49.844668Z"
    }
   },
   "cell_type": "code",
   "source": "# df.loc[1509, 'SMILES']",
   "id": "17437e1790299ad3",
   "outputs": [],
   "execution_count": 421
  },
  {
   "metadata": {},
   "cell_type": "markdown",
   "source": "# Reindex based on smiles",
   "id": "8605cf60369ce4cc"
  },
  {
   "metadata": {
    "ExecuteTime": {
     "end_time": "2024-08-27T10:45:49.870604Z",
     "start_time": "2024-08-27T10:45:49.858380Z"
    }
   },
   "cell_type": "code",
   "source": [
    "df.set_index('SMILES', inplace=True)\n",
    "train.set_index('SMILES', inplace=True)\n",
    "test.set_index('SMILES', inplace=True)"
   ],
   "id": "20ab6fa88f894f93",
   "outputs": [],
   "execution_count": 422
  },
  {
   "metadata": {
    "ExecuteTime": {
     "end_time": "2024-08-27T10:45:49.885297Z",
     "start_time": "2024-08-27T10:45:49.872177Z"
    }
   },
   "cell_type": "code",
   "source": [
    "idx = pd.Index(np.concatenate([train.index, test.index]), name='SMILES')\n",
    "idx.shape"
   ],
   "id": "e2d99f529ef94398",
   "outputs": [
    {
     "data": {
      "text/plain": [
       "(1511,)"
      ]
     },
     "execution_count": 423,
     "metadata": {},
     "output_type": "execute_result"
    }
   ],
   "execution_count": 423
  },
  {
   "metadata": {
    "ExecuteTime": {
     "end_time": "2024-08-27T10:45:49.899696Z",
     "start_time": "2024-08-27T10:45:49.886696Z"
    }
   },
   "cell_type": "code",
   "source": "df = df.reindex(idx)",
   "id": "9e33a7a95b7c5125",
   "outputs": [],
   "execution_count": 424
  },
  {
   "metadata": {
    "ExecuteTime": {
     "end_time": "2024-08-27T10:45:49.955139Z",
     "start_time": "2024-08-27T10:45:49.941856Z"
    }
   },
   "cell_type": "code",
   "source": "df['target'] = train.activity",
   "id": "a2863c7786833ce0",
   "outputs": [],
   "execution_count": 425
  },
  {
   "metadata": {
    "ExecuteTime": {
     "end_time": "2024-08-27T10:45:49.978966Z",
     "start_time": "2024-08-27T10:45:49.966028Z"
    }
   },
   "cell_type": "code",
   "source": "df.reset_index(inplace=True)",
   "id": "f349edd620154e31",
   "outputs": [],
   "execution_count": 426
  },
  {
   "metadata": {
    "ExecuteTime": {
     "end_time": "2024-08-27T10:45:50.027502Z",
     "start_time": "2024-08-27T10:45:50.005098Z"
    }
   },
   "cell_type": "code",
   "source": "df.head()",
   "id": "d6b7cedf3369a294",
   "outputs": [
    {
     "data": {
      "text/plain": [
       "                                        SMILES  ALogPS_logP  ALogPS_logS  \\\n",
       "0                 CC1(C)[C@@H]2C[C@H]1C(=C)CC2         3.94        -3.33   \n",
       "1  COC(=O)C(C)OC1=CC=C(OC2=CC=C(Cl)C=C2Cl)C=C1         5.13        -5.40   \n",
       "2                   CCCCCCCCCCCCCC(=O)OCC(O)CO         4.77        -4.09   \n",
       "3      CC(=O)O[C@@H]1C[C@@H]2CC[C@@]1(C)C2(C)C         3.50        -3.52   \n",
       "4                   CCCCCCCCCC=CCC1CC(=O)OC1=O         5.68        -5.73   \n",
       "\n",
       "   HALOG     MW  N.1  NA  NH  O  P  ...  SdddN  SdddN(nitro)  Se2N3O1d  SddSi  \\\n",
       "0      0  136.3    0  10  16  0  0  ...    0.0           0.0       0.0    0.0   \n",
       "1      2  341.2    0  22  14  4  0  ...    0.0           0.0       0.0    0.0   \n",
       "2      0  302.5    0  21  34  4  0  ...    0.0           0.0       0.0    0.0   \n",
       "3      0  196.3    0  14  20  2  0  ...    0.0           0.0       0.0    0.0   \n",
       "4      0  266.4    0  19  26  3  0  ...    0.0           0.0       0.0    0.0   \n",
       "\n",
       "   Se2O1Si2d  Se1B3C3sa  Se1N3pO1a  SeaC2N3paa  dataset  target  \n",
       "0        0.0        0.0        0.0         0.0    train    12.3  \n",
       "1        0.0        0.0        0.0         0.0    train    94.1  \n",
       "2        0.0        0.0        0.0         0.0    train    38.1  \n",
       "3        0.0        0.0        0.0         0.0    train    11.8  \n",
       "4        0.0        0.0        0.0         0.0    train    98.4  \n",
       "\n",
       "[5 rows x 369 columns]"
      ],
      "text/html": [
       "<div>\n",
       "<style scoped>\n",
       "    .dataframe tbody tr th:only-of-type {\n",
       "        vertical-align: middle;\n",
       "    }\n",
       "\n",
       "    .dataframe tbody tr th {\n",
       "        vertical-align: top;\n",
       "    }\n",
       "\n",
       "    .dataframe thead th {\n",
       "        text-align: right;\n",
       "    }\n",
       "</style>\n",
       "<table border=\"1\" class=\"dataframe\">\n",
       "  <thead>\n",
       "    <tr style=\"text-align: right;\">\n",
       "      <th></th>\n",
       "      <th>SMILES</th>\n",
       "      <th>ALogPS_logP</th>\n",
       "      <th>ALogPS_logS</th>\n",
       "      <th>HALOG</th>\n",
       "      <th>MW</th>\n",
       "      <th>N.1</th>\n",
       "      <th>NA</th>\n",
       "      <th>NH</th>\n",
       "      <th>O</th>\n",
       "      <th>P</th>\n",
       "      <th>...</th>\n",
       "      <th>SdddN</th>\n",
       "      <th>SdddN(nitro)</th>\n",
       "      <th>Se2N3O1d</th>\n",
       "      <th>SddSi</th>\n",
       "      <th>Se2O1Si2d</th>\n",
       "      <th>Se1B3C3sa</th>\n",
       "      <th>Se1N3pO1a</th>\n",
       "      <th>SeaC2N3paa</th>\n",
       "      <th>dataset</th>\n",
       "      <th>target</th>\n",
       "    </tr>\n",
       "  </thead>\n",
       "  <tbody>\n",
       "    <tr>\n",
       "      <th>0</th>\n",
       "      <td>CC1(C)[C@@H]2C[C@H]1C(=C)CC2</td>\n",
       "      <td>3.94</td>\n",
       "      <td>-3.33</td>\n",
       "      <td>0</td>\n",
       "      <td>136.3</td>\n",
       "      <td>0</td>\n",
       "      <td>10</td>\n",
       "      <td>16</td>\n",
       "      <td>0</td>\n",
       "      <td>0</td>\n",
       "      <td>...</td>\n",
       "      <td>0.0</td>\n",
       "      <td>0.0</td>\n",
       "      <td>0.0</td>\n",
       "      <td>0.0</td>\n",
       "      <td>0.0</td>\n",
       "      <td>0.0</td>\n",
       "      <td>0.0</td>\n",
       "      <td>0.0</td>\n",
       "      <td>train</td>\n",
       "      <td>12.3</td>\n",
       "    </tr>\n",
       "    <tr>\n",
       "      <th>1</th>\n",
       "      <td>COC(=O)C(C)OC1=CC=C(OC2=CC=C(Cl)C=C2Cl)C=C1</td>\n",
       "      <td>5.13</td>\n",
       "      <td>-5.40</td>\n",
       "      <td>2</td>\n",
       "      <td>341.2</td>\n",
       "      <td>0</td>\n",
       "      <td>22</td>\n",
       "      <td>14</td>\n",
       "      <td>4</td>\n",
       "      <td>0</td>\n",
       "      <td>...</td>\n",
       "      <td>0.0</td>\n",
       "      <td>0.0</td>\n",
       "      <td>0.0</td>\n",
       "      <td>0.0</td>\n",
       "      <td>0.0</td>\n",
       "      <td>0.0</td>\n",
       "      <td>0.0</td>\n",
       "      <td>0.0</td>\n",
       "      <td>train</td>\n",
       "      <td>94.1</td>\n",
       "    </tr>\n",
       "    <tr>\n",
       "      <th>2</th>\n",
       "      <td>CCCCCCCCCCCCCC(=O)OCC(O)CO</td>\n",
       "      <td>4.77</td>\n",
       "      <td>-4.09</td>\n",
       "      <td>0</td>\n",
       "      <td>302.5</td>\n",
       "      <td>0</td>\n",
       "      <td>21</td>\n",
       "      <td>34</td>\n",
       "      <td>4</td>\n",
       "      <td>0</td>\n",
       "      <td>...</td>\n",
       "      <td>0.0</td>\n",
       "      <td>0.0</td>\n",
       "      <td>0.0</td>\n",
       "      <td>0.0</td>\n",
       "      <td>0.0</td>\n",
       "      <td>0.0</td>\n",
       "      <td>0.0</td>\n",
       "      <td>0.0</td>\n",
       "      <td>train</td>\n",
       "      <td>38.1</td>\n",
       "    </tr>\n",
       "    <tr>\n",
       "      <th>3</th>\n",
       "      <td>CC(=O)O[C@@H]1C[C@@H]2CC[C@@]1(C)C2(C)C</td>\n",
       "      <td>3.50</td>\n",
       "      <td>-3.52</td>\n",
       "      <td>0</td>\n",
       "      <td>196.3</td>\n",
       "      <td>0</td>\n",
       "      <td>14</td>\n",
       "      <td>20</td>\n",
       "      <td>2</td>\n",
       "      <td>0</td>\n",
       "      <td>...</td>\n",
       "      <td>0.0</td>\n",
       "      <td>0.0</td>\n",
       "      <td>0.0</td>\n",
       "      <td>0.0</td>\n",
       "      <td>0.0</td>\n",
       "      <td>0.0</td>\n",
       "      <td>0.0</td>\n",
       "      <td>0.0</td>\n",
       "      <td>train</td>\n",
       "      <td>11.8</td>\n",
       "    </tr>\n",
       "    <tr>\n",
       "      <th>4</th>\n",
       "      <td>CCCCCCCCCC=CCC1CC(=O)OC1=O</td>\n",
       "      <td>5.68</td>\n",
       "      <td>-5.73</td>\n",
       "      <td>0</td>\n",
       "      <td>266.4</td>\n",
       "      <td>0</td>\n",
       "      <td>19</td>\n",
       "      <td>26</td>\n",
       "      <td>3</td>\n",
       "      <td>0</td>\n",
       "      <td>...</td>\n",
       "      <td>0.0</td>\n",
       "      <td>0.0</td>\n",
       "      <td>0.0</td>\n",
       "      <td>0.0</td>\n",
       "      <td>0.0</td>\n",
       "      <td>0.0</td>\n",
       "      <td>0.0</td>\n",
       "      <td>0.0</td>\n",
       "      <td>train</td>\n",
       "      <td>98.4</td>\n",
       "    </tr>\n",
       "  </tbody>\n",
       "</table>\n",
       "<p>5 rows × 369 columns</p>\n",
       "</div>"
      ]
     },
     "execution_count": 427,
     "metadata": {},
     "output_type": "execute_result"
    }
   ],
   "execution_count": 427
  },
  {
   "metadata": {},
   "cell_type": "markdown",
   "source": "# Basic preprocessing",
   "id": "43d008db4a95c3ac"
  },
  {
   "metadata": {
    "ExecuteTime": {
     "end_time": "2024-08-27T10:45:50.043251Z",
     "start_time": "2024-08-27T10:45:50.028889Z"
    }
   },
   "cell_type": "code",
   "source": [
    "from src.preprocess import preprocess\n",
    "from src.utils import smi2mol, mol2smi, get_fps_offset\n",
    "\n",
    "\n",
    "def prepare_data(df, smi_col='SMILES'):\n",
    "    df['rdmol'] = df[smi_col].apply(smi2mol)\n",
    "    df.rdmol = df.rdmol.apply(preprocess)\n",
    "    df['smi'] = df.rdmol.apply(mol2smi)\n",
    "    return df"
   ],
   "id": "1b3f80b9010d6a14",
   "outputs": [],
   "execution_count": 428
  },
  {
   "metadata": {
    "ExecuteTime": {
     "end_time": "2024-08-27T10:45:50.082551Z",
     "start_time": "2024-08-27T10:45:50.044479Z"
    }
   },
   "cell_type": "code",
   "source": "df = mem.cache(prepare_data)(df)",
   "id": "ea7a02ef93283bca",
   "outputs": [],
   "execution_count": 429
  },
  {
   "metadata": {},
   "cell_type": "markdown",
   "source": "# generate representation: fingerprints, rdkit, mordred descriptors",
   "id": "21dcf280fcf32c01"
  },
  {
   "metadata": {
    "ExecuteTime": {
     "end_time": "2024-08-27T10:45:50.239002Z",
     "start_time": "2024-08-27T10:45:50.206010Z"
    }
   },
   "cell_type": "code",
   "source": [
    "from src.representation import get_representation_from_series\n",
    "\n",
    "r = mem.cache(get_representation_from_series, ignore=['n_jobs'])(df.smi, n_jobs=N_JOBS)\n",
    "r.shape"
   ],
   "id": "7196f368874ad703",
   "outputs": [
    {
     "data": {
      "text/plain": [
       "(1511, 4389)"
      ]
     },
     "execution_count": 437,
     "metadata": {},
     "output_type": "execute_result"
    }
   ],
   "execution_count": 437
  },
  {
   "metadata": {
    "ExecuteTime": {
     "end_time": "2024-08-27T10:45:50.252893Z",
     "start_time": "2024-08-27T10:45:50.240177Z"
    }
   },
   "cell_type": "code",
   "source": [
    "FPS_OFFSET = get_fps_offset(r.columns)\n",
    "fps_cols = list(range(FPS_OFFSET))"
   ],
   "id": "5f07ef3c3e0fbe6",
   "outputs": [],
   "execution_count": 438
  },
  {
   "metadata": {
    "ExecuteTime": {
     "end_time": "2024-08-27T10:45:50.277592Z",
     "start_time": "2024-08-27T10:45:50.254489Z"
    }
   },
   "cell_type": "code",
   "source": [
    "r.dropna(axis=1, inplace=True)\n",
    "r.shape"
   ],
   "id": "a39200a58dd333af",
   "outputs": [
    {
     "data": {
      "text/plain": [
       "(1511, 3280)"
      ]
     },
     "execution_count": 439,
     "metadata": {},
     "output_type": "execute_result"
    }
   ],
   "execution_count": 439
  },
  {
   "metadata": {
    "ExecuteTime": {
     "end_time": "2024-08-27T10:45:50.299546Z",
     "start_time": "2024-08-27T10:45:50.279493Z"
    }
   },
   "cell_type": "code",
   "source": [
    "mask = (r.iloc[:, FPS_OFFSET:] == 0).all()\n",
    "zero_cols = r.iloc[:, FPS_OFFSET:].columns[mask]\n",
    "r.drop(columns=zero_cols, inplace=True)\n",
    "r.shape"
   ],
   "id": "8f3526f0ac699d40",
   "outputs": [
    {
     "data": {
      "text/plain": [
       "(1511, 3152)"
      ]
     },
     "execution_count": 440,
     "metadata": {},
     "output_type": "execute_result"
    }
   ],
   "execution_count": 440
  },
  {
   "metadata": {
    "ExecuteTime": {
     "end_time": "2024-08-27T10:46:02.110879Z",
     "start_time": "2024-08-27T10:46:02.091241Z"
    }
   },
   "cell_type": "code",
   "source": [
    "df = pd.concat([df, r], axis=1)\n",
    "df.shape"
   ],
   "id": "9dad4c753df59e1a",
   "outputs": [
    {
     "data": {
      "text/plain": [
       "(1511, 3523)"
      ]
     },
     "execution_count": 441,
     "metadata": {},
     "output_type": "execute_result"
    }
   ],
   "execution_count": 441
  },
  {
   "metadata": {
    "ExecuteTime": {
     "end_time": "2024-08-27T10:48:34.904206Z",
     "start_time": "2024-08-27T10:48:34.890968Z"
    }
   },
   "cell_type": "code",
   "source": [
    "rd_cols = [c for c in df.columns if 'rd_' in str(c)]\n",
    "md_cols = [c for c in df.columns if 'md_' in str(c)]"
   ],
   "id": "9bc2c54a851bf0e3",
   "outputs": [],
   "execution_count": 446
  },
  {
   "metadata": {},
   "cell_type": "markdown",
   "source": "# Split train test",
   "id": "f99ed84ccf7aea2b"
  },
  {
   "metadata": {
    "ExecuteTime": {
     "end_time": "2024-08-27T10:52:03.019023Z",
     "start_time": "2024-08-27T10:52:02.745738Z"
    }
   },
   "cell_type": "code",
   "source": [
    "train = df.query(\"dataset == 'train'\")[fps_cols + rd_cols + md_cols + features]\n",
    "y_train = df.query(\"dataset == 'train'\").target.values\n",
    "\n",
    "test = df.query(\"dataset == 'test'\")[fps_cols + rd_cols + md_cols + features]\n",
    "\n",
    "train.shape, test.shape"
   ],
   "id": "561227c5337e1258",
   "outputs": [
    {
     "data": {
      "text/plain": [
       "((1011, 3518), (500, 3518))"
      ]
     },
     "execution_count": 457,
     "metadata": {},
     "output_type": "execute_result"
    }
   ],
   "execution_count": 457
  },
  {
   "metadata": {},
   "cell_type": "markdown",
   "source": "# Model training",
   "id": "cacf3a7bdf8cd575"
  },
  {
   "metadata": {
    "ExecuteTime": {
     "end_time": "2024-08-27T10:52:51.369205Z",
     "start_time": "2024-08-27T10:52:51.353002Z"
    }
   },
   "cell_type": "code",
   "source": [
    "import time\n",
    "\n",
    "import numpy as np\n",
    "import pandas as pd\n",
    "\n",
    "from sklearn.linear_model import Lasso, Ridge, LinearRegression\n",
    "from sklearn.cross_decomposition import PLSRegression\n",
    "from sklearn.tree import DecisionTreeRegressor\n",
    "from sklearn.ensemble import RandomForestRegressor\n",
    "from sklearn.svm import SVR\n",
    "from sklearn.neighbors import KNeighborsRegressor\n",
    "from sklearn.model_selection import cross_val_score, KFold\n",
    "from src.utils import OffsetScaler, get_fps_offset\n",
    "import xgboost as xgb\n",
    "from catboost import CatBoostRegressor\n",
    "import seaborn as sns\n",
    "\n",
    "\n",
    "mae = 'neg_mean_absolute_error'\n",
    "mse = 'neg_mean_squared_error'\n",
    "rmse = 'neg_root_mean_squared_error'\n",
    "\n",
    "\n",
    "# prepare models\n",
    "models = {}\n",
    "\n",
    "# models['LR'] = LinearRegression()\n",
    "models['Ridge'] = Ridge()\n",
    "models['PLS'] = PLSRegression()\n",
    "models['DT'] = DecisionTreeRegressor(random_state=RANDOM_SEED)\n",
    "models['Lasso'] = Lasso()\n",
    "models['KNN'] = KNeighborsRegressor(n_jobs=N_JOBS)\n",
    "models['SVR'] = SVR()\n",
    "models['RF'] = RandomForestRegressor(random_state=RANDOM_SEED, n_jobs=N_JOBS)\n",
    "models['XGB'] = xgb.XGBRegressor(random_state=RANDOM_SEED, n_jobs=N_JOBS, verbosity=0)\n",
    "models['CATB'] = CatBoostRegressor(loss_function='RMSE', verbose=False, random_seed=RANDOM_SEED, thread_count=N_JOBS)\n",
    "models['CATB GPU'] = CatBoostRegressor(loss_function='RMSE', verbose=False, random_seed=RANDOM_SEED, thread_count=N_JOBS, task_type='GPU')"
   ],
   "id": "2bcdcec80e630f8a",
   "outputs": [],
   "execution_count": 461
  },
  {
   "metadata": {},
   "cell_type": "markdown",
   "source": "# Features + FPS",
   "id": "7ff8fb0024c4dadd"
  },
  {
   "metadata": {
    "jupyter": {
     "is_executing": true
    },
    "ExecuteTime": {
     "start_time": "2024-08-27T10:54:13.176648Z"
    }
   },
   "cell_type": "code",
   "source": [
    "X_train = train[fps_cols + rd_cols + md_cols + features]\n",
    "\n",
    "scaler = OffsetScaler(offset=FPS_OFFSET)\n",
    "\n",
    "X_train_scale = scaler.fit_transform(X_train.values)\n",
    "\n",
    "results = {}\n",
    "\n",
    "for name in models.keys():\n",
    "    tic = time.time()\n",
    "    \n",
    "    model = models[name]\n",
    "    kfold = KFold(n_splits=5, shuffle=True, random_state=RANDOM_SEED)\n",
    "    results[name] = cross_val_score(model, X_train_scale, y_train, cv=kfold, scoring=rmse)\n",
    "    \n",
    "    toc = time.time()    \n",
    "    print(\"%5s: %3.3f ± %3.3f    %.1fs\" % (name, results[name].mean(), results[name].std(), toc - tic))\n",
    "    \n",
    "results = pd.DataFrame(results)\n",
    "sns.boxplot(results);"
   ],
   "id": "dc2844e49e91c0e9",
   "outputs": [
    {
     "name": "stdout",
     "output_type": "stream",
     "text": [
      "Ridge: -49.862 ± 10.061    1.1s\n",
      "  PLS: -29.369 ± 0.844    0.4s\n",
      "   DT: -33.885 ± 3.175    1.9s\n",
      "Lasso: -27.472 ± 0.908    1.9s\n",
      "  KNN: -27.694 ± 2.103    0.2s\n",
      "  SVR: -34.691 ± 0.974    5.0s\n",
      "   RF: -24.100 ± 1.753    19.0s\n",
      "  XGB: -24.798 ± 1.675    14.9s\n"
     ]
    }
   ],
   "execution_count": null
  },
  {
   "metadata": {},
   "cell_type": "markdown",
   "source": "# Features only",
   "id": "5efb9c42838d8144"
  },
  {
   "metadata": {
    "jupyter": {
     "is_executing": true
    }
   },
   "cell_type": "code",
   "source": [
    "X_train = train[features]\n",
    "X_train_scale = scaler.fit_transform(X_train.values)\n",
    "\n",
    "results = {}\n",
    "\n",
    "for name in models.keys():\n",
    "    tic = time.time()\n",
    "    \n",
    "    model = models[name]\n",
    "    kfold = KFold(n_splits=5, shuffle=True, random_state=RANDOM_SEED)\n",
    "    results[name] = cross_val_score(model, X_train_scale, y_train, cv=kfold, scoring=rmse)\n",
    "    \n",
    "    toc = time.time()\n",
    "    print(\"%5s: %3.3f ± %3.3f    %.1fs\" % (name, results[name].mean(), results[name].std(), toc - tic))\n",
    "    \n",
    "results = pd.DataFrame(results)\n",
    "sns.boxplot(results);"
   ],
   "id": "e5a7093ea7cfcaf2",
   "outputs": [],
   "execution_count": null
  },
  {
   "metadata": {},
   "cell_type": "markdown",
   "source": "# RandomForest finetune",
   "id": "6810d29ada136c2c"
  },
  {
   "metadata": {
    "ExecuteTime": {
     "end_time": "2024-08-27T10:34:57.024478Z",
     "start_time": "2024-08-27T10:34:57.013817Z"
    }
   },
   "cell_type": "code",
   "source": [
    "models['RF 100'] = RandomForestRegressor(n_estimators=100, random_state=RANDOM_SEED, n_jobs=N_JOBS)\n",
    "models['RF 200'] = RandomForestRegressor(n_estimators=200, random_state=RANDOM_SEED, n_jobs=N_JOBS)\n",
    "models['RF 400'] = RandomForestRegressor(n_estimators=400, random_state=RANDOM_SEED, n_jobs=N_JOBS)\n",
    "models['RF 800'] = RandomForestRegressor(n_estimators=400, random_state=RANDOM_SEED, n_jobs=N_JOBS)"
   ],
   "id": "4af3951f0d27b0c5",
   "outputs": [],
   "execution_count": 241
  },
  {
   "metadata": {
    "ExecuteTime": {
     "end_time": "2024-08-27T10:35:08.982955Z",
     "start_time": "2024-08-27T10:35:06.265540Z"
    }
   },
   "cell_type": "code",
   "source": [
    "X_train = df.query('dataset == \"train\"')[fps_cols + features]\n",
    "X_train_scale = scaler.fit_transform(X_train.values)\n",
    "\n",
    "results = {}\n",
    "\n",
    "for name in ['RF 100', 'RF 200', 'RF 400', 'RF 800', 'CATB']:\n",
    "    tic = time.time()\n",
    "    \n",
    "    model = models[name]\n",
    "    kfold = KFold(n_splits=5, shuffle=True, random_state=RANDOM_SEED)\n",
    "    results[name] = cross_val_score(model, X_train_scale, y_train, cv=kfold, scoring=rmse)\n",
    "    \n",
    "    toc = time.time()    \n",
    "    print(\"%5s: %3.3f ± %3.3f    %.1fs\" % (name, results[name].mean(), results[name].std(), toc - tic))\n",
    "    \n",
    "results = pd.DataFrame(results)\n",
    "sns.boxplot(results);"
   ],
   "id": "f63f78b1b64ef100",
   "outputs": [
    {
     "ename": "KeyboardInterrupt",
     "evalue": "",
     "output_type": "error",
     "traceback": [
      "\u001B[0;31m---------------------------------------------------------------------------\u001B[0m",
      "\u001B[0;31mKeyboardInterrupt\u001B[0m                         Traceback (most recent call last)",
      "Cell \u001B[0;32mIn[242], line 11\u001B[0m\n\u001B[1;32m      9\u001B[0m model \u001B[38;5;241m=\u001B[39m models[name]\n\u001B[1;32m     10\u001B[0m kfold \u001B[38;5;241m=\u001B[39m KFold(n_splits\u001B[38;5;241m=\u001B[39m\u001B[38;5;241m10\u001B[39m, shuffle\u001B[38;5;241m=\u001B[39m\u001B[38;5;28;01mTrue\u001B[39;00m, random_state\u001B[38;5;241m=\u001B[39mRANDOM_SEED)\n\u001B[0;32m---> 11\u001B[0m results[name] \u001B[38;5;241m=\u001B[39m \u001B[43mcross_val_score\u001B[49m\u001B[43m(\u001B[49m\u001B[43mmodel\u001B[49m\u001B[43m,\u001B[49m\u001B[43m \u001B[49m\u001B[43mX_train_scale\u001B[49m\u001B[43m,\u001B[49m\u001B[43m \u001B[49m\u001B[43my_train\u001B[49m\u001B[43m,\u001B[49m\u001B[43m \u001B[49m\u001B[43mcv\u001B[49m\u001B[38;5;241;43m=\u001B[39;49m\u001B[43mkfold\u001B[49m\u001B[43m,\u001B[49m\u001B[43m \u001B[49m\u001B[43mscoring\u001B[49m\u001B[38;5;241;43m=\u001B[39;49m\u001B[43mrmse\u001B[49m\u001B[43m)\u001B[49m\n\u001B[1;32m     13\u001B[0m toc \u001B[38;5;241m=\u001B[39m time\u001B[38;5;241m.\u001B[39mtime()    \n\u001B[1;32m     14\u001B[0m \u001B[38;5;28mprint\u001B[39m(\u001B[38;5;124m\"\u001B[39m\u001B[38;5;132;01m%5s\u001B[39;00m\u001B[38;5;124m: \u001B[39m\u001B[38;5;132;01m%3.3f\u001B[39;00m\u001B[38;5;124m ± \u001B[39m\u001B[38;5;132;01m%3.3f\u001B[39;00m\u001B[38;5;124m    \u001B[39m\u001B[38;5;132;01m%.1f\u001B[39;00m\u001B[38;5;124ms\u001B[39m\u001B[38;5;124m\"\u001B[39m \u001B[38;5;241m%\u001B[39m (name, results[name]\u001B[38;5;241m.\u001B[39mmean(), results[name]\u001B[38;5;241m.\u001B[39mstd(), toc \u001B[38;5;241m-\u001B[39m tic))\n",
      "File \u001B[0;32m~/miniforge3/envs/chem/lib/python3.10/site-packages/sklearn/utils/_param_validation.py:213\u001B[0m, in \u001B[0;36mvalidate_params.<locals>.decorator.<locals>.wrapper\u001B[0;34m(*args, **kwargs)\u001B[0m\n\u001B[1;32m    207\u001B[0m \u001B[38;5;28;01mtry\u001B[39;00m:\n\u001B[1;32m    208\u001B[0m     \u001B[38;5;28;01mwith\u001B[39;00m config_context(\n\u001B[1;32m    209\u001B[0m         skip_parameter_validation\u001B[38;5;241m=\u001B[39m(\n\u001B[1;32m    210\u001B[0m             prefer_skip_nested_validation \u001B[38;5;129;01mor\u001B[39;00m global_skip_validation\n\u001B[1;32m    211\u001B[0m         )\n\u001B[1;32m    212\u001B[0m     ):\n\u001B[0;32m--> 213\u001B[0m         \u001B[38;5;28;01mreturn\u001B[39;00m \u001B[43mfunc\u001B[49m\u001B[43m(\u001B[49m\u001B[38;5;241;43m*\u001B[39;49m\u001B[43margs\u001B[49m\u001B[43m,\u001B[49m\u001B[43m \u001B[49m\u001B[38;5;241;43m*\u001B[39;49m\u001B[38;5;241;43m*\u001B[39;49m\u001B[43mkwargs\u001B[49m\u001B[43m)\u001B[49m\n\u001B[1;32m    214\u001B[0m \u001B[38;5;28;01mexcept\u001B[39;00m InvalidParameterError \u001B[38;5;28;01mas\u001B[39;00m e:\n\u001B[1;32m    215\u001B[0m     \u001B[38;5;66;03m# When the function is just a wrapper around an estimator, we allow\u001B[39;00m\n\u001B[1;32m    216\u001B[0m     \u001B[38;5;66;03m# the function to delegate validation to the estimator, but we replace\u001B[39;00m\n\u001B[1;32m    217\u001B[0m     \u001B[38;5;66;03m# the name of the estimator by the name of the function in the error\u001B[39;00m\n\u001B[1;32m    218\u001B[0m     \u001B[38;5;66;03m# message to avoid confusion.\u001B[39;00m\n\u001B[1;32m    219\u001B[0m     msg \u001B[38;5;241m=\u001B[39m re\u001B[38;5;241m.\u001B[39msub(\n\u001B[1;32m    220\u001B[0m         \u001B[38;5;124mr\u001B[39m\u001B[38;5;124m\"\u001B[39m\u001B[38;5;124mparameter of \u001B[39m\u001B[38;5;124m\\\u001B[39m\u001B[38;5;124mw+ must be\u001B[39m\u001B[38;5;124m\"\u001B[39m,\n\u001B[1;32m    221\u001B[0m         \u001B[38;5;124mf\u001B[39m\u001B[38;5;124m\"\u001B[39m\u001B[38;5;124mparameter of \u001B[39m\u001B[38;5;132;01m{\u001B[39;00mfunc\u001B[38;5;241m.\u001B[39m\u001B[38;5;18m__qualname__\u001B[39m\u001B[38;5;132;01m}\u001B[39;00m\u001B[38;5;124m must be\u001B[39m\u001B[38;5;124m\"\u001B[39m,\n\u001B[1;32m    222\u001B[0m         \u001B[38;5;28mstr\u001B[39m(e),\n\u001B[1;32m    223\u001B[0m     )\n",
      "File \u001B[0;32m~/miniforge3/envs/chem/lib/python3.10/site-packages/sklearn/model_selection/_validation.py:712\u001B[0m, in \u001B[0;36mcross_val_score\u001B[0;34m(estimator, X, y, groups, scoring, cv, n_jobs, verbose, fit_params, params, pre_dispatch, error_score)\u001B[0m\n\u001B[1;32m    709\u001B[0m \u001B[38;5;66;03m# To ensure multimetric format is not supported\u001B[39;00m\n\u001B[1;32m    710\u001B[0m scorer \u001B[38;5;241m=\u001B[39m check_scoring(estimator, scoring\u001B[38;5;241m=\u001B[39mscoring)\n\u001B[0;32m--> 712\u001B[0m cv_results \u001B[38;5;241m=\u001B[39m \u001B[43mcross_validate\u001B[49m\u001B[43m(\u001B[49m\n\u001B[1;32m    713\u001B[0m \u001B[43m    \u001B[49m\u001B[43mestimator\u001B[49m\u001B[38;5;241;43m=\u001B[39;49m\u001B[43mestimator\u001B[49m\u001B[43m,\u001B[49m\n\u001B[1;32m    714\u001B[0m \u001B[43m    \u001B[49m\u001B[43mX\u001B[49m\u001B[38;5;241;43m=\u001B[39;49m\u001B[43mX\u001B[49m\u001B[43m,\u001B[49m\n\u001B[1;32m    715\u001B[0m \u001B[43m    \u001B[49m\u001B[43my\u001B[49m\u001B[38;5;241;43m=\u001B[39;49m\u001B[43my\u001B[49m\u001B[43m,\u001B[49m\n\u001B[1;32m    716\u001B[0m \u001B[43m    \u001B[49m\u001B[43mgroups\u001B[49m\u001B[38;5;241;43m=\u001B[39;49m\u001B[43mgroups\u001B[49m\u001B[43m,\u001B[49m\n\u001B[1;32m    717\u001B[0m \u001B[43m    \u001B[49m\u001B[43mscoring\u001B[49m\u001B[38;5;241;43m=\u001B[39;49m\u001B[43m{\u001B[49m\u001B[38;5;124;43m\"\u001B[39;49m\u001B[38;5;124;43mscore\u001B[39;49m\u001B[38;5;124;43m\"\u001B[39;49m\u001B[43m:\u001B[49m\u001B[43m \u001B[49m\u001B[43mscorer\u001B[49m\u001B[43m}\u001B[49m\u001B[43m,\u001B[49m\n\u001B[1;32m    718\u001B[0m \u001B[43m    \u001B[49m\u001B[43mcv\u001B[49m\u001B[38;5;241;43m=\u001B[39;49m\u001B[43mcv\u001B[49m\u001B[43m,\u001B[49m\n\u001B[1;32m    719\u001B[0m \u001B[43m    \u001B[49m\u001B[43mn_jobs\u001B[49m\u001B[38;5;241;43m=\u001B[39;49m\u001B[43mn_jobs\u001B[49m\u001B[43m,\u001B[49m\n\u001B[1;32m    720\u001B[0m \u001B[43m    \u001B[49m\u001B[43mverbose\u001B[49m\u001B[38;5;241;43m=\u001B[39;49m\u001B[43mverbose\u001B[49m\u001B[43m,\u001B[49m\n\u001B[1;32m    721\u001B[0m \u001B[43m    \u001B[49m\u001B[43mfit_params\u001B[49m\u001B[38;5;241;43m=\u001B[39;49m\u001B[43mfit_params\u001B[49m\u001B[43m,\u001B[49m\n\u001B[1;32m    722\u001B[0m \u001B[43m    \u001B[49m\u001B[43mparams\u001B[49m\u001B[38;5;241;43m=\u001B[39;49m\u001B[43mparams\u001B[49m\u001B[43m,\u001B[49m\n\u001B[1;32m    723\u001B[0m \u001B[43m    \u001B[49m\u001B[43mpre_dispatch\u001B[49m\u001B[38;5;241;43m=\u001B[39;49m\u001B[43mpre_dispatch\u001B[49m\u001B[43m,\u001B[49m\n\u001B[1;32m    724\u001B[0m \u001B[43m    \u001B[49m\u001B[43merror_score\u001B[49m\u001B[38;5;241;43m=\u001B[39;49m\u001B[43merror_score\u001B[49m\u001B[43m,\u001B[49m\n\u001B[1;32m    725\u001B[0m \u001B[43m\u001B[49m\u001B[43m)\u001B[49m\n\u001B[1;32m    726\u001B[0m \u001B[38;5;28;01mreturn\u001B[39;00m cv_results[\u001B[38;5;124m\"\u001B[39m\u001B[38;5;124mtest_score\u001B[39m\u001B[38;5;124m\"\u001B[39m]\n",
      "File \u001B[0;32m~/miniforge3/envs/chem/lib/python3.10/site-packages/sklearn/utils/_param_validation.py:213\u001B[0m, in \u001B[0;36mvalidate_params.<locals>.decorator.<locals>.wrapper\u001B[0;34m(*args, **kwargs)\u001B[0m\n\u001B[1;32m    207\u001B[0m \u001B[38;5;28;01mtry\u001B[39;00m:\n\u001B[1;32m    208\u001B[0m     \u001B[38;5;28;01mwith\u001B[39;00m config_context(\n\u001B[1;32m    209\u001B[0m         skip_parameter_validation\u001B[38;5;241m=\u001B[39m(\n\u001B[1;32m    210\u001B[0m             prefer_skip_nested_validation \u001B[38;5;129;01mor\u001B[39;00m global_skip_validation\n\u001B[1;32m    211\u001B[0m         )\n\u001B[1;32m    212\u001B[0m     ):\n\u001B[0;32m--> 213\u001B[0m         \u001B[38;5;28;01mreturn\u001B[39;00m \u001B[43mfunc\u001B[49m\u001B[43m(\u001B[49m\u001B[38;5;241;43m*\u001B[39;49m\u001B[43margs\u001B[49m\u001B[43m,\u001B[49m\u001B[43m \u001B[49m\u001B[38;5;241;43m*\u001B[39;49m\u001B[38;5;241;43m*\u001B[39;49m\u001B[43mkwargs\u001B[49m\u001B[43m)\u001B[49m\n\u001B[1;32m    214\u001B[0m \u001B[38;5;28;01mexcept\u001B[39;00m InvalidParameterError \u001B[38;5;28;01mas\u001B[39;00m e:\n\u001B[1;32m    215\u001B[0m     \u001B[38;5;66;03m# When the function is just a wrapper around an estimator, we allow\u001B[39;00m\n\u001B[1;32m    216\u001B[0m     \u001B[38;5;66;03m# the function to delegate validation to the estimator, but we replace\u001B[39;00m\n\u001B[1;32m    217\u001B[0m     \u001B[38;5;66;03m# the name of the estimator by the name of the function in the error\u001B[39;00m\n\u001B[1;32m    218\u001B[0m     \u001B[38;5;66;03m# message to avoid confusion.\u001B[39;00m\n\u001B[1;32m    219\u001B[0m     msg \u001B[38;5;241m=\u001B[39m re\u001B[38;5;241m.\u001B[39msub(\n\u001B[1;32m    220\u001B[0m         \u001B[38;5;124mr\u001B[39m\u001B[38;5;124m\"\u001B[39m\u001B[38;5;124mparameter of \u001B[39m\u001B[38;5;124m\\\u001B[39m\u001B[38;5;124mw+ must be\u001B[39m\u001B[38;5;124m\"\u001B[39m,\n\u001B[1;32m    221\u001B[0m         \u001B[38;5;124mf\u001B[39m\u001B[38;5;124m\"\u001B[39m\u001B[38;5;124mparameter of \u001B[39m\u001B[38;5;132;01m{\u001B[39;00mfunc\u001B[38;5;241m.\u001B[39m\u001B[38;5;18m__qualname__\u001B[39m\u001B[38;5;132;01m}\u001B[39;00m\u001B[38;5;124m must be\u001B[39m\u001B[38;5;124m\"\u001B[39m,\n\u001B[1;32m    222\u001B[0m         \u001B[38;5;28mstr\u001B[39m(e),\n\u001B[1;32m    223\u001B[0m     )\n",
      "File \u001B[0;32m~/miniforge3/envs/chem/lib/python3.10/site-packages/sklearn/model_selection/_validation.py:423\u001B[0m, in \u001B[0;36mcross_validate\u001B[0;34m(estimator, X, y, groups, scoring, cv, n_jobs, verbose, fit_params, params, pre_dispatch, return_train_score, return_estimator, return_indices, error_score)\u001B[0m\n\u001B[1;32m    420\u001B[0m \u001B[38;5;66;03m# We clone the estimator to make sure that all the folds are\u001B[39;00m\n\u001B[1;32m    421\u001B[0m \u001B[38;5;66;03m# independent, and that it is pickle-able.\u001B[39;00m\n\u001B[1;32m    422\u001B[0m parallel \u001B[38;5;241m=\u001B[39m Parallel(n_jobs\u001B[38;5;241m=\u001B[39mn_jobs, verbose\u001B[38;5;241m=\u001B[39mverbose, pre_dispatch\u001B[38;5;241m=\u001B[39mpre_dispatch)\n\u001B[0;32m--> 423\u001B[0m results \u001B[38;5;241m=\u001B[39m \u001B[43mparallel\u001B[49m\u001B[43m(\u001B[49m\n\u001B[1;32m    424\u001B[0m \u001B[43m    \u001B[49m\u001B[43mdelayed\u001B[49m\u001B[43m(\u001B[49m\u001B[43m_fit_and_score\u001B[49m\u001B[43m)\u001B[49m\u001B[43m(\u001B[49m\n\u001B[1;32m    425\u001B[0m \u001B[43m        \u001B[49m\u001B[43mclone\u001B[49m\u001B[43m(\u001B[49m\u001B[43mestimator\u001B[49m\u001B[43m)\u001B[49m\u001B[43m,\u001B[49m\n\u001B[1;32m    426\u001B[0m \u001B[43m        \u001B[49m\u001B[43mX\u001B[49m\u001B[43m,\u001B[49m\n\u001B[1;32m    427\u001B[0m \u001B[43m        \u001B[49m\u001B[43my\u001B[49m\u001B[43m,\u001B[49m\n\u001B[1;32m    428\u001B[0m \u001B[43m        \u001B[49m\u001B[43mscorer\u001B[49m\u001B[38;5;241;43m=\u001B[39;49m\u001B[43mscorers\u001B[49m\u001B[43m,\u001B[49m\n\u001B[1;32m    429\u001B[0m \u001B[43m        \u001B[49m\u001B[43mtrain\u001B[49m\u001B[38;5;241;43m=\u001B[39;49m\u001B[43mtrain\u001B[49m\u001B[43m,\u001B[49m\n\u001B[1;32m    430\u001B[0m \u001B[43m        \u001B[49m\u001B[43mtest\u001B[49m\u001B[38;5;241;43m=\u001B[39;49m\u001B[43mtest\u001B[49m\u001B[43m,\u001B[49m\n\u001B[1;32m    431\u001B[0m \u001B[43m        \u001B[49m\u001B[43mverbose\u001B[49m\u001B[38;5;241;43m=\u001B[39;49m\u001B[43mverbose\u001B[49m\u001B[43m,\u001B[49m\n\u001B[1;32m    432\u001B[0m \u001B[43m        \u001B[49m\u001B[43mparameters\u001B[49m\u001B[38;5;241;43m=\u001B[39;49m\u001B[38;5;28;43;01mNone\u001B[39;49;00m\u001B[43m,\u001B[49m\n\u001B[1;32m    433\u001B[0m \u001B[43m        \u001B[49m\u001B[43mfit_params\u001B[49m\u001B[38;5;241;43m=\u001B[39;49m\u001B[43mrouted_params\u001B[49m\u001B[38;5;241;43m.\u001B[39;49m\u001B[43mestimator\u001B[49m\u001B[38;5;241;43m.\u001B[39;49m\u001B[43mfit\u001B[49m\u001B[43m,\u001B[49m\n\u001B[1;32m    434\u001B[0m \u001B[43m        \u001B[49m\u001B[43mscore_params\u001B[49m\u001B[38;5;241;43m=\u001B[39;49m\u001B[43mrouted_params\u001B[49m\u001B[38;5;241;43m.\u001B[39;49m\u001B[43mscorer\u001B[49m\u001B[38;5;241;43m.\u001B[39;49m\u001B[43mscore\u001B[49m\u001B[43m,\u001B[49m\n\u001B[1;32m    435\u001B[0m \u001B[43m        \u001B[49m\u001B[43mreturn_train_score\u001B[49m\u001B[38;5;241;43m=\u001B[39;49m\u001B[43mreturn_train_score\u001B[49m\u001B[43m,\u001B[49m\n\u001B[1;32m    436\u001B[0m \u001B[43m        \u001B[49m\u001B[43mreturn_times\u001B[49m\u001B[38;5;241;43m=\u001B[39;49m\u001B[38;5;28;43;01mTrue\u001B[39;49;00m\u001B[43m,\u001B[49m\n\u001B[1;32m    437\u001B[0m \u001B[43m        \u001B[49m\u001B[43mreturn_estimator\u001B[49m\u001B[38;5;241;43m=\u001B[39;49m\u001B[43mreturn_estimator\u001B[49m\u001B[43m,\u001B[49m\n\u001B[1;32m    438\u001B[0m \u001B[43m        \u001B[49m\u001B[43merror_score\u001B[49m\u001B[38;5;241;43m=\u001B[39;49m\u001B[43merror_score\u001B[49m\u001B[43m,\u001B[49m\n\u001B[1;32m    439\u001B[0m \u001B[43m    \u001B[49m\u001B[43m)\u001B[49m\n\u001B[1;32m    440\u001B[0m \u001B[43m    \u001B[49m\u001B[38;5;28;43;01mfor\u001B[39;49;00m\u001B[43m \u001B[49m\u001B[43mtrain\u001B[49m\u001B[43m,\u001B[49m\u001B[43m \u001B[49m\u001B[43mtest\u001B[49m\u001B[43m \u001B[49m\u001B[38;5;129;43;01min\u001B[39;49;00m\u001B[43m \u001B[49m\u001B[43mindices\u001B[49m\n\u001B[1;32m    441\u001B[0m \u001B[43m\u001B[49m\u001B[43m)\u001B[49m\n\u001B[1;32m    443\u001B[0m _warn_or_raise_about_fit_failures(results, error_score)\n\u001B[1;32m    445\u001B[0m \u001B[38;5;66;03m# For callable scoring, the return type is only know after calling. If the\u001B[39;00m\n\u001B[1;32m    446\u001B[0m \u001B[38;5;66;03m# return type is a dictionary, the error scores can now be inserted with\u001B[39;00m\n\u001B[1;32m    447\u001B[0m \u001B[38;5;66;03m# the correct key.\u001B[39;00m\n",
      "File \u001B[0;32m~/miniforge3/envs/chem/lib/python3.10/site-packages/sklearn/utils/parallel.py:67\u001B[0m, in \u001B[0;36mParallel.__call__\u001B[0;34m(self, iterable)\u001B[0m\n\u001B[1;32m     62\u001B[0m config \u001B[38;5;241m=\u001B[39m get_config()\n\u001B[1;32m     63\u001B[0m iterable_with_config \u001B[38;5;241m=\u001B[39m (\n\u001B[1;32m     64\u001B[0m     (_with_config(delayed_func, config), args, kwargs)\n\u001B[1;32m     65\u001B[0m     \u001B[38;5;28;01mfor\u001B[39;00m delayed_func, args, kwargs \u001B[38;5;129;01min\u001B[39;00m iterable\n\u001B[1;32m     66\u001B[0m )\n\u001B[0;32m---> 67\u001B[0m \u001B[38;5;28;01mreturn\u001B[39;00m \u001B[38;5;28;43msuper\u001B[39;49m\u001B[43m(\u001B[49m\u001B[43m)\u001B[49m\u001B[38;5;241;43m.\u001B[39;49m\u001B[38;5;21;43m__call__\u001B[39;49m\u001B[43m(\u001B[49m\u001B[43miterable_with_config\u001B[49m\u001B[43m)\u001B[49m\n",
      "File \u001B[0;32m~/miniforge3/envs/chem/lib/python3.10/site-packages/joblib/parallel.py:1918\u001B[0m, in \u001B[0;36mParallel.__call__\u001B[0;34m(self, iterable)\u001B[0m\n\u001B[1;32m   1916\u001B[0m     output \u001B[38;5;241m=\u001B[39m \u001B[38;5;28mself\u001B[39m\u001B[38;5;241m.\u001B[39m_get_sequential_output(iterable)\n\u001B[1;32m   1917\u001B[0m     \u001B[38;5;28mnext\u001B[39m(output)\n\u001B[0;32m-> 1918\u001B[0m     \u001B[38;5;28;01mreturn\u001B[39;00m output \u001B[38;5;28;01mif\u001B[39;00m \u001B[38;5;28mself\u001B[39m\u001B[38;5;241m.\u001B[39mreturn_generator \u001B[38;5;28;01melse\u001B[39;00m \u001B[38;5;28;43mlist\u001B[39;49m\u001B[43m(\u001B[49m\u001B[43moutput\u001B[49m\u001B[43m)\u001B[49m\n\u001B[1;32m   1920\u001B[0m \u001B[38;5;66;03m# Let's create an ID that uniquely identifies the current call. If the\u001B[39;00m\n\u001B[1;32m   1921\u001B[0m \u001B[38;5;66;03m# call is interrupted early and that the same instance is immediately\u001B[39;00m\n\u001B[1;32m   1922\u001B[0m \u001B[38;5;66;03m# re-used, this id will be used to prevent workers that were\u001B[39;00m\n\u001B[1;32m   1923\u001B[0m \u001B[38;5;66;03m# concurrently finalizing a task from the previous call to run the\u001B[39;00m\n\u001B[1;32m   1924\u001B[0m \u001B[38;5;66;03m# callback.\u001B[39;00m\n\u001B[1;32m   1925\u001B[0m \u001B[38;5;28;01mwith\u001B[39;00m \u001B[38;5;28mself\u001B[39m\u001B[38;5;241m.\u001B[39m_lock:\n",
      "File \u001B[0;32m~/miniforge3/envs/chem/lib/python3.10/site-packages/joblib/parallel.py:1847\u001B[0m, in \u001B[0;36mParallel._get_sequential_output\u001B[0;34m(self, iterable)\u001B[0m\n\u001B[1;32m   1845\u001B[0m \u001B[38;5;28mself\u001B[39m\u001B[38;5;241m.\u001B[39mn_dispatched_batches \u001B[38;5;241m+\u001B[39m\u001B[38;5;241m=\u001B[39m \u001B[38;5;241m1\u001B[39m\n\u001B[1;32m   1846\u001B[0m \u001B[38;5;28mself\u001B[39m\u001B[38;5;241m.\u001B[39mn_dispatched_tasks \u001B[38;5;241m+\u001B[39m\u001B[38;5;241m=\u001B[39m \u001B[38;5;241m1\u001B[39m\n\u001B[0;32m-> 1847\u001B[0m res \u001B[38;5;241m=\u001B[39m \u001B[43mfunc\u001B[49m\u001B[43m(\u001B[49m\u001B[38;5;241;43m*\u001B[39;49m\u001B[43margs\u001B[49m\u001B[43m,\u001B[49m\u001B[43m \u001B[49m\u001B[38;5;241;43m*\u001B[39;49m\u001B[38;5;241;43m*\u001B[39;49m\u001B[43mkwargs\u001B[49m\u001B[43m)\u001B[49m\n\u001B[1;32m   1848\u001B[0m \u001B[38;5;28mself\u001B[39m\u001B[38;5;241m.\u001B[39mn_completed_tasks \u001B[38;5;241m+\u001B[39m\u001B[38;5;241m=\u001B[39m \u001B[38;5;241m1\u001B[39m\n\u001B[1;32m   1849\u001B[0m \u001B[38;5;28mself\u001B[39m\u001B[38;5;241m.\u001B[39mprint_progress()\n",
      "File \u001B[0;32m~/miniforge3/envs/chem/lib/python3.10/site-packages/sklearn/utils/parallel.py:129\u001B[0m, in \u001B[0;36m_FuncWrapper.__call__\u001B[0;34m(self, *args, **kwargs)\u001B[0m\n\u001B[1;32m    127\u001B[0m     config \u001B[38;5;241m=\u001B[39m {}\n\u001B[1;32m    128\u001B[0m \u001B[38;5;28;01mwith\u001B[39;00m config_context(\u001B[38;5;241m*\u001B[39m\u001B[38;5;241m*\u001B[39mconfig):\n\u001B[0;32m--> 129\u001B[0m     \u001B[38;5;28;01mreturn\u001B[39;00m \u001B[38;5;28;43mself\u001B[39;49m\u001B[38;5;241;43m.\u001B[39;49m\u001B[43mfunction\u001B[49m\u001B[43m(\u001B[49m\u001B[38;5;241;43m*\u001B[39;49m\u001B[43margs\u001B[49m\u001B[43m,\u001B[49m\u001B[43m \u001B[49m\u001B[38;5;241;43m*\u001B[39;49m\u001B[38;5;241;43m*\u001B[39;49m\u001B[43mkwargs\u001B[49m\u001B[43m)\u001B[49m\n",
      "File \u001B[0;32m~/miniforge3/envs/chem/lib/python3.10/site-packages/sklearn/model_selection/_validation.py:888\u001B[0m, in \u001B[0;36m_fit_and_score\u001B[0;34m(estimator, X, y, scorer, train, test, verbose, parameters, fit_params, score_params, return_train_score, return_parameters, return_n_test_samples, return_times, return_estimator, split_progress, candidate_progress, error_score)\u001B[0m\n\u001B[1;32m    886\u001B[0m         estimator\u001B[38;5;241m.\u001B[39mfit(X_train, \u001B[38;5;241m*\u001B[39m\u001B[38;5;241m*\u001B[39mfit_params)\n\u001B[1;32m    887\u001B[0m     \u001B[38;5;28;01melse\u001B[39;00m:\n\u001B[0;32m--> 888\u001B[0m         \u001B[43mestimator\u001B[49m\u001B[38;5;241;43m.\u001B[39;49m\u001B[43mfit\u001B[49m\u001B[43m(\u001B[49m\u001B[43mX_train\u001B[49m\u001B[43m,\u001B[49m\u001B[43m \u001B[49m\u001B[43my_train\u001B[49m\u001B[43m,\u001B[49m\u001B[43m \u001B[49m\u001B[38;5;241;43m*\u001B[39;49m\u001B[38;5;241;43m*\u001B[39;49m\u001B[43mfit_params\u001B[49m\u001B[43m)\u001B[49m\n\u001B[1;32m    890\u001B[0m \u001B[38;5;28;01mexcept\u001B[39;00m \u001B[38;5;167;01mException\u001B[39;00m:\n\u001B[1;32m    891\u001B[0m     \u001B[38;5;66;03m# Note fit time as time until error\u001B[39;00m\n\u001B[1;32m    892\u001B[0m     fit_time \u001B[38;5;241m=\u001B[39m time\u001B[38;5;241m.\u001B[39mtime() \u001B[38;5;241m-\u001B[39m start_time\n",
      "File \u001B[0;32m~/miniforge3/envs/chem/lib/python3.10/site-packages/sklearn/base.py:1473\u001B[0m, in \u001B[0;36m_fit_context.<locals>.decorator.<locals>.wrapper\u001B[0;34m(estimator, *args, **kwargs)\u001B[0m\n\u001B[1;32m   1466\u001B[0m     estimator\u001B[38;5;241m.\u001B[39m_validate_params()\n\u001B[1;32m   1468\u001B[0m \u001B[38;5;28;01mwith\u001B[39;00m config_context(\n\u001B[1;32m   1469\u001B[0m     skip_parameter_validation\u001B[38;5;241m=\u001B[39m(\n\u001B[1;32m   1470\u001B[0m         prefer_skip_nested_validation \u001B[38;5;129;01mor\u001B[39;00m global_skip_validation\n\u001B[1;32m   1471\u001B[0m     )\n\u001B[1;32m   1472\u001B[0m ):\n\u001B[0;32m-> 1473\u001B[0m     \u001B[38;5;28;01mreturn\u001B[39;00m \u001B[43mfit_method\u001B[49m\u001B[43m(\u001B[49m\u001B[43mestimator\u001B[49m\u001B[43m,\u001B[49m\u001B[43m \u001B[49m\u001B[38;5;241;43m*\u001B[39;49m\u001B[43margs\u001B[49m\u001B[43m,\u001B[49m\u001B[43m \u001B[49m\u001B[38;5;241;43m*\u001B[39;49m\u001B[38;5;241;43m*\u001B[39;49m\u001B[43mkwargs\u001B[49m\u001B[43m)\u001B[49m\n",
      "File \u001B[0;32m~/miniforge3/envs/chem/lib/python3.10/site-packages/sklearn/ensemble/_forest.py:489\u001B[0m, in \u001B[0;36mBaseForest.fit\u001B[0;34m(self, X, y, sample_weight)\u001B[0m\n\u001B[1;32m    478\u001B[0m trees \u001B[38;5;241m=\u001B[39m [\n\u001B[1;32m    479\u001B[0m     \u001B[38;5;28mself\u001B[39m\u001B[38;5;241m.\u001B[39m_make_estimator(append\u001B[38;5;241m=\u001B[39m\u001B[38;5;28;01mFalse\u001B[39;00m, random_state\u001B[38;5;241m=\u001B[39mrandom_state)\n\u001B[1;32m    480\u001B[0m     \u001B[38;5;28;01mfor\u001B[39;00m i \u001B[38;5;129;01min\u001B[39;00m \u001B[38;5;28mrange\u001B[39m(n_more_estimators)\n\u001B[1;32m    481\u001B[0m ]\n\u001B[1;32m    483\u001B[0m \u001B[38;5;66;03m# Parallel loop: we prefer the threading backend as the Cython code\u001B[39;00m\n\u001B[1;32m    484\u001B[0m \u001B[38;5;66;03m# for fitting the trees is internally releasing the Python GIL\u001B[39;00m\n\u001B[1;32m    485\u001B[0m \u001B[38;5;66;03m# making threading more efficient than multiprocessing in\u001B[39;00m\n\u001B[1;32m    486\u001B[0m \u001B[38;5;66;03m# that case. However, for joblib 0.12+ we respect any\u001B[39;00m\n\u001B[1;32m    487\u001B[0m \u001B[38;5;66;03m# parallel_backend contexts set at a higher level,\u001B[39;00m\n\u001B[1;32m    488\u001B[0m \u001B[38;5;66;03m# since correctness does not rely on using threads.\u001B[39;00m\n\u001B[0;32m--> 489\u001B[0m trees \u001B[38;5;241m=\u001B[39m \u001B[43mParallel\u001B[49m\u001B[43m(\u001B[49m\n\u001B[1;32m    490\u001B[0m \u001B[43m    \u001B[49m\u001B[43mn_jobs\u001B[49m\u001B[38;5;241;43m=\u001B[39;49m\u001B[38;5;28;43mself\u001B[39;49m\u001B[38;5;241;43m.\u001B[39;49m\u001B[43mn_jobs\u001B[49m\u001B[43m,\u001B[49m\n\u001B[1;32m    491\u001B[0m \u001B[43m    \u001B[49m\u001B[43mverbose\u001B[49m\u001B[38;5;241;43m=\u001B[39;49m\u001B[38;5;28;43mself\u001B[39;49m\u001B[38;5;241;43m.\u001B[39;49m\u001B[43mverbose\u001B[49m\u001B[43m,\u001B[49m\n\u001B[1;32m    492\u001B[0m \u001B[43m    \u001B[49m\u001B[43mprefer\u001B[49m\u001B[38;5;241;43m=\u001B[39;49m\u001B[38;5;124;43m\"\u001B[39;49m\u001B[38;5;124;43mthreads\u001B[39;49m\u001B[38;5;124;43m\"\u001B[39;49m\u001B[43m,\u001B[49m\n\u001B[1;32m    493\u001B[0m \u001B[43m\u001B[49m\u001B[43m)\u001B[49m\u001B[43m(\u001B[49m\n\u001B[1;32m    494\u001B[0m \u001B[43m    \u001B[49m\u001B[43mdelayed\u001B[49m\u001B[43m(\u001B[49m\u001B[43m_parallel_build_trees\u001B[49m\u001B[43m)\u001B[49m\u001B[43m(\u001B[49m\n\u001B[1;32m    495\u001B[0m \u001B[43m        \u001B[49m\u001B[43mt\u001B[49m\u001B[43m,\u001B[49m\n\u001B[1;32m    496\u001B[0m \u001B[43m        \u001B[49m\u001B[38;5;28;43mself\u001B[39;49m\u001B[38;5;241;43m.\u001B[39;49m\u001B[43mbootstrap\u001B[49m\u001B[43m,\u001B[49m\n\u001B[1;32m    497\u001B[0m \u001B[43m        \u001B[49m\u001B[43mX\u001B[49m\u001B[43m,\u001B[49m\n\u001B[1;32m    498\u001B[0m \u001B[43m        \u001B[49m\u001B[43my\u001B[49m\u001B[43m,\u001B[49m\n\u001B[1;32m    499\u001B[0m \u001B[43m        \u001B[49m\u001B[43msample_weight\u001B[49m\u001B[43m,\u001B[49m\n\u001B[1;32m    500\u001B[0m \u001B[43m        \u001B[49m\u001B[43mi\u001B[49m\u001B[43m,\u001B[49m\n\u001B[1;32m    501\u001B[0m \u001B[43m        \u001B[49m\u001B[38;5;28;43mlen\u001B[39;49m\u001B[43m(\u001B[49m\u001B[43mtrees\u001B[49m\u001B[43m)\u001B[49m\u001B[43m,\u001B[49m\n\u001B[1;32m    502\u001B[0m \u001B[43m        \u001B[49m\u001B[43mverbose\u001B[49m\u001B[38;5;241;43m=\u001B[39;49m\u001B[38;5;28;43mself\u001B[39;49m\u001B[38;5;241;43m.\u001B[39;49m\u001B[43mverbose\u001B[49m\u001B[43m,\u001B[49m\n\u001B[1;32m    503\u001B[0m \u001B[43m        \u001B[49m\u001B[43mclass_weight\u001B[49m\u001B[38;5;241;43m=\u001B[39;49m\u001B[38;5;28;43mself\u001B[39;49m\u001B[38;5;241;43m.\u001B[39;49m\u001B[43mclass_weight\u001B[49m\u001B[43m,\u001B[49m\n\u001B[1;32m    504\u001B[0m \u001B[43m        \u001B[49m\u001B[43mn_samples_bootstrap\u001B[49m\u001B[38;5;241;43m=\u001B[39;49m\u001B[43mn_samples_bootstrap\u001B[49m\u001B[43m,\u001B[49m\n\u001B[1;32m    505\u001B[0m \u001B[43m        \u001B[49m\u001B[43mmissing_values_in_feature_mask\u001B[49m\u001B[38;5;241;43m=\u001B[39;49m\u001B[43mmissing_values_in_feature_mask\u001B[49m\u001B[43m,\u001B[49m\n\u001B[1;32m    506\u001B[0m \u001B[43m    \u001B[49m\u001B[43m)\u001B[49m\n\u001B[1;32m    507\u001B[0m \u001B[43m    \u001B[49m\u001B[38;5;28;43;01mfor\u001B[39;49;00m\u001B[43m \u001B[49m\u001B[43mi\u001B[49m\u001B[43m,\u001B[49m\u001B[43m \u001B[49m\u001B[43mt\u001B[49m\u001B[43m \u001B[49m\u001B[38;5;129;43;01min\u001B[39;49;00m\u001B[43m \u001B[49m\u001B[38;5;28;43menumerate\u001B[39;49m\u001B[43m(\u001B[49m\u001B[43mtrees\u001B[49m\u001B[43m)\u001B[49m\n\u001B[1;32m    508\u001B[0m \u001B[43m\u001B[49m\u001B[43m)\u001B[49m\n\u001B[1;32m    510\u001B[0m \u001B[38;5;66;03m# Collect newly grown trees\u001B[39;00m\n\u001B[1;32m    511\u001B[0m \u001B[38;5;28mself\u001B[39m\u001B[38;5;241m.\u001B[39mestimators_\u001B[38;5;241m.\u001B[39mextend(trees)\n",
      "File \u001B[0;32m~/miniforge3/envs/chem/lib/python3.10/site-packages/sklearn/utils/parallel.py:67\u001B[0m, in \u001B[0;36mParallel.__call__\u001B[0;34m(self, iterable)\u001B[0m\n\u001B[1;32m     62\u001B[0m config \u001B[38;5;241m=\u001B[39m get_config()\n\u001B[1;32m     63\u001B[0m iterable_with_config \u001B[38;5;241m=\u001B[39m (\n\u001B[1;32m     64\u001B[0m     (_with_config(delayed_func, config), args, kwargs)\n\u001B[1;32m     65\u001B[0m     \u001B[38;5;28;01mfor\u001B[39;00m delayed_func, args, kwargs \u001B[38;5;129;01min\u001B[39;00m iterable\n\u001B[1;32m     66\u001B[0m )\n\u001B[0;32m---> 67\u001B[0m \u001B[38;5;28;01mreturn\u001B[39;00m \u001B[38;5;28;43msuper\u001B[39;49m\u001B[43m(\u001B[49m\u001B[43m)\u001B[49m\u001B[38;5;241;43m.\u001B[39;49m\u001B[38;5;21;43m__call__\u001B[39;49m\u001B[43m(\u001B[49m\u001B[43miterable_with_config\u001B[49m\u001B[43m)\u001B[49m\n",
      "File \u001B[0;32m~/miniforge3/envs/chem/lib/python3.10/site-packages/joblib/parallel.py:2007\u001B[0m, in \u001B[0;36mParallel.__call__\u001B[0;34m(self, iterable)\u001B[0m\n\u001B[1;32m   2001\u001B[0m \u001B[38;5;66;03m# The first item from the output is blank, but it makes the interpreter\u001B[39;00m\n\u001B[1;32m   2002\u001B[0m \u001B[38;5;66;03m# progress until it enters the Try/Except block of the generator and\u001B[39;00m\n\u001B[1;32m   2003\u001B[0m \u001B[38;5;66;03m# reaches the first `yield` statement. This starts the asynchronous\u001B[39;00m\n\u001B[1;32m   2004\u001B[0m \u001B[38;5;66;03m# dispatch of the tasks to the workers.\u001B[39;00m\n\u001B[1;32m   2005\u001B[0m \u001B[38;5;28mnext\u001B[39m(output)\n\u001B[0;32m-> 2007\u001B[0m \u001B[38;5;28;01mreturn\u001B[39;00m output \u001B[38;5;28;01mif\u001B[39;00m \u001B[38;5;28mself\u001B[39m\u001B[38;5;241m.\u001B[39mreturn_generator \u001B[38;5;28;01melse\u001B[39;00m \u001B[38;5;28;43mlist\u001B[39;49m\u001B[43m(\u001B[49m\u001B[43moutput\u001B[49m\u001B[43m)\u001B[49m\n",
      "File \u001B[0;32m~/miniforge3/envs/chem/lib/python3.10/site-packages/joblib/parallel.py:1650\u001B[0m, in \u001B[0;36mParallel._get_outputs\u001B[0;34m(self, iterator, pre_dispatch)\u001B[0m\n\u001B[1;32m   1647\u001B[0m     \u001B[38;5;28;01myield\u001B[39;00m\n\u001B[1;32m   1649\u001B[0m     \u001B[38;5;28;01mwith\u001B[39;00m \u001B[38;5;28mself\u001B[39m\u001B[38;5;241m.\u001B[39m_backend\u001B[38;5;241m.\u001B[39mretrieval_context():\n\u001B[0;32m-> 1650\u001B[0m         \u001B[38;5;28;01myield from\u001B[39;00m \u001B[38;5;28mself\u001B[39m\u001B[38;5;241m.\u001B[39m_retrieve()\n\u001B[1;32m   1652\u001B[0m \u001B[38;5;28;01mexcept\u001B[39;00m \u001B[38;5;167;01mGeneratorExit\u001B[39;00m:\n\u001B[1;32m   1653\u001B[0m     \u001B[38;5;66;03m# The generator has been garbage collected before being fully\u001B[39;00m\n\u001B[1;32m   1654\u001B[0m     \u001B[38;5;66;03m# consumed. This aborts the remaining tasks if possible and warn\u001B[39;00m\n\u001B[1;32m   1655\u001B[0m     \u001B[38;5;66;03m# the user if necessary.\u001B[39;00m\n\u001B[1;32m   1656\u001B[0m     \u001B[38;5;28mself\u001B[39m\u001B[38;5;241m.\u001B[39m_exception \u001B[38;5;241m=\u001B[39m \u001B[38;5;28;01mTrue\u001B[39;00m\n",
      "File \u001B[0;32m~/miniforge3/envs/chem/lib/python3.10/site-packages/joblib/parallel.py:1762\u001B[0m, in \u001B[0;36mParallel._retrieve\u001B[0;34m(self)\u001B[0m\n\u001B[1;32m   1757\u001B[0m \u001B[38;5;66;03m# If the next job is not ready for retrieval yet, we just wait for\u001B[39;00m\n\u001B[1;32m   1758\u001B[0m \u001B[38;5;66;03m# async callbacks to progress.\u001B[39;00m\n\u001B[1;32m   1759\u001B[0m \u001B[38;5;28;01mif\u001B[39;00m ((\u001B[38;5;28mlen\u001B[39m(\u001B[38;5;28mself\u001B[39m\u001B[38;5;241m.\u001B[39m_jobs) \u001B[38;5;241m==\u001B[39m \u001B[38;5;241m0\u001B[39m) \u001B[38;5;129;01mor\u001B[39;00m\n\u001B[1;32m   1760\u001B[0m     (\u001B[38;5;28mself\u001B[39m\u001B[38;5;241m.\u001B[39m_jobs[\u001B[38;5;241m0\u001B[39m]\u001B[38;5;241m.\u001B[39mget_status(\n\u001B[1;32m   1761\u001B[0m         timeout\u001B[38;5;241m=\u001B[39m\u001B[38;5;28mself\u001B[39m\u001B[38;5;241m.\u001B[39mtimeout) \u001B[38;5;241m==\u001B[39m TASK_PENDING)):\n\u001B[0;32m-> 1762\u001B[0m     \u001B[43mtime\u001B[49m\u001B[38;5;241;43m.\u001B[39;49m\u001B[43msleep\u001B[49m\u001B[43m(\u001B[49m\u001B[38;5;241;43m0.01\u001B[39;49m\u001B[43m)\u001B[49m\n\u001B[1;32m   1763\u001B[0m     \u001B[38;5;28;01mcontinue\u001B[39;00m\n\u001B[1;32m   1765\u001B[0m \u001B[38;5;66;03m# We need to be careful: the job list can be filling up as\u001B[39;00m\n\u001B[1;32m   1766\u001B[0m \u001B[38;5;66;03m# we empty it and Python list are not thread-safe by\u001B[39;00m\n\u001B[1;32m   1767\u001B[0m \u001B[38;5;66;03m# default hence the use of the lock\u001B[39;00m\n",
      "\u001B[0;31mKeyboardInterrupt\u001B[0m: "
     ]
    }
   ],
   "execution_count": 242
  },
  {
   "metadata": {},
   "cell_type": "code",
   "outputs": [],
   "execution_count": null,
   "source": "",
   "id": "16a937b0ca2b9650"
  }
 ],
 "metadata": {
  "kernelspec": {
   "display_name": "chem",
   "language": "python",
   "name": "chem"
  },
  "language_info": {
   "codemirror_mode": {
    "name": "ipython",
    "version": 2
   },
   "file_extension": ".py",
   "mimetype": "text/x-python",
   "name": "python",
   "nbconvert_exporter": "python",
   "pygments_lexer": "ipython2",
   "version": "2.7.6"
  }
 },
 "nbformat": 4,
 "nbformat_minor": 5
}
