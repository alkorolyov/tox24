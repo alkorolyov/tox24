{
 "cells": [
  {
   "metadata": {
    "ExecuteTime": {
     "end_time": "2024-08-26T09:02:14.444084Z",
     "start_time": "2024-08-26T09:02:14.430818Z"
    }
   },
   "cell_type": "code",
   "source": [
    "%load_ext autoreload\n",
    "%autoreload 2\n",
    "\n",
    "import sys\n",
    "sys.path.append('..')"
   ],
   "id": "b7a595a23620cf6b",
   "outputs": [
    {
     "name": "stdout",
     "output_type": "stream",
     "text": [
      "The autoreload extension is already loaded. To reload it, use:\n",
      "  %reload_ext autoreload\n"
     ]
    }
   ],
   "execution_count": 24
  },
  {
   "metadata": {
    "ExecuteTime": {
     "end_time": "2024-08-26T09:02:14.457326Z",
     "start_time": "2024-08-26T09:02:14.445643Z"
    }
   },
   "cell_type": "code",
   "source": [
    "from sklearnex import patch_sklearn\n",
    "patch_sklearn()"
   ],
   "id": "32a8cc17b966cad6",
   "outputs": [
    {
     "name": "stderr",
     "output_type": "stream",
     "text": [
      "Intel(R) Extension for Scikit-learn* enabled (https://github.com/intel/scikit-learn-intelex)\n"
     ]
    }
   ],
   "execution_count": 25
  },
  {
   "cell_type": "code",
   "id": "initial_id",
   "metadata": {
    "collapsed": true,
    "ExecuteTime": {
     "end_time": "2024-08-26T09:02:14.472722Z",
     "start_time": "2024-08-26T09:02:14.458857Z"
    }
   },
   "source": [
    "import time\n",
    "\n",
    "import numpy as np\n",
    "import pandas as pd\n",
    "\n",
    "from sklearn.linear_model import Lasso, Ridge, LinearRegression\n",
    "from sklearn.cross_decomposition import PLSRegression\n",
    "from sklearn.tree import DecisionTreeRegressor\n",
    "from sklearn.ensemble import RandomForestRegressor\n",
    "from sklearn.svm import SVR\n",
    "from sklearn.neighbors import KNeighborsRegressor\n",
    "from sklearn.model_selection import cross_val_score, KFold\n",
    "from src.utils import OffsetScaler\n",
    "import xgboost as xgb\n",
    "import seaborn as sns\n",
    "\n",
    "\n",
    "mae = 'neg_mean_absolute_error'\n",
    "mse = 'neg_mean_squared_error'\n",
    "rmse = 'neg_root_mean_squared_error'\n",
    "N_JOBS = 12\n",
    "RANDOM_SEED = 42\n",
    "\n",
    "# prepare models\n",
    "models = {}\n",
    "\n",
    "# models['LR'] = LinearRegression()\n",
    "models['Ridge'] = Ridge()\n",
    "models['PLS'] = PLSRegression()\n",
    "models['DT'] = DecisionTreeRegressor(random_state=RANDOM_SEED)\n",
    "models['Lasso'] = Lasso()\n",
    "models['KNN'] = KNeighborsRegressor(n_jobs=N_JOBS)\n",
    "models['SVR'] = SVR()\n",
    "models['RF'] = RandomForestRegressor(random_state=RANDOM_SEED, n_jobs=N_JOBS)\n",
    "models['XGB'] = xgb.XGBRegressor(random_state=RANDOM_SEED, n_jobs=N_JOBS, verbosity=0)"
   ],
   "outputs": [],
   "execution_count": 26
  },
  {
   "metadata": {
    "ExecuteTime": {
     "end_time": "2024-08-26T09:02:14.647823Z",
     "start_time": "2024-08-26T09:02:14.475048Z"
    }
   },
   "cell_type": "code",
   "source": [
    "X_train = pd.read_csv('../data/processed/X_train.csv', index_col=0)\n",
    "X_train.shape"
   ],
   "id": "611fff39dd0660a",
   "outputs": [
    {
     "data": {
      "text/plain": [
       "(961, 2790)"
      ]
     },
     "execution_count": 27,
     "metadata": {},
     "output_type": "execute_result"
    }
   ],
   "execution_count": 27
  },
  {
   "metadata": {
    "ExecuteTime": {
     "end_time": "2024-08-26T09:02:14.663812Z",
     "start_time": "2024-08-26T09:02:14.649123Z"
    }
   },
   "cell_type": "code",
   "source": [
    "y_train = pd.read_csv('../data/processed/y_train.csv', index_col=0).target\n",
    "y_train.shape"
   ],
   "id": "c63506dccf25823c",
   "outputs": [
    {
     "data": {
      "text/plain": [
       "(961,)"
      ]
     },
     "execution_count": 28,
     "metadata": {},
     "output_type": "execute_result"
    }
   ],
   "execution_count": 28
  },
  {
   "metadata": {
    "ExecuteTime": {
     "end_time": "2024-08-26T09:02:14.685648Z",
     "start_time": "2024-08-26T09:02:14.664984Z"
    }
   },
   "cell_type": "code",
   "source": [
    "def get_fps_offset(cols):\n",
    "    res = []\n",
    "    for c in cols:\n",
    "        try:\n",
    "            res.append(int(c))\n",
    "        except:\n",
    "            pass\n",
    "    return len(res)\n",
    "\n",
    "FPS_OFFSET = get_fps_offset(X_train.columns)\n",
    "\n",
    "scaler = OffsetScaler(offset=FPS_OFFSET)\n",
    "\n",
    "X_train_scale = scaler.fit_transform(X_train.values)"
   ],
   "id": "fd4bb74ebc55b67c",
   "outputs": [],
   "execution_count": 29
  },
  {
   "metadata": {
    "ExecuteTime": {
     "end_time": "2024-08-26T09:02:14.838574Z",
     "start_time": "2024-08-26T09:02:14.687136Z"
    }
   },
   "cell_type": "code",
   "source": [
    "cv_res = cross_val_score(models['KNN'], X_train_scale, y_train, cv=5)\n",
    "cv_res"
   ],
   "id": "db83e5c81ee58c7f",
   "outputs": [
    {
     "data": {
      "text/plain": [
       "array([-15.92481588, -71.18264135, -12.39915521,  -5.49497231,\n",
       "       -83.73374814])"
      ]
     },
     "execution_count": 30,
     "metadata": {},
     "output_type": "execute_result"
    }
   ],
   "execution_count": 30
  },
  {
   "metadata": {
    "ExecuteTime": {
     "end_time": "2024-08-26T09:02:36.086338Z",
     "start_time": "2024-08-26T09:02:14.839592Z"
    }
   },
   "cell_type": "code",
   "source": [
    "results = {}\n",
    "\n",
    "for name in models.keys():\n",
    "    tic = time.time()\n",
    "    \n",
    "    model = models[name]\n",
    "    kfold = KFold(n_splits=5, shuffle=True, random_state=RANDOM_SEED)\n",
    "    results[name] = cross_val_score(model, X_train_scale, y_train, cv=kfold, scoring=rmse)\n",
    "    \n",
    "    toc = time.time()    \n",
    "    print(\"%5s: %3.3f ± %3.3f    %.1fs\" % (name, results[name].mean(), results[name].std(), toc - tic))\n",
    "    \n",
    "results = pd.DataFrame(results)"
   ],
   "id": "6cf5e19c77e87323",
   "outputs": [
    {
     "name": "stdout",
     "output_type": "stream",
     "text": [
      "Ridge: -40.904 ± 8.455    1.4s\n",
      "  PLS: -28.484 ± 1.639    0.4s\n",
      "   DT: -33.963 ± 1.276    1.1s\n",
      "Lasso: -27.095 ± 1.946    0.9s\n",
      "  KNN: -27.147 ± 0.881    0.2s\n",
      "  SVR: -34.859 ± 1.990    0.3s\n",
      "   RF: -23.594 ± 1.179    9.4s\n",
      "  XGB: -24.099 ± 0.502    7.4s\n"
     ]
    }
   ],
   "execution_count": 31
  },
  {
   "metadata": {
    "ExecuteTime": {
     "end_time": "2024-08-26T09:02:36.291557Z",
     "start_time": "2024-08-26T09:02:36.088021Z"
    }
   },
   "cell_type": "code",
   "source": "sns.boxplot(results)",
   "id": "ff5675251a4bc217",
   "outputs": [
    {
     "data": {
      "text/plain": [
       "<Axes: >"
      ]
     },
     "execution_count": 32,
     "metadata": {},
     "output_type": "execute_result"
    },
    {
     "data": {
      "text/plain": [
       "<Figure size 640x480 with 1 Axes>"
      ],
      "image/png": "[encoded data removed]"
     },
     "metadata": {},
     "output_type": "display_data"
    }
   ],
   "execution_count": 32
  }
 ],
 "metadata": {
  "kernelspec": {
   "display_name": "chem",
   "language": "python",
   "name": "chem"
  },
  "language_info": {
   "codemirror_mode": {
    "name": "ipython",
    "version": 2
   },
   "file_extension": ".py",
   "mimetype": "text/x-python",
   "name": "python",
   "nbconvert_exporter": "python",
   "pygments_lexer": "ipython2",
   "version": "2.7.6"
  }
 },
 "nbformat": 4,
 "nbformat_minor": 5
}
