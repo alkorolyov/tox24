{
 "cells": [
  {
   "metadata": {
    "ExecuteTime": {
     "end_time": "2024-08-14T13:08:06.819512Z",
     "start_time": "2024-08-14T13:08:06.806963Z"
    }
   },
   "cell_type": "code",
   "source": [
    "%load_ext autoreload\n",
    "%autoreload 2"
   ],
   "id": "b7a595a23620cf6b",
   "outputs": [
    {
     "name": "stdout",
     "output_type": "stream",
     "text": [
      "The autoreload extension is already loaded. To reload it, use:\n",
      "  %reload_ext autoreload\n"
     ]
    }
   ],
   "execution_count": 72
  },
  {
   "cell_type": "code",
   "id": "initial_id",
   "metadata": {
    "collapsed": true,
    "ExecuteTime": {
     "end_time": "2024-08-14T13:08:06.834423Z",
     "start_time": "2024-08-14T13:08:06.820746Z"
    }
   },
   "source": [
    "import numpy as np\n",
    "import pandas as pd\n",
    "\n",
    "from sklearn.linear_model import Lasso, Ridge, LinearRegression\n",
    "from sklearn.cross_decomposition import PLSRegression\n",
    "from sklearn.tree import DecisionTreeRegressor\n",
    "from sklearn.ensemble import RandomForestRegressor\n",
    "from sklearn.svm import SVR\n",
    "from sklearn.neighbors import KNeighborsRegressor\n",
    "from sklearn.model_selection import cross_val_score\n",
    "import xgboost as xgb\n",
    "import seaborn as sns\n",
    "\n",
    "\n",
    "mae = 'neg_mean_absolute_error'\n",
    "mse = 'neg_mean_squared_error'\n",
    "N_JOBS = 12\n",
    "RANDOM_SEED = 42\n",
    "\n",
    "# prepare models\n",
    "models = {}\n",
    "\n",
    "# models['LR'] = LinearRegression()\n",
    "models['Ridge'] = Ridge()\n",
    "models['PLS'] = PLSRegression()\n",
    "models['DT'] = DecisionTreeRegressor(random_state=RANDOM_SEED)\n",
    "models['Lasso'] = Lasso()\n",
    "models['KNN'] = KNeighborsRegressor(n_jobs=N_JOBS)\n",
    "models['SVR'] = SVR()\n",
    "models['RF'] = RandomForestRegressor(random_state=RANDOM_SEED, n_jobs=N_JOBS)\n",
    "models['XGB'] = xgb.XGBRegressor(random_state=RANDOM_SEED, n_jobs=N_JOBS, verbosity=0)"
   ],
   "outputs": [],
   "execution_count": 73
  },
  {
   "metadata": {
    "ExecuteTime": {
     "end_time": "2024-08-14T13:08:06.964623Z",
     "start_time": "2024-08-14T13:08:06.835683Z"
    }
   },
   "cell_type": "code",
   "source": [
    "X_train = pd.read_csv('../data/processed/X_train.csv', index_col=0)\n",
    "X_train.shape"
   ],
   "id": "611fff39dd0660a",
   "outputs": [
    {
     "data": {
      "text/plain": [
       "(961, 2651)"
      ]
     },
     "execution_count": 74,
     "metadata": {},
     "output_type": "execute_result"
    }
   ],
   "execution_count": 74
  },
  {
   "metadata": {
    "ExecuteTime": {
     "end_time": "2024-08-14T13:08:06.980418Z",
     "start_time": "2024-08-14T13:08:06.966169Z"
    }
   },
   "cell_type": "code",
   "source": [
    "y_train = pd.read_csv('../data/processed/y_train.csv', index_col=0).target\n",
    "y_train.shape"
   ],
   "id": "c63506dccf25823c",
   "outputs": [
    {
     "data": {
      "text/plain": [
       "(961,)"
      ]
     },
     "execution_count": 75,
     "metadata": {},
     "output_type": "execute_result"
    }
   ],
   "execution_count": 75
  },
  {
   "metadata": {
    "ExecuteTime": {
     "end_time": "2024-08-14T13:08:06.993774Z",
     "start_time": "2024-08-14T13:08:06.981433Z"
    }
   },
   "cell_type": "code",
   "source": [
    "from sklearn.preprocessing import StandardScaler\n",
    "from sklearn.base import TransformerMixin, BaseEstimator\n",
    "from sklearn.pipeline import Pipeline\n",
    "\n",
    "class OffsetScaler(BaseEstimator, TransformerMixin):\n",
    "    \"\"\"\n",
    "    Applies StandardScaler the part of the input vector. Only values after offset are transformed [offset:],\n",
    "    while keeping intact the initial part of vector [:offset].\n",
    "    \"\"\"\n",
    "        \n",
    "    def __init__(self, offset=0):\n",
    "        self.offset = offset\n",
    "        self.scaler = None\n",
    "\n",
    "    def fit(self, X, y=None):\n",
    "        self.scaler = StandardScaler().fit(X[:, self.offset:])\n",
    "        return self\n",
    "        \n",
    "\n",
    "    def transform(self, X, y=None):\n",
    "        x_fix = X[:, :self.offset]\n",
    "        x_scale = self.scaler.transform(X[:, self.offset:])\n",
    "        x_trans = np.hstack([x_fix, x_scale])\n",
    "        return x_trans"
   ],
   "id": "ef405ecd4cea9b31",
   "outputs": [],
   "execution_count": 76
  },
  {
   "metadata": {
    "ExecuteTime": {
     "end_time": "2024-08-14T13:08:07.009892Z",
     "start_time": "2024-08-14T13:08:06.995234Z"
    }
   },
   "cell_type": "code",
   "source": [
    "def get_fps_offset(cols):\n",
    "    res = []\n",
    "    for c in cols:\n",
    "        try:\n",
    "            res.append(int(c))\n",
    "        except:\n",
    "            pass\n",
    "    return len(res)\n",
    "\n",
    "FPS_OFFSET = get_fps_offset(X_train.columns)\n",
    "\n",
    "scaler = OffsetScaler(offset=FPS_OFFSET)\n",
    "\n",
    "X_train_scale = scaler.fit_transform(X_train.values)"
   ],
   "id": "fd4bb74ebc55b67c",
   "outputs": [],
   "execution_count": 77
  },
  {
   "metadata": {
    "ExecuteTime": {
     "end_time": "2024-08-14T13:08:13.327471Z",
     "start_time": "2024-08-14T13:08:07.010850Z"
    }
   },
   "cell_type": "code",
   "source": [
    "cv_res = cross_val_score(models['SVR'], X_train_scale, y_train, cv=10)\n",
    "cv_res"
   ],
   "id": "db83e5c81ee58c7f",
   "outputs": [
    {
     "data": {
      "text/plain": [
       "array([ -17.17019044, -285.85129065, -378.83784063,  -75.65880516,\n",
       "        -14.03156207,   -8.70846096,  -29.70682304,  -44.6444284 ,\n",
       "       -244.75617679, -568.70747815])"
      ]
     },
     "execution_count": 78,
     "metadata": {},
     "output_type": "execute_result"
    }
   ],
   "execution_count": 78
  },
  {
   "metadata": {
    "ExecuteTime": {
     "end_time": "2024-08-14T13:09:06.125888Z",
     "start_time": "2024-08-14T13:08:13.328517Z"
    }
   },
   "cell_type": "code",
   "source": [
    "results = {}\n",
    "\n",
    "for name in models.keys():\n",
    "    model = models[name]\n",
    "    results[name] = cross_val_score(model, X_train_scale, y_train, cv=10)\n",
    "    print(\"%5s: %.3f ± %.3f\" % (name, results[name].mean(), results[name].std()))\n",
    "    \n",
    "results = pd.DataFrame(results)"
   ],
   "id": "ae961c44628327f",
   "outputs": [
    {
     "name": "stdout",
     "output_type": "stream",
     "text": [
      "Ridge: -269.605 ± 288.552\n",
      "  PLS: -126.148 ± 117.273\n",
      "   DT: -220.852 ± 266.568\n",
      "Lasso: -111.108 ± 105.213\n",
      "  KNN: -127.092 ± 119.907\n",
      "  SVR: -166.807 ± 184.251\n",
      "   RF: -82.639 ± 76.289\n",
      "  XGB: -87.541 ± 87.263\n"
     ]
    }
   ],
   "execution_count": 79
  },
  {
   "metadata": {
    "ExecuteTime": {
     "end_time": "2024-08-14T13:09:06.320510Z",
     "start_time": "2024-08-14T13:09:06.128174Z"
    }
   },
   "cell_type": "code",
   "source": "sns.boxplot(results)",
   "id": "ff5675251a4bc217",
   "outputs": [
    {
     "data": {
      "text/plain": [
       "<Axes: >"
      ]
     },
     "execution_count": 80,
     "metadata": {},
     "output_type": "execute_result"
    },
    {
     "data": {
      "text/plain": [
       "<Figure size 640x480 with 1 Axes>"
      ],
      "image/png": "[encoded data removed]"
     },
     "metadata": {},
     "output_type": "display_data"
    }
   ],
   "execution_count": 80
  }
 ],
 "metadata": {
  "kernelspec": {
   "display_name": "chem",
   "language": "python",
   "name": "chem"
  },
  "language_info": {
   "codemirror_mode": {
    "name": "ipython",
    "version": 2
   },
   "file_extension": ".py",
   "mimetype": "text/x-python",
   "name": "python",
   "nbconvert_exporter": "python",
   "pygments_lexer": "ipython2",
   "version": "2.7.6"
  }
 },
 "nbformat": 4,
 "nbformat_minor": 5
}
