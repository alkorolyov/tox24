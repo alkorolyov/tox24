{
 "cells": [
  {
   "cell_type": "code",
   "id": "initial_id",
   "metadata": {
    "collapsed": true,
    "ExecuteTime": {
     "end_time": "2024-08-26T09:50:10.650934Z",
     "start_time": "2024-08-26T09:50:10.639297Z"
    }
   },
   "source": [
    "%load_ext autoreload\n",
    "%autoreload 2\n",
    "\n",
    "import sys\n",
    "sys.path.append('..')"
   ],
   "outputs": [],
   "execution_count": 2
  },
  {
   "metadata": {
    "ExecuteTime": {
     "end_time": "2024-08-26T09:50:11.514039Z",
     "start_time": "2024-08-26T09:50:10.670183Z"
    }
   },
   "cell_type": "code",
   "source": [
    "import pandas as pd\n",
    "import numpy as np\n",
    "import seaborn as sns\n",
    "\n",
    "from src.representation import get_representation, get_representation_from_series\n",
    "from src.config import mem\n",
    "from src.utils import get_fps_offset\n",
    "\n",
    "N_JOBS = 12\n",
    "RANDOM_SEED = 42\n",
    "\n",
    "# from rdkit import RDLogger\n",
    "# RDLogger.DisableLog('rdApp.*')\n",
    "\n",
    "X_train = pd.read_csv('../data/processed/X_train.csv', index_col=0)\n",
    "y_train = pd.read_csv('../data/processed/y_train.csv', index_col=0)\n",
    "X_train.info()"
   ],
   "id": "f9f054ddda64ef3c",
   "outputs": [
    {
     "name": "stdout",
     "output_type": "stream",
     "text": [
      "<class 'pandas.core.frame.DataFrame'>\n",
      "Index: 961 entries, DTXSID9048512 to DTXSID3040352\n",
      "Columns: 2790 entries, 0 to md_Zagreb2\n",
      "dtypes: float64(2790)\n",
      "memory usage: 20.5+ MB\n"
     ]
    }
   ],
   "execution_count": 3
  },
  {
   "metadata": {
    "ExecuteTime": {
     "end_time": "2024-08-26T09:50:11.531817Z",
     "start_time": "2024-08-26T09:50:11.515783Z"
    }
   },
   "cell_type": "code",
   "source": [
    "FPS_OFFSET = get_fps_offset(X_train.columns)\n",
    "FPS_OFFSET"
   ],
   "id": "9eb7c1a8d75ebbae",
   "outputs": [
    {
     "data": {
      "text/plain": [
       "2363"
      ]
     },
     "execution_count": 4,
     "metadata": {},
     "output_type": "execute_result"
    }
   ],
   "execution_count": 4
  },
  {
   "metadata": {
    "ExecuteTime": {
     "end_time": "2024-08-26T10:45:31.582042Z",
     "start_time": "2024-08-26T10:45:31.568841Z"
    }
   },
   "cell_type": "code",
   "source": [
    "import optuna\n",
    "\n",
    "class FeatureSelectionOptuna:\n",
    "    \"\"\"\n",
    "    This class implements feature selection using Optuna optimization framework.\n",
    "\n",
    "    Parameters:\n",
    "\n",
    "    - model (object): The predictive model to evaluate; this should be any object that implements fit() and predict() methods.\n",
    "    - loss_fn (function): The loss function to use for evaluating the model performance. This function should take the true labels and the\n",
    "                          predictions as inputs and return a loss value.\n",
    "    - features (list of str): A list containing the names of all possible features that can be selected for the model.\n",
    "    - X (DataFrame): The complete set of feature data (pandas DataFrame) from which subsets will be selected for training the model.\n",
    "    - y (Series): The target variable associated with the X data (pandas Series).\n",
    "    - splits (list of tuples): A list of tuples where each tuple contains two elements, the train indices and the validation indices.\n",
    "    - penalty (float, optional): A factor used to penalize the objective function based on the number of features used.\n",
    "    \"\"\"\n",
    "\n",
    "    def __init__(self,\n",
    "                 model,\n",
    "                 loss_fn,\n",
    "                 features,\n",
    "                 X,\n",
    "                 y,\n",
    "                 splits,                 \n",
    "                 penalty=0,\n",
    "                 ):\n",
    "\n",
    "        self.model = model\n",
    "        self.loss_fn = loss_fn\n",
    "        self.features = features\n",
    "        self.X = X\n",
    "        self.y = y\n",
    "        self.splits = splits\n",
    "        self.penalty = penalty\n",
    "\n",
    "    def __call__(self,\n",
    "                 trial: optuna.trial.Trial):\n",
    "\n",
    "        # Select True / False for each feature\n",
    "        selected_features = [trial.suggest_categorical(name, [True, False]) for name in self.features]\n",
    "\n",
    "        # List with names of selected features\n",
    "        selected_feature_names = [name for name, selected in zip(self.features, selected_features) if selected]\n",
    "\n",
    "        # Optional: adds a penalty for the amount of features used\n",
    "        n_used = len(selected_feature_names)\n",
    "        total_penalty = n_used * self.penalty\n",
    "\n",
    "        loss = 0\n",
    "\n",
    "        for split in self.splits:\n",
    "          train_idx = split[0]\n",
    "          valid_idx = split[1]\n",
    "\n",
    "          X_train = self.X.iloc[train_idx].copy()\n",
    "          y_train = self.y.iloc[train_idx].copy()\n",
    "          X_valid = self.X.iloc[valid_idx].copy()\n",
    "          y_valid = self.y.iloc[valid_idx].copy()\n",
    "\n",
    "          X_train_selected = X_train[selected_feature_names].copy()\n",
    "          X_valid_selected = X_valid[selected_feature_names].copy()\n",
    "\n",
    "          # Train model, get predictions and accumulate loss\n",
    "          self.model.fit(X_train_selected, y_train)\n",
    "          pred = self.model.predict(X_valid_selected)\n",
    "\n",
    "          loss += self.loss_fn(y_valid, pred)\n",
    "\n",
    "        # Take the average loss across all splits\n",
    "        loss /= len(self.splits)\n",
    "\n",
    "        # Add the penalty to the loss\n",
    "        loss += total_penalty\n",
    "        \n",
    "        return loss"
   ],
   "id": "98a0ccd416007d69",
   "outputs": [],
   "execution_count": 50
  },
  {
   "metadata": {
    "ExecuteTime": {
     "end_time": "2024-08-26T10:45:33.525332Z",
     "start_time": "2024-08-26T10:45:33.506497Z"
    }
   },
   "cell_type": "code",
   "source": [
    "from sklearn.metrics import root_mean_squared_error as rmse\n",
    "from sklearn.model_selection import KFold\n",
    "from optuna.samplers import TPESampler\n",
    "import xgboost as xgb\n",
    "\n",
    "mask = X_train.columns.str.contains(r'[rd_|md_]')\n",
    "features = X_train.columns[mask]\n",
    "print('Features:', len(features))\n",
    "\n",
    "kfold = KFold(n_splits=10, shuffle=True, random_state=RANDOM_SEED)\n",
    "splits = list(kfold.split(X_train))\n",
    "\n",
    "model = xgb.XGBRegressor(random_state=RANDOM_SEED, n_jobs=N_JOBS, verbosity=0)\n",
    "\n",
    "sampler = TPESampler(seed=RANDOM_SEED)\n",
    "study = optuna.create_study(direction=\"minimize\",sampler=sampler)\n",
    "\n",
    "# We first try the model using all features\n",
    "default_features = {ft: True for ft in features}\n",
    "study.enqueue_trial(default_features)"
   ],
   "id": "6d36d6a5d6d63d02",
   "outputs": [
    {
     "name": "stdout",
     "output_type": "stream",
     "text": [
      "Features: 427\n"
     ]
    }
   ],
   "execution_count": 51
  },
  {
   "metadata": {
    "ExecuteTime": {
     "end_time": "2024-08-26T10:39:13.818350Z",
     "start_time": "2024-08-26T10:39:13.807862Z"
    }
   },
   "cell_type": "code",
   "source": "",
   "id": "5ef6039fc9a60db0",
   "outputs": [],
   "execution_count": 36
  },
  {
   "metadata": {
    "ExecuteTime": {
     "end_time": "2024-08-26T10:46:17.369922Z",
     "start_time": "2024-08-26T10:46:02.429331Z"
    }
   },
   "cell_type": "code",
   "source": [
    "optuna.logging.set_verbosity(optuna.logging.WARN)\n",
    "\n",
    "study.optimize(FeatureSelectionOptuna(\n",
    "                         model=model,\n",
    "                         loss_fn=rmse,\n",
    "                         features=features,\n",
    "                         X=X_train,\n",
    "                         y=y_train,\n",
    "                         splits=splits,\n",
    "                         # penalty = 1e-4,  \n",
    "                         ), n_trials=100, show_progress_bar=True)"
   ],
   "id": "c5c965c50f97e4fc",
   "outputs": [
    {
     "data": {
      "text/plain": [
       "  0%|          | 0/100 [00:00<?, ?it/s]"
      ],
      "application/vnd.jupyter.widget-view+json": {
       "version_major": 2,
       "version_minor": 0,
       "model_id": "c579c6d27f9a47bb9f4d3a5d990ea944"
      }
     },
     "metadata": {},
     "output_type": "display_data"
    },
    {
     "name": "stdout",
     "output_type": "stream",
     "text": [
      "[W 2024-08-26 12:46:17,305] Trial 4 failed with parameters: {'rd_BalabanJ': False, 'rd_Chi2v': True, 'rd_EState_VSA1': False, 'rd_EState_VSA11': False, 'rd_EState_VSA3': False, 'rd_EState_VSA4': False, 'rd_EState_VSA5': False, 'rd_EState_VSA6': True, 'rd_EState_VSA7': False, 'rd_EState_VSA8': False, 'rd_FpDensityMorgan1': True, 'rd_FpDensityMorgan2': False, 'rd_FpDensityMorgan3': False, 'rd_FractionCSP3': False, 'rd_HallKierAlpha': True, 'rd_Ipc': True, 'rd_Kappa2': False, 'rd_Kappa3': False, 'rd_MaxEStateIndex': True, 'rd_MinAbsEStateIndex': True, 'rd_MinEStateIndex': True, 'rd_NumAliphaticCarbocycles': False, 'rd_NumHDonors': False, 'rd_NumRadicalElectrons': True, 'rd_NumSaturatedCarbocycles': True, 'rd_PEOE_VSA10': False, 'rd_PEOE_VSA14': True, 'rd_PEOE_VSA2': True, 'rd_PEOE_VSA3': True, 'rd_PEOE_VSA4': False, 'rd_PEOE_VSA5': False, 'rd_RingCount': False, 'rd_SMR_VSA1': False, 'rd_SMR_VSA10': True, 'rd_SMR_VSA5': False, 'rd_SMR_VSA6': False, 'rd_SMR_VSA7': True, 'rd_SMR_VSA9': True, 'rd_SlogP_VSA1': True, 'rd_SlogP_VSA10': True, 'rd_SlogP_VSA12': True, 'rd_SlogP_VSA5': False, 'rd_SlogP_VSA7': True, 'rd_VSA_EState1': False, 'rd_VSA_EState2': False, 'rd_VSA_EState3': True, 'rd_VSA_EState4': True, 'rd_VSA_EState5': False, 'rd_VSA_EState9': False, 'rd_fr_Al_COO': False, 'rd_fr_Al_OH_noTert': False, 'rd_fr_ArN': True, 'rd_fr_Ar_COO': False, 'rd_fr_Ar_N': True, 'rd_fr_COO2': True, 'rd_fr_C_O': True, 'rd_fr_C_O_noCOO': True, 'rd_fr_C_S': True, 'rd_fr_HOCCN': False, 'rd_fr_Imine': False, 'rd_fr_NH0': False, 'rd_fr_NH1': True, 'rd_fr_N_O': False, 'rd_fr_Ndealkylation1': True, 'rd_fr_Ndealkylation2': False, 'rd_fr_aldehyde': False, 'rd_fr_alkyl_carbamate': True, 'rd_fr_alkyl_halide': True, 'rd_fr_allylic_oxid': True, 'rd_fr_amide': False, 'rd_fr_amidine': True, 'rd_fr_aniline': False, 'rd_fr_aryl_methyl': False, 'rd_fr_azide': False, 'rd_fr_azo': True, 'rd_fr_barbitur': False, 'rd_fr_benzodiazepine': False, 'rd_fr_bicyclic': False, 'rd_fr_ester': True, 'rd_fr_ether': True, 'rd_fr_furan': True, 'rd_fr_guanido': True, 'rd_fr_halogen': False, 'rd_fr_hdrzine': False, 'rd_fr_hdrzone': True, 'rd_fr_imidazole': False, 'rd_fr_imide': True, 'rd_fr_ketone': True, 'rd_fr_ketone_Topliss': True, 'rd_fr_lactone': True, 'rd_fr_methoxy': True, 'rd_fr_morpholine': False, 'rd_fr_nitro': True, 'rd_fr_nitro_arom_nonortho': True, 'rd_fr_nitroso': False, 'rd_fr_oxazole': False, 'rd_fr_oxime': True, 'rd_fr_para_hydroxylation': False, 'rd_fr_phenol_noOrthoHbond': True, 'rd_fr_phos_ester': True, 'rd_fr_piperdine': True, 'rd_fr_piperzine': False, 'rd_fr_priamide': True, 'rd_fr_pyridine': False, 'rd_fr_sulfide': False, 'rd_fr_sulfonamd': True, 'rd_fr_sulfone': True, 'rd_fr_tetrazole': False, 'rd_fr_thiazole': True, 'rd_fr_thiocyan': False, 'rd_fr_thiophene': True, 'rd_fr_unbrch_alkane': True, 'rd_fr_urea': True, 'rd_qed': False, 'md_nAcid': False, 'md_nBase': True, 'md_nSpiro': False, 'md_nBridgehead': False, 'md_nHetero': True, 'md_nB': False, 'md_nN': False, 'md_nO': False, 'md_nS': True, 'md_nP': False, 'md_ATS8dv': False, 'md_ATS8Z': True, 'md_ATS0m': False, 'md_ATS3m': True, 'md_ATS4m': False, 'md_ATS5m': True, 'md_ATS7m': True, 'md_ATS0p': False, 'md_ATS4p': True, 'md_ATS8p': True, 'md_ATS5i': False, 'md_AATS0dv': False, 'md_AATS0d': False, 'md_AATS0m': True, 'md_AATS0v': True, 'md_AATS0pe': False, 'md_AATS0i': False, 'md_ATSC0dv': True, 'md_ATSC1dv': True, 'md_ATSC2dv': True, 'md_ATSC3dv': True, 'md_ATSC4dv': False, 'md_ATSC5dv': False, 'md_ATSC6dv': True, 'md_ATSC7dv': False, 'md_ATSC8dv': True, 'md_ATSC1d': True, 'md_ATSC2d': False, 'md_ATSC3d': False, 'md_ATSC4d': False, 'md_ATSC5d': False, 'md_ATSC6d': True, 'md_ATSC7d': True, 'md_ATSC8d': True, 'md_ATSC3Z': True, 'md_ATSC4Z': False, 'md_ATSC5Z': True, 'md_ATSC6Z': False, 'md_ATSC7Z': True, 'md_ATSC0m': False, 'md_ATSC1m': False, 'md_ATSC2m': True, 'md_ATSC8m': False, 'md_ATSC1v': True, 'md_ATSC2v': True, 'md_ATSC3v': False, 'md_ATSC4v': False, 'md_ATSC5v': True, 'md_ATSC6v': True, 'md_ATSC7v': True, 'md_ATSC8v': True, 'md_ATSC0pe': False, 'md_ATSC1pe': False, 'md_ATSC2pe': False, 'md_ATSC3pe': True, 'md_ATSC4pe': False, 'md_ATSC5pe': True, 'md_ATSC6pe': False, 'md_ATSC7pe': False, 'md_ATSC8pe': True, 'md_ATSC0p': False, 'md_ATSC1p': False, 'md_ATSC2p': True, 'md_ATSC3p': True, 'md_ATSC4p': True, 'md_ATSC5p': False, 'md_ATSC6p': False, 'md_ATSC7p': True, 'md_ATSC8p': True, 'md_ATSC0i': False, 'md_ATSC1i': True, 'md_ATSC2i': True, 'md_ATSC3i': True, 'md_ATSC4i': False, 'md_ATSC5i': False, 'md_ATSC6i': False, 'md_ATSC7i': False, 'md_ATSC8i': True, 'md_AATSC0dv': True, 'md_AATSC0d': True, 'md_AATSC0m': True, 'md_AATSC0v': True, 'md_AATSC0pe': True, 'md_AATSC0p': True, 'md_AATSC0i': False, 'md_BalabanJ': True, 'md_BertzCT': False, 'md_nBondsD': False, 'md_nBondsKD': False, 'md_C1SP1': False, 'md_C2SP1': False, 'md_C1SP2': True, 'md_C2SP2': False, 'md_C3SP2': False, 'md_C1SP3': False, 'md_C2SP3': False, 'md_C3SP3': False, 'md_C4SP3': False, 'md_Xch-6d': True, 'md_Xch-7d': True, 'md_Xch-4dv': True, 'md_Xch-5dv': False, 'md_Xch-7dv': True, 'md_Xc-3d': True, 'md_Xc-4d': False, 'md_Xc-3dv': False, 'md_Xc-4dv': True, 'md_Xc-5dv': False, 'md_Xpc-6d': True, 'md_Xpc-4dv': True, 'md_Xpc-5dv': False, 'md_Xp-7d': True, 'md_Xp-1dv': True, 'md_Xp-7dv': False, 'md_Sm': False, 'md_Si': False, 'md_Mm': False, 'md_Mv': True, 'md_Mp': True, 'md_NsssB': True, 'md_NssssB': False, 'md_NssCH2': False, 'md_NsssCH': False, 'md_NdssC': True, 'md_NaasC': False, 'md_NaaaC': True, 'md_NssssC': False, 'md_NsNH2': True, 'md_NdsN': False, 'md_NaaN': False, 'md_NsssN': True, 'md_NddsN': True, 'md_NaasN': False, 'md_NssssN': True, 'md_NdO': False, 'md_NaaO': False, 'md_NsssSiH': False, 'md_NsssP': True, 'md_NdS': True, 'md_NdssS': True, 'md_NddssS': False, 'md_SsssB': False, 'md_SsCH3': False, 'md_SdCH2': True, 'md_SssCH2': False, 'md_StCH': False, 'md_SdsCH': True, 'md_SsssCH': False, 'md_SddC': True, 'md_StsC': False, 'md_SdssC': True, 'md_SaasC': True, 'md_SaaaC': False, 'md_SssssC': True, 'md_SdNH': True, 'md_SssNH': True, 'md_SaaNH': False, 'md_StN': True, 'md_SddsN': True, 'md_SaasN': True, 'md_SssssN': False, 'md_SsOH': True, 'md_SssO': False, 'md_SsF': True, 'md_SssssSi': True, 'md_SsssP': False, 'md_SdsssP': True, 'md_SsSH': False, 'md_SssS': True, 'md_SaaS': True, 'md_SsCl': True, 'md_SsssdAs': True, 'md_SsBr': False, 'md_SssssSn': True, 'md_SsI': True, 'md_ECIndex': True, 'md_fragCpx': False, 'md_fMF': False, 'md_nHBAcc': True, 'md_IC0': True, 'md_IC1': True, 'md_IC2': False, 'md_IC5': False, 'md_CIC0': False, 'md_CIC1': True, 'md_CIC2': False, 'md_CIC3': True, 'md_CIC5': False, 'md_MIC0': True, 'md_MIC1': True, 'md_MIC5': False, 'md_ZMIC1': True, 'md_ZMIC2': False, 'md_ZMIC5': True, 'md_Lipinski': False, 'md_GhoseFilter': True, 'md_FilterItLogS': False, 'md_PEOE_VSA1': False, 'md_PEOE_VSA6': True, 'md_PEOE_VSA7': False, 'md_PEOE_VSA8': False, 'md_PEOE_VSA9': False, 'md_PEOE_VSA11': True, 'md_PEOE_VSA12': True, 'md_PEOE_VSA13': False, 'md_SMR_VSA3': True, 'md_SMR_VSA4': True, 'md_SlogP_VSA2': False, 'md_SlogP_VSA3': False, 'md_SlogP_VSA4': False, 'md_SlogP_VSA6': False, 'md_SlogP_VSA8': True, 'md_SlogP_VSA11': True, 'md_EState_VSA2': False, 'md_EState_VSA9': True, 'md_EState_VSA10': False, 'md_VSA_EState6': False, 'md_VSA_EState7': True, 'md_VSA_EState8': True, 'md_piPC7': True, 'md_piPC8': True, 'md_piPC10': True, 'md_bpol': True, 'md_n3Ring': True, 'md_n4Ring': False, 'md_n5Ring': False, 'md_n6Ring': True, 'md_n7Ring': True, 'md_n12Ring': False, 'md_nHRing': False, 'md_n5HRing': True, 'md_n6HRing': True, 'md_n7HRing': True, 'md_n6aRing': True, 'md_n7aRing': False, 'md_naHRing': True, 'md_n5aHRing': False, 'md_n6aHRing': True, 'md_nARing': False, 'md_n5ARing': True, 'md_n6ARing': False, 'md_nAHRing': False, 'md_n3AHRing': True, 'md_n5AHRing': True, 'md_n6AHRing': False, 'md_n8AHRing': False, 'md_nG12AHRing': True, 'md_nFRing': False, 'md_n10FRing': True, 'md_n12FRing': False, 'md_nG12FRing': True, 'md_nFHRing': True, 'md_n9FHRing': False, 'md_n10FHRing': True, 'md_n11FHRing': True, 'md_n12FHRing': True, 'md_nG12FHRing': True, 'md_n10FaRing': True, 'md_nG12FaRing': True, 'md_nFaHRing': False, 'md_n9FaHRing': False, 'md_n10FaHRing': False, 'md_nG12FaHRing': True, 'md_nFARing': True, 'md_n7FARing': False, 'md_n9FARing': True, 'md_n10FARing': True, 'md_n11FARing': False, 'md_nG12FARing': True, 'md_nFAHRing': True, 'md_n6FAHRing': False, 'md_n7FAHRing': True, 'md_n8FAHRing': True, 'md_n9FAHRing': True, 'md_n10FAHRing': True, 'md_nG12FAHRing': True, 'md_nRot': True, 'md_SLogP': True, 'md_TopoPSA(NO)': True, 'md_GGI4': False, 'md_GGI5': False, 'md_GGI6': False, 'md_GGI7': True, 'md_GGI8': True, 'md_GGI9': False, 'md_GGI10': False, 'md_JGI1': False, 'md_JGI2': False, 'md_JGI3': False, 'md_JGI4': False, 'md_JGI5': False, 'md_JGI6': True, 'md_JGI7': False, 'md_JGI8': False, 'md_JGI9': False, 'md_JGI10': False, 'md_JGT10': True, 'md_Radius': False, 'md_SRW07': False, 'md_SRW10': True, 'md_TSRW10': True, 'md_WPath': False, 'md_Zagreb2': True} because of the following error: KeyboardInterrupt().\n",
      "Traceback (most recent call last):\n",
      "  File \"/home/ergot/miniforge3/envs/chem/lib/python3.10/site-packages/optuna/study/_optimize.py\", line 196, in _run_trial\n",
      "    value_or_values = func(trial)\n",
      "  File \"/tmp/ipykernel_9277/1183240369.py\", line 67, in __call__\n",
      "    self.model.fit(X_train_selected, y_train)\n",
      "  File \"/home/ergot/miniforge3/envs/chem/lib/python3.10/site-packages/xgboost/core.py\", line 730, in inner_f\n",
      "    return func(**kwargs)\n",
      "  File \"/home/ergot/miniforge3/envs/chem/lib/python3.10/site-packages/xgboost/sklearn.py\", line 1090, in fit\n",
      "    self._Booster = train(\n",
      "  File \"/home/ergot/miniforge3/envs/chem/lib/python3.10/site-packages/xgboost/core.py\", line 730, in inner_f\n",
      "    return func(**kwargs)\n",
      "  File \"/home/ergot/miniforge3/envs/chem/lib/python3.10/site-packages/xgboost/training.py\", line 181, in train\n",
      "    bst.update(dtrain, i, obj)\n",
      "  File \"/home/ergot/miniforge3/envs/chem/lib/python3.10/site-packages/xgboost/core.py\", line 2051, in update\n",
      "    _LIB.XGBoosterUpdateOneIter(\n",
      "KeyboardInterrupt\n",
      "[W 2024-08-26 12:46:17,306] Trial 4 failed with value None.\n"
     ]
    },
    {
     "ename": "KeyboardInterrupt",
     "evalue": "",
     "output_type": "error",
     "traceback": [
      "\u001B[0;31m---------------------------------------------------------------------------\u001B[0m",
      "\u001B[0;31mKeyboardInterrupt\u001B[0m                         Traceback (most recent call last)",
      "Cell \u001B[0;32mIn[53], line 3\u001B[0m\n\u001B[1;32m      1\u001B[0m optuna\u001B[38;5;241m.\u001B[39mlogging\u001B[38;5;241m.\u001B[39mset_verbosity(optuna\u001B[38;5;241m.\u001B[39mlogging\u001B[38;5;241m.\u001B[39mWARN)\n\u001B[0;32m----> 3\u001B[0m \u001B[43mstudy\u001B[49m\u001B[38;5;241;43m.\u001B[39;49m\u001B[43moptimize\u001B[49m\u001B[43m(\u001B[49m\u001B[43mFeatureSelectionOptuna\u001B[49m\u001B[43m(\u001B[49m\n\u001B[1;32m      4\u001B[0m \u001B[43m                         \u001B[49m\u001B[43mmodel\u001B[49m\u001B[38;5;241;43m=\u001B[39;49m\u001B[43mmodel\u001B[49m\u001B[43m,\u001B[49m\n\u001B[1;32m      5\u001B[0m \u001B[43m                         \u001B[49m\u001B[43mloss_fn\u001B[49m\u001B[38;5;241;43m=\u001B[39;49m\u001B[43mrmse\u001B[49m\u001B[43m,\u001B[49m\n\u001B[1;32m      6\u001B[0m \u001B[43m                         \u001B[49m\u001B[43mfeatures\u001B[49m\u001B[38;5;241;43m=\u001B[39;49m\u001B[43mfeatures\u001B[49m\u001B[43m,\u001B[49m\n\u001B[1;32m      7\u001B[0m \u001B[43m                         \u001B[49m\u001B[43mX\u001B[49m\u001B[38;5;241;43m=\u001B[39;49m\u001B[43mX_train\u001B[49m\u001B[43m,\u001B[49m\n\u001B[1;32m      8\u001B[0m \u001B[43m                         \u001B[49m\u001B[43my\u001B[49m\u001B[38;5;241;43m=\u001B[39;49m\u001B[43my_train\u001B[49m\u001B[43m,\u001B[49m\n\u001B[1;32m      9\u001B[0m \u001B[43m                         \u001B[49m\u001B[43msplits\u001B[49m\u001B[38;5;241;43m=\u001B[39;49m\u001B[43msplits\u001B[49m\u001B[43m,\u001B[49m\n\u001B[1;32m     10\u001B[0m \u001B[43m                         \u001B[49m\u001B[38;5;66;43;03m# penalty = 1e-4,\u001B[39;49;00m\n\u001B[1;32m     11\u001B[0m \u001B[43m                         \u001B[49m\u001B[43mverbose\u001B[49m\u001B[38;5;241;43m=\u001B[39;49m\u001B[38;5;28;43;01mFalse\u001B[39;49;00m\u001B[43m,\u001B[49m\u001B[43m    \u001B[49m\n\u001B[1;32m     12\u001B[0m \u001B[43m                         \u001B[49m\u001B[43m)\u001B[49m\u001B[43m,\u001B[49m\u001B[43m \u001B[49m\u001B[43mn_trials\u001B[49m\u001B[38;5;241;43m=\u001B[39;49m\u001B[38;5;241;43m100\u001B[39;49m\u001B[43m,\u001B[49m\u001B[43m \u001B[49m\u001B[43mshow_progress_bar\u001B[49m\u001B[38;5;241;43m=\u001B[39;49m\u001B[38;5;28;43;01mTrue\u001B[39;49;00m\u001B[43m)\u001B[49m\n",
      "File \u001B[0;32m~/miniforge3/envs/chem/lib/python3.10/site-packages/optuna/study/study.py:451\u001B[0m, in \u001B[0;36mStudy.optimize\u001B[0;34m(self, func, n_trials, timeout, n_jobs, catch, callbacks, gc_after_trial, show_progress_bar)\u001B[0m\n\u001B[1;32m    348\u001B[0m \u001B[38;5;28;01mdef\u001B[39;00m \u001B[38;5;21moptimize\u001B[39m(\n\u001B[1;32m    349\u001B[0m     \u001B[38;5;28mself\u001B[39m,\n\u001B[1;32m    350\u001B[0m     func: ObjectiveFuncType,\n\u001B[0;32m   (...)\u001B[0m\n\u001B[1;32m    357\u001B[0m     show_progress_bar: \u001B[38;5;28mbool\u001B[39m \u001B[38;5;241m=\u001B[39m \u001B[38;5;28;01mFalse\u001B[39;00m,\n\u001B[1;32m    358\u001B[0m ) \u001B[38;5;241m-\u001B[39m\u001B[38;5;241m>\u001B[39m \u001B[38;5;28;01mNone\u001B[39;00m:\n\u001B[1;32m    359\u001B[0m \u001B[38;5;250m    \u001B[39m\u001B[38;5;124;03m\"\"\"Optimize an objective function.\u001B[39;00m\n\u001B[1;32m    360\u001B[0m \n\u001B[1;32m    361\u001B[0m \u001B[38;5;124;03m    Optimization is done by choosing a suitable set of hyperparameter values from a given\u001B[39;00m\n\u001B[0;32m   (...)\u001B[0m\n\u001B[1;32m    449\u001B[0m \u001B[38;5;124;03m            If nested invocation of this method occurs.\u001B[39;00m\n\u001B[1;32m    450\u001B[0m \u001B[38;5;124;03m    \"\"\"\u001B[39;00m\n\u001B[0;32m--> 451\u001B[0m     \u001B[43m_optimize\u001B[49m\u001B[43m(\u001B[49m\n\u001B[1;32m    452\u001B[0m \u001B[43m        \u001B[49m\u001B[43mstudy\u001B[49m\u001B[38;5;241;43m=\u001B[39;49m\u001B[38;5;28;43mself\u001B[39;49m\u001B[43m,\u001B[49m\n\u001B[1;32m    453\u001B[0m \u001B[43m        \u001B[49m\u001B[43mfunc\u001B[49m\u001B[38;5;241;43m=\u001B[39;49m\u001B[43mfunc\u001B[49m\u001B[43m,\u001B[49m\n\u001B[1;32m    454\u001B[0m \u001B[43m        \u001B[49m\u001B[43mn_trials\u001B[49m\u001B[38;5;241;43m=\u001B[39;49m\u001B[43mn_trials\u001B[49m\u001B[43m,\u001B[49m\n\u001B[1;32m    455\u001B[0m \u001B[43m        \u001B[49m\u001B[43mtimeout\u001B[49m\u001B[38;5;241;43m=\u001B[39;49m\u001B[43mtimeout\u001B[49m\u001B[43m,\u001B[49m\n\u001B[1;32m    456\u001B[0m \u001B[43m        \u001B[49m\u001B[43mn_jobs\u001B[49m\u001B[38;5;241;43m=\u001B[39;49m\u001B[43mn_jobs\u001B[49m\u001B[43m,\u001B[49m\n\u001B[1;32m    457\u001B[0m \u001B[43m        \u001B[49m\u001B[43mcatch\u001B[49m\u001B[38;5;241;43m=\u001B[39;49m\u001B[38;5;28;43mtuple\u001B[39;49m\u001B[43m(\u001B[49m\u001B[43mcatch\u001B[49m\u001B[43m)\u001B[49m\u001B[43m \u001B[49m\u001B[38;5;28;43;01mif\u001B[39;49;00m\u001B[43m \u001B[49m\u001B[38;5;28;43misinstance\u001B[39;49m\u001B[43m(\u001B[49m\u001B[43mcatch\u001B[49m\u001B[43m,\u001B[49m\u001B[43m \u001B[49m\u001B[43mIterable\u001B[49m\u001B[43m)\u001B[49m\u001B[43m \u001B[49m\u001B[38;5;28;43;01melse\u001B[39;49;00m\u001B[43m \u001B[49m\u001B[43m(\u001B[49m\u001B[43mcatch\u001B[49m\u001B[43m,\u001B[49m\u001B[43m)\u001B[49m\u001B[43m,\u001B[49m\n\u001B[1;32m    458\u001B[0m \u001B[43m        \u001B[49m\u001B[43mcallbacks\u001B[49m\u001B[38;5;241;43m=\u001B[39;49m\u001B[43mcallbacks\u001B[49m\u001B[43m,\u001B[49m\n\u001B[1;32m    459\u001B[0m \u001B[43m        \u001B[49m\u001B[43mgc_after_trial\u001B[49m\u001B[38;5;241;43m=\u001B[39;49m\u001B[43mgc_after_trial\u001B[49m\u001B[43m,\u001B[49m\n\u001B[1;32m    460\u001B[0m \u001B[43m        \u001B[49m\u001B[43mshow_progress_bar\u001B[49m\u001B[38;5;241;43m=\u001B[39;49m\u001B[43mshow_progress_bar\u001B[49m\u001B[43m,\u001B[49m\n\u001B[1;32m    461\u001B[0m \u001B[43m    \u001B[49m\u001B[43m)\u001B[49m\n",
      "File \u001B[0;32m~/miniforge3/envs/chem/lib/python3.10/site-packages/optuna/study/_optimize.py:62\u001B[0m, in \u001B[0;36m_optimize\u001B[0;34m(study, func, n_trials, timeout, n_jobs, catch, callbacks, gc_after_trial, show_progress_bar)\u001B[0m\n\u001B[1;32m     60\u001B[0m \u001B[38;5;28;01mtry\u001B[39;00m:\n\u001B[1;32m     61\u001B[0m     \u001B[38;5;28;01mif\u001B[39;00m n_jobs \u001B[38;5;241m==\u001B[39m \u001B[38;5;241m1\u001B[39m:\n\u001B[0;32m---> 62\u001B[0m         \u001B[43m_optimize_sequential\u001B[49m\u001B[43m(\u001B[49m\n\u001B[1;32m     63\u001B[0m \u001B[43m            \u001B[49m\u001B[43mstudy\u001B[49m\u001B[43m,\u001B[49m\n\u001B[1;32m     64\u001B[0m \u001B[43m            \u001B[49m\u001B[43mfunc\u001B[49m\u001B[43m,\u001B[49m\n\u001B[1;32m     65\u001B[0m \u001B[43m            \u001B[49m\u001B[43mn_trials\u001B[49m\u001B[43m,\u001B[49m\n\u001B[1;32m     66\u001B[0m \u001B[43m            \u001B[49m\u001B[43mtimeout\u001B[49m\u001B[43m,\u001B[49m\n\u001B[1;32m     67\u001B[0m \u001B[43m            \u001B[49m\u001B[43mcatch\u001B[49m\u001B[43m,\u001B[49m\n\u001B[1;32m     68\u001B[0m \u001B[43m            \u001B[49m\u001B[43mcallbacks\u001B[49m\u001B[43m,\u001B[49m\n\u001B[1;32m     69\u001B[0m \u001B[43m            \u001B[49m\u001B[43mgc_after_trial\u001B[49m\u001B[43m,\u001B[49m\n\u001B[1;32m     70\u001B[0m \u001B[43m            \u001B[49m\u001B[43mreseed_sampler_rng\u001B[49m\u001B[38;5;241;43m=\u001B[39;49m\u001B[38;5;28;43;01mFalse\u001B[39;49;00m\u001B[43m,\u001B[49m\n\u001B[1;32m     71\u001B[0m \u001B[43m            \u001B[49m\u001B[43mtime_start\u001B[49m\u001B[38;5;241;43m=\u001B[39;49m\u001B[38;5;28;43;01mNone\u001B[39;49;00m\u001B[43m,\u001B[49m\n\u001B[1;32m     72\u001B[0m \u001B[43m            \u001B[49m\u001B[43mprogress_bar\u001B[49m\u001B[38;5;241;43m=\u001B[39;49m\u001B[43mprogress_bar\u001B[49m\u001B[43m,\u001B[49m\n\u001B[1;32m     73\u001B[0m \u001B[43m        \u001B[49m\u001B[43m)\u001B[49m\n\u001B[1;32m     74\u001B[0m     \u001B[38;5;28;01melse\u001B[39;00m:\n\u001B[1;32m     75\u001B[0m         \u001B[38;5;28;01mif\u001B[39;00m n_jobs \u001B[38;5;241m==\u001B[39m \u001B[38;5;241m-\u001B[39m\u001B[38;5;241m1\u001B[39m:\n",
      "File \u001B[0;32m~/miniforge3/envs/chem/lib/python3.10/site-packages/optuna/study/_optimize.py:159\u001B[0m, in \u001B[0;36m_optimize_sequential\u001B[0;34m(study, func, n_trials, timeout, catch, callbacks, gc_after_trial, reseed_sampler_rng, time_start, progress_bar)\u001B[0m\n\u001B[1;32m    156\u001B[0m         \u001B[38;5;28;01mbreak\u001B[39;00m\n\u001B[1;32m    158\u001B[0m \u001B[38;5;28;01mtry\u001B[39;00m:\n\u001B[0;32m--> 159\u001B[0m     frozen_trial \u001B[38;5;241m=\u001B[39m \u001B[43m_run_trial\u001B[49m\u001B[43m(\u001B[49m\u001B[43mstudy\u001B[49m\u001B[43m,\u001B[49m\u001B[43m \u001B[49m\u001B[43mfunc\u001B[49m\u001B[43m,\u001B[49m\u001B[43m \u001B[49m\u001B[43mcatch\u001B[49m\u001B[43m)\u001B[49m\n\u001B[1;32m    160\u001B[0m \u001B[38;5;28;01mfinally\u001B[39;00m:\n\u001B[1;32m    161\u001B[0m     \u001B[38;5;66;03m# The following line mitigates memory problems that can be occurred in some\u001B[39;00m\n\u001B[1;32m    162\u001B[0m     \u001B[38;5;66;03m# environments (e.g., services that use computing containers such as GitHub Actions).\u001B[39;00m\n\u001B[1;32m    163\u001B[0m     \u001B[38;5;66;03m# Please refer to the following PR for further details:\u001B[39;00m\n\u001B[1;32m    164\u001B[0m     \u001B[38;5;66;03m# https://github.com/optuna/optuna/pull/325.\u001B[39;00m\n\u001B[1;32m    165\u001B[0m     \u001B[38;5;28;01mif\u001B[39;00m gc_after_trial:\n",
      "File \u001B[0;32m~/miniforge3/envs/chem/lib/python3.10/site-packages/optuna/study/_optimize.py:247\u001B[0m, in \u001B[0;36m_run_trial\u001B[0;34m(study, func, catch)\u001B[0m\n\u001B[1;32m    240\u001B[0m         \u001B[38;5;28;01massert\u001B[39;00m \u001B[38;5;28;01mFalse\u001B[39;00m, \u001B[38;5;124m\"\u001B[39m\u001B[38;5;124mShould not reach.\u001B[39m\u001B[38;5;124m\"\u001B[39m\n\u001B[1;32m    242\u001B[0m \u001B[38;5;28;01mif\u001B[39;00m (\n\u001B[1;32m    243\u001B[0m     frozen_trial\u001B[38;5;241m.\u001B[39mstate \u001B[38;5;241m==\u001B[39m TrialState\u001B[38;5;241m.\u001B[39mFAIL\n\u001B[1;32m    244\u001B[0m     \u001B[38;5;129;01mand\u001B[39;00m func_err \u001B[38;5;129;01mis\u001B[39;00m \u001B[38;5;129;01mnot\u001B[39;00m \u001B[38;5;28;01mNone\u001B[39;00m\n\u001B[1;32m    245\u001B[0m     \u001B[38;5;129;01mand\u001B[39;00m \u001B[38;5;129;01mnot\u001B[39;00m \u001B[38;5;28misinstance\u001B[39m(func_err, catch)\n\u001B[1;32m    246\u001B[0m ):\n\u001B[0;32m--> 247\u001B[0m     \u001B[38;5;28;01mraise\u001B[39;00m func_err\n\u001B[1;32m    248\u001B[0m \u001B[38;5;28;01mreturn\u001B[39;00m frozen_trial\n",
      "File \u001B[0;32m~/miniforge3/envs/chem/lib/python3.10/site-packages/optuna/study/_optimize.py:196\u001B[0m, in \u001B[0;36m_run_trial\u001B[0;34m(study, func, catch)\u001B[0m\n\u001B[1;32m    194\u001B[0m \u001B[38;5;28;01mwith\u001B[39;00m get_heartbeat_thread(trial\u001B[38;5;241m.\u001B[39m_trial_id, study\u001B[38;5;241m.\u001B[39m_storage):\n\u001B[1;32m    195\u001B[0m     \u001B[38;5;28;01mtry\u001B[39;00m:\n\u001B[0;32m--> 196\u001B[0m         value_or_values \u001B[38;5;241m=\u001B[39m \u001B[43mfunc\u001B[49m\u001B[43m(\u001B[49m\u001B[43mtrial\u001B[49m\u001B[43m)\u001B[49m\n\u001B[1;32m    197\u001B[0m     \u001B[38;5;28;01mexcept\u001B[39;00m exceptions\u001B[38;5;241m.\u001B[39mTrialPruned \u001B[38;5;28;01mas\u001B[39;00m e:\n\u001B[1;32m    198\u001B[0m         \u001B[38;5;66;03m# TODO(mamu): Handle multi-objective cases.\u001B[39;00m\n\u001B[1;32m    199\u001B[0m         state \u001B[38;5;241m=\u001B[39m TrialState\u001B[38;5;241m.\u001B[39mPRUNED\n",
      "Cell \u001B[0;32mIn[50], line 67\u001B[0m, in \u001B[0;36mFeatureSelectionOptuna.__call__\u001B[0;34m(self, trial)\u001B[0m\n\u001B[1;32m     64\u001B[0m X_valid_selected \u001B[38;5;241m=\u001B[39m X_valid[selected_feature_names]\u001B[38;5;241m.\u001B[39mcopy()\n\u001B[1;32m     66\u001B[0m \u001B[38;5;66;03m# Train model, get predictions and accumulate loss\u001B[39;00m\n\u001B[0;32m---> 67\u001B[0m \u001B[38;5;28;43mself\u001B[39;49m\u001B[38;5;241;43m.\u001B[39;49m\u001B[43mmodel\u001B[49m\u001B[38;5;241;43m.\u001B[39;49m\u001B[43mfit\u001B[49m\u001B[43m(\u001B[49m\u001B[43mX_train_selected\u001B[49m\u001B[43m,\u001B[49m\u001B[43m \u001B[49m\u001B[43my_train\u001B[49m\u001B[43m)\u001B[49m\n\u001B[1;32m     68\u001B[0m pred \u001B[38;5;241m=\u001B[39m \u001B[38;5;28mself\u001B[39m\u001B[38;5;241m.\u001B[39mmodel\u001B[38;5;241m.\u001B[39mpredict(X_valid_selected)\n\u001B[1;32m     70\u001B[0m loss \u001B[38;5;241m+\u001B[39m\u001B[38;5;241m=\u001B[39m \u001B[38;5;28mself\u001B[39m\u001B[38;5;241m.\u001B[39mloss_fn(y_valid, pred)\n",
      "File \u001B[0;32m~/miniforge3/envs/chem/lib/python3.10/site-packages/xgboost/core.py:730\u001B[0m, in \u001B[0;36mrequire_keyword_args.<locals>.throw_if.<locals>.inner_f\u001B[0;34m(*args, **kwargs)\u001B[0m\n\u001B[1;32m    728\u001B[0m \u001B[38;5;28;01mfor\u001B[39;00m k, arg \u001B[38;5;129;01min\u001B[39;00m \u001B[38;5;28mzip\u001B[39m(sig\u001B[38;5;241m.\u001B[39mparameters, args):\n\u001B[1;32m    729\u001B[0m     kwargs[k] \u001B[38;5;241m=\u001B[39m arg\n\u001B[0;32m--> 730\u001B[0m \u001B[38;5;28;01mreturn\u001B[39;00m \u001B[43mfunc\u001B[49m\u001B[43m(\u001B[49m\u001B[38;5;241;43m*\u001B[39;49m\u001B[38;5;241;43m*\u001B[39;49m\u001B[43mkwargs\u001B[49m\u001B[43m)\u001B[49m\n",
      "File \u001B[0;32m~/miniforge3/envs/chem/lib/python3.10/site-packages/xgboost/sklearn.py:1090\u001B[0m, in \u001B[0;36mXGBModel.fit\u001B[0;34m(self, X, y, sample_weight, base_margin, eval_set, eval_metric, early_stopping_rounds, verbose, xgb_model, sample_weight_eval_set, base_margin_eval_set, feature_weights, callbacks)\u001B[0m\n\u001B[1;32m   1079\u001B[0m     obj \u001B[38;5;241m=\u001B[39m \u001B[38;5;28;01mNone\u001B[39;00m\n\u001B[1;32m   1081\u001B[0m (\n\u001B[1;32m   1082\u001B[0m     model,\n\u001B[1;32m   1083\u001B[0m     metric,\n\u001B[0;32m   (...)\u001B[0m\n\u001B[1;32m   1088\u001B[0m     xgb_model, eval_metric, params, early_stopping_rounds, callbacks\n\u001B[1;32m   1089\u001B[0m )\n\u001B[0;32m-> 1090\u001B[0m \u001B[38;5;28mself\u001B[39m\u001B[38;5;241m.\u001B[39m_Booster \u001B[38;5;241m=\u001B[39m \u001B[43mtrain\u001B[49m\u001B[43m(\u001B[49m\n\u001B[1;32m   1091\u001B[0m \u001B[43m    \u001B[49m\u001B[43mparams\u001B[49m\u001B[43m,\u001B[49m\n\u001B[1;32m   1092\u001B[0m \u001B[43m    \u001B[49m\u001B[43mtrain_dmatrix\u001B[49m\u001B[43m,\u001B[49m\n\u001B[1;32m   1093\u001B[0m \u001B[43m    \u001B[49m\u001B[38;5;28;43mself\u001B[39;49m\u001B[38;5;241;43m.\u001B[39;49m\u001B[43mget_num_boosting_rounds\u001B[49m\u001B[43m(\u001B[49m\u001B[43m)\u001B[49m\u001B[43m,\u001B[49m\n\u001B[1;32m   1094\u001B[0m \u001B[43m    \u001B[49m\u001B[43mevals\u001B[49m\u001B[38;5;241;43m=\u001B[39;49m\u001B[43mevals\u001B[49m\u001B[43m,\u001B[49m\n\u001B[1;32m   1095\u001B[0m \u001B[43m    \u001B[49m\u001B[43mearly_stopping_rounds\u001B[49m\u001B[38;5;241;43m=\u001B[39;49m\u001B[43mearly_stopping_rounds\u001B[49m\u001B[43m,\u001B[49m\n\u001B[1;32m   1096\u001B[0m \u001B[43m    \u001B[49m\u001B[43mevals_result\u001B[49m\u001B[38;5;241;43m=\u001B[39;49m\u001B[43mevals_result\u001B[49m\u001B[43m,\u001B[49m\n\u001B[1;32m   1097\u001B[0m \u001B[43m    \u001B[49m\u001B[43mobj\u001B[49m\u001B[38;5;241;43m=\u001B[39;49m\u001B[43mobj\u001B[49m\u001B[43m,\u001B[49m\n\u001B[1;32m   1098\u001B[0m \u001B[43m    \u001B[49m\u001B[43mcustom_metric\u001B[49m\u001B[38;5;241;43m=\u001B[39;49m\u001B[43mmetric\u001B[49m\u001B[43m,\u001B[49m\n\u001B[1;32m   1099\u001B[0m \u001B[43m    \u001B[49m\u001B[43mverbose_eval\u001B[49m\u001B[38;5;241;43m=\u001B[39;49m\u001B[43mverbose\u001B[49m\u001B[43m,\u001B[49m\n\u001B[1;32m   1100\u001B[0m \u001B[43m    \u001B[49m\u001B[43mxgb_model\u001B[49m\u001B[38;5;241;43m=\u001B[39;49m\u001B[43mmodel\u001B[49m\u001B[43m,\u001B[49m\n\u001B[1;32m   1101\u001B[0m \u001B[43m    \u001B[49m\u001B[43mcallbacks\u001B[49m\u001B[38;5;241;43m=\u001B[39;49m\u001B[43mcallbacks\u001B[49m\u001B[43m,\u001B[49m\n\u001B[1;32m   1102\u001B[0m \u001B[43m\u001B[49m\u001B[43m)\u001B[49m\n\u001B[1;32m   1104\u001B[0m \u001B[38;5;28mself\u001B[39m\u001B[38;5;241m.\u001B[39m_set_evaluation_result(evals_result)\n\u001B[1;32m   1105\u001B[0m \u001B[38;5;28;01mreturn\u001B[39;00m \u001B[38;5;28mself\u001B[39m\n",
      "File \u001B[0;32m~/miniforge3/envs/chem/lib/python3.10/site-packages/xgboost/core.py:730\u001B[0m, in \u001B[0;36mrequire_keyword_args.<locals>.throw_if.<locals>.inner_f\u001B[0;34m(*args, **kwargs)\u001B[0m\n\u001B[1;32m    728\u001B[0m \u001B[38;5;28;01mfor\u001B[39;00m k, arg \u001B[38;5;129;01min\u001B[39;00m \u001B[38;5;28mzip\u001B[39m(sig\u001B[38;5;241m.\u001B[39mparameters, args):\n\u001B[1;32m    729\u001B[0m     kwargs[k] \u001B[38;5;241m=\u001B[39m arg\n\u001B[0;32m--> 730\u001B[0m \u001B[38;5;28;01mreturn\u001B[39;00m \u001B[43mfunc\u001B[49m\u001B[43m(\u001B[49m\u001B[38;5;241;43m*\u001B[39;49m\u001B[38;5;241;43m*\u001B[39;49m\u001B[43mkwargs\u001B[49m\u001B[43m)\u001B[49m\n",
      "File \u001B[0;32m~/miniforge3/envs/chem/lib/python3.10/site-packages/xgboost/training.py:181\u001B[0m, in \u001B[0;36mtrain\u001B[0;34m(params, dtrain, num_boost_round, evals, obj, feval, maximize, early_stopping_rounds, evals_result, verbose_eval, xgb_model, callbacks, custom_metric)\u001B[0m\n\u001B[1;32m    179\u001B[0m \u001B[38;5;28;01mif\u001B[39;00m cb_container\u001B[38;5;241m.\u001B[39mbefore_iteration(bst, i, dtrain, evals):\n\u001B[1;32m    180\u001B[0m     \u001B[38;5;28;01mbreak\u001B[39;00m\n\u001B[0;32m--> 181\u001B[0m \u001B[43mbst\u001B[49m\u001B[38;5;241;43m.\u001B[39;49m\u001B[43mupdate\u001B[49m\u001B[43m(\u001B[49m\u001B[43mdtrain\u001B[49m\u001B[43m,\u001B[49m\u001B[43m \u001B[49m\u001B[43mi\u001B[49m\u001B[43m,\u001B[49m\u001B[43m \u001B[49m\u001B[43mobj\u001B[49m\u001B[43m)\u001B[49m\n\u001B[1;32m    182\u001B[0m \u001B[38;5;28;01mif\u001B[39;00m cb_container\u001B[38;5;241m.\u001B[39mafter_iteration(bst, i, dtrain, evals):\n\u001B[1;32m    183\u001B[0m     \u001B[38;5;28;01mbreak\u001B[39;00m\n",
      "File \u001B[0;32m~/miniforge3/envs/chem/lib/python3.10/site-packages/xgboost/core.py:2051\u001B[0m, in \u001B[0;36mBooster.update\u001B[0;34m(self, dtrain, iteration, fobj)\u001B[0m\n\u001B[1;32m   2047\u001B[0m \u001B[38;5;28mself\u001B[39m\u001B[38;5;241m.\u001B[39m_assign_dmatrix_features(dtrain)\n\u001B[1;32m   2049\u001B[0m \u001B[38;5;28;01mif\u001B[39;00m fobj \u001B[38;5;129;01mis\u001B[39;00m \u001B[38;5;28;01mNone\u001B[39;00m:\n\u001B[1;32m   2050\u001B[0m     _check_call(\n\u001B[0;32m-> 2051\u001B[0m         \u001B[43m_LIB\u001B[49m\u001B[38;5;241;43m.\u001B[39;49m\u001B[43mXGBoosterUpdateOneIter\u001B[49m\u001B[43m(\u001B[49m\n\u001B[1;32m   2052\u001B[0m \u001B[43m            \u001B[49m\u001B[38;5;28;43mself\u001B[39;49m\u001B[38;5;241;43m.\u001B[39;49m\u001B[43mhandle\u001B[49m\u001B[43m,\u001B[49m\u001B[43m \u001B[49m\u001B[43mctypes\u001B[49m\u001B[38;5;241;43m.\u001B[39;49m\u001B[43mc_int\u001B[49m\u001B[43m(\u001B[49m\u001B[43miteration\u001B[49m\u001B[43m)\u001B[49m\u001B[43m,\u001B[49m\u001B[43m \u001B[49m\u001B[43mdtrain\u001B[49m\u001B[38;5;241;43m.\u001B[39;49m\u001B[43mhandle\u001B[49m\n\u001B[1;32m   2053\u001B[0m \u001B[43m        \u001B[49m\u001B[43m)\u001B[49m\n\u001B[1;32m   2054\u001B[0m     )\n\u001B[1;32m   2055\u001B[0m \u001B[38;5;28;01melse\u001B[39;00m:\n\u001B[1;32m   2056\u001B[0m     pred \u001B[38;5;241m=\u001B[39m \u001B[38;5;28mself\u001B[39m\u001B[38;5;241m.\u001B[39mpredict(dtrain, output_margin\u001B[38;5;241m=\u001B[39m\u001B[38;5;28;01mTrue\u001B[39;00m, training\u001B[38;5;241m=\u001B[39m\u001B[38;5;28;01mTrue\u001B[39;00m)\n",
      "\u001B[0;31mKeyboardInterrupt\u001B[0m: "
     ]
    }
   ],
   "execution_count": 53
  },
  {
   "metadata": {
    "ExecuteTime": {
     "end_time": "2024-08-26T08:56:50.482401Z",
     "start_time": "2024-08-26T08:56:50.204963Z"
    }
   },
   "cell_type": "code",
   "source": [
    "opt_features = [k for k,v in study.trials[73].params.items() if v]\n",
    "len(opt_features)"
   ],
   "id": "46309397f92230fb",
   "outputs": [
    {
     "data": {
      "text/plain": [
       "209"
      ]
     },
     "execution_count": 81,
     "metadata": {},
     "output_type": "execute_result"
    }
   ],
   "execution_count": 81
  },
  {
   "metadata": {
    "ExecuteTime": {
     "end_time": "2024-08-26T08:57:33.727421Z",
     "start_time": "2024-08-26T08:57:33.709019Z"
    }
   },
   "cell_type": "code",
   "source": "opt_features",
   "id": "953adc87939fab8b",
   "outputs": [
    {
     "data": {
      "text/plain": [
       "['rd_Chi2v',\n",
       " 'rd_EState_VSA3',\n",
       " 'rd_EState_VSA6',\n",
       " 'rd_EState_VSA8',\n",
       " 'rd_HallKierAlpha',\n",
       " 'rd_Ipc',\n",
       " 'rd_Kappa2',\n",
       " 'rd_MaxEStateIndex',\n",
       " 'rd_MinAbsEStateIndex',\n",
       " 'rd_NumAliphaticCarbocycles',\n",
       " 'rd_NumHDonors',\n",
       " 'rd_NumRadicalElectrons',\n",
       " 'rd_PEOE_VSA14',\n",
       " 'rd_PEOE_VSA2',\n",
       " 'rd_PEOE_VSA3',\n",
       " 'rd_PEOE_VSA4',\n",
       " 'rd_PEOE_VSA5',\n",
       " 'rd_SMR_VSA10',\n",
       " 'rd_SMR_VSA6',\n",
       " 'rd_SlogP_VSA10',\n",
       " 'rd_SlogP_VSA7',\n",
       " 'rd_VSA_EState3',\n",
       " 'rd_VSA_EState4',\n",
       " 'rd_VSA_EState5',\n",
       " 'rd_VSA_EState9',\n",
       " 'rd_fr_ArN',\n",
       " 'rd_fr_Ar_N',\n",
       " 'rd_fr_COO2',\n",
       " 'rd_fr_C_O',\n",
       " 'rd_fr_C_O_noCOO',\n",
       " 'rd_fr_Imine',\n",
       " 'rd_fr_NH1',\n",
       " 'rd_fr_alkyl_halide',\n",
       " 'rd_fr_allylic_oxid',\n",
       " 'rd_fr_ether',\n",
       " 'rd_fr_furan',\n",
       " 'rd_fr_guanido',\n",
       " 'rd_fr_hdrzone',\n",
       " 'rd_fr_ketone',\n",
       " 'rd_fr_nitro_arom_nonortho',\n",
       " 'rd_fr_nitroso',\n",
       " 'rd_fr_oxazole',\n",
       " 'rd_fr_phos_ester',\n",
       " 'rd_fr_piperdine',\n",
       " 'rd_fr_piperzine',\n",
       " 'rd_fr_priamide',\n",
       " 'rd_fr_sulfonamd',\n",
       " 'rd_fr_sulfone',\n",
       " 'rd_fr_thiazole',\n",
       " 'rd_fr_thiophene',\n",
       " 'rd_fr_unbrch_alkane',\n",
       " 'md_nAcid',\n",
       " 'md_nBase',\n",
       " 'md_nHetero',\n",
       " 'md_nS',\n",
       " 'md_nP',\n",
       " 'md_ATS8dv',\n",
       " 'md_ATS8Z',\n",
       " 'md_ATS3m',\n",
       " 'md_ATS4m',\n",
       " 'md_ATS5m',\n",
       " 'md_ATS0p',\n",
       " 'md_ATS4p',\n",
       " 'md_ATS8p',\n",
       " 'md_ATS5i',\n",
       " 'md_AATS0d',\n",
       " 'md_AATS0m',\n",
       " 'md_AATS0v',\n",
       " 'md_AATS0pe',\n",
       " 'md_ATSC0dv',\n",
       " 'md_ATSC3dv',\n",
       " 'md_ATSC4dv',\n",
       " 'md_ATSC6dv',\n",
       " 'md_ATSC7dv',\n",
       " 'md_ATSC8dv',\n",
       " 'md_ATSC1d',\n",
       " 'md_ATSC2d',\n",
       " 'md_ATSC7Z',\n",
       " 'md_ATSC0m',\n",
       " 'md_ATSC2m',\n",
       " 'md_ATSC5v',\n",
       " 'md_ATSC7v',\n",
       " 'md_ATSC8v',\n",
       " 'md_ATSC1pe',\n",
       " 'md_ATSC3pe',\n",
       " 'md_ATSC5pe',\n",
       " 'md_ATSC7pe',\n",
       " 'md_ATSC0p',\n",
       " 'md_ATSC3p',\n",
       " 'md_ATSC8p',\n",
       " 'md_ATSC2i',\n",
       " 'md_ATSC4i',\n",
       " 'md_ATSC8i',\n",
       " 'md_AATSC0dv',\n",
       " 'md_AATSC0d',\n",
       " 'md_AATSC0m',\n",
       " 'md_AATSC0v',\n",
       " 'md_AATSC0pe',\n",
       " 'md_BalabanJ',\n",
       " 'md_nBondsD',\n",
       " 'md_nBondsKD',\n",
       " 'md_C1SP1',\n",
       " 'md_C1SP2',\n",
       " 'md_C3SP2',\n",
       " 'md_C2SP3',\n",
       " 'md_Xch-6d',\n",
       " 'md_Xch-7d',\n",
       " 'md_Xch-7dv',\n",
       " 'md_Xc-3d',\n",
       " 'md_Xpc-4dv',\n",
       " 'md_Xp-7d',\n",
       " 'md_Xp-1dv',\n",
       " 'md_Xp-7dv',\n",
       " 'md_Mv',\n",
       " 'md_Mp',\n",
       " 'md_NsssB',\n",
       " 'md_NssssB',\n",
       " 'md_NaasC',\n",
       " 'md_NaaaC',\n",
       " 'md_NsssN',\n",
       " 'md_NssssN',\n",
       " 'md_NdO',\n",
       " 'md_NsssSiH',\n",
       " 'md_NsssP',\n",
       " 'md_NdssS',\n",
       " 'md_NddssS',\n",
       " 'md_SdsCH',\n",
       " 'md_SddC',\n",
       " 'md_SaasC',\n",
       " 'md_SssssC',\n",
       " 'md_SdNH',\n",
       " 'md_StN',\n",
       " 'md_SddsN',\n",
       " 'md_SssssSi',\n",
       " 'md_SsSH',\n",
       " 'md_SssS',\n",
       " 'md_SaaS',\n",
       " 'md_SsssdAs',\n",
       " 'md_SsBr',\n",
       " 'md_SsI',\n",
       " 'md_ECIndex',\n",
       " 'md_fMF',\n",
       " 'md_nHBAcc',\n",
       " 'md_IC2',\n",
       " 'md_CIC0',\n",
       " 'md_CIC3',\n",
       " 'md_CIC5',\n",
       " 'md_MIC0',\n",
       " 'md_MIC1',\n",
       " 'md_ZMIC1',\n",
       " 'md_ZMIC5',\n",
       " 'md_Lipinski',\n",
       " 'md_GhoseFilter',\n",
       " 'md_FilterItLogS',\n",
       " 'md_PEOE_VSA6',\n",
       " 'md_PEOE_VSA11',\n",
       " 'md_SMR_VSA3',\n",
       " 'md_SMR_VSA4',\n",
       " 'md_SlogP_VSA2',\n",
       " 'md_SlogP_VSA6',\n",
       " 'md_SlogP_VSA8',\n",
       " 'md_SlogP_VSA11',\n",
       " 'md_EState_VSA9',\n",
       " 'md_VSA_EState7',\n",
       " 'md_VSA_EState8',\n",
       " 'md_piPC7',\n",
       " 'md_piPC10',\n",
       " 'md_bpol',\n",
       " 'md_n3Ring',\n",
       " 'md_n5Ring',\n",
       " 'md_n6Ring',\n",
       " 'md_n5HRing',\n",
       " 'md_n7HRing',\n",
       " 'md_n6aRing',\n",
       " 'md_n7aRing',\n",
       " 'md_naHRing',\n",
       " 'md_n6aHRing',\n",
       " 'md_n5ARing',\n",
       " 'md_n5AHRing',\n",
       " 'md_n6AHRing',\n",
       " 'md_nG12AHRing',\n",
       " 'md_nFRing',\n",
       " 'md_n10FRing',\n",
       " 'md_nG12FRing',\n",
       " 'md_nFHRing',\n",
       " 'md_n10FHRing',\n",
       " 'md_nG12FHRing',\n",
       " 'md_n10FaRing',\n",
       " 'md_nG12FaHRing',\n",
       " 'md_n9FARing',\n",
       " 'md_nG12FARing',\n",
       " 'md_n7FAHRing',\n",
       " 'md_n8FAHRing',\n",
       " 'md_n10FAHRing',\n",
       " 'md_nRot',\n",
       " 'md_SLogP',\n",
       " 'md_TopoPSA(NO)',\n",
       " 'md_GGI7',\n",
       " 'md_GGI8',\n",
       " 'md_JGI2',\n",
       " 'md_JGI3',\n",
       " 'md_JGI4',\n",
       " 'md_JGI6',\n",
       " 'md_JGI8',\n",
       " 'md_JGT10',\n",
       " 'md_SRW10',\n",
       " 'md_TSRW10',\n",
       " 'md_WPath',\n",
       " 'md_Zagreb2']"
      ]
     },
     "execution_count": 83,
     "metadata": {},
     "output_type": "execute_result"
    }
   ],
   "execution_count": 83
  }
 ],
 "metadata": {
  "kernelspec": {
   "display_name": "Python 3",
   "language": "python",
   "name": "python3"
  },
  "language_info": {
   "codemirror_mode": {
    "name": "ipython",
    "version": 2
   },
   "file_extension": ".py",
   "mimetype": "text/x-python",
   "name": "python",
   "nbconvert_exporter": "python",
   "pygments_lexer": "ipython2",
   "version": "2.7.6"
  }
 },
 "nbformat": 4,
 "nbformat_minor": 5
}
