{
 "cells": [
  {
   "cell_type": "code",
   "id": "initial_id",
   "metadata": {
    "collapsed": true,
    "ExecuteTime": {
     "end_time": "2024-08-28T06:16:19.963137Z",
     "start_time": "2024-08-28T06:16:19.952102Z"
    }
   },
   "source": [
    "%load_ext autoreload\n",
    "%autoreload 2\n",
    "\n",
    "import sys\n",
    "sys.path.append('../')"
   ],
   "outputs": [
    {
     "name": "stdout",
     "output_type": "stream",
     "text": [
      "The autoreload extension is already loaded. To reload it, use:\n",
      "  %reload_ext autoreload\n"
     ]
    }
   ],
   "execution_count": 34
  },
  {
   "metadata": {
    "ExecuteTime": {
     "end_time": "2024-08-28T06:16:20.268897Z",
     "start_time": "2024-08-28T06:16:19.964736Z"
    }
   },
   "cell_type": "code",
   "source": [
    "import pandas as pd\n",
    "import numpy as np\n",
    "from src.utils import get_fps_offset\n",
    "\n",
    "\n",
    "train = pd.read_csv('../data/processed/X_train.csv')\n",
    "test = pd.read_csv('../data/processed/X_test.csv')\n",
    "y_train = pd.read_csv('../data/processed/y_train.csv').values.ravel()\n",
    "\n",
    "FPS_OFFSET = get_fps_offset(train.columns)\n",
    "fps_cols = [str(c) for c in range(FPS_OFFSET)]\n",
    "rd_cols = [c for c in train.columns if 'rd_' in str(c)]\n",
    "md_cols = [c for c in train.columns if 'md_' in str(c)]\n",
    "features = list(set(train.columns) - set(rd_cols + md_cols + fps_cols))"
   ],
   "id": "6e520cc72fef3f6d",
   "outputs": [],
   "execution_count": 35
  },
  {
   "metadata": {
    "ExecuteTime": {
     "end_time": "2024-08-28T06:16:20.271967Z",
     "start_time": "2024-08-28T06:16:20.269936Z"
    }
   },
   "cell_type": "code",
   "source": "",
   "id": "7ef45f7ad7aeb433",
   "outputs": [],
   "execution_count": 35
  },
  {
   "metadata": {
    "ExecuteTime": {
     "end_time": "2024-08-28T06:16:20.298709Z",
     "start_time": "2024-08-28T06:16:20.275093Z"
    }
   },
   "cell_type": "code",
   "source": [
    "uncorr_feats = ['rd_EState_VSA1',\n",
    " 'rd_EState_VSA10',\n",
    " 'rd_EState_VSA11',\n",
    " 'rd_EState_VSA2',\n",
    " 'rd_EState_VSA7',\n",
    " 'rd_FpDensityMorgan1',\n",
    " 'rd_FpDensityMorgan2',\n",
    " 'rd_FpDensityMorgan3',\n",
    " 'rd_HallKierAlpha',\n",
    " 'rd_Ipc',\n",
    " 'rd_Kappa1',\n",
    " 'rd_Kappa2',\n",
    " 'rd_Kappa3',\n",
    " 'rd_MaxEStateIndex',\n",
    " 'rd_MinAbsEStateIndex',\n",
    " 'rd_MinEStateIndex',\n",
    " 'rd_MolLogP',\n",
    " 'rd_NOCount',\n",
    " 'rd_NumAliphaticCarbocycles',\n",
    " 'rd_NumAliphaticHeterocycles',\n",
    " 'rd_NumAliphaticRings',\n",
    " 'rd_NumAromaticHeterocycles',\n",
    " 'rd_NumHAcceptors',\n",
    " 'rd_NumHeteroatoms',\n",
    " 'rd_NumRadicalElectrons',\n",
    " 'rd_NumSaturatedCarbocycles',\n",
    " 'rd_NumSaturatedHeterocycles',\n",
    " 'rd_NumSaturatedRings',\n",
    " 'rd_PEOE_VSA1',\n",
    " 'rd_PEOE_VSA10',\n",
    " 'rd_PEOE_VSA14',\n",
    " 'rd_PEOE_VSA2',\n",
    " 'rd_PEOE_VSA3',\n",
    " 'rd_PEOE_VSA4',\n",
    " 'rd_PEOE_VSA5',\n",
    " 'rd_PEOE_VSA8',\n",
    " 'rd_PEOE_VSA9',\n",
    " 'rd_RingCount',\n",
    " 'rd_SMR_VSA10',\n",
    " 'rd_SlogP_VSA10',\n",
    " 'rd_SlogP_VSA12',\n",
    " 'rd_SlogP_VSA3',\n",
    " 'rd_SlogP_VSA4',\n",
    " 'rd_SlogP_VSA5',\n",
    " 'rd_SlogP_VSA7',\n",
    " 'rd_VSA_EState10',\n",
    " 'rd_VSA_EState2',\n",
    " 'rd_VSA_EState3',\n",
    " 'rd_VSA_EState4',\n",
    " 'rd_VSA_EState5',\n",
    " 'rd_VSA_EState7',\n",
    " 'rd_VSA_EState8',\n",
    " 'rd_VSA_EState9',\n",
    " 'rd_fr_Al_COO',\n",
    " 'rd_fr_Al_OH_noTert',\n",
    " 'rd_fr_ArN',\n",
    " 'rd_fr_Ar_COO',\n",
    " 'rd_fr_Ar_N',\n",
    " 'rd_fr_C_O',\n",
    " 'rd_fr_C_O_noCOO',\n",
    " 'rd_fr_C_S',\n",
    " 'rd_fr_HOCCN',\n",
    " 'rd_fr_Imine',\n",
    " 'rd_fr_NH0',\n",
    " 'rd_fr_NH1',\n",
    " 'rd_fr_N_O',\n",
    " 'rd_fr_Ndealkylation1',\n",
    " 'rd_fr_Ndealkylation2',\n",
    " 'rd_fr_aldehyde',\n",
    " 'rd_fr_alkyl_carbamate',\n",
    " 'rd_fr_alkyl_halide',\n",
    " 'rd_fr_allylic_oxid',\n",
    " 'rd_fr_amide',\n",
    " 'rd_fr_amidine',\n",
    " 'rd_fr_aniline',\n",
    " 'rd_fr_aryl_methyl',\n",
    " 'rd_fr_barbitur',\n",
    " 'rd_fr_benzene',\n",
    " 'rd_fr_benzodiazepine',\n",
    " 'rd_fr_bicyclic',\n",
    " 'rd_fr_ether',\n",
    " 'rd_fr_furan',\n",
    " 'rd_fr_guanido',\n",
    " 'rd_fr_hdrzine',\n",
    " 'rd_fr_hdrzone',\n",
    " 'rd_fr_imidazole',\n",
    " 'rd_fr_imide',\n",
    " 'rd_fr_ketone',\n",
    " 'rd_fr_ketone_Topliss',\n",
    " 'rd_fr_lactone',\n",
    " 'rd_fr_methoxy',\n",
    " 'rd_fr_morpholine',\n",
    " 'rd_fr_nitro',\n",
    " 'rd_fr_nitro_arom_nonortho',\n",
    " 'rd_fr_oxazole',\n",
    " 'rd_fr_oxime',\n",
    " 'rd_fr_para_hydroxylation',\n",
    " 'rd_fr_phos_ester',\n",
    " 'rd_fr_piperdine',\n",
    " 'rd_fr_piperzine',\n",
    " 'rd_fr_priamide',\n",
    " 'rd_fr_pyridine',\n",
    " 'rd_fr_sulfide',\n",
    " 'rd_fr_sulfonamd',\n",
    " 'rd_fr_sulfone',\n",
    " 'rd_fr_thiazole',\n",
    " 'rd_fr_thiophene',\n",
    " 'rd_fr_unbrch_alkane',\n",
    " 'rd_fr_urea',\n",
    " 'rd_qed',\n",
    " 'md_nAcid',\n",
    " 'md_nBase',\n",
    " 'md_nSpiro',\n",
    " 'md_nBridgehead',\n",
    " 'md_nB',\n",
    " 'md_nN',\n",
    " 'md_nS',\n",
    " 'md_nI',\n",
    " 'md_ATS1dv',\n",
    " 'md_ATS8dv',\n",
    " 'md_ATS1Z',\n",
    " 'md_ATS2Z',\n",
    " 'md_ATS7Z',\n",
    " 'md_ATS8Z',\n",
    " 'md_ATS0m',\n",
    " 'md_ATS3m',\n",
    " 'md_ATS4m',\n",
    " 'md_ATS6m',\n",
    " 'md_ATS0p',\n",
    " 'md_ATS8i',\n",
    " 'md_AATS0d',\n",
    " 'md_AATS0v',\n",
    " 'md_AATS0i',\n",
    " 'md_ATSC0dv',\n",
    " 'md_ATSC1dv',\n",
    " 'md_ATSC2dv',\n",
    " 'md_ATSC3dv',\n",
    " 'md_ATSC4dv',\n",
    " 'md_ATSC5dv',\n",
    " 'md_ATSC6dv',\n",
    " 'md_ATSC7dv',\n",
    " 'md_ATSC8dv',\n",
    " 'md_ATSC1d',\n",
    " 'md_ATSC2d',\n",
    " 'md_ATSC3d',\n",
    " 'md_ATSC4d',\n",
    " 'md_ATSC5d',\n",
    " 'md_ATSC6d',\n",
    " 'md_ATSC7d',\n",
    " 'md_ATSC8d',\n",
    " 'md_ATSC3Z',\n",
    " 'md_ATSC4Z',\n",
    " 'md_ATSC5Z',\n",
    " 'md_ATSC6Z',\n",
    " 'md_ATSC7Z',\n",
    " 'md_ATSC0m',\n",
    " 'md_ATSC1m',\n",
    " 'md_ATSC2m',\n",
    " 'md_ATSC8m',\n",
    " 'md_ATSC1v',\n",
    " 'md_ATSC2v',\n",
    " 'md_ATSC3v',\n",
    " 'md_ATSC4v',\n",
    " 'md_ATSC5v',\n",
    " 'md_ATSC6v',\n",
    " 'md_ATSC7v',\n",
    " 'md_ATSC8v',\n",
    " 'md_ATSC0pe',\n",
    " 'md_ATSC1pe',\n",
    " 'md_ATSC2pe',\n",
    " 'md_ATSC3pe',\n",
    " 'md_ATSC4pe',\n",
    " 'md_ATSC5pe',\n",
    " 'md_ATSC6pe',\n",
    " 'md_ATSC7pe',\n",
    " 'md_ATSC8pe',\n",
    " 'md_ATSC0p',\n",
    " 'md_ATSC1p',\n",
    " 'md_ATSC2p',\n",
    " 'md_ATSC3p',\n",
    " 'md_ATSC4p',\n",
    " 'md_ATSC5p',\n",
    " 'md_ATSC6p',\n",
    " 'md_ATSC7p',\n",
    " 'md_ATSC8p',\n",
    " 'md_ATSC0i',\n",
    " 'md_ATSC1i',\n",
    " 'md_ATSC2i',\n",
    " 'md_ATSC3i',\n",
    " 'md_ATSC4i',\n",
    " 'md_ATSC5i',\n",
    " 'md_ATSC6i',\n",
    " 'md_ATSC7i',\n",
    " 'md_ATSC8i',\n",
    " 'md_AATSC0dv',\n",
    " 'md_AATSC0d',\n",
    " 'md_AATSC0m',\n",
    " 'md_AATSC0v',\n",
    " 'md_AATSC0pe',\n",
    " 'md_AATSC0p',\n",
    " 'md_AATSC0i',\n",
    " 'md_BalabanJ',\n",
    " 'md_BertzCT',\n",
    " 'md_nBondsD',\n",
    " 'md_nBondsKD',\n",
    " 'md_C1SP1',\n",
    " 'md_C2SP1',\n",
    " 'md_C1SP2',\n",
    " 'md_C3SP2',\n",
    " 'md_C1SP3',\n",
    " 'md_C2SP3',\n",
    " 'md_C3SP3',\n",
    " 'md_C4SP3',\n",
    " 'md_FCSP3',\n",
    " 'md_Xch-5d',\n",
    " 'md_Xch-6d',\n",
    " 'md_Xch-7d',\n",
    " 'md_Xch-4dv',\n",
    " 'md_Xch-5dv',\n",
    " 'md_Xch-7dv',\n",
    " 'md_Xc-4d',\n",
    " 'md_Xc-5d',\n",
    " 'md_Xc-3dv',\n",
    " 'md_Xc-4dv',\n",
    " 'md_Xc-5dv',\n",
    " 'md_Xpc-4dv',\n",
    " 'md_Xpc-5dv',\n",
    " 'md_Xp-7d',\n",
    " 'md_Xp-1dv',\n",
    " 'md_Xp-2dv',\n",
    " 'md_Xp-6dv',\n",
    " 'md_Xp-7dv',\n",
    " 'md_Sm',\n",
    " 'md_Si',\n",
    " 'md_Mm',\n",
    " 'md_Mv',\n",
    " 'md_Mpe',\n",
    " 'md_Mp',\n",
    " 'md_NssCH2',\n",
    " 'md_NsssCH',\n",
    " 'md_NdssC',\n",
    " 'md_NaasC',\n",
    " 'md_NaaaC',\n",
    " 'md_NssssC',\n",
    " 'md_NsNH2',\n",
    " 'md_NdsN',\n",
    " 'md_NsssN',\n",
    " 'md_NaasN',\n",
    " 'md_NssssN',\n",
    " 'md_NdO',\n",
    " 'md_NaaO',\n",
    " 'md_NsssP',\n",
    " 'md_NdS',\n",
    " 'md_SsCH3',\n",
    " 'md_SssCH2',\n",
    " 'md_SdsCH',\n",
    " 'md_SaaCH',\n",
    " 'md_SsssCH',\n",
    " 'md_StsC',\n",
    " 'md_SdssC',\n",
    " 'md_SaasC',\n",
    " 'md_SaaaC',\n",
    " 'md_SssNH',\n",
    " 'md_SaaNH',\n",
    " 'md_SsssN',\n",
    " 'md_SaasN',\n",
    " 'md_SssssN',\n",
    " 'md_SsOH',\n",
    " 'md_SssO',\n",
    " 'md_SsssP',\n",
    " 'md_SsSH',\n",
    " 'md_SaaS',\n",
    " 'md_SsCl',\n",
    " 'md_SsBr',\n",
    " 'md_ECIndex',\n",
    " 'md_fragCpx',\n",
    " 'md_fMF',\n",
    " 'md_nHBDon',\n",
    " 'md_IC0',\n",
    " 'md_IC1',\n",
    " 'md_IC2',\n",
    " 'md_IC5',\n",
    " 'md_CIC0',\n",
    " 'md_CIC1',\n",
    " 'md_CIC2',\n",
    " 'md_CIC3',\n",
    " 'md_CIC5',\n",
    " 'md_MIC0',\n",
    " 'md_MIC1',\n",
    " 'md_MIC5',\n",
    " 'md_ZMIC1',\n",
    " 'md_ZMIC5',\n",
    " 'md_Lipinski',\n",
    " 'md_GhoseFilter',\n",
    " 'md_FilterItLogS',\n",
    " 'md_PEOE_VSA6',\n",
    " 'md_PEOE_VSA7',\n",
    " 'md_PEOE_VSA11',\n",
    " 'md_PEOE_VSA12',\n",
    " 'md_PEOE_VSA13',\n",
    " 'md_SMR_VSA1',\n",
    " 'md_SMR_VSA3',\n",
    " 'md_SMR_VSA4',\n",
    " 'md_SMR_VSA5',\n",
    " 'md_SMR_VSA6',\n",
    " 'md_SMR_VSA9',\n",
    " 'md_SlogP_VSA1',\n",
    " 'md_SlogP_VSA2',\n",
    " 'md_SlogP_VSA6',\n",
    " 'md_SlogP_VSA8',\n",
    " 'md_SlogP_VSA11',\n",
    " 'md_EState_VSA3',\n",
    " 'md_EState_VSA4',\n",
    " 'md_EState_VSA5',\n",
    " 'md_EState_VSA6',\n",
    " 'md_EState_VSA8',\n",
    " 'md_EState_VSA9',\n",
    " 'md_VSA_EState1',\n",
    " 'md_piPC2',\n",
    " 'md_piPC7',\n",
    " 'md_piPC8',\n",
    " 'md_piPC10',\n",
    " 'md_bpol',\n",
    " 'md_n5Ring',\n",
    " 'md_n6Ring',\n",
    " 'md_n7Ring',\n",
    " 'md_nG12Ring',\n",
    " 'md_nHRing',\n",
    " 'md_n5HRing',\n",
    " 'md_n6HRing',\n",
    " 'md_nG12HRing',\n",
    " 'md_n5aRing',\n",
    " 'md_n7aRing',\n",
    " 'md_n6aHRing',\n",
    " 'md_n4ARing',\n",
    " 'md_n5ARing',\n",
    " 'md_n6ARing',\n",
    " 'md_n8ARing',\n",
    " 'md_n12ARing',\n",
    " 'md_n3AHRing',\n",
    " 'md_n4AHRing',\n",
    " 'md_n5AHRing',\n",
    " 'md_n6AHRing',\n",
    " 'md_n7AHRing',\n",
    " 'md_nFRing',\n",
    " 'md_n10FRing',\n",
    " 'md_nG12FRing',\n",
    " 'md_nFHRing',\n",
    " 'md_n7FHRing',\n",
    " 'md_n8FHRing',\n",
    " 'md_n9FHRing',\n",
    " 'md_n10FHRing',\n",
    " 'md_nG12FHRing',\n",
    " 'md_n9FaRing',\n",
    " 'md_n10FaRing',\n",
    " 'md_nFaHRing',\n",
    " 'md_n10FaHRing',\n",
    " 'md_nG12FaHRing',\n",
    " 'md_nFARing',\n",
    " 'md_n7FARing',\n",
    " 'md_n9FARing',\n",
    " 'md_n10FARing',\n",
    " 'md_n11FARing',\n",
    " 'md_n12FARing',\n",
    " 'md_nG12FARing',\n",
    " 'md_nFAHRing',\n",
    " 'md_n6FAHRing',\n",
    " 'md_n9FAHRing',\n",
    " 'md_n10FAHRing',\n",
    " 'md_n11FAHRing',\n",
    " 'md_n12FAHRing',\n",
    " 'md_nG12FAHRing',\n",
    " 'md_TopoPSA',\n",
    " 'md_GGI1',\n",
    " 'md_GGI2',\n",
    " 'md_GGI3',\n",
    " 'md_GGI4',\n",
    " 'md_GGI5',\n",
    " 'md_GGI6',\n",
    " 'md_GGI7',\n",
    " 'md_GGI8',\n",
    " 'md_GGI10',\n",
    " 'md_JGI1',\n",
    " 'md_JGI2',\n",
    " 'md_JGI3',\n",
    " 'md_JGI4',\n",
    " 'md_JGI5',\n",
    " 'md_JGI6',\n",
    " 'md_JGI7',\n",
    " 'md_JGI8',\n",
    " 'md_JGI9',\n",
    " 'md_JGI10',\n",
    " 'md_JGT10',\n",
    " 'md_Diameter',\n",
    " 'md_MWC10',\n",
    " 'md_SRW02',\n",
    " 'md_SRW03',\n",
    " 'md_SRW09',\n",
    " 'md_TSRW10',\n",
    " 'md_WPath',\n",
    " 'md_Zagreb2',\n",
    " 'ALogPS_logP',\n",
    " 'ALogPS_logS',\n",
    " 'HALOG',\n",
    " 'MW',\n",
    " 'NA',\n",
    " 'NH',\n",
    " 'O',\n",
    " 'P',\n",
    " 'SdCH2',\n",
    " 'SdssC',\n",
    " 'Se1C1C4s',\n",
    " 'Se1C2C2ss',\n",
    " 'Se1C2C3sd',\n",
    " 'Se1C2C3ss',\n",
    " 'Se1C3C3ds',\n",
    " 'Se1C3C4ss',\n",
    " 'Se2C1C3s',\n",
    " 'SsCH3',\n",
    " 'ACCEPTORS',\n",
    " 'RBONDS',\n",
    " 'SdO',\n",
    " 'Se1C1C3s',\n",
    " 'Se1C1O2s',\n",
    " 'Se1C3Cl1a',\n",
    " 'Se1C3O2as',\n",
    " 'Se1C3O2ds',\n",
    " 'Se1C3O2ss',\n",
    " 'Se2C3O1s',\n",
    " 'SeaC2C2aa',\n",
    " 'SeaC2C3aa',\n",
    " 'SeaC3C3aa',\n",
    " 'DONORS',\n",
    " 'Se1C1C2s',\n",
    " 'Se1C2O1s',\n",
    " 'Se1C2O2ss',\n",
    " 'Se1C3O1s',\n",
    " 'Se1C1C3d',\n",
    " 'Se1C2C4ss',\n",
    " 'SdsCH',\n",
    " 'Se1C2C2ds',\n",
    " 'Se2C2C2ss',\n",
    " 'SdO(keto)',\n",
    " 'Se1C2C2dd',\n",
    " 'Se2C2O1s',\n",
    " 'SaaN',\n",
    " 'SaasN',\n",
    " 'Se1C1C3a',\n",
    " 'Se1C2N3sa',\n",
    " 'SeaC3N2aa',\n",
    " 'SeaC3N3aa',\n",
    " 'SeaN2N3aa',\n",
    " 'Se1C1C2d',\n",
    " 'Se1C2C3ds',\n",
    " 'Se1C3C3ss',\n",
    " 'Se2C2C3ss',\n",
    " 'Se1C2S2ss',\n",
    " 'Se1C3N2as',\n",
    " 'Se1C3S2as',\n",
    " 'SsOH(acid)',\n",
    " 'SssNH',\n",
    " 'SssNH(ar)',\n",
    " 'SssS',\n",
    " 'Se1C3C3as',\n",
    " 'Se1C3Cl1s',\n",
    " 'SdO(amid)',\n",
    " 'Se1C2N3ss',\n",
    " 'Se1C3C4ds',\n",
    " 'Se1C3N2ds',\n",
    " 'Se1C3N3ds',\n",
    " 'Se1C4N3ss',\n",
    " 'SssNH(oth)',\n",
    " 'SsssN(oth)',\n",
    " 'SaaaC',\n",
    " 'Se1C2C3sa',\n",
    " 'Se1C3C3ad',\n",
    " 'Se1C3N3da',\n",
    " 'Se1C2N2ss',\n",
    " 'Se1C2Si4ss',\n",
    " 'Se1C3N1d',\n",
    " 'SsNH2',\n",
    " 'SssssSi',\n",
    " 'Se1C2N1s',\n",
    " 'SsNH2(al)',\n",
    " 'Se1N3Br1s',\n",
    " 'Se1N3Cl1s',\n",
    " 'Se1C3C4as',\n",
    " 'SsF',\n",
    " 'SdO(nitro)',\n",
    " 'SddsN(nitro)',\n",
    " 'Se1C3N==ad',\n",
    " 'Se1C2S1s',\n",
    " 'SsSH',\n",
    " 'Se1C1N3s',\n",
    " 'Se1C2N3ds',\n",
    " 'Se1C3C3dd',\n",
    " 'SsOH(phen)',\n",
    " 'Se2C1C2s',\n",
    " 'Se1C2C3dd',\n",
    " 'Se1C3N3as',\n",
    " 'Se1C1Si4s',\n",
    " 'SsssSiH',\n",
    " 'SsssN(al)',\n",
    " 'SeaC2N2aa',\n",
    " 'Se1C2C3da',\n",
    " 'Se1C2Br1s',\n",
    " 'Se1C3Cl1d',\n",
    " 'SdsN',\n",
    " 'Se1C3N2ad',\n",
    " 'Se2C3N2ss',\n",
    " 'Se1C2Si4ds',\n",
    " 'SsNH2(ar)',\n",
    " 'Se1C4O2ss',\n",
    " 'Se1C2C4ts',\n",
    " 'Se1C4O1s',\n",
    " 'StCH',\n",
    " 'SssNH(al)',\n",
    " 'Se1N2O1d',\n",
    " 'Se1C2C2st',\n",
    " 'Se3C2C2ss',\n",
    " 'Se1C3C3aa',\n",
    " 'Se1C2Cl1s',\n",
    " 'SdsssP',\n",
    " 'Se1O2P4sd',\n",
    " 'Se2O1P4s',\n",
    " 'SaaS',\n",
    " 'Se1C3S1a',\n",
    " 'SeaC3S2aa',\n",
    " 'Se1C2C3ts',\n",
    " 'StN',\n",
    " 'Se1C4Br1s',\n",
    " 'Se1C3N2ss',\n",
    " 'Se1C3Br1a',\n",
    " 'Se1O2O2ss',\n",
    " 'Se1C2C3ta',\n",
    " 'Se1C2O2ds',\n",
    " 'Se1C3N2sd',\n",
    " 'Se1C3N3ss',\n",
    " 'StdN',\n",
    " 'Se2C3C3ss',\n",
    " 'SeaC2N3aa',\n",
    " 'Se1N1N3a',\n",
    " 'SeaN2N2aa',\n",
    " 'SdO(sulfo)',\n",
    " 'Se1N3S4ad',\n",
    " 'Se1N3S4sd',\n",
    " 'Se1C4Cl1s',\n",
    " 'Se2N2O1s',\n",
    " 'Se1C3S4ad',\n",
    " 'Se1N1S4d',\n",
    " 'Se1N3S2ss',\n",
    " 'Se1S2S2ss',\n",
    " 'SsssN(ar)',\n",
    " 'Se1C3S2ds',\n",
    " 'Se1C4N2ss',\n",
    " 'Se1C2N2ds',\n",
    " 'Se1C3F1d',\n",
    " 'SdS',\n",
    " 'Se2C3S1s',\n",
    " 'Se1O1S4d',\n",
    " 'Se1O2S4sd',\n",
    " 'Se1N2S4sd',\n",
    " 'Se1C1S2s',\n",
    " 'SeaN2S2aa',\n",
    " 'Se2N2N2ss',\n",
    " 'Se1C2C4ds',\n",
    " 'Se1C4S2ss',\n",
    " 'Se2C2N2ss',\n",
    " 'Se1C1N2s',\n",
    " 'Se1C1S4d',\n",
    " 'Se1C4S4sd',\n",
    " 'Se1N2O2ds',\n",
    " 'SdssS',\n",
    " 'Se1C1S3d',\n",
    " 'Se1C4S3sd',\n",
    " 'Se2O1S3s',\n",
    " 'SaaO',\n",
    " 'SeaC3O2aa',\n",
    " 'SsI',\n",
    " 'Se1C2S1t',\n",
    " 'Se1C3F1a',\n",
    " 'SeaN2O2aa',\n",
    " 'Se1P4S2ds',\n",
    " 'SaaNH',\n",
    " 'Se1C1N3a',\n",
    " 'SeaC2NHaa',\n",
    " 'SeaC3NHaa',\n",
    " 'Se2C3N3pss',\n",
    " 'Se2P4S1s',\n",
    " 'Se1C1N4ps',\n",
    " 'Se1C2N4pss',\n",
    " 'Se1C2S3sd',\n",
    " 'Se1C1P4d',\n",
    " 'SsssB',\n",
    " 'Se1C3Br1d',\n",
    " 'Se1N2N3ds',\n",
    " 'Se1C2S4sd',\n",
    " 'Se1C3N2dd',\n",
    " 'Se1C3N3aa',\n",
    " 'Se1N2Cl1s',\n",
    " 'Se1N3O1s',\n",
    " 'Se1C3N3sa',\n",
    " 'Se1C3N1s',\n",
    " 'SeaC2S2aa',\n",
    " 'SeaC2O2aa',\n",
    " 'Se1N2O1s',\n",
    " 'Se1N2P4sd',\n",
    " 'Se1N3P4sd',\n",
    " 'Se1O1P4d',\n",
    " 'Se1C3S2ss',\n",
    " 'Se1C3S4sd',\n",
    " 'Se2O1P3s',\n",
    " 'SeaN3N3paa',\n",
    " 'Se1C3F1s',\n",
    " 'Se1O2P3ss',\n",
    " 'Se2O1As4s',\n",
    " 'SssssSn',\n",
    " 'Se1N2N==dd',\n",
    " 'Se1O2S3sd',\n",
    " 'Se1C3P4ad',\n",
    " 'Se1C4N2sd',\n",
    " 'Se1N2N3ss',\n",
    " 'Se1C3Si4as',\n",
    " 'Se2C1O1',\n",
    " 'Se1C2N1d',\n",
    " 'StIn',\n",
    " 'Se1N1N2s',\n",
    " 'Se1N3O2ss',\n",
    " 'Se1N2N2ss',\n",
    " 'Se1C3S1d',\n",
    " 'Se1C2C3td',\n",
    " 'Se1N1P4d',\n",
    " 'Se2C3S2ss',\n",
    " 'Se1N2N2dd',\n",
    " 'SssNH2(al)',\n",
    " 'Se2N4O1s',\n",
    " 'Se1C2S2ds',\n",
    " 'SaaaN',\n",
    " 'Se1N==O2ds',\n",
    " 'Se1C2S4dd',\n",
    " 'Se1C3P3as',\n",
    " 'Se1P3Cl1s',\n",
    " 'SssHg',\n",
    " 'Se2O1Si3s',\n",
    " 'Se1O1Cl3d',\n",
    " 'Se1N2N2ds',\n",
    " 'Se1C2N2sd',\n",
    " 'Se2N1N2pd',\n",
    " 'Se1O1Cl2d',\n",
    " 'Se1C2F1s',\n",
    " 'SssssBH',\n",
    " 'Se1C2Cl1d',\n",
    " 'Se1C4N1s',\n",
    " 'Se1C4S1s',\n",
    " 'SeaN2NHaa',\n",
    " 'Se1C3P4sd',\n",
    " 'Se1C3Br1s',\n",
    " 'Se2N3O1a']\n",
    "len(uncorr_feats)"
   ],
   "id": "db5b5d77c449cfac",
   "outputs": [
    {
     "data": {
      "text/plain": [
       "658"
      ]
     },
     "execution_count": 36,
     "metadata": {},
     "output_type": "execute_result"
    }
   ],
   "execution_count": 36
  },
  {
   "metadata": {
    "ExecuteTime": {
     "end_time": "2024-08-28T06:16:20.313309Z",
     "start_time": "2024-08-28T06:16:20.300260Z"
    }
   },
   "cell_type": "code",
   "source": [
    "morgan_fps = [str(c) for c in range(1024)]\n",
    "avalon_fps = [str(c) for c in range(1024, 2048)]\n",
    "erg_fps = [str(c) for c in range(2048, FPS_OFFSET)]"
   ],
   "id": "4d115c53e147f3e7",
   "outputs": [],
   "execution_count": 37
  },
  {
   "metadata": {
    "ExecuteTime": {
     "end_time": "2024-08-28T06:16:20.331943Z",
     "start_time": "2024-08-28T06:16:20.314807Z"
    }
   },
   "cell_type": "code",
   "source": "train[morgan_fps + avalon_fps + erg_fps].shape",
   "id": "c4c5e3b1926db02c",
   "outputs": [
    {
     "data": {
      "text/plain": [
       "(1011, 2363)"
      ]
     },
     "execution_count": 38,
     "metadata": {},
     "output_type": "execute_result"
    }
   ],
   "execution_count": 38
  },
  {
   "metadata": {
    "ExecuteTime": {
     "end_time": "2024-08-28T06:58:19.839247Z",
     "start_time": "2024-08-28T06:58:19.822883Z"
    }
   },
   "cell_type": "code",
   "source": [
    "import time\n",
    "\n",
    "import numpy as np\n",
    "import pandas as pd\n",
    "\n",
    "from sklearn.linear_model import Lasso, Ridge, LinearRegression\n",
    "from sklearn.cross_decomposition import PLSRegression\n",
    "from sklearn.tree import DecisionTreeRegressor\n",
    "from sklearn.ensemble import RandomForestRegressor\n",
    "from sklearn.svm import SVR\n",
    "from sklearn.neighbors import KNeighborsRegressor\n",
    "from sklearn.model_selection import cross_val_score, KFold\n",
    "from sklearn.preprocessing import StandardScaler\n",
    "\n",
    "from src.utils import OffsetScaler, get_fps_offset\n",
    "import xgboost as xgb\n",
    "from catboost import CatBoostRegressor\n",
    "import seaborn as sns\n",
    "\n",
    "\n",
    "mae = 'neg_mean_absolute_error'\n",
    "mse = 'neg_mean_squared_error'\n",
    "rmse = 'neg_root_mean_squared_error'\n",
    "\n",
    "RANDOM_SEED = 42\n",
    "N_JOBS = 12\n",
    "\n",
    "# prepare models\n",
    "models = {}\n",
    "\n",
    "# models['LR'] = LinearRegression()\n",
    "# models['Ridge'] = Ridge()\n",
    "models['PLS'] = PLSRegression()\n",
    "models['DT'] = DecisionTreeRegressor(random_state=RANDOM_SEED)\n",
    "models['Lasso'] = Lasso()\n",
    "models['KNN'] = KNeighborsRegressor(n_jobs=N_JOBS)\n",
    "models['SVR'] = SVR()\n",
    "models['RF'] = RandomForestRegressor(random_state=RANDOM_SEED, n_jobs=N_JOBS)\n",
    "models['XGB'] = xgb.XGBRegressor(random_state=RANDOM_SEED, n_jobs=N_JOBS, verbosity=0)\n",
    "models['CATB'] = CatBoostRegressor(loss_function='RMSE', verbose=False, random_seed=RANDOM_SEED, thread_count=N_JOBS)\n",
    "# models['CATB GPU'] = CatBoostRegressor(loss_function='RMSE', verbose=False, random_seed=RANDOM_SEED, thread_count=N_JOBS, task_type='GPU')\n",
    "\n",
    "scaler = OffsetScaler(offset=FPS_OFFSET)\n",
    "ss = StandardScaler()"
   ],
   "id": "4ff8fa57ae95bb60",
   "outputs": [],
   "execution_count": 65
  },
  {
   "metadata": {
    "ExecuteTime": {
     "end_time": "2024-08-28T06:45:36.817964Z",
     "start_time": "2024-08-28T06:45:36.800821Z"
    }
   },
   "cell_type": "code",
   "source": [
    "def evaluate(X, seed=RANDOM_SEED):\n",
    "    results = {}\n",
    "\n",
    "    for name in models.keys():\n",
    "        tic = time.time()\n",
    "        \n",
    "        model = models[name]\n",
    "        kfold = KFold(n_splits=5, shuffle=True, random_state=seed)\n",
    "        results[name] = cross_val_score(model, X, y_train, cv=kfold, scoring=rmse)\n",
    "        \n",
    "        toc = time.time()\n",
    "        mean = results[name].mean()\n",
    "        std = results[name].std()\n",
    "        final_score = mean - std\n",
    "        print(\"%5s: %3.3f     %3.3f ± %3.3f      %.1fs\" % (name, final_score, mean, std, toc - tic))\n",
    "        \n",
    "    return pd.DataFrame(results)"
   ],
   "id": "c2277bf76226cf12",
   "outputs": [],
   "execution_count": 55
  },
  {
   "metadata": {},
   "cell_type": "markdown",
   "source": "# Top K feats",
   "id": "b62a4d5153c38895"
  },
  {
   "metadata": {
    "ExecuteTime": {
     "end_time": "2024-08-28T06:16:38.741858Z",
     "start_time": "2024-08-28T06:16:20.364426Z"
    }
   },
   "cell_type": "code",
   "source": [
    "fi_train = train[fps_cols + uncorr_feats]\n",
    "fi_train_scale = scaler.fit_transform(fi_train.values)\n",
    "clf = CatBoostRegressor(random_seed=RANDOM_SEED, verbose=False).fit(fi_train_scale, y_train)"
   ],
   "id": "849b7017e1e2b0b7",
   "outputs": [],
   "execution_count": 41
  },
  {
   "metadata": {
    "ExecuteTime": {
     "end_time": "2024-08-28T06:16:38.760404Z",
     "start_time": "2024-08-28T06:16:38.744139Z"
    }
   },
   "cell_type": "code",
   "source": [
    "def top_k_feats(model, X, k):\n",
    "    fi = pd.Series(model.get_feature_importance(), index=X.columns, name='importance')\n",
    "    return fi[FPS_OFFSET:].sort_values(ascending=False)[:k].index.tolist()"
   ],
   "id": "4911d0840de27922",
   "outputs": [],
   "execution_count": 42
  },
  {
   "metadata": {},
   "cell_type": "markdown",
   "source": "### top 50",
   "id": "33cc1a6fb3c36449"
  },
  {
   "metadata": {
    "ExecuteTime": {
     "end_time": "2024-08-28T06:18:21.691250Z",
     "start_time": "2024-08-28T06:16:38.762517Z"
    }
   },
   "cell_type": "code",
   "source": [
    "top_50_feats = top_k_feats(clf, fi_train, 50)\n",
    "\n",
    "X_train = train[fps_cols + top_50_feats]\n",
    "X_train_scale = scaler.fit_transform(X_train.values)\n",
    "\n",
    "results = evaluate(X_train_scale)"
   ],
   "id": "218eb9774faef7d0",
   "outputs": [
    {
     "name": "stdout",
     "output_type": "stream",
     "text": [
      "  PLS: -30.922     -29.249 ± 1.673      0.2s\n",
      "   DT: -33.612     -32.761 ± 0.851      0.7s\n",
      "Lasso: -29.341     -28.264 ± 1.077      0.9s\n",
      "  KNN: -29.000     -27.593 ± 1.407      0.2s\n",
      "  SVR: -35.017     -34.298 ± 0.718      2.6s\n",
      "   RF: -25.285     -23.430 ± 1.855      7.5s\n",
      "  XGB: -26.681     -24.882 ± 1.799      2.5s\n",
      " CATB: -24.281     -22.882 ± 1.399      88.1s\n"
     ]
    }
   ],
   "execution_count": 43
  },
  {
   "metadata": {
    "ExecuteTime": {
     "end_time": "2024-08-29T07:00:54.414505Z",
     "start_time": "2024-08-29T07:00:54.396005Z"
    }
   },
   "cell_type": "code",
   "source": "top_50_feats",
   "id": "57a27ad8151e2528",
   "outputs": [
    {
     "data": {
      "text/plain": [
       "['rd_MolLogP',\n",
       " 'md_FilterItLogS',\n",
       " 'md_SMR_VSA9',\n",
       " 'ALogPS_logP',\n",
       " 'ALogPS_logS',\n",
       " 'md_SlogP_VSA11',\n",
       " 'md_AATS0v',\n",
       " 'md_ATSC1i',\n",
       " 'md_BertzCT',\n",
       " 'SsOH(phen)',\n",
       " 'md_ATSC1pe',\n",
       " 'md_NaasC',\n",
       " 'md_piPC2',\n",
       " 'md_ATS8dv',\n",
       " 'md_Mv',\n",
       " 'md_ATSC1p',\n",
       " 'rd_NOCount',\n",
       " 'MW',\n",
       " 'md_JGI6',\n",
       " 'md_SsOH',\n",
       " 'md_ATSC3Z',\n",
       " 'md_AATS0i',\n",
       " 'md_ATSC1m',\n",
       " 'md_nBondsKD',\n",
       " 'md_ATSC1v',\n",
       " 'md_PEOE_VSA6',\n",
       " 'md_SMR_VSA3',\n",
       " 'md_CIC5',\n",
       " 'md_NsssCH',\n",
       " 'rd_VSA_EState5',\n",
       " 'rd_VSA_EState8',\n",
       " 'md_JGI7',\n",
       " 'md_ATS8i',\n",
       " 'rd_NumHAcceptors',\n",
       " 'rd_VSA_EState9',\n",
       " 'md_ATSC8m',\n",
       " 'rd_VSA_EState3',\n",
       " 'md_nHBDon',\n",
       " 'Se1C2C3sd',\n",
       " 'md_nAcid',\n",
       " 'md_MIC5',\n",
       " 'md_ATSC3i',\n",
       " 'SdO(amid)',\n",
       " 'rd_NumAliphaticHeterocycles',\n",
       " 'md_JGI8',\n",
       " 'md_IC5',\n",
       " 'SeaC3C3aa',\n",
       " 'md_ATSC5pe',\n",
       " 'md_nS',\n",
       " 'md_SMR_VSA4']"
      ]
     },
     "execution_count": 88,
     "metadata": {},
     "output_type": "execute_result"
    }
   ],
   "execution_count": 88
  },
  {
   "metadata": {},
   "cell_type": "markdown",
   "source": "# check stability of solution with top 50 feats",
   "id": "be3d9c93d3061507"
  },
  {
   "metadata": {
    "ExecuteTime": {
     "end_time": "2024-08-28T06:48:07.524735Z",
     "start_time": "2024-08-28T06:46:25.945592Z"
    }
   },
   "cell_type": "code",
   "source": [
    "models = {}\n",
    "\n",
    "models['CATB'] = CatBoostRegressor( \n",
    " loss_function='RMSE', \n",
    " verbose=False, \n",
    " random_seed=1, \n",
    " thread_count=N_JOBS)\n",
    "results = evaluate(X_train_scale, seed=1)"
   ],
   "id": "67be95c0f5ba50ca",
   "outputs": [
    {
     "name": "stdout",
     "output_type": "stream",
     "text": [
      " CATB: -23.826     -23.444 ± 0.383      101.6s\n"
     ]
    }
   ],
   "execution_count": 56
  },
  {
   "metadata": {
    "ExecuteTime": {
     "end_time": "2024-08-28T06:50:27.781611Z",
     "start_time": "2024-08-28T06:48:48.518926Z"
    }
   },
   "cell_type": "code",
   "source": [
    "models['CATB'] = CatBoostRegressor(\n",
    " loss_function='RMSE', \n",
    " verbose=False, \n",
    " random_seed=2, \n",
    " thread_count=N_JOBS)\n",
    "results = evaluate(X_train_scale, seed=2)"
   ],
   "id": "7d37632cf838e855",
   "outputs": [
    {
     "name": "stdout",
     "output_type": "stream",
     "text": [
      " CATB: -23.450     -22.914 ± 0.536      99.2s\n"
     ]
    }
   ],
   "execution_count": 57
  },
  {
   "metadata": {
    "ExecuteTime": {
     "end_time": "2024-08-28T06:52:10.463286Z",
     "start_time": "2024-08-28T06:50:27.783265Z"
    }
   },
   "cell_type": "code",
   "source": [
    "models['CATB'] = CatBoostRegressor( \n",
    " loss_function='RMSE', \n",
    " verbose=False, \n",
    " random_seed=3, \n",
    " thread_count=N_JOBS)\n",
    "results = evaluate(X_train_scale, seed=3)"
   ],
   "id": "e4328c6af3350e5c",
   "outputs": [
    {
     "name": "stdout",
     "output_type": "stream",
     "text": [
      " CATB: -24.439     -23.589 ± 0.850      102.7s\n"
     ]
    }
   ],
   "execution_count": 58
  },
  {
   "metadata": {
    "ExecuteTime": {
     "end_time": "2024-08-28T06:53:55.286512Z",
     "start_time": "2024-08-28T06:52:10.465346Z"
    }
   },
   "cell_type": "code",
   "source": [
    "models['CATB'] = CatBoostRegressor( \n",
    " loss_function='RMSE', \n",
    " verbose=False, \n",
    " random_seed=4, \n",
    " thread_count=N_JOBS)\n",
    "results = evaluate(X_train_scale, seed=4)"
   ],
   "id": "f0fb4092ee46569f",
   "outputs": [
    {
     "name": "stdout",
     "output_type": "stream",
     "text": [
      " CATB: -23.801     -23.085 ± 0.716      104.8s\n"
     ]
    }
   ],
   "execution_count": 59
  },
  {
   "metadata": {},
   "cell_type": "markdown",
   "source": "### top 55",
   "id": "46ec9d829cfc29b4"
  },
  {
   "metadata": {
    "ExecuteTime": {
     "end_time": "2024-08-28T06:45:36.799147Z",
     "start_time": "2024-08-28T06:43:42.321569Z"
    }
   },
   "cell_type": "code",
   "source": [
    "top_feats = top_k_feats(clf, fi_train, 55)\n",
    "\n",
    "X_train = train[fps_cols + top_feats]\n",
    "X_train_scale = scaler.fit_transform(X_train.values)\n",
    "\n",
    "results = evaluate(X_train_scale)"
   ],
   "id": "d005f4113e731125",
   "outputs": [
    {
     "name": "stdout",
     "output_type": "stream",
     "text": [
      "  PLS: -30.863     -29.232 ± 1.631      0.2s\n",
      "   DT: -35.069     -33.474 ± 1.595      0.8s\n",
      "Lasso: -27.887     -26.877 ± 1.010      0.6s\n",
      "  KNN: -33.976     -32.402 ± 1.574      0.2s\n",
      "  SVR: -37.443     -36.535 ± 0.909      2.6s\n",
      "   RF: -25.462     -23.582 ± 1.880      5.8s\n",
      "  XGB: -26.798     -24.933 ± 1.865      2.5s\n",
      " CATB: -24.461     -22.950 ± 1.510      101.8s\n"
     ]
    }
   ],
   "execution_count": 54
  },
  {
   "metadata": {},
   "cell_type": "markdown",
   "source": "### top 40",
   "id": "85f2f4809c648cf2"
  },
  {
   "metadata": {
    "ExecuteTime": {
     "end_time": "2024-08-28T06:38:15.677879Z",
     "start_time": "2024-08-28T06:37:01.671003Z"
    }
   },
   "cell_type": "code",
   "source": [
    "top_feats = top_k_feats(clf, fi_train, 40)\n",
    "\n",
    "X_train = train[fps_cols + top_feats]\n",
    "X_train_scale = scaler.fit_transform(X_train.values)\n",
    "\n",
    "results = evaluate(X_train_scale)"
   ],
   "id": "5aefab4ab620cfe8",
   "outputs": [
    {
     "name": "stdout",
     "output_type": "stream",
     "text": [
      "  PLS: -31.051     -29.388 ± 1.663      0.3s\n",
      "   DT: -34.239     -33.023 ± 1.216      0.7s\n",
      "Lasso: -28.065     -26.973 ± 1.092      0.8s\n",
      "  KNN: -34.052     -32.444 ± 1.609      0.2s\n",
      "  SVR: -37.478     -36.577 ± 0.901      2.9s\n",
      "   RF: -25.414     -23.509 ± 1.906      6.6s\n",
      "  XGB: -25.615     -24.358 ± 1.256      3.5s\n",
      " CATB: -24.436     -23.045 ± 1.391      59.0s\n"
     ]
    }
   ],
   "execution_count": 50
  },
  {
   "metadata": {
    "ExecuteTime": {
     "end_time": "2024-08-28T06:40:12.296356Z",
     "start_time": "2024-08-28T06:38:15.681250Z"
    }
   },
   "cell_type": "code",
   "source": [
    "top_feats = top_k_feats(clf, fi_train, 60)\n",
    "\n",
    "X_train = train[fps_cols + top_feats]\n",
    "X_train_scale = scaler.fit_transform(X_train.values)\n",
    "\n",
    "results = evaluate(X_train_scale)"
   ],
   "id": "cc66159874ac7e13",
   "outputs": [
    {
     "name": "stdout",
     "output_type": "stream",
     "text": [
      "  PLS: -30.806     -29.184 ± 1.621      0.8s\n",
      "   DT: -35.552     -33.539 ± 2.013      0.8s\n",
      "Lasso: -27.862     -26.853 ± 1.009      1.0s\n",
      "  KNN: -33.929     -32.342 ± 1.587      0.2s\n",
      "  SVR: -37.441     -36.533 ± 0.908      2.9s\n",
      "   RF: -25.233     -23.529 ± 1.705      8.8s\n",
      "  XGB: -26.935     -24.677 ± 2.258      2.9s\n",
      " CATB: -24.525     -23.134 ± 1.391      99.1s\n"
     ]
    }
   ],
   "execution_count": 51
  },
  {
   "metadata": {
    "ExecuteTime": {
     "end_time": "2024-08-28T06:42:07.601930Z",
     "start_time": "2024-08-28T06:40:12.297607Z"
    }
   },
   "cell_type": "code",
   "source": [
    "top_feats = top_k_feats(clf, fi_train, 70)\n",
    "\n",
    "X_train = train[fps_cols + top_feats]\n",
    "X_train_scale = scaler.fit_transform(X_train.values)\n",
    "\n",
    "results = evaluate(X_train_scale)"
   ],
   "id": "f3c6dcfd095a960e",
   "outputs": [
    {
     "name": "stdout",
     "output_type": "stream",
     "text": [
      "  PLS: -30.781     -29.289 ± 1.492      0.2s\n",
      "   DT: -35.907     -33.420 ± 2.488      0.8s\n",
      "Lasso: -27.894     -26.885 ± 1.010      0.8s\n",
      "  KNN: -33.713     -32.052 ± 1.661      0.2s\n",
      "  SVR: -37.439     -36.534 ± 0.905      2.7s\n",
      "   RF: -25.574     -23.789 ± 1.785      8.0s\n",
      "  XGB: -26.420     -24.386 ± 2.034      3.1s\n",
      " CATB: -24.510     -23.164 ± 1.345      99.5s\n"
     ]
    }
   ],
   "execution_count": 52
  },
  {
   "metadata": {
    "ExecuteTime": {
     "end_time": "2024-08-28T06:43:09.327864Z",
     "start_time": "2024-08-28T06:42:07.603712Z"
    }
   },
   "cell_type": "code",
   "source": [
    "top_feats = top_k_feats(clf, fi_train, 30)\n",
    "\n",
    "X_train = train[fps_cols + top_feats]\n",
    "X_train_scale = scaler.fit_transform(X_train.values)\n",
    "\n",
    "results = evaluate(X_train_scale)"
   ],
   "id": "6248a252cab41ad8",
   "outputs": [
    {
     "name": "stdout",
     "output_type": "stream",
     "text": [
      "  PLS: -31.111     -29.422 ± 1.689      0.3s\n",
      "   DT: -36.700     -33.897 ± 2.804      0.7s\n",
      "Lasso: -28.317     -27.136 ± 1.181      0.6s\n",
      "  KNN: -34.223     -32.534 ± 1.689      0.2s\n",
      "  SVR: -37.505     -36.600 ± 0.905      2.8s\n",
      "   RF: -25.603     -23.590 ± 2.013      7.0s\n",
      "  XGB: -26.090     -24.382 ± 1.708      2.0s\n",
      " CATB: -24.741     -23.303 ± 1.438      48.2s\n"
     ]
    }
   ],
   "execution_count": 53
  },
  {
   "metadata": {},
   "cell_type": "markdown",
   "source": "# Fintune FPS",
   "id": "d6dec3a6de9a03dc"
  },
  {
   "metadata": {
    "ExecuteTime": {
     "end_time": "2024-08-28T06:21:44.201269Z",
     "start_time": "2024-08-28T06:21:20.821354Z"
    }
   },
   "cell_type": "code",
   "source": [
    "X_train = train[morgan_fps + top_50_feats]\n",
    "\n",
    "scaler = OffsetScaler(offset=len(morgan_fps))\n",
    "X_train_scale = scaler.fit_transform(X_train.values)\n",
    "\n",
    "results = evaluate(X_train_scale)"
   ],
   "id": "31df0fb21b03316b",
   "outputs": [
    {
     "name": "stdout",
     "output_type": "stream",
     "text": [
      "  PLS: -31.827     -29.440 ± 2.387      0.1s\n",
      "   DT: -35.503     -33.610 ± 1.893      0.3s\n",
      "Lasso: -34.553     -30.564 ± 3.990      0.3s\n",
      "  KNN: -28.868     -27.120 ± 1.749      0.1s\n",
      "  SVR: -33.541     -32.621 ± 0.921      0.8s\n",
      "   RF: -25.563     -23.576 ± 1.987      3.4s\n",
      "  XGB: -26.230     -24.171 ± 2.059      1.8s\n",
      " CATB: -24.684     -23.036 ± 1.648      16.6s\n"
     ]
    }
   ],
   "execution_count": 45
  },
  {
   "metadata": {
    "ExecuteTime": {
     "end_time": "2024-08-28T06:22:46.361371Z",
     "start_time": "2024-08-28T06:21:44.202591Z"
    }
   },
   "cell_type": "code",
   "source": [
    "X_train = train[morgan_fps + avalon_fps + top_50_feats]\n",
    "\n",
    "scaler = OffsetScaler(offset=len(morgan_fps + avalon_fps))\n",
    "X_train_scale = scaler.fit_transform(X_train.values)\n",
    "\n",
    "results = evaluate(X_train_scale)"
   ],
   "id": "183b21c26cdd40a2",
   "outputs": [
    {
     "name": "stdout",
     "output_type": "stream",
     "text": [
      "  PLS: -29.748     -28.520 ± 1.228      0.2s\n",
      "   DT: -33.936     -32.377 ± 1.559      0.6s\n",
      "Lasso: -31.017     -29.140 ± 1.877      0.4s\n",
      "  KNN: -29.415     -27.336 ± 2.079      0.2s\n",
      "  SVR: -34.403     -33.552 ± 0.851      2.1s\n",
      "   RF: -25.294     -23.486 ± 1.807      6.8s\n",
      "  XGB: -26.010     -24.245 ± 1.765      2.0s\n",
      " CATB: -24.693     -23.088 ± 1.605      49.7s\n"
     ]
    }
   ],
   "execution_count": 46
  },
  {
   "metadata": {
    "ExecuteTime": {
     "end_time": "2024-08-28T06:23:18.474169Z",
     "start_time": "2024-08-28T06:22:46.363988Z"
    }
   },
   "cell_type": "code",
   "source": [
    "X_train = train[morgan_fps + erg_fps + top_50_feats]\n",
    "\n",
    "scaler = OffsetScaler(offset=len(morgan_fps + erg_fps))\n",
    "X_train_scale = scaler.fit_transform(X_train.values)\n",
    "\n",
    "results = evaluate(X_train_scale)"
   ],
   "id": "2b8b461ae7af74dd",
   "outputs": [
    {
     "name": "stdout",
     "output_type": "stream",
     "text": [
      "  PLS: -44.803     -34.363 ± 10.440      0.3s\n",
      "   DT: -35.603     -33.251 ± 2.352      0.5s\n",
      "Lasso: -29.978     -28.656 ± 1.322      0.5s\n",
      "  KNN: -28.377     -27.129 ± 1.248      0.1s\n",
      "  SVR: -34.628     -34.072 ± 0.557      1.1s\n",
      "   RF: -25.539     -23.561 ± 1.978      5.5s\n",
      "  XGB: -26.765     -24.631 ± 2.134      3.2s\n",
      " CATB: -24.793     -23.243 ± 1.550      20.7s\n"
     ]
    }
   ],
   "execution_count": 47
  },
  {
   "metadata": {
    "ExecuteTime": {
     "end_time": "2024-08-28T06:24:09.438518Z",
     "start_time": "2024-08-28T06:23:18.475717Z"
    }
   },
   "cell_type": "code",
   "source": [
    "X_train = train[avalon_fps + erg_fps + top_50_feats]\n",
    "\n",
    "scaler = OffsetScaler(offset=len(avalon_fps + erg_fps))\n",
    "X_train_scale = scaler.fit_transform(X_train.values)\n",
    "\n",
    "results = evaluate(X_train_scale)"
   ],
   "id": "1c5f299631707f1a",
   "outputs": [
    {
     "name": "stdout",
     "output_type": "stream",
     "text": [
      "  PLS: -31.191     -29.692 ± 1.499      0.3s\n",
      "   DT: -34.804     -33.414 ± 1.390      0.5s\n",
      "Lasso: -29.297     -28.236 ± 1.061      0.5s\n",
      "  KNN: -28.735     -27.064 ± 1.671      0.1s\n",
      "  SVR: -34.834     -34.162 ± 0.672      1.0s\n",
      "   RF: -25.323     -23.559 ± 1.764      5.5s\n",
      "  XGB: -26.142     -24.704 ± 1.438      1.8s\n",
      " CATB: -24.583     -22.758 ± 1.825      41.1s\n"
     ]
    }
   ],
   "execution_count": 48
  },
  {
   "metadata": {
    "ExecuteTime": {
     "end_time": "2024-08-28T06:35:24.565423Z",
     "start_time": "2024-08-28T06:35:07.509206Z"
    }
   },
   "cell_type": "code",
   "source": [
    "X_train = train[erg_fps + top_50_feats]\n",
    "\n",
    "scaler = OffsetScaler(offset=len(erg_fps))\n",
    "X_train_scale = scaler.fit_transform(X_train.values)\n",
    "\n",
    "results = evaluate(X_train_scale)"
   ],
   "id": "9ecce01e8d612238",
   "outputs": [
    {
     "name": "stdout",
     "output_type": "stream",
     "text": [
      "  PLS: -50.816     -37.992 ± 12.824      0.1s\n",
      "   DT: -35.997     -34.054 ± 1.942      0.2s\n",
      "Lasso: -30.238     -28.742 ± 1.496      0.2s\n"
     ]
    },
    {
     "name": "stderr",
     "output_type": "stream",
     "text": [
      "/home/ergot/miniforge3/envs/chem/lib/python3.10/site-packages/sklearn/linear_model/_coordinate_descent.py:697: ConvergenceWarning: Objective did not converge. You might want to increase the number of iterations, check the scale of the features or consider increasing regularisation. Duality gap: 2.093e+02, tolerance: 1.065e+02\n",
      "  model = cd_fast.enet_coordinate_descent(\n"
     ]
    },
    {
     "name": "stdout",
     "output_type": "stream",
     "text": [
      "  KNN: -28.415     -26.644 ± 1.771      0.1s\n",
      "  SVR: -34.329     -33.862 ± 0.467      0.3s\n",
      "   RF: -25.752     -23.820 ± 1.932      2.1s\n",
      "  XGB: -27.025     -24.830 ± 2.195      1.4s\n",
      " CATB: -24.898     -22.855 ± 2.042      12.6s\n"
     ]
    }
   ],
   "execution_count": 49
  },
  {
   "metadata": {},
   "cell_type": "markdown",
   "source": "### Finetune Hyperparams",
   "id": "8146282844d247c5"
  },
  {
   "metadata": {
    "ExecuteTime": {
     "end_time": "2024-08-29T09:24:34.313876Z",
     "start_time": "2024-08-29T09:24:34.030305Z"
    }
   },
   "cell_type": "code",
   "source": [
    "scaler = OffsetScaler(FPS_OFFSET)\n",
    "X_train = scaler.fit_transform(train[fps_cols + top_50_feats].values)"
   ],
   "id": "5a1f672b60e41269",
   "outputs": [],
   "execution_count": 91
  },
  {
   "metadata": {
    "ExecuteTime": {
     "end_time": "2024-08-28T07:08:59.232865Z",
     "start_time": "2024-08-28T07:06:34.886195Z"
    }
   },
   "cell_type": "code",
   "source": [
    "from scipy import stats\n",
    "\n",
    "model = CatBoostRegressor( \n",
    "    random_seed=RANDOM_SEED,\n",
    "    thread_count=-1,\n",
    "    eval_metric=\"RMSE\",\n",
    "    verbose=500,\n",
    ")\n",
    "\n",
    "param_distribution = {\n",
    "    # \"learning_rate\": [0.03, 0.1, 0.3],\n",
    "    \"l2_leaf_reg\": [2, 5, 7, 9],\n",
    "    # \"depth\": stats.binom(n=10, p=0.2),\n",
    "}\n",
    "\n",
    "randomized_search_result = model.randomized_search(param_distribution, X_train, y_train)\n",
    "model.best_score_"
   ],
   "id": "bdc27d8a10b2cbc",
   "outputs": [
    {
     "name": "stdout",
     "output_type": "stream",
     "text": [
      "0:\tlearn: 53.3477625\ttest: 55.8278679\tbest: 55.8278679 (0)\ttotal: 21.6ms\tremaining: 21.6s\n",
      "500:\tlearn: 11.6924953\ttest: 23.1613808\tbest: 23.0498779 (317)\ttotal: 9.15s\tremaining: 9.11s\n",
      "999:\tlearn: 7.2564615\ttest: 23.2935233\tbest: 23.0498779 (317)\ttotal: 18.3s\tremaining: 0us\n",
      "\n",
      "bestTest = 23.04987786\n",
      "bestIteration = 317\n",
      "\n",
      "0:\tloss: 23.0498779\tbest: 23.0498779 (0)\ttotal: 18.4s\tremaining: 55.1s\n",
      "0:\tlearn: 53.3701769\ttest: 55.8527216\tbest: 55.8527216 (0)\ttotal: 17.9ms\tremaining: 17.9s\n",
      "500:\tlearn: 13.7676805\ttest: 22.9065068\tbest: 22.8845866 (485)\ttotal: 9.8s\tremaining: 9.76s\n",
      "999:\tlearn: 9.1309293\ttest: 23.0880140\tbest: 22.8637806 (529)\ttotal: 23.9s\tremaining: 0us\n",
      "\n",
      "bestTest = 22.86378059\n",
      "bestIteration = 529\n",
      "\n",
      "1:\tloss: 22.8637806\tbest: 22.8637806 (1)\ttotal: 42.3s\tremaining: 42.3s\n",
      "0:\tlearn: 53.3820276\ttest: 55.8662846\tbest: 55.8662846 (0)\ttotal: 25.7ms\tremaining: 25.7s\n",
      "500:\tlearn: 14.2289606\ttest: 23.0620874\tbest: 23.0378852 (456)\ttotal: 12.1s\tremaining: 12s\n",
      "999:\tlearn: 9.8534139\ttest: 23.0871362\tbest: 22.9887355 (581)\ttotal: 22.7s\tremaining: 0us\n",
      "\n",
      "bestTest = 22.98873551\n",
      "bestIteration = 581\n",
      "\n",
      "2:\tloss: 22.9887355\tbest: 22.8637806 (1)\ttotal: 1m 5s\tremaining: 21.7s\n",
      "0:\tlearn: 53.3926433\ttest: 55.8783418\tbest: 55.8783418 (0)\ttotal: 19.4ms\tremaining: 19.4s\n",
      "500:\tlearn: 15.2050590\ttest: 23.0406862\tbest: 23.0231735 (491)\ttotal: 11s\tremaining: 11s\n",
      "999:\tlearn: 10.7498203\ttest: 23.0875239\tbest: 23.0231735 (491)\ttotal: 21.4s\tremaining: 0us\n",
      "\n",
      "bestTest = 23.02317348\n",
      "bestIteration = 491\n",
      "\n",
      "3:\tloss: 23.0231735\tbest: 22.8637806 (1)\ttotal: 1m 26s\tremaining: 0us\n",
      "Estimating final quality...\n",
      "Training on fold [0/3]\n",
      "0:\tlearn: 53.9558710\ttest: 53.7131943\tbest: 53.7131943 (0)\ttotal: 22ms\tremaining: 22s\n",
      "500:\tlearn: 13.7680372\ttest: 23.4237839\tbest: 23.4192038 (494)\ttotal: 5.74s\tremaining: 5.72s\n",
      "999:\tlearn: 8.7279810\ttest: 22.9398343\tbest: 22.9344224 (982)\ttotal: 11.5s\tremaining: 0us\n",
      "\n",
      "bestTest = 22.93442236\n",
      "bestIteration = 982\n",
      "\n",
      "Training on fold [1/3]\n",
      "0:\tlearn: 54.3803861\ttest: 52.6187602\tbest: 52.6187602 (0)\ttotal: 15.4ms\tremaining: 15.4s\n",
      "500:\tlearn: 13.2812789\ttest: 24.0451760\tbest: 24.0451760 (500)\ttotal: 5.8s\tremaining: 5.77s\n",
      "999:\tlearn: 8.9738659\ttest: 23.8276688\tbest: 23.8245041 (989)\ttotal: 11.4s\tremaining: 0us\n",
      "\n",
      "bestTest = 23.82450412\n",
      "bestIteration = 989\n",
      "\n",
      "Training on fold [2/3]\n",
      "0:\tlearn: 53.1445517\ttest: 55.1998977\tbest: 55.1998977 (0)\ttotal: 15.6ms\tremaining: 15.6s\n",
      "500:\tlearn: 12.9866910\ttest: 22.8406498\tbest: 22.8389849 (498)\ttotal: 5.26s\tremaining: 5.24s\n",
      "999:\tlearn: 8.3569071\ttest: 22.7584861\tbest: 22.7294608 (779)\ttotal: 10.6s\tremaining: 0us\n",
      "\n",
      "bestTest = 22.72946078\n",
      "bestIteration = 779\n",
      "\n"
     ]
    },
    {
     "data": {
      "text/plain": [
       "{'learn': {'RMSE': 10.017026455122192}}"
      ]
     },
     "execution_count": 78,
     "metadata": {},
     "output_type": "execute_result"
    }
   ],
   "execution_count": 78
  },
  {
   "metadata": {
    "ExecuteTime": {
     "end_time": "2024-08-28T07:08:59.256541Z",
     "start_time": "2024-08-28T07:08:59.235206Z"
    }
   },
   "cell_type": "code",
   "source": "randomized_search_result['params']",
   "id": "f4f6cbeab96b1574",
   "outputs": [
    {
     "data": {
      "text/plain": [
       "{'l2_leaf_reg': 5}"
      ]
     },
     "execution_count": 79,
     "metadata": {},
     "output_type": "execute_result"
    }
   ],
   "execution_count": 79
  },
  {
   "metadata": {
    "ExecuteTime": {
     "end_time": "2024-08-28T07:08:59.273191Z",
     "start_time": "2024-08-28T07:08:59.257861Z"
    }
   },
   "cell_type": "code",
   "source": [
    "models['CATB'] = CatBoostRegressor(\n",
    "    random_seed=RANDOM_SEED,\n",
    "    thread_count=-1,\n",
    "    eval_metric=\"RMSE\",\n",
    "    verbose=False,    \n",
    "    **randomized_search_result['params']\n",
    ")"
   ],
   "id": "7749f441c03ce6d5",
   "outputs": [],
   "execution_count": 80
  },
  {
   "metadata": {
    "ExecuteTime": {
     "end_time": "2024-08-28T07:10:59.343576Z",
     "start_time": "2024-08-28T07:08:59.275757Z"
    }
   },
   "cell_type": "code",
   "source": "evaluate(X_train);",
   "id": "81b7a44fcc3f50e0",
   "outputs": [
    {
     "name": "stdout",
     "output_type": "stream",
     "text": [
      "  PLS: -30.922     -29.249 ± 1.673      0.2s\n",
      "   DT: -33.612     -32.761 ± 0.851      0.7s\n",
      "Lasso: -29.341     -28.264 ± 1.077      0.9s\n",
      "  KNN: -29.000     -27.593 ± 1.407      0.2s\n",
      "  SVR: -35.017     -34.298 ± 0.718      2.8s\n",
      "   RF: -25.285     -23.430 ± 1.855      8.2s\n",
      "  XGB: -26.681     -24.882 ± 1.799      2.8s\n",
      " CATB: -24.543     -23.084 ± 1.460      104.2s\n"
     ]
    }
   ],
   "execution_count": 81
  },
  {
   "metadata": {
    "ExecuteTime": {
     "end_time": "2024-08-29T06:28:17.889227Z",
     "start_time": "2024-08-29T06:16:33.441702Z"
    }
   },
   "cell_type": "code",
   "source": [
    "models = {}\n",
    "\n",
    "params = {\n",
    "    \"l2_leaf_reg\": [1, 2, 3, 5, 7, 9, 15],\n",
    "}\n",
    "\n",
    "for k, values in params.items():    \n",
    "    for v in values:\n",
    "        print(f\"{k}: {v}\")        \n",
    "        models['CATB'] = CatBoostRegressor(\n",
    "            random_seed=RANDOM_SEED,\n",
    "            thread_count=-1,\n",
    "            loss_function='RMSE',\n",
    "            verbose=False,    \n",
    "            **{k: v}\n",
    "        )\n",
    "        evaluate(X_train)"
   ],
   "id": "ea41a1279d673715",
   "outputs": [
    {
     "name": "stdout",
     "output_type": "stream",
     "text": [
      "l2_leaf_reg: 1\n",
      " CATB: -24.386     -22.947 ± 1.439      98.9s\n",
      "l2_leaf_reg: 2\n",
      " CATB: -24.429     -22.906 ± 1.523      99.4s\n",
      "l2_leaf_reg: 3\n",
      " CATB: -24.491     -22.977 ± 1.514      99.9s\n",
      "l2_leaf_reg: 5\n",
      " CATB: -24.543     -23.084 ± 1.460      102.4s\n",
      "l2_leaf_reg: 7\n",
      " CATB: -24.571     -23.076 ± 1.495      102.9s\n",
      "l2_leaf_reg: 9\n",
      " CATB: -24.748     -23.217 ± 1.531      98.9s\n",
      "l2_leaf_reg: 15\n",
      " CATB: -24.680     -23.191 ± 1.489      102.0s\n"
     ]
    }
   ],
   "execution_count": 86
  },
  {
   "metadata": {
    "ExecuteTime": {
     "end_time": "2024-08-29T06:30:09.071064Z",
     "start_time": "2024-08-29T06:28:31.695488Z"
    }
   },
   "cell_type": "code",
   "source": [
    "models['CATB'] = CatBoostRegressor(\n",
    "    random_seed=RANDOM_SEED,\n",
    "    thread_count=-1,\n",
    "    eval_metric='RMSE',\n",
    "    loss_function='RMSE',\n",
    "    verbose=500,\n",
    ")\n",
    "\n",
    "evaluate(X_train)"
   ],
   "id": "c4dc13342e3c106f",
   "outputs": [
    {
     "name": "stdout",
     "output_type": "stream",
     "text": [
      "Learning rate set to 0.039587\n",
      "0:\tlearn: 36.0225149\ttotal: 19.5ms\tremaining: 19.4s\n",
      "500:\tlearn: 11.0986752\ttotal: 9.76s\tremaining: 9.72s\n",
      "999:\tlearn: 6.7069186\ttotal: 20.3s\tremaining: 0us\n",
      "Learning rate set to 0.039595\n",
      "0:\tlearn: 35.8599534\ttotal: 14.8ms\tremaining: 14.8s\n",
      "500:\tlearn: 9.4780945\ttotal: 4.79s\tremaining: 4.78s\n",
      "999:\tlearn: 5.4573153\ttotal: 9.71s\tremaining: 0us\n",
      "Learning rate set to 0.039595\n",
      "0:\tlearn: 35.9165884\ttotal: 20.2ms\tremaining: 20.2s\n",
      "500:\tlearn: 10.6117515\ttotal: 10.7s\tremaining: 10.7s\n",
      "999:\tlearn: 6.1240058\ttotal: 21.5s\tremaining: 0us\n",
      "Learning rate set to 0.039595\n",
      "0:\tlearn: 36.3087251\ttotal: 19ms\tremaining: 19s\n",
      "500:\tlearn: 10.8442052\ttotal: 10.6s\tremaining: 10.6s\n",
      "999:\tlearn: 6.5452816\ttotal: 21.4s\tremaining: 0us\n",
      "Learning rate set to 0.039595\n",
      "0:\tlearn: 35.7684439\ttotal: 20.7ms\tremaining: 20.7s\n",
      "500:\tlearn: 11.0744537\ttotal: 11.1s\tremaining: 11s\n",
      "999:\tlearn: 6.3393575\ttotal: 22.2s\tremaining: 0us\n",
      " CATB: -24.281     -22.882 ± 1.399      97.3s\n"
     ]
    },
    {
     "data": {
      "text/plain": [
       "        CATB\n",
       "0 -23.627774\n",
       "1 -24.995473\n",
       "2 -22.900538\n",
       "3 -20.883087\n",
       "4 -22.002780"
      ],
      "text/html": [
       "<div>\n",
       "<style scoped>\n",
       "    .dataframe tbody tr th:only-of-type {\n",
       "        vertical-align: middle;\n",
       "    }\n",
       "\n",
       "    .dataframe tbody tr th {\n",
       "        vertical-align: top;\n",
       "    }\n",
       "\n",
       "    .dataframe thead th {\n",
       "        text-align: right;\n",
       "    }\n",
       "</style>\n",
       "<table border=\"1\" class=\"dataframe\">\n",
       "  <thead>\n",
       "    <tr style=\"text-align: right;\">\n",
       "      <th></th>\n",
       "      <th>CATB</th>\n",
       "    </tr>\n",
       "  </thead>\n",
       "  <tbody>\n",
       "    <tr>\n",
       "      <th>0</th>\n",
       "      <td>-23.627774</td>\n",
       "    </tr>\n",
       "    <tr>\n",
       "      <th>1</th>\n",
       "      <td>-24.995473</td>\n",
       "    </tr>\n",
       "    <tr>\n",
       "      <th>2</th>\n",
       "      <td>-22.900538</td>\n",
       "    </tr>\n",
       "    <tr>\n",
       "      <th>3</th>\n",
       "      <td>-20.883087</td>\n",
       "    </tr>\n",
       "    <tr>\n",
       "      <th>4</th>\n",
       "      <td>-22.002780</td>\n",
       "    </tr>\n",
       "  </tbody>\n",
       "</table>\n",
       "</div>"
      ]
     },
     "execution_count": 87,
     "metadata": {},
     "output_type": "execute_result"
    }
   ],
   "execution_count": 87
  },
  {
   "metadata": {},
   "cell_type": "markdown",
   "source": "# Random forest HP optimize",
   "id": "bb061405a3d2100"
  },
  {
   "metadata": {
    "ExecuteTime": {
     "end_time": "2024-08-29T10:00:14.426048Z",
     "start_time": "2024-08-29T09:42:59.976431Z"
    }
   },
   "cell_type": "code",
   "source": [
    "import optuna\n",
    "\n",
    "def objective(trial):\n",
    "    # Suggest hyperparameters for RandomForestRegressor\n",
    "    n_estimators = trial.suggest_categorical('n_estimators', [100, 200, 300, 400, 500])\n",
    "    max_depth = trial.suggest_int('max_depth', 10, 30)\n",
    "    min_samples_split = trial.suggest_int('min_samples_split', 2, 10)\n",
    "    min_samples_leaf = trial.suggest_int('min_samples_leaf', 1, 4)\n",
    "    bootstrap = trial.suggest_categorical('bootstrap', [True, False])\n",
    "    \n",
    "    # Suggest max_features which includes float values between 0.1 and 1.0 or categorical values\n",
    "    max_features = trial.suggest_categorical('max_features', [0.1, 0.2, 0.3, 0.4, 0.5, 0.6, 0.7, 0.8, 0.9, 1.0, 'sqrt', 'log2', None])\n",
    "        \n",
    "\n",
    "    # Create a RandomForestRegressor with the suggested hyperparameters\n",
    "    model = RandomForestRegressor(\n",
    "        n_estimators=n_estimators,\n",
    "        max_depth=max_depth,\n",
    "        min_samples_split=min_samples_split,\n",
    "        min_samples_leaf=min_samples_leaf,\n",
    "        max_features=max_features,\n",
    "        bootstrap=bootstrap,\n",
    "        random_state=RANDOM_SEED,\n",
    "        n_jobs=N_JOBS,\n",
    "    )\n",
    "\n",
    "    kfold = KFold(n_splits=5, shuffle=True, random_state=RANDOM_SEED)\n",
    "\n",
    "    # Evaluate the model using cross-validation\n",
    "    cv_res = cross_val_score(model, X_train, y_train, cv=kfold, scoring=rmse)\n",
    "    score = cv_res.mean() - cv_res.std()\n",
    "\n",
    "    # Return the negative of the score (since Optuna maximizes by default)\n",
    "    return round(score, 4)\n",
    "\n",
    "study = optuna.create_study(direction='maximize')\n",
    "study.optimize(objective, n_trials=100)"
   ],
   "id": "1510c550a050e1a2",
   "outputs": [
    {
     "name": "stderr",
     "output_type": "stream",
     "text": [
      "[I 2024-08-29 11:42:59,986] A new study created in memory with name: no-name-0bffc28d-28cc-4da2-8235-29550e6ca69f\n",
      "[I 2024-08-29 11:43:09,177] Trial 0 finished with value: -25.4062 and parameters: {'n_estimators': 200, 'max_depth': 17, 'min_samples_split': 7, 'min_samples_leaf': 3, 'bootstrap': True, 'max_features': 1.0}. Best is trial 0 with value: -25.4062.\n",
      "[I 2024-08-29 11:43:10,979] Trial 1 finished with value: -28.3906 and parameters: {'n_estimators': 300, 'max_depth': 17, 'min_samples_split': 7, 'min_samples_leaf': 4, 'bootstrap': True, 'max_features': 'log2'}. Best is trial 0 with value: -25.4062.\n",
      "[I 2024-08-29 11:43:22,193] Trial 2 finished with value: -25.274 and parameters: {'n_estimators': 500, 'max_depth': 13, 'min_samples_split': 9, 'min_samples_leaf': 1, 'bootstrap': True, 'max_features': 0.4}. Best is trial 2 with value: -25.274.\n",
      "[I 2024-08-29 11:43:22,974] Trial 3 finished with value: -26.2626 and parameters: {'n_estimators': 100, 'max_depth': 24, 'min_samples_split': 9, 'min_samples_leaf': 3, 'bootstrap': True, 'max_features': 'sqrt'}. Best is trial 2 with value: -25.274.\n",
      "[I 2024-08-29 11:43:23,869] Trial 4 finished with value: -27.8103 and parameters: {'n_estimators': 200, 'max_depth': 12, 'min_samples_split': 8, 'min_samples_leaf': 3, 'bootstrap': False, 'max_features': 'log2'}. Best is trial 2 with value: -25.274.\n",
      "[I 2024-08-29 11:43:53,343] Trial 5 finished with value: -27.533 and parameters: {'n_estimators': 400, 'max_depth': 26, 'min_samples_split': 6, 'min_samples_leaf': 2, 'bootstrap': False, 'max_features': 0.8}. Best is trial 2 with value: -25.274.\n",
      "[I 2024-08-29 11:43:54,509] Trial 6 finished with value: -27.6637 and parameters: {'n_estimators': 300, 'max_depth': 18, 'min_samples_split': 8, 'min_samples_leaf': 4, 'bootstrap': False, 'max_features': 'log2'}. Best is trial 2 with value: -25.274.\n",
      "[I 2024-08-29 11:43:56,732] Trial 7 finished with value: -28.3399 and parameters: {'n_estimators': 400, 'max_depth': 30, 'min_samples_split': 10, 'min_samples_leaf': 4, 'bootstrap': True, 'max_features': 'log2'}. Best is trial 2 with value: -25.274.\n",
      "[I 2024-08-29 11:44:06,815] Trial 8 finished with value: -25.9896 and parameters: {'n_estimators': 200, 'max_depth': 27, 'min_samples_split': 7, 'min_samples_leaf': 3, 'bootstrap': False, 'max_features': 0.6}. Best is trial 2 with value: -25.274.\n",
      "[I 2024-08-29 11:44:18,249] Trial 9 finished with value: -25.6949 and parameters: {'n_estimators': 300, 'max_depth': 18, 'min_samples_split': 2, 'min_samples_leaf': 4, 'bootstrap': False, 'max_features': 0.5}. Best is trial 2 with value: -25.274.\n",
      "[I 2024-08-29 11:44:29,161] Trial 10 finished with value: -25.3631 and parameters: {'n_estimators': 500, 'max_depth': 10, 'min_samples_split': 4, 'min_samples_leaf': 1, 'bootstrap': True, 'max_features': 0.4}. Best is trial 2 with value: -25.274.\n",
      "[I 2024-08-29 11:44:41,844] Trial 11 finished with value: -25.3631 and parameters: {'n_estimators': 500, 'max_depth': 10, 'min_samples_split': 4, 'min_samples_leaf': 1, 'bootstrap': True, 'max_features': 0.4}. Best is trial 2 with value: -25.274.\n",
      "[I 2024-08-29 11:44:55,575] Trial 12 finished with value: -25.2896 and parameters: {'n_estimators': 500, 'max_depth': 13, 'min_samples_split': 4, 'min_samples_leaf': 1, 'bootstrap': True, 'max_features': 0.4}. Best is trial 2 with value: -25.274.\n",
      "[I 2024-08-29 11:45:01,660] Trial 13 finished with value: -25.107 and parameters: {'n_estimators': 500, 'max_depth': 14, 'min_samples_split': 4, 'min_samples_leaf': 1, 'bootstrap': True, 'max_features': 0.1}. Best is trial 13 with value: -25.107.\n",
      "[I 2024-08-29 11:45:07,629] Trial 14 finished with value: -25.1879 and parameters: {'n_estimators': 500, 'max_depth': 14, 'min_samples_split': 5, 'min_samples_leaf': 2, 'bootstrap': True, 'max_features': 0.1}. Best is trial 13 with value: -25.107.\n",
      "[I 2024-08-29 11:45:13,951] Trial 15 finished with value: -25.1367 and parameters: {'n_estimators': 500, 'max_depth': 21, 'min_samples_split': 2, 'min_samples_leaf': 2, 'bootstrap': True, 'max_features': 0.1}. Best is trial 13 with value: -25.107.\n",
      "[I 2024-08-29 11:45:15,235] Trial 16 finished with value: -25.2307 and parameters: {'n_estimators': 100, 'max_depth': 22, 'min_samples_split': 2, 'min_samples_leaf': 2, 'bootstrap': True, 'max_features': 0.1}. Best is trial 13 with value: -25.107.\n",
      "[I 2024-08-29 11:45:35,331] Trial 17 finished with value: -25.377 and parameters: {'n_estimators': 500, 'max_depth': 21, 'min_samples_split': 3, 'min_samples_leaf': 2, 'bootstrap': True, 'max_features': 0.7}. Best is trial 13 with value: -25.107.\n",
      "[I 2024-08-29 11:45:43,842] Trial 18 finished with value: -25.1291 and parameters: {'n_estimators': 500, 'max_depth': 15, 'min_samples_split': 3, 'min_samples_leaf': 1, 'bootstrap': True, 'max_features': 0.2}. Best is trial 13 with value: -25.107.\n",
      "[I 2024-08-29 11:45:51,330] Trial 19 finished with value: -25.1488 and parameters: {'n_estimators': 500, 'max_depth': 15, 'min_samples_split': 5, 'min_samples_leaf': 1, 'bootstrap': True, 'max_features': 0.2}. Best is trial 13 with value: -25.107.\n",
      "[I 2024-08-29 11:46:00,279] Trial 20 finished with value: -25.2082 and parameters: {'n_estimators': 400, 'max_depth': 15, 'min_samples_split': 3, 'min_samples_leaf': 1, 'bootstrap': True, 'max_features': 0.3}. Best is trial 13 with value: -25.107.\n",
      "[I 2024-08-29 11:46:06,182] Trial 21 finished with value: -25.1759 and parameters: {'n_estimators': 500, 'max_depth': 19, 'min_samples_split': 3, 'min_samples_leaf': 2, 'bootstrap': True, 'max_features': 0.1}. Best is trial 13 with value: -25.107.\n",
      "[I 2024-08-29 11:46:16,505] Trial 22 finished with value: -24.9776 and parameters: {'n_estimators': 500, 'max_depth': 23, 'min_samples_split': 2, 'min_samples_leaf': 1, 'bootstrap': True, 'max_features': 0.2}. Best is trial 22 with value: -24.9776.\n",
      "[I 2024-08-29 11:46:25,429] Trial 23 finished with value: -25.0973 and parameters: {'n_estimators': 500, 'max_depth': 25, 'min_samples_split': 3, 'min_samples_leaf': 1, 'bootstrap': True, 'max_features': 0.2}. Best is trial 22 with value: -24.9776.\n",
      "[I 2024-08-29 11:46:33,276] Trial 24 finished with value: -25.2059 and parameters: {'n_estimators': 500, 'max_depth': 24, 'min_samples_split': 5, 'min_samples_leaf': 1, 'bootstrap': True, 'max_features': 0.2}. Best is trial 22 with value: -24.9776.\n",
      "[I 2024-08-29 11:46:40,284] Trial 25 finished with value: -25.3564 and parameters: {'n_estimators': 100, 'max_depth': 28, 'min_samples_split': 2, 'min_samples_leaf': 1, 'bootstrap': True, 'max_features': 0.9}. Best is trial 22 with value: -24.9776.\n",
      "[I 2024-08-29 11:46:52,491] Trial 26 finished with value: -25.3085 and parameters: {'n_estimators': 500, 'max_depth': 24, 'min_samples_split': 4, 'min_samples_leaf': 1, 'bootstrap': False, 'max_features': 0.2}. Best is trial 22 with value: -24.9776.\n",
      "[I 2024-08-29 11:47:21,663] Trial 27 finished with value: -25.2735 and parameters: {'n_estimators': 500, 'max_depth': 23, 'min_samples_split': 3, 'min_samples_leaf': 2, 'bootstrap': True, 'max_features': None}. Best is trial 22 with value: -24.9776.\n",
      "[I 2024-08-29 11:47:31,928] Trial 28 finished with value: -25.0527 and parameters: {'n_estimators': 500, 'max_depth': 26, 'min_samples_split': 2, 'min_samples_leaf': 1, 'bootstrap': True, 'max_features': 0.2}. Best is trial 22 with value: -24.9776.\n",
      "[I 2024-08-29 11:47:43,392] Trial 29 finished with value: -25.3628 and parameters: {'n_estimators': 200, 'max_depth': 26, 'min_samples_split': 2, 'min_samples_leaf': 2, 'bootstrap': True, 'max_features': 1.0}. Best is trial 22 with value: -24.9776.\n",
      "[I 2024-08-29 11:47:51,759] Trial 30 finished with value: -25.0697 and parameters: {'n_estimators': 400, 'max_depth': 30, 'min_samples_split': 2, 'min_samples_leaf': 1, 'bootstrap': True, 'max_features': 0.2}. Best is trial 22 with value: -24.9776.\n",
      "[I 2024-08-29 11:48:01,152] Trial 31 finished with value: -25.0697 and parameters: {'n_estimators': 400, 'max_depth': 30, 'min_samples_split': 2, 'min_samples_leaf': 1, 'bootstrap': True, 'max_features': 0.2}. Best is trial 22 with value: -24.9776.\n",
      "[I 2024-08-29 11:48:09,679] Trial 32 finished with value: -25.0697 and parameters: {'n_estimators': 400, 'max_depth': 30, 'min_samples_split': 2, 'min_samples_leaf': 1, 'bootstrap': True, 'max_features': 0.2}. Best is trial 22 with value: -24.9776.\n",
      "[I 2024-08-29 11:48:18,095] Trial 33 finished with value: -25.1208 and parameters: {'n_estimators': 400, 'max_depth': 28, 'min_samples_split': 2, 'min_samples_leaf': 1, 'bootstrap': True, 'max_features': 0.2}. Best is trial 22 with value: -24.9776.\n",
      "[I 2024-08-29 11:48:25,588] Trial 34 finished with value: -25.0372 and parameters: {'n_estimators': 400, 'max_depth': 29, 'min_samples_split': 3, 'min_samples_leaf': 1, 'bootstrap': True, 'max_features': 0.2}. Best is trial 22 with value: -24.9776.\n",
      "[I 2024-08-29 11:48:28,656] Trial 35 finished with value: -25.4458 and parameters: {'n_estimators': 400, 'max_depth': 28, 'min_samples_split': 3, 'min_samples_leaf': 1, 'bootstrap': True, 'max_features': 'sqrt'}. Best is trial 22 with value: -24.9776.\n",
      "[I 2024-08-29 11:48:34,526] Trial 36 finished with value: -25.2661 and parameters: {'n_estimators': 400, 'max_depth': 29, 'min_samples_split': 6, 'min_samples_leaf': 2, 'bootstrap': True, 'max_features': 0.2}. Best is trial 22 with value: -24.9776.\n",
      "[I 2024-08-29 11:49:00,311] Trial 37 finished with value: -27.1588 and parameters: {'n_estimators': 300, 'max_depth': 26, 'min_samples_split': 3, 'min_samples_leaf': 1, 'bootstrap': False, 'max_features': 0.8}. Best is trial 22 with value: -24.9776.\n",
      "[I 2024-08-29 11:49:22,537] Trial 38 finished with value: -25.4078 and parameters: {'n_estimators': 400, 'max_depth': 27, 'min_samples_split': 2, 'min_samples_leaf': 3, 'bootstrap': True, 'max_features': None}. Best is trial 22 with value: -24.9776.\n",
      "[I 2024-08-29 11:49:28,841] Trial 39 finished with value: -26.1083 and parameters: {'n_estimators': 100, 'max_depth': 25, 'min_samples_split': 6, 'min_samples_leaf': 1, 'bootstrap': False, 'max_features': 0.6}. Best is trial 22 with value: -24.9776.\n",
      "[I 2024-08-29 11:49:37,854] Trial 40 finished with value: -25.4265 and parameters: {'n_estimators': 200, 'max_depth': 29, 'min_samples_split': 10, 'min_samples_leaf': 2, 'bootstrap': True, 'max_features': 0.9}. Best is trial 22 with value: -24.9776.\n",
      "[I 2024-08-29 11:49:45,977] Trial 41 finished with value: -25.0697 and parameters: {'n_estimators': 400, 'max_depth': 30, 'min_samples_split': 2, 'min_samples_leaf': 1, 'bootstrap': True, 'max_features': 0.2}. Best is trial 22 with value: -24.9776.\n",
      "[I 2024-08-29 11:50:01,912] Trial 42 finished with value: -25.1481 and parameters: {'n_estimators': 400, 'max_depth': 29, 'min_samples_split': 2, 'min_samples_leaf': 1, 'bootstrap': True, 'max_features': 0.5}. Best is trial 22 with value: -24.9776.\n",
      "[I 2024-08-29 11:50:09,071] Trial 43 finished with value: -25.1633 and parameters: {'n_estimators': 400, 'max_depth': 27, 'min_samples_split': 3, 'min_samples_leaf': 1, 'bootstrap': True, 'max_features': 0.2}. Best is trial 22 with value: -24.9776.\n",
      "[I 2024-08-29 11:50:16,890] Trial 44 finished with value: -25.122 and parameters: {'n_estimators': 400, 'max_depth': 30, 'min_samples_split': 8, 'min_samples_leaf': 1, 'bootstrap': True, 'max_features': 0.3}. Best is trial 22 with value: -24.9776.\n",
      "[I 2024-08-29 11:50:32,822] Trial 45 finished with value: -25.1268 and parameters: {'n_estimators': 300, 'max_depth': 28, 'min_samples_split': 2, 'min_samples_leaf': 1, 'bootstrap': True, 'max_features': 0.7}. Best is trial 22 with value: -24.9776.\n",
      "[I 2024-08-29 11:50:42,260] Trial 46 finished with value: -25.2493 and parameters: {'n_estimators': 400, 'max_depth': 25, 'min_samples_split': 4, 'min_samples_leaf': 1, 'bootstrap': False, 'max_features': 0.2}. Best is trial 22 with value: -24.9776.\n",
      "[I 2024-08-29 11:50:44,840] Trial 47 finished with value: -26.1589 and parameters: {'n_estimators': 400, 'max_depth': 29, 'min_samples_split': 2, 'min_samples_leaf': 4, 'bootstrap': True, 'max_features': 'sqrt'}. Best is trial 22 with value: -24.9776.\n",
      "[I 2024-08-29 11:50:46,128] Trial 48 finished with value: -26.0738 and parameters: {'n_estimators': 200, 'max_depth': 27, 'min_samples_split': 3, 'min_samples_leaf': 1, 'bootstrap': True, 'max_features': 'log2'}. Best is trial 22 with value: -24.9776.\n",
      "[I 2024-08-29 11:51:11,014] Trial 49 finished with value: -25.2989 and parameters: {'n_estimators': 400, 'max_depth': 23, 'min_samples_split': 2, 'min_samples_leaf': 2, 'bootstrap': True, 'max_features': 1.0}. Best is trial 22 with value: -24.9776.\n",
      "[I 2024-08-29 11:51:16,879] Trial 50 finished with value: -25.3211 and parameters: {'n_estimators': 300, 'max_depth': 26, 'min_samples_split': 4, 'min_samples_leaf': 3, 'bootstrap': False, 'max_features': 0.2}. Best is trial 22 with value: -24.9776.\n",
      "[I 2024-08-29 11:51:25,221] Trial 51 finished with value: -25.0697 and parameters: {'n_estimators': 400, 'max_depth': 30, 'min_samples_split': 2, 'min_samples_leaf': 1, 'bootstrap': True, 'max_features': 0.2}. Best is trial 22 with value: -24.9776.\n",
      "[I 2024-08-29 11:51:33,656] Trial 52 finished with value: -25.0697 and parameters: {'n_estimators': 400, 'max_depth': 30, 'min_samples_split': 2, 'min_samples_leaf': 1, 'bootstrap': True, 'max_features': 0.2}. Best is trial 22 with value: -24.9776.\n",
      "[I 2024-08-29 11:51:41,056] Trial 53 finished with value: -25.0372 and parameters: {'n_estimators': 400, 'max_depth': 29, 'min_samples_split': 3, 'min_samples_leaf': 1, 'bootstrap': True, 'max_features': 0.2}. Best is trial 22 with value: -24.9776.\n",
      "[I 2024-08-29 11:52:03,355] Trial 54 finished with value: -25.1493 and parameters: {'n_estimators': 400, 'max_depth': 29, 'min_samples_split': 3, 'min_samples_leaf': 1, 'bootstrap': True, 'max_features': 0.8}. Best is trial 22 with value: -24.9776.\n",
      "[I 2024-08-29 11:52:05,060] Trial 55 finished with value: -25.2837 and parameters: {'n_estimators': 100, 'max_depth': 28, 'min_samples_split': 7, 'min_samples_leaf': 1, 'bootstrap': True, 'max_features': 0.2}. Best is trial 22 with value: -24.9776.\n",
      "[I 2024-08-29 11:52:21,912] Trial 56 finished with value: -25.1095 and parameters: {'n_estimators': 400, 'max_depth': 21, 'min_samples_split': 3, 'min_samples_leaf': 1, 'bootstrap': True, 'max_features': 0.6}. Best is trial 22 with value: -24.9776.\n",
      "[I 2024-08-29 11:52:35,254] Trial 57 finished with value: -25.1949 and parameters: {'n_estimators': 500, 'max_depth': 27, 'min_samples_split': 9, 'min_samples_leaf': 2, 'bootstrap': True, 'max_features': 0.5}. Best is trial 22 with value: -24.9776.\n",
      "[I 2024-08-29 11:52:42,193] Trial 58 finished with value: -25.1191 and parameters: {'n_estimators': 400, 'max_depth': 29, 'min_samples_split': 4, 'min_samples_leaf': 1, 'bootstrap': True, 'max_features': 0.2}. Best is trial 22 with value: -24.9776.\n",
      "[I 2024-08-29 11:52:57,321] Trial 59 finished with value: -25.2662 and parameters: {'n_estimators': 500, 'max_depth': 23, 'min_samples_split': 3, 'min_samples_leaf': 1, 'bootstrap': True, 'max_features': 0.4}. Best is trial 22 with value: -24.9776.\n",
      "[I 2024-08-29 11:53:01,586] Trial 60 finished with value: -24.9147 and parameters: {'n_estimators': 200, 'max_depth': 25, 'min_samples_split': 2, 'min_samples_leaf': 1, 'bootstrap': True, 'max_features': 0.2}. Best is trial 60 with value: -24.9147.\n",
      "[I 2024-08-29 11:53:05,778] Trial 61 finished with value: -25.0982 and parameters: {'n_estimators': 200, 'max_depth': 22, 'min_samples_split': 2, 'min_samples_leaf': 1, 'bootstrap': True, 'max_features': 0.2}. Best is trial 60 with value: -24.9147.\n",
      "[I 2024-08-29 11:53:10,016] Trial 62 finished with value: -24.9147 and parameters: {'n_estimators': 200, 'max_depth': 25, 'min_samples_split': 2, 'min_samples_leaf': 1, 'bootstrap': True, 'max_features': 0.2}. Best is trial 60 with value: -24.9147.\n",
      "[I 2024-08-29 11:53:13,437] Trial 63 finished with value: -25.288 and parameters: {'n_estimators': 200, 'max_depth': 25, 'min_samples_split': 5, 'min_samples_leaf': 1, 'bootstrap': True, 'max_features': 0.2}. Best is trial 60 with value: -24.9147.\n",
      "[I 2024-08-29 11:53:17,206] Trial 64 finished with value: -25.0486 and parameters: {'n_estimators': 200, 'max_depth': 24, 'min_samples_split': 3, 'min_samples_leaf': 1, 'bootstrap': True, 'max_features': 0.2}. Best is trial 60 with value: -24.9147.\n",
      "[I 2024-08-29 11:53:27,365] Trial 65 finished with value: -25.1858 and parameters: {'n_estimators': 200, 'max_depth': 24, 'min_samples_split': 3, 'min_samples_leaf': 1, 'bootstrap': True, 'max_features': 0.7}. Best is trial 60 with value: -24.9147.\n",
      "[I 2024-08-29 11:53:32,055] Trial 66 finished with value: -25.0104 and parameters: {'n_estimators': 200, 'max_depth': 22, 'min_samples_split': 4, 'min_samples_leaf': 1, 'bootstrap': True, 'max_features': 0.3}. Best is trial 60 with value: -24.9147.\n",
      "[I 2024-08-29 11:53:44,481] Trial 67 finished with value: -25.2959 and parameters: {'n_estimators': 200, 'max_depth': 20, 'min_samples_split': 4, 'min_samples_leaf': 1, 'bootstrap': True, 'max_features': None}. Best is trial 60 with value: -24.9147.\n",
      "[I 2024-08-29 11:53:48,706] Trial 68 finished with value: -25.0882 and parameters: {'n_estimators': 200, 'max_depth': 22, 'min_samples_split': 4, 'min_samples_leaf': 2, 'bootstrap': True, 'max_features': 0.3}. Best is trial 60 with value: -24.9147.\n",
      "[I 2024-08-29 11:53:55,077] Trial 69 finished with value: -25.4765 and parameters: {'n_estimators': 200, 'max_depth': 20, 'min_samples_split': 5, 'min_samples_leaf': 1, 'bootstrap': False, 'max_features': 0.3}. Best is trial 60 with value: -24.9147.\n",
      "[I 2024-08-29 11:53:58,347] Trial 70 finished with value: -25.2899 and parameters: {'n_estimators': 200, 'max_depth': 24, 'min_samples_split': 3, 'min_samples_leaf': 4, 'bootstrap': True, 'max_features': 0.3}. Best is trial 60 with value: -24.9147.\n",
      "[I 2024-08-29 11:53:59,656] Trial 71 finished with value: -26.3138 and parameters: {'n_estimators': 200, 'max_depth': 23, 'min_samples_split': 3, 'min_samples_leaf': 1, 'bootstrap': True, 'max_features': 'log2'}. Best is trial 60 with value: -24.9147.\n",
      "[I 2024-08-29 11:54:03,344] Trial 72 finished with value: -25.1979 and parameters: {'n_estimators': 200, 'max_depth': 25, 'min_samples_split': 3, 'min_samples_leaf': 1, 'bootstrap': True, 'max_features': 0.2}. Best is trial 60 with value: -24.9147.\n",
      "[I 2024-08-29 11:54:07,535] Trial 73 finished with value: -25.1156 and parameters: {'n_estimators': 200, 'max_depth': 26, 'min_samples_split': 2, 'min_samples_leaf': 1, 'bootstrap': True, 'max_features': 0.2}. Best is trial 60 with value: -24.9147.\n",
      "[I 2024-08-29 11:54:20,539] Trial 74 finished with value: -25.303 and parameters: {'n_estimators': 200, 'max_depth': 22, 'min_samples_split': 2, 'min_samples_leaf': 1, 'bootstrap': True, 'max_features': 0.9}. Best is trial 60 with value: -24.9147.\n",
      "[I 2024-08-29 11:54:52,671] Trial 75 finished with value: -25.1898 and parameters: {'n_estimators': 500, 'max_depth': 24, 'min_samples_split': 3, 'min_samples_leaf': 1, 'bootstrap': True, 'max_features': 1.0}. Best is trial 60 with value: -24.9147.\n",
      "[I 2024-08-29 11:54:56,881] Trial 76 finished with value: -25.1589 and parameters: {'n_estimators': 200, 'max_depth': 21, 'min_samples_split': 2, 'min_samples_leaf': 1, 'bootstrap': True, 'max_features': 0.2}. Best is trial 60 with value: -24.9147.\n",
      "[I 2024-08-29 11:54:58,415] Trial 77 finished with value: -25.6053 and parameters: {'n_estimators': 200, 'max_depth': 26, 'min_samples_split': 3, 'min_samples_leaf': 1, 'bootstrap': True, 'max_features': 'sqrt'}. Best is trial 60 with value: -24.9147.\n",
      "[I 2024-08-29 11:55:08,258] Trial 78 finished with value: -24.9776 and parameters: {'n_estimators': 500, 'max_depth': 23, 'min_samples_split': 2, 'min_samples_leaf': 1, 'bootstrap': True, 'max_features': 0.2}. Best is trial 60 with value: -24.9147.\n",
      "[I 2024-08-29 11:55:09,634] Trial 79 finished with value: -25.1424 and parameters: {'n_estimators': 100, 'max_depth': 19, 'min_samples_split': 4, 'min_samples_leaf': 1, 'bootstrap': True, 'max_features': 0.1}. Best is trial 60 with value: -24.9147.\n",
      "[I 2024-08-29 11:55:24,343] Trial 80 finished with value: -25.2662 and parameters: {'n_estimators': 500, 'max_depth': 23, 'min_samples_split': 3, 'min_samples_leaf': 1, 'bootstrap': True, 'max_features': 0.4}. Best is trial 60 with value: -24.9147.\n",
      "[I 2024-08-29 11:55:34,180] Trial 81 finished with value: -24.9391 and parameters: {'n_estimators': 500, 'max_depth': 24, 'min_samples_split': 2, 'min_samples_leaf': 1, 'bootstrap': True, 'max_features': 0.2}. Best is trial 60 with value: -24.9147.\n",
      "[I 2024-08-29 11:55:43,972] Trial 82 finished with value: -24.9776 and parameters: {'n_estimators': 500, 'max_depth': 23, 'min_samples_split': 2, 'min_samples_leaf': 1, 'bootstrap': True, 'max_features': 0.2}. Best is trial 60 with value: -24.9147.\n",
      "[I 2024-08-29 11:55:53,698] Trial 83 finished with value: -25.0394 and parameters: {'n_estimators': 500, 'max_depth': 22, 'min_samples_split': 2, 'min_samples_leaf': 1, 'bootstrap': True, 'max_features': 0.2}. Best is trial 60 with value: -24.9147.\n",
      "[I 2024-08-29 11:56:03,558] Trial 84 finished with value: -24.9776 and parameters: {'n_estimators': 500, 'max_depth': 23, 'min_samples_split': 2, 'min_samples_leaf': 1, 'bootstrap': True, 'max_features': 0.2}. Best is trial 60 with value: -24.9147.\n",
      "[I 2024-08-29 11:56:32,638] Trial 85 finished with value: -25.1259 and parameters: {'n_estimators': 500, 'max_depth': 23, 'min_samples_split': 2, 'min_samples_leaf': 1, 'bootstrap': True, 'max_features': 0.8}. Best is trial 60 with value: -24.9147.\n",
      "[I 2024-08-29 11:56:46,969] Trial 86 finished with value: -25.1588 and parameters: {'n_estimators': 500, 'max_depth': 25, 'min_samples_split': 2, 'min_samples_leaf': 1, 'bootstrap': False, 'max_features': 0.2}. Best is trial 60 with value: -24.9147.\n",
      "[I 2024-08-29 11:57:00,141] Trial 87 finished with value: -25.0647 and parameters: {'n_estimators': 500, 'max_depth': 21, 'min_samples_split': 2, 'min_samples_leaf': 1, 'bootstrap': True, 'max_features': 0.3}. Best is trial 60 with value: -24.9147.\n",
      "[I 2024-08-29 11:57:23,549] Trial 88 finished with value: -25.1694 and parameters: {'n_estimators': 500, 'max_depth': 23, 'min_samples_split': 2, 'min_samples_leaf': 1, 'bootstrap': True, 'max_features': 0.6}. Best is trial 60 with value: -24.9147.\n",
      "[I 2024-08-29 11:57:33,866] Trial 89 finished with value: -25.0394 and parameters: {'n_estimators': 500, 'max_depth': 22, 'min_samples_split': 2, 'min_samples_leaf': 1, 'bootstrap': True, 'max_features': 0.2}. Best is trial 60 with value: -24.9147.\n",
      "[I 2024-08-29 11:57:41,948] Trial 90 finished with value: -25.1374 and parameters: {'n_estimators': 500, 'max_depth': 24, 'min_samples_split': 2, 'min_samples_leaf': 2, 'bootstrap': True, 'max_features': 0.2}. Best is trial 60 with value: -24.9147.\n",
      "[I 2024-08-29 11:57:52,455] Trial 91 finished with value: -25.1223 and parameters: {'n_estimators': 500, 'max_depth': 21, 'min_samples_split': 2, 'min_samples_leaf': 1, 'bootstrap': True, 'max_features': 0.2}. Best is trial 60 with value: -24.9147.\n",
      "[I 2024-08-29 11:57:58,767] Trial 92 finished with value: -25.0988 and parameters: {'n_estimators': 300, 'max_depth': 17, 'min_samples_split': 2, 'min_samples_leaf': 1, 'bootstrap': True, 'max_features': 0.2}. Best is trial 60 with value: -24.9147.\n",
      "[I 2024-08-29 11:58:18,578] Trial 93 finished with value: -25.1148 and parameters: {'n_estimators': 500, 'max_depth': 24, 'min_samples_split': 2, 'min_samples_leaf': 1, 'bootstrap': True, 'max_features': 0.5}. Best is trial 60 with value: -24.9147.\n",
      "[I 2024-08-29 11:58:28,555] Trial 94 finished with value: -25.0591 and parameters: {'n_estimators': 500, 'max_depth': 25, 'min_samples_split': 2, 'min_samples_leaf': 1, 'bootstrap': True, 'max_features': 0.2}. Best is trial 60 with value: -24.9147.\n",
      "[I 2024-08-29 11:58:37,252] Trial 95 finished with value: -25.0735 and parameters: {'n_estimators': 500, 'max_depth': 23, 'min_samples_split': 3, 'min_samples_leaf': 1, 'bootstrap': True, 'max_features': 0.2}. Best is trial 60 with value: -24.9147.\n",
      "[I 2024-08-29 11:59:03,053] Trial 96 finished with value: -25.1985 and parameters: {'n_estimators': 500, 'max_depth': 22, 'min_samples_split': 2, 'min_samples_leaf': 1, 'bootstrap': True, 'max_features': 0.7}. Best is trial 60 with value: -24.9147.\n",
      "[I 2024-08-29 11:59:04,584] Trial 97 finished with value: -25.5089 and parameters: {'n_estimators': 100, 'max_depth': 19, 'min_samples_split': 2, 'min_samples_leaf': 3, 'bootstrap': True, 'max_features': 0.2}. Best is trial 60 with value: -24.9147.\n",
      "[I 2024-08-29 11:59:54,833] Trial 98 finished with value: -32.7608 and parameters: {'n_estimators': 500, 'max_depth': 23, 'min_samples_split': 3, 'min_samples_leaf': 1, 'bootstrap': False, 'max_features': None}. Best is trial 60 with value: -24.9147.\n",
      "[I 2024-08-29 12:00:14,423] Trial 99 finished with value: -25.2111 and parameters: {'n_estimators': 300, 'max_depth': 25, 'min_samples_split': 2, 'min_samples_leaf': 1, 'bootstrap': True, 'max_features': 0.9}. Best is trial 60 with value: -24.9147.\n"
     ]
    }
   ],
   "execution_count": 103
  },
  {
   "metadata": {
    "ExecuteTime": {
     "end_time": "2024-08-29T10:00:14.441815Z",
     "start_time": "2024-08-29T10:00:14.427587Z"
    }
   },
   "cell_type": "code",
   "source": "study.best_params",
   "id": "ad13c7aa259aec0b",
   "outputs": [
    {
     "data": {
      "text/plain": [
       "{'n_estimators': 200,\n",
       " 'max_depth': 25,\n",
       " 'min_samples_split': 2,\n",
       " 'min_samples_leaf': 1,\n",
       " 'bootstrap': True,\n",
       " 'max_features': 0.2}"
      ]
     },
     "execution_count": 104,
     "metadata": {},
     "output_type": "execute_result"
    }
   ],
   "execution_count": 104
  },
  {
   "metadata": {},
   "cell_type": "markdown",
   "source": "# Lasso finetune HP",
   "id": "51c82e356ecea399"
  },
  {
   "metadata": {
    "ExecuteTime": {
     "end_time": "2024-08-29T10:02:54.970816Z",
     "start_time": "2024-08-29T10:00:14.443021Z"
    }
   },
   "cell_type": "code",
   "source": [
    "# Define the objective function for Lasso\n",
    "def objective(trial):\n",
    "    alpha = trial.suggest_float('alpha', 1e-4, 1e2, log=True)\n",
    "    \n",
    "    # Create the model with the suggested hyperparameters\n",
    "    model = Lasso(alpha=alpha, random_state=RANDOM_SEED)\n",
    "    \n",
    "    kfold = KFold(n_splits=5, shuffle=True, random_state=RANDOM_SEED)\n",
    "\n",
    "    # Evaluate the model using cross-validation\n",
    "    cv_res = cross_val_score(model, X_train, y_train, cv=kfold, scoring=rmse)\n",
    "    score = cv_res.mean() - cv_res.std()\n",
    "\n",
    "    # Return the negative of the score (since Optuna maximizes by default)\n",
    "    return round(score, 4)\n",
    "\n",
    "study = optuna.create_study(direction='maximize')\n",
    "study.optimize(objective, n_trials=100)"
   ],
   "id": "8ba9788f7d61f83e",
   "outputs": [
    {
     "name": "stderr",
     "output_type": "stream",
     "text": [
      "[I 2024-08-29 12:00:14,453] A new study created in memory with name: no-name-d76d3fec-ef28-404b-96af-766e80765506\n",
      "/home/ergot/miniforge3/envs/chem/lib/python3.10/site-packages/sklearn/linear_model/_coordinate_descent.py:697: ConvergenceWarning: Objective did not converge. You might want to increase the number of iterations, check the scale of the features or consider increasing regularisation. Duality gap: 4.565e+04, tolerance: 1.077e+02\n",
      "  model = cd_fast.enet_coordinate_descent(\n",
      "/home/ergot/miniforge3/envs/chem/lib/python3.10/site-packages/sklearn/linear_model/_coordinate_descent.py:697: ConvergenceWarning: Objective did not converge. You might want to increase the number of iterations, check the scale of the features or consider increasing regularisation. Duality gap: 5.007e+03, tolerance: 1.072e+02\n",
      "  model = cd_fast.enet_coordinate_descent(\n",
      "/home/ergot/miniforge3/envs/chem/lib/python3.10/site-packages/sklearn/linear_model/_coordinate_descent.py:697: ConvergenceWarning: Objective did not converge. You might want to increase the number of iterations, check the scale of the features or consider increasing regularisation. Duality gap: 1.448e+04, tolerance: 1.075e+02\n",
      "  model = cd_fast.enet_coordinate_descent(\n",
      "/home/ergot/miniforge3/envs/chem/lib/python3.10/site-packages/sklearn/linear_model/_coordinate_descent.py:697: ConvergenceWarning: Objective did not converge. You might want to increase the number of iterations, check the scale of the features or consider increasing regularisation. Duality gap: 5.986e+04, tolerance: 1.093e+02\n",
      "  model = cd_fast.enet_coordinate_descent(\n",
      "/home/ergot/miniforge3/envs/chem/lib/python3.10/site-packages/sklearn/linear_model/_coordinate_descent.py:697: ConvergenceWarning: Objective did not converge. You might want to increase the number of iterations, check the scale of the features or consider increasing regularisation. Duality gap: 1.070e+04, tolerance: 1.065e+02\n",
      "  model = cd_fast.enet_coordinate_descent(\n",
      "[I 2024-08-29 12:00:18,144] Trial 0 finished with value: -34.522 and parameters: {'alpha': 0.03255979906212118}. Best is trial 0 with value: -34.522.\n",
      "/home/ergot/miniforge3/envs/chem/lib/python3.10/site-packages/sklearn/linear_model/_coordinate_descent.py:697: ConvergenceWarning: Objective did not converge. You might want to increase the number of iterations, check the scale of the features or consider increasing regularisation. Duality gap: 3.035e+04, tolerance: 1.077e+02\n",
      "  model = cd_fast.enet_coordinate_descent(\n",
      "/home/ergot/miniforge3/envs/chem/lib/python3.10/site-packages/sklearn/linear_model/_coordinate_descent.py:697: ConvergenceWarning: Objective did not converge. You might want to increase the number of iterations, check the scale of the features or consider increasing regularisation. Duality gap: 1.795e+04, tolerance: 1.072e+02\n",
      "  model = cd_fast.enet_coordinate_descent(\n",
      "/home/ergot/miniforge3/envs/chem/lib/python3.10/site-packages/sklearn/linear_model/_coordinate_descent.py:697: ConvergenceWarning: Objective did not converge. You might want to increase the number of iterations, check the scale of the features or consider increasing regularisation. Duality gap: 3.313e+04, tolerance: 1.075e+02\n",
      "  model = cd_fast.enet_coordinate_descent(\n",
      "/home/ergot/miniforge3/envs/chem/lib/python3.10/site-packages/sklearn/linear_model/_coordinate_descent.py:697: ConvergenceWarning: Objective did not converge. You might want to increase the number of iterations, check the scale of the features or consider increasing regularisation. Duality gap: 3.613e+04, tolerance: 1.093e+02\n",
      "  model = cd_fast.enet_coordinate_descent(\n",
      "/home/ergot/miniforge3/envs/chem/lib/python3.10/site-packages/sklearn/linear_model/_coordinate_descent.py:697: ConvergenceWarning: Objective did not converge. You might want to increase the number of iterations, check the scale of the features or consider increasing regularisation. Duality gap: 3.221e+04, tolerance: 1.065e+02\n",
      "  model = cd_fast.enet_coordinate_descent(\n",
      "[I 2024-08-29 12:00:21,744] Trial 1 finished with value: -43.4693 and parameters: {'alpha': 0.012736017530682405}. Best is trial 0 with value: -34.522.\n",
      "[I 2024-08-29 12:00:22,484] Trial 2 finished with value: -31.1544 and parameters: {'alpha': 1.911654509476713}. Best is trial 2 with value: -31.1544.\n",
      "/home/ergot/miniforge3/envs/chem/lib/python3.10/site-packages/sklearn/linear_model/_coordinate_descent.py:697: ConvergenceWarning: Objective did not converge. You might want to increase the number of iterations, check the scale of the features or consider increasing regularisation. Duality gap: 1.742e+04, tolerance: 1.077e+02\n",
      "  model = cd_fast.enet_coordinate_descent(\n",
      "/home/ergot/miniforge3/envs/chem/lib/python3.10/site-packages/sklearn/linear_model/_coordinate_descent.py:697: ConvergenceWarning: Objective did not converge. You might want to increase the number of iterations, check the scale of the features or consider increasing regularisation. Duality gap: 7.108e+03, tolerance: 1.075e+02\n",
      "  model = cd_fast.enet_coordinate_descent(\n",
      "/home/ergot/miniforge3/envs/chem/lib/python3.10/site-packages/sklearn/linear_model/_coordinate_descent.py:697: ConvergenceWarning: Objective did not converge. You might want to increase the number of iterations, check the scale of the features or consider increasing regularisation. Duality gap: 2.183e+04, tolerance: 1.093e+02\n",
      "  model = cd_fast.enet_coordinate_descent(\n",
      "/home/ergot/miniforge3/envs/chem/lib/python3.10/site-packages/sklearn/linear_model/_coordinate_descent.py:697: ConvergenceWarning: Objective did not converge. You might want to increase the number of iterations, check the scale of the features or consider increasing regularisation. Duality gap: 1.083e+03, tolerance: 1.065e+02\n",
      "  model = cd_fast.enet_coordinate_descent(\n",
      "[I 2024-08-29 12:00:26,666] Trial 3 finished with value: -31.6538 and parameters: {'alpha': 0.0891357458445112}. Best is trial 2 with value: -31.1544.\n",
      "[I 2024-08-29 12:00:27,257] Trial 4 finished with value: -35.7152 and parameters: {'alpha': 9.392256247668001}. Best is trial 2 with value: -31.1544.\n",
      "/home/ergot/miniforge3/envs/chem/lib/python3.10/site-packages/sklearn/linear_model/_coordinate_descent.py:697: ConvergenceWarning: Objective did not converge. You might want to increase the number of iterations, check the scale of the features or consider increasing regularisation. Duality gap: 6.143e+03, tolerance: 1.077e+02\n",
      "  model = cd_fast.enet_coordinate_descent(\n",
      "/home/ergot/miniforge3/envs/chem/lib/python3.10/site-packages/sklearn/linear_model/_coordinate_descent.py:697: ConvergenceWarning: Objective did not converge. You might want to increase the number of iterations, check the scale of the features or consider increasing regularisation. Duality gap: 4.738e+03, tolerance: 1.072e+02\n",
      "  model = cd_fast.enet_coordinate_descent(\n",
      "/home/ergot/miniforge3/envs/chem/lib/python3.10/site-packages/sklearn/linear_model/_coordinate_descent.py:697: ConvergenceWarning: Objective did not converge. You might want to increase the number of iterations, check the scale of the features or consider increasing regularisation. Duality gap: 6.701e+03, tolerance: 1.075e+02\n",
      "  model = cd_fast.enet_coordinate_descent(\n",
      "/home/ergot/miniforge3/envs/chem/lib/python3.10/site-packages/sklearn/linear_model/_coordinate_descent.py:697: ConvergenceWarning: Objective did not converge. You might want to increase the number of iterations, check the scale of the features or consider increasing regularisation. Duality gap: 6.408e+03, tolerance: 1.093e+02\n",
      "  model = cd_fast.enet_coordinate_descent(\n",
      "/home/ergot/miniforge3/envs/chem/lib/python3.10/site-packages/sklearn/linear_model/_coordinate_descent.py:697: ConvergenceWarning: Objective did not converge. You might want to increase the number of iterations, check the scale of the features or consider increasing regularisation. Duality gap: 6.566e+03, tolerance: 1.065e+02\n",
      "  model = cd_fast.enet_coordinate_descent(\n",
      "[I 2024-08-29 12:00:31,927] Trial 5 finished with value: -94.63 and parameters: {'alpha': 0.0001039189111878361}. Best is trial 2 with value: -31.1544.\n",
      "[I 2024-08-29 12:00:32,448] Trial 6 finished with value: -37.1394 and parameters: {'alpha': 49.12712591308588}. Best is trial 2 with value: -31.1544.\n",
      "/home/ergot/miniforge3/envs/chem/lib/python3.10/site-packages/sklearn/linear_model/_coordinate_descent.py:697: ConvergenceWarning: Objective did not converge. You might want to increase the number of iterations, check the scale of the features or consider increasing regularisation. Duality gap: 7.572e+03, tolerance: 1.077e+02\n",
      "  model = cd_fast.enet_coordinate_descent(\n",
      "/home/ergot/miniforge3/envs/chem/lib/python3.10/site-packages/sklearn/linear_model/_coordinate_descent.py:697: ConvergenceWarning: Objective did not converge. You might want to increase the number of iterations, check the scale of the features or consider increasing regularisation. Duality gap: 6.133e+03, tolerance: 1.072e+02\n",
      "  model = cd_fast.enet_coordinate_descent(\n",
      "/home/ergot/miniforge3/envs/chem/lib/python3.10/site-packages/sklearn/linear_model/_coordinate_descent.py:697: ConvergenceWarning: Objective did not converge. You might want to increase the number of iterations, check the scale of the features or consider increasing regularisation. Duality gap: 8.220e+03, tolerance: 1.075e+02\n",
      "  model = cd_fast.enet_coordinate_descent(\n",
      "/home/ergot/miniforge3/envs/chem/lib/python3.10/site-packages/sklearn/linear_model/_coordinate_descent.py:697: ConvergenceWarning: Objective did not converge. You might want to increase the number of iterations, check the scale of the features or consider increasing regularisation. Duality gap: 8.087e+03, tolerance: 1.093e+02\n",
      "  model = cd_fast.enet_coordinate_descent(\n",
      "/home/ergot/miniforge3/envs/chem/lib/python3.10/site-packages/sklearn/linear_model/_coordinate_descent.py:697: ConvergenceWarning: Objective did not converge. You might want to increase the number of iterations, check the scale of the features or consider increasing regularisation. Duality gap: 7.892e+03, tolerance: 1.065e+02\n",
      "  model = cd_fast.enet_coordinate_descent(\n",
      "[I 2024-08-29 12:00:36,958] Trial 7 finished with value: -80.165 and parameters: {'alpha': 0.0003343971482394181}. Best is trial 2 with value: -31.1544.\n",
      "[I 2024-08-29 12:00:37,434] Trial 8 finished with value: -37.1394 and parameters: {'alpha': 24.855417418679675}. Best is trial 2 with value: -31.1544.\n",
      "[I 2024-08-29 12:00:37,919] Trial 9 finished with value: -37.1394 and parameters: {'alpha': 80.72471816090517}. Best is trial 2 with value: -31.1544.\n",
      "[I 2024-08-29 12:00:38,728] Trial 10 finished with value: -29.4801 and parameters: {'alpha': 1.3590394132770753}. Best is trial 10 with value: -29.4801.\n",
      "[I 2024-08-29 12:00:39,574] Trial 11 finished with value: -29.7115 and parameters: {'alpha': 1.5326131914258154}. Best is trial 10 with value: -29.4801.\n",
      "[I 2024-08-29 12:00:40,729] Trial 12 finished with value: -30.2116 and parameters: {'alpha': 0.6041896967775914}. Best is trial 10 with value: -29.4801.\n",
      "[I 2024-08-29 12:00:41,792] Trial 13 finished with value: -29.4428 and parameters: {'alpha': 0.8745854260387378}. Best is trial 13 with value: -29.4428.\n",
      "/home/ergot/miniforge3/envs/chem/lib/python3.10/site-packages/sklearn/linear_model/_coordinate_descent.py:697: ConvergenceWarning: Objective did not converge. You might want to increase the number of iterations, check the scale of the features or consider increasing regularisation. Duality gap: 2.321e+04, tolerance: 1.077e+02\n",
      "  model = cd_fast.enet_coordinate_descent(\n",
      "/home/ergot/miniforge3/envs/chem/lib/python3.10/site-packages/sklearn/linear_model/_coordinate_descent.py:697: ConvergenceWarning: Objective did not converge. You might want to increase the number of iterations, check the scale of the features or consider increasing regularisation. Duality gap: 1.574e+04, tolerance: 1.072e+02\n",
      "  model = cd_fast.enet_coordinate_descent(\n",
      "/home/ergot/miniforge3/envs/chem/lib/python3.10/site-packages/sklearn/linear_model/_coordinate_descent.py:697: ConvergenceWarning: Objective did not converge. You might want to increase the number of iterations, check the scale of the features or consider increasing regularisation. Duality gap: 2.354e+04, tolerance: 1.075e+02\n",
      "  model = cd_fast.enet_coordinate_descent(\n",
      "/home/ergot/miniforge3/envs/chem/lib/python3.10/site-packages/sklearn/linear_model/_coordinate_descent.py:697: ConvergenceWarning: Objective did not converge. You might want to increase the number of iterations, check the scale of the features or consider increasing regularisation. Duality gap: 2.245e+04, tolerance: 1.093e+02\n",
      "  model = cd_fast.enet_coordinate_descent(\n",
      "/home/ergot/miniforge3/envs/chem/lib/python3.10/site-packages/sklearn/linear_model/_coordinate_descent.py:697: ConvergenceWarning: Objective did not converge. You might want to increase the number of iterations, check the scale of the features or consider increasing regularisation. Duality gap: 2.220e+04, tolerance: 1.065e+02\n",
      "  model = cd_fast.enet_coordinate_descent(\n",
      "[I 2024-08-29 12:00:45,685] Trial 14 finished with value: -51.883 and parameters: {'alpha': 0.004724718319988382}. Best is trial 13 with value: -29.4428.\n",
      "[I 2024-08-29 12:00:47,044] Trial 15 finished with value: -30.3509 and parameters: {'alpha': 0.563731056733761}. Best is trial 13 with value: -29.4428.\n",
      "[I 2024-08-29 12:00:47,590] Trial 16 finished with value: -33.3535 and parameters: {'alpha': 5.149177579890005}. Best is trial 13 with value: -29.4428.\n",
      "/home/ergot/miniforge3/envs/chem/lib/python3.10/site-packages/sklearn/linear_model/_coordinate_descent.py:697: ConvergenceWarning: Objective did not converge. You might want to increase the number of iterations, check the scale of the features or consider increasing regularisation. Duality gap: 2.150e+02, tolerance: 1.077e+02\n",
      "  model = cd_fast.enet_coordinate_descent(\n",
      "/home/ergot/miniforge3/envs/chem/lib/python3.10/site-packages/sklearn/linear_model/_coordinate_descent.py:697: ConvergenceWarning: Objective did not converge. You might want to increase the number of iterations, check the scale of the features or consider increasing regularisation. Duality gap: 1.676e+02, tolerance: 1.075e+02\n",
      "  model = cd_fast.enet_coordinate_descent(\n",
      "/home/ergot/miniforge3/envs/chem/lib/python3.10/site-packages/sklearn/linear_model/_coordinate_descent.py:697: ConvergenceWarning: Objective did not converge. You might want to increase the number of iterations, check the scale of the features or consider increasing regularisation. Duality gap: 4.177e+02, tolerance: 1.093e+02\n",
      "  model = cd_fast.enet_coordinate_descent(\n",
      "[I 2024-08-29 12:00:51,030] Trial 17 finished with value: -31.2667 and parameters: {'alpha': 0.18693039199442474}. Best is trial 13 with value: -29.4428.\n",
      "/home/ergot/miniforge3/envs/chem/lib/python3.10/site-packages/sklearn/linear_model/_coordinate_descent.py:697: ConvergenceWarning: Objective did not converge. You might want to increase the number of iterations, check the scale of the features or consider increasing regularisation. Duality gap: 1.915e+04, tolerance: 1.077e+02\n",
      "  model = cd_fast.enet_coordinate_descent(\n",
      "/home/ergot/miniforge3/envs/chem/lib/python3.10/site-packages/sklearn/linear_model/_coordinate_descent.py:697: ConvergenceWarning: Objective did not converge. You might want to increase the number of iterations, check the scale of the features or consider increasing regularisation. Duality gap: 1.392e+04, tolerance: 1.072e+02\n",
      "  model = cd_fast.enet_coordinate_descent(\n",
      "/home/ergot/miniforge3/envs/chem/lib/python3.10/site-packages/sklearn/linear_model/_coordinate_descent.py:697: ConvergenceWarning: Objective did not converge. You might want to increase the number of iterations, check the scale of the features or consider increasing regularisation. Duality gap: 1.924e+04, tolerance: 1.075e+02\n",
      "  model = cd_fast.enet_coordinate_descent(\n",
      "/home/ergot/miniforge3/envs/chem/lib/python3.10/site-packages/sklearn/linear_model/_coordinate_descent.py:697: ConvergenceWarning: Objective did not converge. You might want to increase the number of iterations, check the scale of the features or consider increasing regularisation. Duality gap: 1.804e+04, tolerance: 1.093e+02\n",
      "  model = cd_fast.enet_coordinate_descent(\n",
      "/home/ergot/miniforge3/envs/chem/lib/python3.10/site-packages/sklearn/linear_model/_coordinate_descent.py:697: ConvergenceWarning: Objective did not converge. You might want to increase the number of iterations, check the scale of the features or consider increasing regularisation. Duality gap: 1.798e+04, tolerance: 1.065e+02\n",
      "  model = cd_fast.enet_coordinate_descent(\n",
      "[I 2024-08-29 12:00:54,890] Trial 18 finished with value: -49.47 and parameters: {'alpha': 0.0031006972319092487}. Best is trial 13 with value: -29.4428.\n",
      "/home/ergot/miniforge3/envs/chem/lib/python3.10/site-packages/sklearn/linear_model/_coordinate_descent.py:697: ConvergenceWarning: Objective did not converge. You might want to increase the number of iterations, check the scale of the features or consider increasing regularisation. Duality gap: 2.678e+02, tolerance: 1.077e+02\n",
      "  model = cd_fast.enet_coordinate_descent(\n",
      "/home/ergot/miniforge3/envs/chem/lib/python3.10/site-packages/sklearn/linear_model/_coordinate_descent.py:697: ConvergenceWarning: Objective did not converge. You might want to increase the number of iterations, check the scale of the features or consider increasing regularisation. Duality gap: 2.620e+02, tolerance: 1.075e+02\n",
      "  model = cd_fast.enet_coordinate_descent(\n",
      "/home/ergot/miniforge3/envs/chem/lib/python3.10/site-packages/sklearn/linear_model/_coordinate_descent.py:697: ConvergenceWarning: Objective did not converge. You might want to increase the number of iterations, check the scale of the features or consider increasing regularisation. Duality gap: 1.334e+03, tolerance: 1.093e+02\n",
      "  model = cd_fast.enet_coordinate_descent(\n",
      "[I 2024-08-29 12:00:58,346] Trial 19 finished with value: -31.3185 and parameters: {'alpha': 0.18293029289078508}. Best is trial 13 with value: -29.4428.\n",
      "[I 2024-08-29 12:00:58,904] Trial 20 finished with value: -35.1492 and parameters: {'alpha': 7.89687443342273}. Best is trial 13 with value: -29.4428.\n",
      "[I 2024-08-29 12:00:59,801] Trial 21 finished with value: -29.3894 and parameters: {'alpha': 1.2014536580210644}. Best is trial 21 with value: -29.3894.\n",
      "[I 2024-08-29 12:01:00,836] Trial 22 finished with value: -29.5003 and parameters: {'alpha': 0.8298146345476569}. Best is trial 21 with value: -29.3894.\n",
      "[I 2024-08-29 12:01:01,416] Trial 23 finished with value: -32.0458 and parameters: {'alpha': 3.3937796049621918}. Best is trial 21 with value: -29.3894.\n",
      "/home/ergot/miniforge3/envs/chem/lib/python3.10/site-packages/sklearn/linear_model/_coordinate_descent.py:697: ConvergenceWarning: Objective did not converge. You might want to increase the number of iterations, check the scale of the features or consider increasing regularisation. Duality gap: 2.939e+04, tolerance: 1.077e+02\n",
      "  model = cd_fast.enet_coordinate_descent(\n",
      "/home/ergot/miniforge3/envs/chem/lib/python3.10/site-packages/sklearn/linear_model/_coordinate_descent.py:697: ConvergenceWarning: Objective did not converge. You might want to increase the number of iterations, check the scale of the features or consider increasing regularisation. Duality gap: 1.257e+02, tolerance: 1.072e+02\n",
      "  model = cd_fast.enet_coordinate_descent(\n",
      "/home/ergot/miniforge3/envs/chem/lib/python3.10/site-packages/sklearn/linear_model/_coordinate_descent.py:697: ConvergenceWarning: Objective did not converge. You might want to increase the number of iterations, check the scale of the features or consider increasing regularisation. Duality gap: 9.964e+03, tolerance: 1.075e+02\n",
      "  model = cd_fast.enet_coordinate_descent(\n",
      "/home/ergot/miniforge3/envs/chem/lib/python3.10/site-packages/sklearn/linear_model/_coordinate_descent.py:697: ConvergenceWarning: Objective did not converge. You might want to increase the number of iterations, check the scale of the features or consider increasing regularisation. Duality gap: 3.006e+04, tolerance: 1.093e+02\n",
      "  model = cd_fast.enet_coordinate_descent(\n",
      "/home/ergot/miniforge3/envs/chem/lib/python3.10/site-packages/sklearn/linear_model/_coordinate_descent.py:697: ConvergenceWarning: Objective did not converge. You might want to increase the number of iterations, check the scale of the features or consider increasing regularisation. Duality gap: 4.829e+03, tolerance: 1.065e+02\n",
      "  model = cd_fast.enet_coordinate_descent(\n",
      "[I 2024-08-29 12:01:05,729] Trial 24 finished with value: -32.132 and parameters: {'alpha': 0.06734862124986696}. Best is trial 21 with value: -29.3894.\n",
      "[I 2024-08-29 12:01:06,812] Trial 25 finished with value: -29.53 and parameters: {'alpha': 0.8141781183309182}. Best is trial 21 with value: -29.3894.\n",
      "[I 2024-08-29 12:01:07,284] Trial 26 finished with value: -36.9351 and parameters: {'alpha': 15.328984319609528}. Best is trial 21 with value: -29.3894.\n",
      "[I 2024-08-29 12:01:10,097] Trial 27 finished with value: -31.1607 and parameters: {'alpha': 0.22148096375740192}. Best is trial 21 with value: -29.3894.\n",
      "[I 2024-08-29 12:01:10,757] Trial 28 finished with value: -31.7374 and parameters: {'alpha': 2.2509509150002587}. Best is trial 21 with value: -29.3894.\n",
      "/home/ergot/miniforge3/envs/chem/lib/python3.10/site-packages/sklearn/linear_model/_coordinate_descent.py:697: ConvergenceWarning: Objective did not converge. You might want to increase the number of iterations, check the scale of the features or consider increasing regularisation. Duality gap: 5.457e+04, tolerance: 1.077e+02\n",
      "  model = cd_fast.enet_coordinate_descent(\n",
      "/home/ergot/miniforge3/envs/chem/lib/python3.10/site-packages/sklearn/linear_model/_coordinate_descent.py:697: ConvergenceWarning: Objective did not converge. You might want to increase the number of iterations, check the scale of the features or consider increasing regularisation. Duality gap: 5.075e+02, tolerance: 1.072e+02\n",
      "  model = cd_fast.enet_coordinate_descent(\n",
      "/home/ergot/miniforge3/envs/chem/lib/python3.10/site-packages/sklearn/linear_model/_coordinate_descent.py:697: ConvergenceWarning: Objective did not converge. You might want to increase the number of iterations, check the scale of the features or consider increasing regularisation. Duality gap: 2.358e+04, tolerance: 1.075e+02\n",
      "  model = cd_fast.enet_coordinate_descent(\n",
      "/home/ergot/miniforge3/envs/chem/lib/python3.10/site-packages/sklearn/linear_model/_coordinate_descent.py:697: ConvergenceWarning: Objective did not converge. You might want to increase the number of iterations, check the scale of the features or consider increasing regularisation. Duality gap: 4.949e+04, tolerance: 1.093e+02\n",
      "  model = cd_fast.enet_coordinate_descent(\n",
      "/home/ergot/miniforge3/envs/chem/lib/python3.10/site-packages/sklearn/linear_model/_coordinate_descent.py:697: ConvergenceWarning: Objective did not converge. You might want to increase the number of iterations, check the scale of the features or consider increasing regularisation. Duality gap: 8.832e+03, tolerance: 1.065e+02\n",
      "  model = cd_fast.enet_coordinate_descent(\n",
      "[I 2024-08-29 12:01:14,526] Trial 29 finished with value: -32.9153 and parameters: {'alpha': 0.050072317195524}. Best is trial 21 with value: -29.3894.\n",
      "/home/ergot/miniforge3/envs/chem/lib/python3.10/site-packages/sklearn/linear_model/_coordinate_descent.py:697: ConvergenceWarning: Objective did not converge. You might want to increase the number of iterations, check the scale of the features or consider increasing regularisation. Duality gap: 4.079e+04, tolerance: 1.077e+02\n",
      "  model = cd_fast.enet_coordinate_descent(\n",
      "/home/ergot/miniforge3/envs/chem/lib/python3.10/site-packages/sklearn/linear_model/_coordinate_descent.py:697: ConvergenceWarning: Objective did not converge. You might want to increase the number of iterations, check the scale of the features or consider increasing regularisation. Duality gap: 1.377e+04, tolerance: 1.072e+02\n",
      "  model = cd_fast.enet_coordinate_descent(\n",
      "/home/ergot/miniforge3/envs/chem/lib/python3.10/site-packages/sklearn/linear_model/_coordinate_descent.py:697: ConvergenceWarning: Objective did not converge. You might want to increase the number of iterations, check the scale of the features or consider increasing regularisation. Duality gap: 3.258e+04, tolerance: 1.075e+02\n",
      "  model = cd_fast.enet_coordinate_descent(\n",
      "/home/ergot/miniforge3/envs/chem/lib/python3.10/site-packages/sklearn/linear_model/_coordinate_descent.py:697: ConvergenceWarning: Objective did not converge. You might want to increase the number of iterations, check the scale of the features or consider increasing regularisation. Duality gap: 4.168e+04, tolerance: 1.093e+02\n",
      "  model = cd_fast.enet_coordinate_descent(\n",
      "/home/ergot/miniforge3/envs/chem/lib/python3.10/site-packages/sklearn/linear_model/_coordinate_descent.py:697: ConvergenceWarning: Objective did not converge. You might want to increase the number of iterations, check the scale of the features or consider increasing regularisation. Duality gap: 2.798e+04, tolerance: 1.065e+02\n",
      "  model = cd_fast.enet_coordinate_descent(\n",
      "[I 2024-08-29 12:01:18,145] Trial 30 finished with value: -40.1624 and parameters: {'alpha': 0.01749561771270475}. Best is trial 21 with value: -29.3894.\n",
      "[I 2024-08-29 12:01:20,516] Trial 31 finished with value: -31.5091 and parameters: {'alpha': 0.3098981965017142}. Best is trial 21 with value: -29.3894.\n",
      "[I 2024-08-29 12:01:21,558] Trial 32 finished with value: -29.3404 and parameters: {'alpha': 1.0846548395423499}. Best is trial 32 with value: -29.3404.\n",
      "[I 2024-08-29 12:01:22,481] Trial 33 finished with value: -29.5985 and parameters: {'alpha': 1.4679454230700018}. Best is trial 32 with value: -29.3404.\n",
      "[I 2024-08-29 12:01:23,098] Trial 34 finished with value: -32.0775 and parameters: {'alpha': 3.5179958433440532}. Best is trial 32 with value: -29.3404.\n",
      "[I 2024-08-29 12:01:24,931] Trial 35 finished with value: -31.0664 and parameters: {'alpha': 0.4108233681984092}. Best is trial 32 with value: -29.3404.\n",
      "/home/ergot/miniforge3/envs/chem/lib/python3.10/site-packages/sklearn/linear_model/_coordinate_descent.py:697: ConvergenceWarning: Objective did not converge. You might want to increase the number of iterations, check the scale of the features or consider increasing regularisation. Duality gap: 4.454e+03, tolerance: 1.077e+02\n",
      "  model = cd_fast.enet_coordinate_descent(\n",
      "/home/ergot/miniforge3/envs/chem/lib/python3.10/site-packages/sklearn/linear_model/_coordinate_descent.py:697: ConvergenceWarning: Objective did not converge. You might want to increase the number of iterations, check the scale of the features or consider increasing regularisation. Duality gap: 2.232e+03, tolerance: 1.075e+02\n",
      "  model = cd_fast.enet_coordinate_descent(\n",
      "/home/ergot/miniforge3/envs/chem/lib/python3.10/site-packages/sklearn/linear_model/_coordinate_descent.py:697: ConvergenceWarning: Objective did not converge. You might want to increase the number of iterations, check the scale of the features or consider increasing regularisation. Duality gap: 1.245e+04, tolerance: 1.093e+02\n",
      "  model = cd_fast.enet_coordinate_descent(\n",
      "[I 2024-08-29 12:01:28,338] Trial 36 finished with value: -31.6989 and parameters: {'alpha': 0.1319590678103699}. Best is trial 32 with value: -29.3404.\n",
      "[I 2024-08-29 12:01:28,794] Trial 37 finished with value: -37.1298 and parameters: {'alpha': 17.368665576666455}. Best is trial 32 with value: -29.3404.\n",
      "[I 2024-08-29 12:01:29,556] Trial 38 finished with value: -29.6153 and parameters: {'alpha': 1.4791643034230522}. Best is trial 32 with value: -29.3404.\n",
      "[I 2024-08-29 12:01:30,094] Trial 39 finished with value: -34.1586 and parameters: {'alpha': 5.958238467288545}. Best is trial 32 with value: -29.3404.\n",
      "/home/ergot/miniforge3/envs/chem/lib/python3.10/site-packages/sklearn/linear_model/_coordinate_descent.py:697: ConvergenceWarning: Objective did not converge. You might want to increase the number of iterations, check the scale of the features or consider increasing regularisation. Duality gap: 4.600e+04, tolerance: 1.077e+02\n",
      "  model = cd_fast.enet_coordinate_descent(\n",
      "/home/ergot/miniforge3/envs/chem/lib/python3.10/site-packages/sklearn/linear_model/_coordinate_descent.py:697: ConvergenceWarning: Objective did not converge. You might want to increase the number of iterations, check the scale of the features or consider increasing regularisation. Duality gap: 6.059e+03, tolerance: 1.072e+02\n",
      "  model = cd_fast.enet_coordinate_descent(\n",
      "/home/ergot/miniforge3/envs/chem/lib/python3.10/site-packages/sklearn/linear_model/_coordinate_descent.py:697: ConvergenceWarning: Objective did not converge. You might want to increase the number of iterations, check the scale of the features or consider increasing regularisation. Duality gap: 1.546e+04, tolerance: 1.075e+02\n",
      "  model = cd_fast.enet_coordinate_descent(\n",
      "/home/ergot/miniforge3/envs/chem/lib/python3.10/site-packages/sklearn/linear_model/_coordinate_descent.py:697: ConvergenceWarning: Objective did not converge. You might want to increase the number of iterations, check the scale of the features or consider increasing regularisation. Duality gap: 5.755e+04, tolerance: 1.093e+02\n",
      "  model = cd_fast.enet_coordinate_descent(\n",
      "/home/ergot/miniforge3/envs/chem/lib/python3.10/site-packages/sklearn/linear_model/_coordinate_descent.py:697: ConvergenceWarning: Objective did not converge. You might want to increase the number of iterations, check the scale of the features or consider increasing regularisation. Duality gap: 1.675e+04, tolerance: 1.065e+02\n",
      "  model = cd_fast.enet_coordinate_descent(\n",
      "[I 2024-08-29 12:01:33,564] Trial 40 finished with value: -34.9051 and parameters: {'alpha': 0.030235502885039775}. Best is trial 32 with value: -29.3404.\n",
      "[I 2024-08-29 12:01:34,419] Trial 41 finished with value: -29.4034 and parameters: {'alpha': 0.9134066608360172}. Best is trial 32 with value: -29.3404.\n",
      "[I 2024-08-29 12:01:35,585] Trial 42 finished with value: -29.3691 and parameters: {'alpha': 0.9554637171576489}. Best is trial 32 with value: -29.3404.\n",
      "[I 2024-08-29 12:01:37,755] Trial 43 finished with value: -31.1875 and parameters: {'alpha': 0.3653129636873606}. Best is trial 32 with value: -29.3404.\n",
      "[I 2024-08-29 12:01:38,484] Trial 44 finished with value: -32.041 and parameters: {'alpha': 2.4182836809604726}. Best is trial 32 with value: -29.3404.\n",
      "[I 2024-08-29 12:01:39,502] Trial 45 finished with value: -29.3647 and parameters: {'alpha': 0.9608243999222799}. Best is trial 32 with value: -29.3404.\n",
      "[I 2024-08-29 12:01:40,005] Trial 46 finished with value: -37.1394 and parameters: {'alpha': 49.01789428481716}. Best is trial 32 with value: -29.3404.\n",
      "[I 2024-08-29 12:01:40,991] Trial 47 finished with value: -29.3483 and parameters: {'alpha': 0.9856804311397305}. Best is trial 32 with value: -29.3404.\n",
      "[I 2024-08-29 12:01:41,638] Trial 48 finished with value: -32.1182 and parameters: {'alpha': 3.6160267828993966}. Best is trial 32 with value: -29.3404.\n",
      "[I 2024-08-29 12:01:42,184] Trial 49 finished with value: -36.2419 and parameters: {'alpha': 10.85957895172417}. Best is trial 32 with value: -29.3404.\n",
      "[I 2024-08-29 12:01:43,564] Trial 50 finished with value: -30.4241 and parameters: {'alpha': 0.5271506953380237}. Best is trial 32 with value: -29.3404.\n",
      "[I 2024-08-29 12:01:44,627] Trial 51 finished with value: -29.3575 and parameters: {'alpha': 0.9708082864706584}. Best is trial 32 with value: -29.3404.\n",
      "/home/ergot/miniforge3/envs/chem/lib/python3.10/site-packages/sklearn/linear_model/_coordinate_descent.py:697: ConvergenceWarning: Objective did not converge. You might want to increase the number of iterations, check the scale of the features or consider increasing regularisation. Duality gap: 1.818e+04, tolerance: 1.077e+02\n",
      "  model = cd_fast.enet_coordinate_descent(\n",
      "/home/ergot/miniforge3/envs/chem/lib/python3.10/site-packages/sklearn/linear_model/_coordinate_descent.py:697: ConvergenceWarning: Objective did not converge. You might want to increase the number of iterations, check the scale of the features or consider increasing regularisation. Duality gap: 6.398e+03, tolerance: 1.075e+02\n",
      "  model = cd_fast.enet_coordinate_descent(\n",
      "/home/ergot/miniforge3/envs/chem/lib/python3.10/site-packages/sklearn/linear_model/_coordinate_descent.py:697: ConvergenceWarning: Objective did not converge. You might want to increase the number of iterations, check the scale of the features or consider increasing regularisation. Duality gap: 2.783e+04, tolerance: 1.093e+02\n",
      "  model = cd_fast.enet_coordinate_descent(\n",
      "/home/ergot/miniforge3/envs/chem/lib/python3.10/site-packages/sklearn/linear_model/_coordinate_descent.py:697: ConvergenceWarning: Objective did not converge. You might want to increase the number of iterations, check the scale of the features or consider increasing regularisation. Duality gap: 9.580e+02, tolerance: 1.065e+02\n",
      "  model = cd_fast.enet_coordinate_descent(\n",
      "[I 2024-08-29 12:01:48,717] Trial 52 finished with value: -31.6874 and parameters: {'alpha': 0.09806796492435217}. Best is trial 32 with value: -29.3404.\n",
      "[I 2024-08-29 12:01:49,743] Trial 53 finished with value: -29.3526 and parameters: {'alpha': 1.1230478071783383}. Best is trial 32 with value: -29.3404.\n",
      "[I 2024-08-29 12:01:52,358] Trial 54 finished with value: -31.3331 and parameters: {'alpha': 0.2791951296707039}. Best is trial 32 with value: -29.3404.\n",
      "[I 2024-08-29 12:01:53,153] Trial 55 finished with value: -32.1453 and parameters: {'alpha': 2.5426621646892036}. Best is trial 32 with value: -29.3404.\n",
      "[I 2024-08-29 12:01:53,734] Trial 56 finished with value: -33.1006 and parameters: {'alpha': 4.915156215348313}. Best is trial 32 with value: -29.3404.\n",
      "[I 2024-08-29 12:01:54,783] Trial 57 finished with value: -29.9396 and parameters: {'alpha': 0.6833339455684899}. Best is trial 32 with value: -29.3404.\n",
      "/home/ergot/miniforge3/envs/chem/lib/python3.10/site-packages/sklearn/linear_model/_coordinate_descent.py:697: ConvergenceWarning: Objective did not converge. You might want to increase the number of iterations, check the scale of the features or consider increasing regularisation. Duality gap: 7.718e+03, tolerance: 1.077e+02\n",
      "  model = cd_fast.enet_coordinate_descent(\n",
      "/home/ergot/miniforge3/envs/chem/lib/python3.10/site-packages/sklearn/linear_model/_coordinate_descent.py:697: ConvergenceWarning: Objective did not converge. You might want to increase the number of iterations, check the scale of the features or consider increasing regularisation. Duality gap: 3.322e+03, tolerance: 1.075e+02\n",
      "  model = cd_fast.enet_coordinate_descent(\n",
      "/home/ergot/miniforge3/envs/chem/lib/python3.10/site-packages/sklearn/linear_model/_coordinate_descent.py:697: ConvergenceWarning: Objective did not converge. You might want to increase the number of iterations, check the scale of the features or consider increasing regularisation. Duality gap: 1.780e+04, tolerance: 1.093e+02\n",
      "  model = cd_fast.enet_coordinate_descent(\n",
      "[I 2024-08-29 12:01:58,935] Trial 58 finished with value: -31.6392 and parameters: {'alpha': 0.12583841705260984}. Best is trial 32 with value: -29.3404.\n",
      "/home/ergot/miniforge3/envs/chem/lib/python3.10/site-packages/sklearn/linear_model/_coordinate_descent.py:697: ConvergenceWarning: Objective did not converge. You might want to increase the number of iterations, check the scale of the features or consider increasing regularisation. Duality gap: 1.048e+04, tolerance: 1.077e+02\n",
      "  model = cd_fast.enet_coordinate_descent(\n",
      "/home/ergot/miniforge3/envs/chem/lib/python3.10/site-packages/sklearn/linear_model/_coordinate_descent.py:697: ConvergenceWarning: Objective did not converge. You might want to increase the number of iterations, check the scale of the features or consider increasing regularisation. Duality gap: 8.086e+03, tolerance: 1.072e+02\n",
      "  model = cd_fast.enet_coordinate_descent(\n",
      "/home/ergot/miniforge3/envs/chem/lib/python3.10/site-packages/sklearn/linear_model/_coordinate_descent.py:697: ConvergenceWarning: Objective did not converge. You might want to increase the number of iterations, check the scale of the features or consider increasing regularisation. Duality gap: 1.086e+04, tolerance: 1.075e+02\n",
      "  model = cd_fast.enet_coordinate_descent(\n",
      "/home/ergot/miniforge3/envs/chem/lib/python3.10/site-packages/sklearn/linear_model/_coordinate_descent.py:697: ConvergenceWarning: Objective did not converge. You might want to increase the number of iterations, check the scale of the features or consider increasing regularisation. Duality gap: 1.039e+04, tolerance: 1.093e+02\n",
      "  model = cd_fast.enet_coordinate_descent(\n",
      "/home/ergot/miniforge3/envs/chem/lib/python3.10/site-packages/sklearn/linear_model/_coordinate_descent.py:697: ConvergenceWarning: Objective did not converge. You might want to increase the number of iterations, check the scale of the features or consider increasing regularisation. Duality gap: 1.045e+04, tolerance: 1.065e+02\n",
      "  model = cd_fast.enet_coordinate_descent(\n",
      "[I 2024-08-29 12:02:03,022] Trial 59 finished with value: -59.4281 and parameters: {'alpha': 0.0008719862924691125}. Best is trial 32 with value: -29.3404.\n",
      "[I 2024-08-29 12:02:03,896] Trial 60 finished with value: -29.4064 and parameters: {'alpha': 1.231540814346747}. Best is trial 32 with value: -29.3404.\n",
      "[I 2024-08-29 12:02:04,872] Trial 61 finished with value: -29.3393 and parameters: {'alpha': 1.004911971085944}. Best is trial 61 with value: -29.3393.\n",
      "[I 2024-08-29 12:02:06,519] Trial 62 finished with value: -30.4232 and parameters: {'alpha': 0.5296775018670351}. Best is trial 61 with value: -29.3393.\n",
      "[I 2024-08-29 12:02:07,352] Trial 63 finished with value: -31.2215 and parameters: {'alpha': 1.9571758630396103}. Best is trial 61 with value: -29.3393.\n",
      "[I 2024-08-29 12:02:08,382] Trial 64 finished with value: -29.3522 and parameters: {'alpha': 1.1220653459469616}. Best is trial 61 with value: -29.3393.\n",
      "[I 2024-08-29 12:02:11,737] Trial 65 finished with value: -31.1368 and parameters: {'alpha': 0.2129797934321562}. Best is trial 61 with value: -29.3393.\n",
      "[I 2024-08-29 12:02:12,350] Trial 66 finished with value: -34.7349 and parameters: {'alpha': 6.787269143853309}. Best is trial 61 with value: -29.3393.\n",
      "[I 2024-08-29 12:02:13,844] Trial 67 finished with value: -30.4801 and parameters: {'alpha': 0.4937357755274948}. Best is trial 61 with value: -29.3393.\n",
      "[I 2024-08-29 12:02:14,645] Trial 68 finished with value: -30.9736 and parameters: {'alpha': 1.844271338926184}. Best is trial 61 with value: -29.3393.\n",
      "[I 2024-08-29 12:02:15,248] Trial 69 finished with value: -32.0266 and parameters: {'alpha': 3.2609132628775397}. Best is trial 61 with value: -29.3393.\n",
      "[I 2024-08-29 12:02:17,316] Trial 70 finished with value: -31.2276 and parameters: {'alpha': 0.3526453380331544}. Best is trial 61 with value: -29.3393.\n",
      "[I 2024-08-29 12:02:18,064] Trial 71 finished with value: -29.3354 and parameters: {'alpha': 1.0531212524084377}. Best is trial 71 with value: -29.3354.\n",
      "[I 2024-08-29 12:02:18,954] Trial 72 finished with value: -29.3423 and parameters: {'alpha': 1.0926254144095406}. Best is trial 71 with value: -29.3354.\n",
      "[I 2024-08-29 12:02:19,869] Trial 73 finished with value: -29.9246 and parameters: {'alpha': 0.6892768732912268}. Best is trial 71 with value: -29.3354.\n",
      "[I 2024-08-29 12:02:20,601] Trial 74 finished with value: -30.3663 and parameters: {'alpha': 1.7263169585554667}. Best is trial 71 with value: -29.3354.\n",
      "[I 2024-08-29 12:02:21,654] Trial 75 finished with value: -29.371 and parameters: {'alpha': 1.1623513959217497}. Best is trial 71 with value: -29.3354.\n",
      "[I 2024-08-29 12:02:22,312] Trial 76 finished with value: -32.4995 and parameters: {'alpha': 4.258504008649794}. Best is trial 71 with value: -29.3354.\n",
      "/home/ergot/miniforge3/envs/chem/lib/python3.10/site-packages/sklearn/linear_model/_coordinate_descent.py:697: ConvergenceWarning: Objective did not converge. You might want to increase the number of iterations, check the scale of the features or consider increasing regularisation. Duality gap: 1.718e+03, tolerance: 1.077e+02\n",
      "  model = cd_fast.enet_coordinate_descent(\n",
      "/home/ergot/miniforge3/envs/chem/lib/python3.10/site-packages/sklearn/linear_model/_coordinate_descent.py:697: ConvergenceWarning: Objective did not converge. You might want to increase the number of iterations, check the scale of the features or consider increasing regularisation. Duality gap: 2.738e+03, tolerance: 1.075e+02\n",
      "  model = cd_fast.enet_coordinate_descent(\n",
      "/home/ergot/miniforge3/envs/chem/lib/python3.10/site-packages/sklearn/linear_model/_coordinate_descent.py:697: ConvergenceWarning: Objective did not converge. You might want to increase the number of iterations, check the scale of the features or consider increasing regularisation. Duality gap: 5.904e+03, tolerance: 1.093e+02\n",
      "  model = cd_fast.enet_coordinate_descent(\n",
      "[I 2024-08-29 12:02:26,127] Trial 77 finished with value: -31.6635 and parameters: {'alpha': 0.14580552468566813}. Best is trial 71 with value: -29.3354.\n",
      "[I 2024-08-29 12:02:26,899] Trial 78 finished with value: -31.8884 and parameters: {'alpha': 2.3354965412154898}. Best is trial 71 with value: -29.3354.\n",
      "[I 2024-08-29 12:02:27,409] Trial 79 finished with value: -36.1037 and parameters: {'alpha': 10.457652313646662}. Best is trial 71 with value: -29.3354.\n",
      "[I 2024-08-29 12:02:30,364] Trial 80 finished with value: -31.2462 and parameters: {'alpha': 0.2711508157527973}. Best is trial 71 with value: -29.3354.\n",
      "[I 2024-08-29 12:02:31,313] Trial 81 finished with value: -29.3406 and parameters: {'alpha': 1.001872749625598}. Best is trial 71 with value: -29.3354.\n",
      "[I 2024-08-29 12:02:32,120] Trial 82 finished with value: -29.4165 and parameters: {'alpha': 1.249892894095153}. Best is trial 71 with value: -29.3354.\n",
      "[I 2024-08-29 12:02:33,209] Trial 83 finished with value: -29.9407 and parameters: {'alpha': 0.6829055975519466}. Best is trial 71 with value: -29.3354.\n",
      "[I 2024-08-29 12:02:34,816] Trial 84 finished with value: -30.8133 and parameters: {'alpha': 0.43498715221154816}. Best is trial 71 with value: -29.3354.\n",
      "[I 2024-08-29 12:02:35,474] Trial 85 finished with value: -32.1258 and parameters: {'alpha': 2.59046833858148}. Best is trial 71 with value: -29.3354.\n",
      "[I 2024-08-29 12:02:36,500] Trial 86 finished with value: -29.3947 and parameters: {'alpha': 0.9240734482690818}. Best is trial 71 with value: -29.3354.\n",
      "[I 2024-08-29 12:02:37,267] Trial 87 finished with value: -30.2858 and parameters: {'alpha': 1.7093643371665284}. Best is trial 71 with value: -29.3354.\n",
      "/home/ergot/miniforge3/envs/chem/lib/python3.10/site-packages/sklearn/linear_model/_coordinate_descent.py:697: ConvergenceWarning: Objective did not converge. You might want to increase the number of iterations, check the scale of the features or consider increasing regularisation. Duality gap: 6.263e+03, tolerance: 1.077e+02\n",
      "  model = cd_fast.enet_coordinate_descent(\n",
      "/home/ergot/miniforge3/envs/chem/lib/python3.10/site-packages/sklearn/linear_model/_coordinate_descent.py:697: ConvergenceWarning: Objective did not converge. You might want to increase the number of iterations, check the scale of the features or consider increasing regularisation. Duality gap: 4.856e+03, tolerance: 1.072e+02\n",
      "  model = cd_fast.enet_coordinate_descent(\n",
      "/home/ergot/miniforge3/envs/chem/lib/python3.10/site-packages/sklearn/linear_model/_coordinate_descent.py:697: ConvergenceWarning: Objective did not converge. You might want to increase the number of iterations, check the scale of the features or consider increasing regularisation. Duality gap: 6.828e+03, tolerance: 1.075e+02\n",
      "  model = cd_fast.enet_coordinate_descent(\n",
      "/home/ergot/miniforge3/envs/chem/lib/python3.10/site-packages/sklearn/linear_model/_coordinate_descent.py:697: ConvergenceWarning: Objective did not converge. You might want to increase the number of iterations, check the scale of the features or consider increasing regularisation. Duality gap: 6.544e+03, tolerance: 1.093e+02\n",
      "  model = cd_fast.enet_coordinate_descent(\n",
      "/home/ergot/miniforge3/envs/chem/lib/python3.10/site-packages/sklearn/linear_model/_coordinate_descent.py:697: ConvergenceWarning: Objective did not converge. You might want to increase the number of iterations, check the scale of the features or consider increasing regularisation. Duality gap: 6.690e+03, tolerance: 1.065e+02\n",
      "  model = cd_fast.enet_coordinate_descent(\n",
      "[I 2024-08-29 12:02:41,865] Trial 88 finished with value: -93.528 and parameters: {'alpha': 0.00011974538356537238}. Best is trial 71 with value: -29.3354.\n",
      "[I 2024-08-29 12:02:42,435] Trial 89 finished with value: -32.0202 and parameters: {'alpha': 3.1434097451389293}. Best is trial 71 with value: -29.3354.\n",
      "[I 2024-08-29 12:02:43,568] Trial 90 finished with value: -29.6433 and parameters: {'alpha': 0.7728998882447361}. Best is trial 71 with value: -29.3354.\n",
      "[I 2024-08-29 12:02:44,499] Trial 91 finished with value: -29.3444 and parameters: {'alpha': 1.1007216344153479}. Best is trial 71 with value: -29.3354.\n",
      "[I 2024-08-29 12:02:45,286] Trial 92 finished with value: -29.4123 and parameters: {'alpha': 1.242286813576786}. Best is trial 71 with value: -29.3354.\n",
      "[I 2024-08-29 12:02:46,820] Trial 93 finished with value: -30.4027 and parameters: {'alpha': 0.5436024865291127}. Best is trial 71 with value: -29.3354.\n",
      "[I 2024-08-29 12:02:49,244] Trial 94 finished with value: -31.3031 and parameters: {'alpha': 0.34013709627125904}. Best is trial 71 with value: -29.3354.\n",
      "[I 2024-08-29 12:02:50,172] Trial 95 finished with value: -29.3383 and parameters: {'alpha': 1.007651958479495}. Best is trial 71 with value: -29.3354.\n",
      "[I 2024-08-29 12:02:50,714] Trial 96 finished with value: -32.9426 and parameters: {'alpha': 4.7626377225348016}. Best is trial 71 with value: -29.3354.\n",
      "[I 2024-08-29 12:02:51,444] Trial 97 finished with value: -29.6992 and parameters: {'alpha': 1.526852440577433}. Best is trial 71 with value: -29.3354.\n",
      "[I 2024-08-29 12:02:51,994] Trial 98 finished with value: -35.1846 and parameters: {'alpha': 7.996452851021838}. Best is trial 71 with value: -29.3354.\n",
      "[I 2024-08-29 12:02:54,964] Trial 99 finished with value: -31.1412 and parameters: {'alpha': 0.23482192624251855}. Best is trial 71 with value: -29.3354.\n"
     ]
    }
   ],
   "execution_count": 105
  },
  {
   "metadata": {
    "ExecuteTime": {
     "end_time": "2024-08-29T10:02:55.023275Z",
     "start_time": "2024-08-29T10:02:54.972272Z"
    }
   },
   "cell_type": "code",
   "source": "study.best_params",
   "id": "ea9f1f9a72bb6a80",
   "outputs": [
    {
     "data": {
      "text/plain": [
       "{'alpha': 1.0531212524084377}"
      ]
     },
     "execution_count": 106,
     "metadata": {},
     "output_type": "execute_result"
    }
   ],
   "execution_count": 106
  },
  {
   "metadata": {
    "ExecuteTime": {
     "end_time": "2024-08-29T10:02:55.029386Z",
     "start_time": "2024-08-29T10:02:55.026421Z"
    }
   },
   "cell_type": "code",
   "source": "",
   "id": "8776e170b8e48a0",
   "outputs": [],
   "execution_count": 106
  },
  {
   "metadata": {},
   "cell_type": "markdown",
   "source": "# Suggest best KNN hyperparams",
   "id": "ed60d05acf3a601d"
  },
  {
   "metadata": {
    "ExecuteTime": {
     "end_time": "2024-08-29T10:04:43.949848Z",
     "start_time": "2024-08-29T10:02:55.030636Z"
    }
   },
   "cell_type": "code",
   "source": [
    "def objective(trial):    \n",
    "    n_neighbors = trial.suggest_int('n_neighbors', 1, 50)\n",
    "    weights = trial.suggest_categorical('weights', ['uniform', 'distance'])\n",
    "    algorithm = trial.suggest_categorical('algorithm', ['auto', 'ball_tree', 'kd_tree', 'brute'])\n",
    "    \n",
    "    # Create the model with the suggested hyperparameters\n",
    "    model = KNeighborsRegressor(n_neighbors=n_neighbors, weights=weights, algorithm=algorithm)\n",
    "    \n",
    "    # Evaluate the model using cross-validation\n",
    "    kfold = KFold(n_splits=5, shuffle=True, random_state=RANDOM_SEED)    \n",
    "    cv_res = cross_val_score(model, X_train, y_train, cv=kfold, scoring=rmse)\n",
    "    score = cv_res.mean() - cv_res.std()\n",
    "\n",
    "    # Return the negative of the score (since Optuna maximizes by default)\n",
    "    return round(score, 4)\n",
    "\n",
    "study = optuna.create_study(direction='maximize')\n",
    "study.optimize(objective, n_trials=100)"
   ],
   "id": "f24b7bd6a7334c4c",
   "outputs": [
    {
     "name": "stderr",
     "output_type": "stream",
     "text": [
      "[I 2024-08-29 12:02:55,063] A new study created in memory with name: no-name-9a45b89a-d993-4d2a-a150-4621a4b9462e\n",
      "[I 2024-08-29 12:02:56,763] Trial 0 finished with value: -30.1622 and parameters: {'n_neighbors': 27, 'weights': 'uniform', 'algorithm': 'kd_tree'}. Best is trial 0 with value: -30.1622.\n",
      "[I 2024-08-29 12:02:58,079] Trial 1 finished with value: -28.9896 and parameters: {'n_neighbors': 3, 'weights': 'distance', 'algorithm': 'ball_tree'}. Best is trial 1 with value: -28.9896.\n",
      "[I 2024-08-29 12:02:59,388] Trial 2 finished with value: -29.5973 and parameters: {'n_neighbors': 41, 'weights': 'distance', 'algorithm': 'ball_tree'}. Best is trial 1 with value: -28.9896.\n",
      "[I 2024-08-29 12:02:59,491] Trial 3 finished with value: -28.7849 and parameters: {'n_neighbors': 4, 'weights': 'uniform', 'algorithm': 'brute'}. Best is trial 3 with value: -28.7849.\n",
      "[I 2024-08-29 12:02:59,597] Trial 4 finished with value: -28.5172 and parameters: {'n_neighbors': 16, 'weights': 'distance', 'algorithm': 'brute'}. Best is trial 4 with value: -28.5172.\n",
      "[I 2024-08-29 12:03:00,889] Trial 5 finished with value: -29.5359 and parameters: {'n_neighbors': 38, 'weights': 'distance', 'algorithm': 'ball_tree'}. Best is trial 4 with value: -28.5172.\n",
      "[I 2024-08-29 12:03:00,991] Trial 6 finished with value: -29.5965 and parameters: {'n_neighbors': 41, 'weights': 'distance', 'algorithm': 'brute'}. Best is trial 4 with value: -28.5172.\n",
      "[I 2024-08-29 12:03:02,268] Trial 7 finished with value: -28.4502 and parameters: {'n_neighbors': 13, 'weights': 'distance', 'algorithm': 'ball_tree'}. Best is trial 7 with value: -28.4502.\n",
      "[I 2024-08-29 12:03:03,934] Trial 8 finished with value: -29.2108 and parameters: {'n_neighbors': 26, 'weights': 'distance', 'algorithm': 'kd_tree'}. Best is trial 7 with value: -28.4502.\n",
      "[I 2024-08-29 12:03:05,619] Trial 9 finished with value: -29.4035 and parameters: {'n_neighbors': 17, 'weights': 'uniform', 'algorithm': 'kd_tree'}. Best is trial 7 with value: -28.4502.\n",
      "[I 2024-08-29 12:03:05,726] Trial 10 finished with value: -29.2481 and parameters: {'n_neighbors': 16, 'weights': 'uniform', 'algorithm': 'auto'}. Best is trial 7 with value: -28.4502.\n",
      "[I 2024-08-29 12:03:05,828] Trial 11 finished with value: -28.5973 and parameters: {'n_neighbors': 14, 'weights': 'distance', 'algorithm': 'brute'}. Best is trial 7 with value: -28.4502.\n",
      "[I 2024-08-29 12:03:05,932] Trial 12 finished with value: -28.1698 and parameters: {'n_neighbors': 8, 'weights': 'distance', 'algorithm': 'auto'}. Best is trial 12 with value: -28.1698.\n",
      "[I 2024-08-29 12:03:06,034] Trial 13 finished with value: -28.1574 and parameters: {'n_neighbors': 9, 'weights': 'distance', 'algorithm': 'auto'}. Best is trial 13 with value: -28.1574.\n",
      "[I 2024-08-29 12:03:06,139] Trial 14 finished with value: -28.1698 and parameters: {'n_neighbors': 8, 'weights': 'distance', 'algorithm': 'auto'}. Best is trial 13 with value: -28.1574.\n",
      "[I 2024-08-29 12:03:06,245] Trial 15 finished with value: -29.8226 and parameters: {'n_neighbors': 49, 'weights': 'distance', 'algorithm': 'auto'}. Best is trial 13 with value: -28.1574.\n",
      "[I 2024-08-29 12:03:06,351] Trial 16 finished with value: -28.9069 and parameters: {'n_neighbors': 22, 'weights': 'distance', 'algorithm': 'auto'}. Best is trial 13 with value: -28.1574.\n",
      "[I 2024-08-29 12:03:06,457] Trial 17 finished with value: -28.1698 and parameters: {'n_neighbors': 8, 'weights': 'distance', 'algorithm': 'auto'}. Best is trial 13 with value: -28.1574.\n",
      "[I 2024-08-29 12:03:06,552] Trial 18 finished with value: -28.8082 and parameters: {'n_neighbors': 8, 'weights': 'uniform', 'algorithm': 'auto'}. Best is trial 13 with value: -28.1574.\n",
      "[I 2024-08-29 12:03:06,651] Trial 19 finished with value: -33.6414 and parameters: {'n_neighbors': 1, 'weights': 'distance', 'algorithm': 'auto'}. Best is trial 13 with value: -28.1574.\n",
      "[I 2024-08-29 12:03:06,753] Trial 20 finished with value: -29.3554 and parameters: {'n_neighbors': 31, 'weights': 'distance', 'algorithm': 'auto'}. Best is trial 13 with value: -28.1574.\n",
      "[I 2024-08-29 12:03:06,863] Trial 21 finished with value: -28.3893 and parameters: {'n_neighbors': 7, 'weights': 'distance', 'algorithm': 'auto'}. Best is trial 13 with value: -28.1574.\n",
      "[I 2024-08-29 12:03:06,968] Trial 22 finished with value: -28.2464 and parameters: {'n_neighbors': 11, 'weights': 'distance', 'algorithm': 'auto'}. Best is trial 13 with value: -28.1574.\n",
      "[I 2024-08-29 12:03:07,081] Trial 23 finished with value: -28.7596 and parameters: {'n_neighbors': 20, 'weights': 'distance', 'algorithm': 'auto'}. Best is trial 13 with value: -28.1574.\n",
      "[I 2024-08-29 12:03:07,191] Trial 24 finished with value: -28.1574 and parameters: {'n_neighbors': 9, 'weights': 'distance', 'algorithm': 'auto'}. Best is trial 13 with value: -28.1574.\n",
      "[I 2024-08-29 12:03:07,296] Trial 25 finished with value: -28.2464 and parameters: {'n_neighbors': 11, 'weights': 'distance', 'algorithm': 'auto'}. Best is trial 13 with value: -28.1574.\n",
      "[I 2024-08-29 12:03:07,405] Trial 26 finished with value: -29.6697 and parameters: {'n_neighbors': 21, 'weights': 'uniform', 'algorithm': 'auto'}. Best is trial 13 with value: -28.1574.\n",
      "[I 2024-08-29 12:03:07,514] Trial 27 finished with value: -28.4924 and parameters: {'n_neighbors': 4, 'weights': 'distance', 'algorithm': 'auto'}. Best is trial 13 with value: -28.1574.\n",
      "[I 2024-08-29 12:03:09,190] Trial 28 finished with value: -28.2498 and parameters: {'n_neighbors': 11, 'weights': 'distance', 'algorithm': 'kd_tree'}. Best is trial 13 with value: -28.1574.\n",
      "[I 2024-08-29 12:03:10,781] Trial 29 finished with value: -33.6315 and parameters: {'n_neighbors': 1, 'weights': 'uniform', 'algorithm': 'kd_tree'}. Best is trial 13 with value: -28.1574.\n",
      "[I 2024-08-29 12:03:10,895] Trial 30 finished with value: -29.2959 and parameters: {'n_neighbors': 28, 'weights': 'distance', 'algorithm': 'auto'}. Best is trial 13 with value: -28.1574.\n",
      "[I 2024-08-29 12:03:11,002] Trial 31 finished with value: -28.3893 and parameters: {'n_neighbors': 7, 'weights': 'distance', 'algorithm': 'auto'}. Best is trial 13 with value: -28.1574.\n",
      "[I 2024-08-29 12:03:11,107] Trial 32 finished with value: -28.5047 and parameters: {'n_neighbors': 5, 'weights': 'distance', 'algorithm': 'auto'}. Best is trial 13 with value: -28.1574.\n",
      "[I 2024-08-29 12:03:11,214] Trial 33 finished with value: -28.1217 and parameters: {'n_neighbors': 10, 'weights': 'distance', 'algorithm': 'auto'}. Best is trial 33 with value: -28.1217.\n",
      "[I 2024-08-29 12:03:12,499] Trial 34 finished with value: -28.7695 and parameters: {'n_neighbors': 19, 'weights': 'distance', 'algorithm': 'ball_tree'}. Best is trial 33 with value: -28.1217.\n",
      "[I 2024-08-29 12:03:12,601] Trial 35 finished with value: -28.4492 and parameters: {'n_neighbors': 13, 'weights': 'distance', 'algorithm': 'auto'}. Best is trial 33 with value: -28.1217.\n",
      "[I 2024-08-29 12:03:12,705] Trial 36 finished with value: -29.0008 and parameters: {'n_neighbors': 23, 'weights': 'distance', 'algorithm': 'brute'}. Best is trial 33 with value: -28.1217.\n",
      "[I 2024-08-29 12:03:12,817] Trial 37 finished with value: -29.3669 and parameters: {'n_neighbors': 33, 'weights': 'distance', 'algorithm': 'auto'}. Best is trial 33 with value: -28.1217.\n",
      "[I 2024-08-29 12:03:14,100] Trial 38 finished with value: -28.9988 and parameters: {'n_neighbors': 5, 'weights': 'uniform', 'algorithm': 'ball_tree'}. Best is trial 33 with value: -28.1217.\n",
      "[I 2024-08-29 12:03:14,213] Trial 39 finished with value: -28.2464 and parameters: {'n_neighbors': 11, 'weights': 'distance', 'algorithm': 'brute'}. Best is trial 33 with value: -28.1217.\n",
      "[I 2024-08-29 12:03:15,513] Trial 40 finished with value: -28.6248 and parameters: {'n_neighbors': 17, 'weights': 'distance', 'algorithm': 'ball_tree'}. Best is trial 33 with value: -28.1217.\n",
      "[I 2024-08-29 12:03:15,615] Trial 41 finished with value: -28.1574 and parameters: {'n_neighbors': 9, 'weights': 'distance', 'algorithm': 'auto'}. Best is trial 33 with value: -28.1217.\n",
      "[I 2024-08-29 12:03:15,729] Trial 42 finished with value: -28.5973 and parameters: {'n_neighbors': 14, 'weights': 'distance', 'algorithm': 'auto'}. Best is trial 33 with value: -28.1217.\n",
      "[I 2024-08-29 12:03:15,836] Trial 43 finished with value: -28.1217 and parameters: {'n_neighbors': 10, 'weights': 'distance', 'algorithm': 'auto'}. Best is trial 33 with value: -28.1217.\n",
      "[I 2024-08-29 12:03:15,942] Trial 44 finished with value: -29.0009 and parameters: {'n_neighbors': 3, 'weights': 'distance', 'algorithm': 'auto'}. Best is trial 33 with value: -28.1217.\n",
      "[I 2024-08-29 12:03:17,590] Trial 45 finished with value: -28.1035 and parameters: {'n_neighbors': 10, 'weights': 'distance', 'algorithm': 'kd_tree'}. Best is trial 45 with value: -28.1035.\n",
      "[I 2024-08-29 12:03:19,227] Trial 46 finished with value: -28.6246 and parameters: {'n_neighbors': 17, 'weights': 'distance', 'algorithm': 'kd_tree'}. Best is trial 45 with value: -28.1035.\n",
      "[I 2024-08-29 12:03:20,889] Trial 47 finished with value: -29.3081 and parameters: {'n_neighbors': 14, 'weights': 'uniform', 'algorithm': 'kd_tree'}. Best is trial 45 with value: -28.1035.\n",
      "[I 2024-08-29 12:03:22,547] Trial 48 finished with value: -28.1035 and parameters: {'n_neighbors': 10, 'weights': 'distance', 'algorithm': 'kd_tree'}. Best is trial 45 with value: -28.1035.\n",
      "[I 2024-08-29 12:03:24,171] Trial 49 finished with value: -28.5292 and parameters: {'n_neighbors': 6, 'weights': 'distance', 'algorithm': 'kd_tree'}. Best is trial 45 with value: -28.1035.\n",
      "[I 2024-08-29 12:03:25,832] Trial 50 finished with value: -28.5828 and parameters: {'n_neighbors': 15, 'weights': 'distance', 'algorithm': 'kd_tree'}. Best is trial 45 with value: -28.1035.\n",
      "[I 2024-08-29 12:03:27,533] Trial 51 finished with value: -28.1035 and parameters: {'n_neighbors': 10, 'weights': 'distance', 'algorithm': 'kd_tree'}. Best is trial 45 with value: -28.1035.\n",
      "[I 2024-08-29 12:03:29,185] Trial 52 finished with value: -28.3657 and parameters: {'n_neighbors': 12, 'weights': 'distance', 'algorithm': 'kd_tree'}. Best is trial 45 with value: -28.1035.\n",
      "[I 2024-08-29 12:03:30,853] Trial 53 finished with value: -28.1035 and parameters: {'n_neighbors': 10, 'weights': 'distance', 'algorithm': 'kd_tree'}. Best is trial 45 with value: -28.1035.\n",
      "[I 2024-08-29 12:03:32,504] Trial 54 finished with value: -29.7814 and parameters: {'n_neighbors': 48, 'weights': 'distance', 'algorithm': 'kd_tree'}. Best is trial 45 with value: -28.1035.\n",
      "[I 2024-08-29 12:03:34,172] Trial 55 finished with value: -28.1035 and parameters: {'n_neighbors': 10, 'weights': 'distance', 'algorithm': 'kd_tree'}. Best is trial 45 with value: -28.1035.\n",
      "[I 2024-08-29 12:03:35,839] Trial 56 finished with value: -28.99 and parameters: {'n_neighbors': 3, 'weights': 'distance', 'algorithm': 'kd_tree'}. Best is trial 45 with value: -28.1035.\n",
      "[I 2024-08-29 12:03:37,489] Trial 57 finished with value: -28.5202 and parameters: {'n_neighbors': 16, 'weights': 'distance', 'algorithm': 'kd_tree'}. Best is trial 45 with value: -28.1035.\n",
      "[I 2024-08-29 12:03:39,188] Trial 58 finished with value: -29.3573 and parameters: {'n_neighbors': 18, 'weights': 'uniform', 'algorithm': 'kd_tree'}. Best is trial 45 with value: -28.1035.\n",
      "[I 2024-08-29 12:03:40,852] Trial 59 finished with value: -28.4514 and parameters: {'n_neighbors': 13, 'weights': 'distance', 'algorithm': 'kd_tree'}. Best is trial 45 with value: -28.1035.\n",
      "[I 2024-08-29 12:03:42,510] Trial 60 finished with value: -29.1023 and parameters: {'n_neighbors': 24, 'weights': 'distance', 'algorithm': 'kd_tree'}. Best is trial 45 with value: -28.1035.\n",
      "[I 2024-08-29 12:03:44,176] Trial 61 finished with value: -28.1035 and parameters: {'n_neighbors': 10, 'weights': 'distance', 'algorithm': 'kd_tree'}. Best is trial 45 with value: -28.1035.\n",
      "[I 2024-08-29 12:03:45,840] Trial 62 finished with value: -28.1035 and parameters: {'n_neighbors': 10, 'weights': 'distance', 'algorithm': 'kd_tree'}. Best is trial 45 with value: -28.1035.\n",
      "[I 2024-08-29 12:03:47,500] Trial 63 finished with value: -28.5292 and parameters: {'n_neighbors': 6, 'weights': 'distance', 'algorithm': 'kd_tree'}. Best is trial 45 with value: -28.1035.\n",
      "[I 2024-08-29 12:03:49,189] Trial 64 finished with value: -28.3657 and parameters: {'n_neighbors': 12, 'weights': 'distance', 'algorithm': 'kd_tree'}. Best is trial 45 with value: -28.1035.\n",
      "[I 2024-08-29 12:03:50,831] Trial 65 finished with value: -28.3891 and parameters: {'n_neighbors': 7, 'weights': 'distance', 'algorithm': 'kd_tree'}. Best is trial 45 with value: -28.1035.\n",
      "[I 2024-08-29 12:03:52,477] Trial 66 finished with value: -28.5828 and parameters: {'n_neighbors': 15, 'weights': 'distance', 'algorithm': 'kd_tree'}. Best is trial 45 with value: -28.1035.\n",
      "[I 2024-08-29 12:03:54,167] Trial 67 finished with value: -28.1603 and parameters: {'n_neighbors': 9, 'weights': 'distance', 'algorithm': 'kd_tree'}. Best is trial 45 with value: -28.1035.\n",
      "[I 2024-08-29 12:03:55,740] Trial 68 finished with value: -33.6315 and parameters: {'n_neighbors': 1, 'weights': 'distance', 'algorithm': 'kd_tree'}. Best is trial 45 with value: -28.1035.\n",
      "[I 2024-08-29 12:03:57,424] Trial 69 finished with value: -29.2241 and parameters: {'n_neighbors': 3, 'weights': 'uniform', 'algorithm': 'kd_tree'}. Best is trial 45 with value: -28.1035.\n",
      "[I 2024-08-29 12:03:59,093] Trial 70 finished with value: -28.3657 and parameters: {'n_neighbors': 12, 'weights': 'distance', 'algorithm': 'kd_tree'}. Best is trial 45 with value: -28.1035.\n",
      "[I 2024-08-29 12:04:00,752] Trial 71 finished with value: -28.1035 and parameters: {'n_neighbors': 10, 'weights': 'distance', 'algorithm': 'kd_tree'}. Best is trial 45 with value: -28.1035.\n",
      "[I 2024-08-29 12:04:02,424] Trial 72 finished with value: -28.1603 and parameters: {'n_neighbors': 9, 'weights': 'distance', 'algorithm': 'kd_tree'}. Best is trial 45 with value: -28.1035.\n",
      "[I 2024-08-29 12:04:04,107] Trial 73 finished with value: -28.3891 and parameters: {'n_neighbors': 7, 'weights': 'distance', 'algorithm': 'kd_tree'}. Best is trial 45 with value: -28.1035.\n",
      "[I 2024-08-29 12:04:05,798] Trial 74 finished with value: -28.1035 and parameters: {'n_neighbors': 10, 'weights': 'distance', 'algorithm': 'kd_tree'}. Best is trial 45 with value: -28.1035.\n",
      "[I 2024-08-29 12:04:07,452] Trial 75 finished with value: -28.5032 and parameters: {'n_neighbors': 5, 'weights': 'distance', 'algorithm': 'kd_tree'}. Best is trial 45 with value: -28.1035.\n",
      "[I 2024-08-29 12:04:07,562] Trial 76 finished with value: -28.1698 and parameters: {'n_neighbors': 8, 'weights': 'distance', 'algorithm': 'brute'}. Best is trial 45 with value: -28.1035.\n",
      "[I 2024-08-29 12:04:09,234] Trial 77 finished with value: -28.4514 and parameters: {'n_neighbors': 13, 'weights': 'distance', 'algorithm': 'kd_tree'}. Best is trial 45 with value: -28.1035.\n",
      "[I 2024-08-29 12:04:10,909] Trial 78 finished with value: -28.2498 and parameters: {'n_neighbors': 11, 'weights': 'distance', 'algorithm': 'kd_tree'}. Best is trial 45 with value: -28.1035.\n",
      "[I 2024-08-29 12:04:12,564] Trial 79 finished with value: -29.3652 and parameters: {'n_neighbors': 35, 'weights': 'distance', 'algorithm': 'kd_tree'}. Best is trial 45 with value: -28.1035.\n",
      "[I 2024-08-29 12:04:13,962] Trial 80 finished with value: -28.5841 and parameters: {'n_neighbors': 15, 'weights': 'distance', 'algorithm': 'ball_tree'}. Best is trial 45 with value: -28.1035.\n",
      "[I 2024-08-29 12:04:15,649] Trial 81 finished with value: -28.1035 and parameters: {'n_neighbors': 10, 'weights': 'distance', 'algorithm': 'kd_tree'}. Best is trial 45 with value: -28.1035.\n",
      "[I 2024-08-29 12:04:17,301] Trial 82 finished with value: -28.1035 and parameters: {'n_neighbors': 10, 'weights': 'distance', 'algorithm': 'kd_tree'}. Best is trial 45 with value: -28.1035.\n",
      "[I 2024-08-29 12:04:18,971] Trial 83 finished with value: -28.5292 and parameters: {'n_neighbors': 6, 'weights': 'distance', 'algorithm': 'kd_tree'}. Best is trial 45 with value: -28.1035.\n",
      "[I 2024-08-29 12:04:20,651] Trial 84 finished with value: -28.1735 and parameters: {'n_neighbors': 8, 'weights': 'distance', 'algorithm': 'kd_tree'}. Best is trial 45 with value: -28.1035.\n",
      "[I 2024-08-29 12:04:22,362] Trial 85 finished with value: -28.1035 and parameters: {'n_neighbors': 10, 'weights': 'distance', 'algorithm': 'kd_tree'}. Best is trial 45 with value: -28.1035.\n",
      "[I 2024-08-29 12:04:24,093] Trial 86 finished with value: -28.4514 and parameters: {'n_neighbors': 13, 'weights': 'distance', 'algorithm': 'kd_tree'}. Best is trial 45 with value: -28.1035.\n",
      "[I 2024-08-29 12:04:24,200] Trial 87 finished with value: -30.1952 and parameters: {'n_neighbors': 28, 'weights': 'uniform', 'algorithm': 'brute'}. Best is trial 45 with value: -28.1035.\n",
      "[I 2024-08-29 12:04:25,882] Trial 88 finished with value: -28.5292 and parameters: {'n_neighbors': 4, 'weights': 'distance', 'algorithm': 'kd_tree'}. Best is trial 45 with value: -28.1035.\n",
      "[I 2024-08-29 12:04:27,554] Trial 89 finished with value: -28.1735 and parameters: {'n_neighbors': 8, 'weights': 'distance', 'algorithm': 'kd_tree'}. Best is trial 45 with value: -28.1035.\n",
      "[I 2024-08-29 12:04:29,230] Trial 90 finished with value: -28.3657 and parameters: {'n_neighbors': 12, 'weights': 'distance', 'algorithm': 'kd_tree'}. Best is trial 45 with value: -28.1035.\n",
      "[I 2024-08-29 12:04:30,911] Trial 91 finished with value: -28.1035 and parameters: {'n_neighbors': 10, 'weights': 'distance', 'algorithm': 'kd_tree'}. Best is trial 45 with value: -28.1035.\n",
      "[I 2024-08-29 12:04:32,574] Trial 92 finished with value: -28.5996 and parameters: {'n_neighbors': 14, 'weights': 'distance', 'algorithm': 'kd_tree'}. Best is trial 45 with value: -28.1035.\n",
      "[I 2024-08-29 12:04:34,232] Trial 93 finished with value: -28.1603 and parameters: {'n_neighbors': 9, 'weights': 'distance', 'algorithm': 'kd_tree'}. Best is trial 45 with value: -28.1035.\n",
      "[I 2024-08-29 12:04:35,920] Trial 94 finished with value: -28.2498 and parameters: {'n_neighbors': 11, 'weights': 'distance', 'algorithm': 'kd_tree'}. Best is trial 45 with value: -28.1035.\n",
      "[I 2024-08-29 12:04:37,600] Trial 95 finished with value: -28.5292 and parameters: {'n_neighbors': 6, 'weights': 'distance', 'algorithm': 'kd_tree'}. Best is trial 45 with value: -28.1035.\n",
      "[I 2024-08-29 12:04:38,910] Trial 96 finished with value: -28.2503 and parameters: {'n_neighbors': 11, 'weights': 'distance', 'algorithm': 'ball_tree'}. Best is trial 45 with value: -28.1035.\n",
      "[I 2024-08-29 12:04:40,585] Trial 97 finished with value: -28.3891 and parameters: {'n_neighbors': 7, 'weights': 'distance', 'algorithm': 'kd_tree'}. Best is trial 45 with value: -28.1035.\n",
      "[I 2024-08-29 12:04:42,257] Trial 98 finished with value: -29.6547 and parameters: {'n_neighbors': 44, 'weights': 'distance', 'algorithm': 'kd_tree'}. Best is trial 45 with value: -28.1035.\n",
      "[I 2024-08-29 12:04:43,947] Trial 99 finished with value: -28.6147 and parameters: {'n_neighbors': 18, 'weights': 'distance', 'algorithm': 'kd_tree'}. Best is trial 45 with value: -28.1035.\n"
     ]
    }
   ],
   "execution_count": 107
  },
  {
   "metadata": {
    "ExecuteTime": {
     "end_time": "2024-08-29T10:04:43.964758Z",
     "start_time": "2024-08-29T10:04:43.951091Z"
    }
   },
   "cell_type": "code",
   "source": "study.best_params",
   "id": "e0cef77c186204e6",
   "outputs": [
    {
     "data": {
      "text/plain": [
       "{'n_neighbors': 10, 'weights': 'distance', 'algorithm': 'kd_tree'}"
      ]
     },
     "execution_count": 108,
     "metadata": {},
     "output_type": "execute_result"
    }
   ],
   "execution_count": 108
  },
  {
   "metadata": {},
   "cell_type": "markdown",
   "source": "# XGB HP optimization",
   "id": "e8e3ba64e10c1c1d"
  },
  {
   "metadata": {
    "ExecuteTime": {
     "end_time": "2024-08-29T11:25:16.815316Z",
     "start_time": "2024-08-29T10:50:16.021845Z"
    }
   },
   "cell_type": "code",
   "source": [
    "def objective(trial):    \n",
    "    params = {\n",
    "        'n_estimators': trial.suggest_categorical('n_estimators', [50, 100, 200, 300, 400, 500]),\n",
    "        'max_depth': trial.suggest_int('max_depth', 3, 12),\n",
    "        'learning_rate': trial.suggest_float('learning_rate', 1e-3, 1.0, log=True),\n",
    "        'subsample': trial.suggest_float('subsample', 0.5, 1.0),\n",
    "        'colsample_bytree': trial.suggest_float('colsample_bytree', 0.5, 1.0),\n",
    "        'gamma': trial.suggest_float('gamma', 0.0, 1.0),\n",
    "        'reg_alpha': trial.suggest_float('reg_alpha', 0.0, 1.0),\n",
    "        'reg_lambda': trial.suggest_float('reg_lambda', 0.0, 1.0)\n",
    "    }\n",
    "    \n",
    "    # Create the model with the suggested hyperparameters\n",
    "    model = xgb.XGBRegressor(random_state=RANDOM_SEED, **params)\n",
    "    \n",
    "    # Evaluate the model using cross-validation\n",
    "    kfold = KFold(n_splits=5, shuffle=True, random_state=RANDOM_SEED)    \n",
    "    cv_res = cross_val_score(model, X_train, y_train, cv=kfold, scoring=rmse)\n",
    "    score = cv_res.mean() - cv_res.std()\n",
    "\n",
    "    # Return the negative of the score (since Optuna maximizes by default)\n",
    "    return round(score, 4)\n",
    "\n",
    "study = optuna.create_study(direction='maximize')\n",
    "study.optimize(objective, n_trials=100)"
   ],
   "id": "4710f84aae4cc7cc",
   "outputs": [
    {
     "name": "stderr",
     "output_type": "stream",
     "text": [
      "[I 2024-08-29 12:50:16,032] A new study created in memory with name: no-name-056110a0-9532-46c8-af6f-c431869d8b55\n",
      "[I 2024-08-29 12:50:32,166] Trial 0 finished with value: -25.4432 and parameters: {'n_estimators': 400, 'max_depth': 3, 'learning_rate': 0.21948453721330768, 'subsample': 0.8670296788452843, 'colsample_bytree': 0.5879216425662828, 'gamma': 0.37225957629971507, 'reg_alpha': 0.39813330442099426, 'reg_lambda': 0.30315093230614587}. Best is trial 0 with value: -25.4432.\n",
      "[I 2024-08-29 12:50:35,591] Trial 1 finished with value: -25.5282 and parameters: {'n_estimators': 50, 'max_depth': 9, 'learning_rate': 0.17308119036083866, 'subsample': 0.9497621451455628, 'colsample_bytree': 0.5115866603307209, 'gamma': 0.9634225927327689, 'reg_alpha': 0.23721759615018279, 'reg_lambda': 0.9793936629261314}. Best is trial 0 with value: -25.4432.\n",
      "[I 2024-08-29 12:50:57,916] Trial 2 finished with value: -24.796 and parameters: {'n_estimators': 400, 'max_depth': 6, 'learning_rate': 0.013908353533421871, 'subsample': 0.8921503076992967, 'colsample_bytree': 0.7378222922025018, 'gamma': 0.42815842628980694, 'reg_alpha': 0.5954534081890789, 'reg_lambda': 0.9386698821702741}. Best is trial 2 with value: -24.796.\n",
      "[I 2024-08-29 12:51:01,044] Trial 3 finished with value: -64.8546 and parameters: {'n_estimators': 50, 'max_depth': 12, 'learning_rate': 0.9580317221270029, 'subsample': 0.5169653791803851, 'colsample_bytree': 0.7415936391008957, 'gamma': 0.18440413816940437, 'reg_alpha': 0.5694682259939672, 'reg_lambda': 0.19973751664156592}. Best is trial 2 with value: -24.796.\n",
      "[I 2024-08-29 12:51:07,773] Trial 4 finished with value: -25.9775 and parameters: {'n_estimators': 200, 'max_depth': 5, 'learning_rate': 0.17694124163553424, 'subsample': 0.560810313954522, 'colsample_bytree': 0.9241988851358099, 'gamma': 0.46852424386234204, 'reg_alpha': 0.5684865016011938, 'reg_lambda': 0.898411974756465}. Best is trial 2 with value: -24.796.\n",
      "[I 2024-08-29 12:51:24,424] Trial 5 finished with value: -25.0617 and parameters: {'n_estimators': 400, 'max_depth': 8, 'learning_rate': 0.060206654995496225, 'subsample': 0.7678476650285595, 'colsample_bytree': 0.5765926554105043, 'gamma': 0.8706882938632993, 'reg_alpha': 0.7780797820578884, 'reg_lambda': 0.9499487022284449}. Best is trial 2 with value: -24.796.\n",
      "[I 2024-08-29 12:51:46,634] Trial 6 finished with value: -24.865 and parameters: {'n_estimators': 400, 'max_depth': 7, 'learning_rate': 0.03800778400793057, 'subsample': 0.5671186852794425, 'colsample_bytree': 0.8542777935397439, 'gamma': 0.013845553829447077, 'reg_alpha': 0.5503547222753796, 'reg_lambda': 0.20074663785113112}. Best is trial 2 with value: -24.796.\n",
      "[I 2024-08-29 12:52:41,824] Trial 7 finished with value: -24.7914 and parameters: {'n_estimators': 500, 'max_depth': 12, 'learning_rate': 0.010275826236529262, 'subsample': 0.7337221555100293, 'colsample_bytree': 0.7048962622747801, 'gamma': 0.8667157815391218, 'reg_alpha': 0.17688743101337034, 'reg_lambda': 0.9755581871673991}. Best is trial 7 with value: -24.7914.\n",
      "[I 2024-08-29 12:53:16,623] Trial 8 finished with value: -25.0139 and parameters: {'n_estimators': 400, 'max_depth': 8, 'learning_rate': 0.013636458134442237, 'subsample': 0.919455462140905, 'colsample_bytree': 0.784733924100811, 'gamma': 0.7552737786658569, 'reg_alpha': 0.5337196175427887, 'reg_lambda': 0.5023439693767021}. Best is trial 7 with value: -24.7914.\n",
      "[I 2024-08-29 12:53:20,049] Trial 9 finished with value: -35.6904 and parameters: {'n_estimators': 100, 'max_depth': 12, 'learning_rate': 0.9189698578481227, 'subsample': 0.8503821276252751, 'colsample_bytree': 0.7057708945807447, 'gamma': 0.37159751627906334, 'reg_alpha': 0.22168525000549022, 'reg_lambda': 0.21475477838952395}. Best is trial 7 with value: -24.7914.\n",
      "[I 2024-08-29 12:54:13,116] Trial 10 finished with value: -29.8561 and parameters: {'n_estimators': 500, 'max_depth': 10, 'learning_rate': 0.0011374889012890927, 'subsample': 0.6724499152263048, 'colsample_bytree': 0.9988944808736577, 'gamma': 0.6702065111292179, 'reg_alpha': 0.0013521720855476094, 'reg_lambda': 0.6864453168802735}. Best is trial 7 with value: -24.7914.\n",
      "[I 2024-08-29 12:54:31,656] Trial 11 finished with value: -26.2146 and parameters: {'n_estimators': 300, 'max_depth': 6, 'learning_rate': 0.005383076880631409, 'subsample': 0.7271100322857287, 'colsample_bytree': 0.6498890624218218, 'gamma': 0.6125053870103102, 'reg_alpha': 0.9537337218932805, 'reg_lambda': 0.7423340432240955}. Best is trial 7 with value: -24.7914.\n",
      "[I 2024-08-29 12:54:47,287] Trial 12 finished with value: -25.9945 and parameters: {'n_estimators': 500, 'max_depth': 4, 'learning_rate': 0.004652546907426701, 'subsample': 0.7868041745933974, 'colsample_bytree': 0.8131223856567527, 'gamma': 0.5006028281298435, 'reg_alpha': 0.7748369801232898, 'reg_lambda': 0.733207670858928}. Best is trial 7 with value: -24.7914.\n",
      "[I 2024-08-29 12:55:50,584] Trial 13 finished with value: -25.3254 and parameters: {'n_estimators': 500, 'max_depth': 10, 'learning_rate': 0.010563879486540764, 'subsample': 0.9978038534215704, 'colsample_bytree': 0.6885700527643391, 'gamma': 0.24209166110350921, 'reg_alpha': 0.3435058079038602, 'reg_lambda': 0.5393676212383123}. Best is trial 7 with value: -24.7914.\n",
      "[I 2024-08-29 12:55:58,804] Trial 14 finished with value: -35.2578 and parameters: {'n_estimators': 100, 'max_depth': 6, 'learning_rate': 0.001165960332685504, 'subsample': 0.6647350183933401, 'colsample_bytree': 0.6388274038029249, 'gamma': 0.7903114235201278, 'reg_alpha': 0.10834217948131346, 'reg_lambda': 0.010049476582399963}. Best is trial 7 with value: -24.7914.\n",
      "[I 2024-08-29 12:57:22,425] Trial 15 finished with value: -25.2728 and parameters: {'n_estimators': 500, 'max_depth': 11, 'learning_rate': 0.004740933886522422, 'subsample': 0.8314143099310644, 'colsample_bytree': 0.8792028330331105, 'gamma': 0.9899529043832263, 'reg_alpha': 0.7234683005758913, 'reg_lambda': 0.8338850769875227}. Best is trial 7 with value: -24.7914.\n",
      "[I 2024-08-29 12:57:44,135] Trial 16 finished with value: -24.8001 and parameters: {'n_estimators': 300, 'max_depth': 6, 'learning_rate': 0.023916615671464633, 'subsample': 0.6900483675637367, 'colsample_bytree': 0.7587275924182927, 'gamma': 0.5625603844672065, 'reg_alpha': 0.38981318541054216, 'reg_lambda': 0.6177214530593629}. Best is trial 7 with value: -24.7914.\n",
      "[I 2024-08-29 12:57:53,464] Trial 17 finished with value: -31.3782 and parameters: {'n_estimators': 200, 'max_depth': 4, 'learning_rate': 0.0027250760144099124, 'subsample': 0.6304166733989445, 'colsample_bytree': 0.6992035151194201, 'gamma': 0.263342272158681, 'reg_alpha': 0.6831886028371019, 'reg_lambda': 0.8221275771189153}. Best is trial 7 with value: -24.7914.\n",
      "[I 2024-08-29 12:58:16,142] Trial 18 finished with value: -25.0706 and parameters: {'n_estimators': 400, 'max_depth': 9, 'learning_rate': 0.0732385565618952, 'subsample': 0.8979262886530623, 'colsample_bytree': 0.8149003493520905, 'gamma': 0.7123104831218435, 'reg_alpha': 0.879037595774559, 'reg_lambda': 0.9926150939114506}. Best is trial 7 with value: -24.7914.\n",
      "[I 2024-08-29 12:58:42,268] Trial 19 finished with value: -24.6643 and parameters: {'n_estimators': 500, 'max_depth': 7, 'learning_rate': 0.018803530286773645, 'subsample': 0.8214001237099026, 'colsample_bytree': 0.6262154862534121, 'gamma': 0.8708101731989468, 'reg_alpha': 0.21205373600432953, 'reg_lambda': 0.40758043584525816}. Best is trial 19 with value: -24.6643.\n",
      "[I 2024-08-29 12:59:04,543] Trial 20 finished with value: -24.5927 and parameters: {'n_estimators': 500, 'max_depth': 7, 'learning_rate': 0.02667011401252161, 'subsample': 0.8002213411894037, 'colsample_bytree': 0.5166718900210335, 'gamma': 0.871219528535775, 'reg_alpha': 0.16295443353291472, 'reg_lambda': 0.3719943474503073}. Best is trial 20 with value: -24.5927.\n",
      "[I 2024-08-29 12:59:27,974] Trial 21 finished with value: -24.7111 and parameters: {'n_estimators': 500, 'max_depth': 7, 'learning_rate': 0.02352345969063246, 'subsample': 0.8064192453227403, 'colsample_bytree': 0.5000897256563218, 'gamma': 0.869743998780023, 'reg_alpha': 0.1455379979085365, 'reg_lambda': 0.38412555648312974}. Best is trial 20 with value: -24.5927.\n",
      "[I 2024-08-29 12:59:51,529] Trial 22 finished with value: -24.5903 and parameters: {'n_estimators': 500, 'max_depth': 7, 'learning_rate': 0.029549493704838566, 'subsample': 0.7838310921531101, 'colsample_bytree': 0.525969252565141, 'gamma': 0.8650317737855242, 'reg_alpha': 0.008742481216857972, 'reg_lambda': 0.3441326166549262}. Best is trial 22 with value: -24.5903.\n",
      "[I 2024-08-29 13:00:10,588] Trial 23 finished with value: -25.1655 and parameters: {'n_estimators': 500, 'max_depth': 7, 'learning_rate': 0.0783722922355502, 'subsample': 0.818976032428094, 'colsample_bytree': 0.554367552135647, 'gamma': 0.8097632182005237, 'reg_alpha': 0.00828208724233403, 'reg_lambda': 0.3980422342795787}. Best is trial 22 with value: -24.5903.\n",
      "[I 2024-08-29 13:00:34,274] Trial 24 finished with value: -24.9352 and parameters: {'n_estimators': 500, 'max_depth': 8, 'learning_rate': 0.037903028654211995, 'subsample': 0.7518778674406797, 'colsample_bytree': 0.5431006848116401, 'gamma': 0.9265970248430629, 'reg_alpha': 0.057239863271150715, 'reg_lambda': 0.4028665336916041}. Best is trial 22 with value: -24.5903.\n",
      "[I 2024-08-29 13:00:52,836] Trial 25 finished with value: -24.5931 and parameters: {'n_estimators': 500, 'max_depth': 5, 'learning_rate': 0.020254168379891812, 'subsample': 0.7841867661038344, 'colsample_bytree': 0.6162215542639247, 'gamma': 0.6819872033692463, 'reg_alpha': 0.30121821719133857, 'reg_lambda': 0.2984093421092242}. Best is trial 22 with value: -24.5903.\n",
      "[I 2024-08-29 13:01:08,367] Trial 26 finished with value: -25.0737 and parameters: {'n_estimators': 500, 'max_depth': 5, 'learning_rate': 0.048292304405227755, 'subsample': 0.7129118939333777, 'colsample_bytree': 0.6037101500248538, 'gamma': 0.6637489760686768, 'reg_alpha': 0.29477872432410573, 'reg_lambda': 0.10394240543778965}. Best is trial 22 with value: -24.5903.\n",
      "[I 2024-08-29 13:01:21,642] Trial 27 finished with value: -25.2231 and parameters: {'n_estimators': 500, 'max_depth': 5, 'learning_rate': 0.12142660578956255, 'subsample': 0.7752286786421975, 'colsample_bytree': 0.5367207376221044, 'gamma': 0.7366383308668639, 'reg_alpha': 0.0958261484512136, 'reg_lambda': 0.30651487934829497}. Best is trial 22 with value: -24.5903.\n",
      "[I 2024-08-29 13:01:27,760] Trial 28 finished with value: -29.516 and parameters: {'n_estimators': 300, 'max_depth': 3, 'learning_rate': 0.44646250642807894, 'subsample': 0.6400258869774298, 'colsample_bytree': 0.5695435589606532, 'gamma': 0.577042208611567, 'reg_alpha': 0.2878774902573637, 'reg_lambda': 0.306020385525953}. Best is trial 22 with value: -24.5903.\n",
      "[I 2024-08-29 13:01:31,404] Trial 29 finished with value: -30.4217 and parameters: {'n_estimators': 100, 'max_depth': 4, 'learning_rate': 0.0067780017948337575, 'subsample': 0.8594522890606442, 'colsample_bytree': 0.5984513142905528, 'gamma': 0.8146873814222656, 'reg_alpha': 0.46458301036486516, 'reg_lambda': 0.26424281912720626}. Best is trial 22 with value: -24.5903.\n",
      "[I 2024-08-29 13:01:36,154] Trial 30 finished with value: -24.8711 and parameters: {'n_estimators': 200, 'max_depth': 3, 'learning_rate': 0.09261223153389336, 'subsample': 0.7830085264777135, 'colsample_bytree': 0.5260836202482301, 'gamma': 0.9238596733030319, 'reg_alpha': 0.428748698138064, 'reg_lambda': 0.11255482094183758}. Best is trial 22 with value: -24.5903.\n",
      "[I 2024-08-29 13:01:58,994] Trial 31 finished with value: -24.6376 and parameters: {'n_estimators': 500, 'max_depth': 7, 'learning_rate': 0.02112855075784923, 'subsample': 0.829775775707675, 'colsample_bytree': 0.6326065618428697, 'gamma': 0.8565464395127784, 'reg_alpha': 0.19346523050123596, 'reg_lambda': 0.4245732173146508}. Best is trial 22 with value: -24.5903.\n",
      "[I 2024-08-29 13:02:03,600] Trial 32 finished with value: -26.2983 and parameters: {'n_estimators': 50, 'max_depth': 9, 'learning_rate': 0.027793227869003605, 'subsample': 0.8763536928872167, 'colsample_bytree': 0.6627243944300323, 'gamma': 0.9870860094941963, 'reg_alpha': 0.16453949443383734, 'reg_lambda': 0.4539977555918231}. Best is trial 22 with value: -24.5903.\n",
      "[I 2024-08-29 13:02:34,106] Trial 33 finished with value: -24.8942 and parameters: {'n_estimators': 500, 'max_depth': 8, 'learning_rate': 0.017947406695315176, 'subsample': 0.8420354768712177, 'colsample_bytree': 0.6127049331818433, 'gamma': 0.6753518268304152, 'reg_alpha': 0.303497052485342, 'reg_lambda': 0.5603209344862086}. Best is trial 22 with value: -24.5903.\n",
      "[I 2024-08-29 13:02:53,974] Trial 34 finished with value: -24.766 and parameters: {'n_estimators': 500, 'max_depth': 6, 'learning_rate': 0.0373865362259731, 'subsample': 0.92381422334551, 'colsample_bytree': 0.5101919145497735, 'gamma': 0.7808592733726646, 'reg_alpha': 0.06829950129399297, 'reg_lambda': 0.33790616042676325}. Best is trial 22 with value: -24.5903.\n",
      "[I 2024-08-29 13:03:13,265] Trial 35 finished with value: -24.7929 and parameters: {'n_estimators': 500, 'max_depth': 5, 'learning_rate': 0.008445563702941297, 'subsample': 0.7966144619825137, 'colsample_bytree': 0.5542138743567223, 'gamma': 0.9386426723513193, 'reg_alpha': 0.24681105583529273, 'reg_lambda': 0.46135969248512315}. Best is trial 22 with value: -24.5903.\n",
      "[I 2024-08-29 13:03:18,088] Trial 36 finished with value: -28.6232 and parameters: {'n_estimators': 50, 'max_depth': 9, 'learning_rate': 0.015250821295549107, 'subsample': 0.7517027395400343, 'colsample_bytree': 0.5948658103152822, 'gamma': 0.8382067855639582, 'reg_alpha': 0.3527786486950145, 'reg_lambda': 0.24200935128938594}. Best is trial 22 with value: -24.5903.\n",
      "[I 2024-08-29 13:03:49,808] Trial 37 finished with value: -26.4708 and parameters: {'n_estimators': 500, 'max_depth': 7, 'learning_rate': 0.002823852419990341, 'subsample': 0.8787968875016914, 'colsample_bytree': 0.6605219471681142, 'gamma': 0.7131855866317187, 'reg_alpha': 0.1112382573669072, 'reg_lambda': 0.33832504068832037}. Best is trial 22 with value: -24.5903.\n",
      "[I 2024-08-29 13:03:56,481] Trial 38 finished with value: -26.4434 and parameters: {'n_estimators': 200, 'max_depth': 6, 'learning_rate': 0.25309263500170376, 'subsample': 0.704262830644548, 'colsample_bytree': 0.575486890325108, 'gamma': 0.9069032922741068, 'reg_alpha': 0.03947123390797226, 'reg_lambda': 0.461306786233203}. Best is trial 22 with value: -24.5903.\n",
      "[I 2024-08-29 13:03:58,411] Trial 39 finished with value: -25.5374 and parameters: {'n_estimators': 50, 'max_depth': 5, 'learning_rate': 0.052101212628765256, 'subsample': 0.7614938262917247, 'colsample_bytree': 0.5275793861415816, 'gamma': 0.6392686625775656, 'reg_alpha': 0.18718174390103115, 'reg_lambda': 0.14281975169723116}. Best is trial 22 with value: -24.5903.\n",
      "[I 2024-08-29 13:04:32,164] Trial 40 finished with value: -25.0299 and parameters: {'n_estimators': 500, 'max_depth': 8, 'learning_rate': 0.011694933106728188, 'subsample': 0.9465665583321767, 'colsample_bytree': 0.5683354945986673, 'gamma': 0.750167873346736, 'reg_alpha': 0.12439250162374155, 'reg_lambda': 0.5964338909441327}. Best is trial 22 with value: -24.5903.\n",
      "[I 2024-08-29 13:04:53,404] Trial 41 finished with value: -24.6294 and parameters: {'n_estimators': 500, 'max_depth': 7, 'learning_rate': 0.019068115445970757, 'subsample': 0.8302284261560081, 'colsample_bytree': 0.6343551657645544, 'gamma': 0.8773261216742415, 'reg_alpha': 0.21977080510903518, 'reg_lambda': 0.36373666289089074}. Best is trial 22 with value: -24.5903.\n",
      "[I 2024-08-29 13:05:17,872] Trial 42 finished with value: -24.5082 and parameters: {'n_estimators': 500, 'max_depth': 7, 'learning_rate': 0.03009296959769392, 'subsample': 0.8097241149092725, 'colsample_bytree': 0.6696687175682526, 'gamma': 0.8402157425699277, 'reg_alpha': 0.26489296857909234, 'reg_lambda': 0.35085412588178566}. Best is trial 42 with value: -24.5082.\n",
      "[I 2024-08-29 13:05:41,563] Trial 43 finished with value: -24.9677 and parameters: {'n_estimators': 500, 'max_depth': 7, 'learning_rate': 0.037279644198592796, 'subsample': 0.7342033267818497, 'colsample_bytree': 0.7309294427256238, 'gamma': 0.9010221616847873, 'reg_alpha': 0.2601689515706421, 'reg_lambda': 0.3525873977959494}. Best is trial 42 with value: -24.5082.\n",
      "[I 2024-08-29 13:06:04,830] Trial 44 finished with value: -24.5667 and parameters: {'n_estimators': 500, 'max_depth': 8, 'learning_rate': 0.05379331317312748, 'subsample': 0.8005739500816285, 'colsample_bytree': 0.6144565754892417, 'gamma': 0.9689126232351186, 'reg_alpha': 0.35059935596893277, 'reg_lambda': 0.2833415302384893}. Best is trial 42 with value: -24.5082.\n",
      "[I 2024-08-29 13:06:17,629] Trial 45 finished with value: -25.4855 and parameters: {'n_estimators': 400, 'max_depth': 9, 'learning_rate': 0.12992214459332999, 'subsample': 0.7974151498828447, 'colsample_bytree': 0.6760194348732148, 'gamma': 0.9996901100962853, 'reg_alpha': 0.5023216900642812, 'reg_lambda': 0.2654445343512266}. Best is trial 42 with value: -24.5082.\n",
      "[I 2024-08-29 13:06:24,137] Trial 46 finished with value: -24.9161 and parameters: {'n_estimators': 100, 'max_depth': 8, 'learning_rate': 0.05617734782402906, 'subsample': 0.8548859720260701, 'colsample_bytree': 0.5775280739199037, 'gamma': 0.7920324541840645, 'reg_alpha': 0.36824301415226113, 'reg_lambda': 0.1897672417936027}. Best is trial 42 with value: -24.5082.\n",
      "[I 2024-08-29 13:06:57,537] Trial 47 finished with value: -25.0755 and parameters: {'n_estimators': 500, 'max_depth': 10, 'learning_rate': 0.033181889727022046, 'subsample': 0.7726627562632915, 'colsample_bytree': 0.7300029408665889, 'gamma': 0.039569904043813, 'reg_alpha': 0.4216298149651442, 'reg_lambda': 0.1562631986796278}. Best is trial 42 with value: -24.5082.\n",
      "[I 2024-08-29 13:07:09,219] Trial 48 finished with value: -25.1783 and parameters: {'n_estimators': 300, 'max_depth': 6, 'learning_rate': 0.10709659070271906, 'subsample': 0.7321410632950102, 'colsample_bytree': 0.5252786512144018, 'gamma': 0.9475536740045457, 'reg_alpha': 0.32203574425959486, 'reg_lambda': 0.285889740028017}. Best is trial 42 with value: -24.5082.\n",
      "[I 2024-08-29 13:07:25,539] Trial 49 finished with value: -25.7504 and parameters: {'n_estimators': 500, 'max_depth': 8, 'learning_rate': 0.20920701060978722, 'subsample': 0.8068507865823913, 'colsample_bytree': 0.6139620528861542, 'gamma': 0.3745630130361842, 'reg_alpha': 0.2588336554861, 'reg_lambda': 0.2217757122094305}. Best is trial 42 with value: -24.5082.\n",
      "[I 2024-08-29 13:07:44,236] Trial 50 finished with value: -24.9014 and parameters: {'n_estimators': 500, 'max_depth': 6, 'learning_rate': 0.027882309556382472, 'subsample': 0.9102065114968275, 'colsample_bytree': 0.9831408544005893, 'gamma': 0.83514556722137, 'reg_alpha': 0.14713429944182219, 'reg_lambda': 0.5152855168315966}. Best is trial 42 with value: -24.5082.\n",
      "[I 2024-08-29 13:08:05,698] Trial 51 finished with value: -24.8296 and parameters: {'n_estimators': 500, 'max_depth': 7, 'learning_rate': 0.013480061425838701, 'subsample': 0.8382651785710685, 'colsample_bytree': 0.6863322169029733, 'gamma': 0.9023493575314332, 'reg_alpha': 0.22763795789577526, 'reg_lambda': 0.35902079645562107}. Best is trial 42 with value: -24.5082.\n",
      "[I 2024-08-29 13:08:31,405] Trial 52 finished with value: -24.6956 and parameters: {'n_estimators': 500, 'max_depth': 8, 'learning_rate': 0.008673861595179756, 'subsample': 0.8162321152069081, 'colsample_bytree': 0.6507955924966358, 'gamma': 0.9598313817961784, 'reg_alpha': 0.3297502998620084, 'reg_lambda': 0.32139565793961566}. Best is trial 42 with value: -24.5082.\n",
      "[I 2024-08-29 13:08:50,267] Trial 53 finished with value: -24.5365 and parameters: {'n_estimators': 500, 'max_depth': 7, 'learning_rate': 0.045747518439225525, 'subsample': 0.7892458041959887, 'colsample_bytree': 0.6270611636872598, 'gamma': 0.8677846284959877, 'reg_alpha': 0.3977904983668584, 'reg_lambda': 0.37128233246047687}. Best is trial 42 with value: -24.5082.\n",
      "[I 2024-08-29 13:09:15,480] Trial 54 finished with value: -24.7981 and parameters: {'n_estimators': 500, 'max_depth': 8, 'learning_rate': 0.06873434378204571, 'subsample': 0.5013222597136178, 'colsample_bytree': 0.7168660061258998, 'gamma': 0.7698197811740433, 'reg_alpha': 0.46247904785718724, 'reg_lambda': 0.44971499207758775}. Best is trial 42 with value: -24.5082.\n",
      "[I 2024-08-29 13:09:36,085] Trial 55 finished with value: -25.2253 and parameters: {'n_estimators': 400, 'max_depth': 7, 'learning_rate': 0.050733005717182554, 'subsample': 0.7840284135778237, 'colsample_bytree': 0.7573662170878084, 'gamma': 0.5154713601131756, 'reg_alpha': 0.6168278617421107, 'reg_lambda': 0.2747007942279174}. Best is trial 42 with value: -24.5082.\n",
      "[I 2024-08-29 13:09:48,370] Trial 56 finished with value: -24.7437 and parameters: {'n_estimators': 500, 'max_depth': 4, 'learning_rate': 0.027209658054143472, 'subsample': 0.7541048158122543, 'colsample_bytree': 0.55196333335974, 'gamma': 0.7083064067053244, 'reg_alpha': 0.3890807435024437, 'reg_lambda': 0.4970927468917107}. Best is trial 42 with value: -24.5082.\n",
      "[I 2024-08-29 13:10:09,597] Trial 57 finished with value: -24.6212 and parameters: {'n_estimators': 500, 'max_depth': 6, 'learning_rate': 0.015933465193770698, 'subsample': 0.7185152500723186, 'colsample_bytree': 0.6203923678352653, 'gamma': 0.9654788476278262, 'reg_alpha': 0.2754212495898372, 'reg_lambda': 0.040037971851279885}. Best is trial 42 with value: -24.5082.\n",
      "[I 2024-08-29 13:10:28,314] Trial 58 finished with value: -24.7187 and parameters: {'n_estimators': 200, 'max_depth': 10, 'learning_rate': 0.04781961773118453, 'subsample': 0.6866713750901149, 'colsample_bytree': 0.5828936876250107, 'gamma': 0.8317866318940305, 'reg_alpha': 0.4186636537591703, 'reg_lambda': 0.1985865796112956}. Best is trial 42 with value: -24.5082.\n",
      "[I 2024-08-29 13:10:36,906] Trial 59 finished with value: -25.4354 and parameters: {'n_estimators': 100, 'max_depth': 9, 'learning_rate': 0.08996245014039299, 'subsample': 0.5533463608858051, 'colsample_bytree': 0.5045549436519197, 'gamma': 0.8886594090720308, 'reg_alpha': 0.46946923211206104, 'reg_lambda': 0.24041586409836224}. Best is trial 42 with value: -24.5082.\n",
      "[I 2024-08-29 13:10:53,041] Trial 60 finished with value: -24.901 and parameters: {'n_estimators': 300, 'max_depth': 6, 'learning_rate': 0.03028289670219114, 'subsample': 0.7954094130797831, 'colsample_bytree': 0.6802050741751068, 'gamma': 0.6023428211223779, 'reg_alpha': 0.5339511373283405, 'reg_lambda': 0.3849973364670901}. Best is trial 42 with value: -24.5082.\n",
      "[I 2024-08-29 13:11:19,066] Trial 61 finished with value: -24.6324 and parameters: {'n_estimators': 500, 'max_depth': 6, 'learning_rate': 0.015161382811887558, 'subsample': 0.7210942003709945, 'colsample_bytree': 0.6177012809736481, 'gamma': 0.9616435280696671, 'reg_alpha': 0.2798950529706428, 'reg_lambda': 0.008893176863610769}. Best is trial 42 with value: -24.5082.\n",
      "[I 2024-08-29 13:11:38,869] Trial 62 finished with value: -24.7226 and parameters: {'n_estimators': 500, 'max_depth': 5, 'learning_rate': 0.022429243302576656, 'subsample': 0.7684381355580603, 'colsample_bytree': 0.6414371404575103, 'gamma': 0.9309592232441851, 'reg_alpha': 0.36388768083903394, 'reg_lambda': 0.4234867562077577}. Best is trial 42 with value: -24.5082.\n",
      "[I 2024-08-29 13:12:05,344] Trial 63 finished with value: -25.0338 and parameters: {'n_estimators': 500, 'max_depth': 7, 'learning_rate': 0.03940670249170402, 'subsample': 0.7463814705836396, 'colsample_bytree': 0.5933420922004041, 'gamma': 0.9653708476925382, 'reg_alpha': 0.3177253307276422, 'reg_lambda': 0.09615503593413974}. Best is trial 42 with value: -24.5082.\n",
      "[I 2024-08-29 13:12:31,992] Trial 64 finished with value: -24.8352 and parameters: {'n_estimators': 500, 'max_depth': 6, 'learning_rate': 0.017528996489166504, 'subsample': 0.6621878481327328, 'colsample_bytree': 0.6612065593827137, 'gamma': 0.8505022003829772, 'reg_alpha': 0.3939165907361697, 'reg_lambda': 0.31316111808375047}. Best is trial 42 with value: -24.5082.\n",
      "[I 2024-08-29 13:12:51,429] Trial 65 finished with value: -24.8508 and parameters: {'n_estimators': 500, 'max_depth': 5, 'learning_rate': 0.0642899919313246, 'subsample': 0.8057857381315044, 'colsample_bytree': 0.5633725929879467, 'gamma': 0.8214493727352218, 'reg_alpha': 0.2640793248658225, 'reg_lambda': 0.16416917474193102}. Best is trial 42 with value: -24.5082.\n",
      "[I 2024-08-29 13:13:17,157] Trial 66 finished with value: -24.6052 and parameters: {'n_estimators': 500, 'max_depth': 7, 'learning_rate': 0.043185861590882973, 'subsample': 0.7817132512661203, 'colsample_bytree': 0.6176032789454207, 'gamma': 0.9982784788885632, 'reg_alpha': 0.19331970015946354, 'reg_lambda': 0.046326399745403785}. Best is trial 42 with value: -24.5082.\n",
      "[I 2024-08-29 13:13:42,259] Trial 67 finished with value: -25.0222 and parameters: {'n_estimators': 500, 'max_depth': 8, 'learning_rate': 0.044174870029088625, 'subsample': 0.8684216221227133, 'colsample_bytree': 0.7925608141300307, 'gamma': 0.8769878767059704, 'reg_alpha': 0.08163791379563057, 'reg_lambda': 0.3742853864969254}. Best is trial 42 with value: -24.5082.\n",
      "[I 2024-08-29 13:13:44,923] Trial 68 finished with value: -26.9241 and parameters: {'n_estimators': 50, 'max_depth': 7, 'learning_rate': 0.023032032626786596, 'subsample': 0.7822593565914854, 'colsample_bytree': 0.6090496907690596, 'gamma': 0.9967434069888544, 'reg_alpha': 0.030107836547235665, 'reg_lambda': 0.0706569630129445}. Best is trial 42 with value: -24.5082.\n",
      "[I 2024-08-29 13:14:06,958] Trial 69 finished with value: -24.5981 and parameters: {'n_estimators': 500, 'max_depth': 7, 'learning_rate': 0.03317650255526258, 'subsample': 0.8156905815926226, 'colsample_bytree': 0.7071683624698877, 'gamma': 0.794105044697536, 'reg_alpha': 0.16791268246103852, 'reg_lambda': 0.2395960764930398}. Best is trial 42 with value: -24.5082.\n",
      "[I 2024-08-29 13:14:28,758] Trial 70 finished with value: -24.8891 and parameters: {'n_estimators': 400, 'max_depth': 8, 'learning_rate': 0.0297464821848671, 'subsample': 0.8104525629010015, 'colsample_bytree': 0.7064913762620797, 'gamma': 0.7963831918798002, 'reg_alpha': 0.15717885920661281, 'reg_lambda': 0.29304523126686755}. Best is trial 42 with value: -24.5082.\n",
      "[I 2024-08-29 13:14:49,078] Trial 71 finished with value: -24.9428 and parameters: {'n_estimators': 500, 'max_depth': 7, 'learning_rate': 0.06213914455261379, 'subsample': 0.85102026583921, 'colsample_bytree': 0.6722588949491431, 'gamma': 0.7384134101980765, 'reg_alpha': 0.20749636017428094, 'reg_lambda': 0.2480238967215295}. Best is trial 42 with value: -24.5082.\n",
      "[I 2024-08-29 13:15:11,984] Trial 72 finished with value: -24.9273 and parameters: {'n_estimators': 500, 'max_depth': 7, 'learning_rate': 0.04292511634665082, 'subsample': 0.8196028315127365, 'colsample_bytree': 0.6512985062184388, 'gamma': 0.9171984554371609, 'reg_alpha': 0.12802897023085102, 'reg_lambda': 0.33353429604214696}. Best is trial 42 with value: -24.5082.\n",
      "[I 2024-08-29 13:15:32,583] Trial 73 finished with value: -25.0571 and parameters: {'n_estimators': 500, 'max_depth': 7, 'learning_rate': 0.07522306649906944, 'subsample': 0.7924109358000191, 'colsample_bytree': 0.6972605177275929, 'gamma': 0.8675040432834559, 'reg_alpha': 0.20925295926337412, 'reg_lambda': 0.4239107385842388}. Best is trial 42 with value: -24.5082.\n",
      "[I 2024-08-29 13:15:59,620] Trial 74 finished with value: -24.8387 and parameters: {'n_estimators': 500, 'max_depth': 8, 'learning_rate': 0.024897111023408493, 'subsample': 0.7434064108383666, 'colsample_bytree': 0.5371844630865523, 'gamma': 0.762683963490551, 'reg_alpha': 0.17023250658276365, 'reg_lambda': 0.48227918139071024}. Best is trial 42 with value: -24.5082.\n",
      "[I 2024-08-29 13:16:26,714] Trial 75 finished with value: -24.7329 and parameters: {'n_estimators': 500, 'max_depth': 9, 'learning_rate': 0.03425674070252107, 'subsample': 0.7649305086838178, 'colsample_bytree': 0.5192692848786166, 'gamma': 0.798817668527522, 'reg_alpha': 0.23341204249338654, 'reg_lambda': 0.21069790473785796}. Best is trial 42 with value: -24.5082.\n",
      "[I 2024-08-29 13:16:38,713] Trial 76 finished with value: -25.3578 and parameters: {'n_estimators': 200, 'max_depth': 7, 'learning_rate': 0.011232073294242266, 'subsample': 0.8361006790233875, 'colsample_bytree': 0.5920102181842158, 'gamma': 0.702668914663898, 'reg_alpha': 0.30426705335935234, 'reg_lambda': 0.293319909484715}. Best is trial 42 with value: -24.5082.\n",
      "[I 2024-08-29 13:16:56,928] Trial 77 finished with value: -24.5326 and parameters: {'n_estimators': 500, 'max_depth': 6, 'learning_rate': 0.021003349731083275, 'subsample': 0.7751381577882538, 'colsample_bytree': 0.6300072050396894, 'gamma': 0.8493084161735638, 'reg_alpha': 0.3469706648763822, 'reg_lambda': 0.1815835240585565}. Best is trial 42 with value: -24.5082.\n",
      "[I 2024-08-29 13:17:00,949] Trial 78 finished with value: -25.8331 and parameters: {'n_estimators': 100, 'max_depth': 5, 'learning_rate': 0.019994376274529536, 'subsample': 0.7625660002166107, 'colsample_bytree': 0.6363123191387788, 'gamma': 0.8498310712088455, 'reg_alpha': 0.3443180630493551, 'reg_lambda': 0.1368228381081353}. Best is trial 42 with value: -24.5082.\n",
      "[I 2024-08-29 13:17:21,152] Trial 79 finished with value: -24.7948 and parameters: {'n_estimators': 500, 'max_depth': 6, 'learning_rate': 0.013316121375319472, 'subsample': 0.826355208061234, 'colsample_bytree': 0.7405316031506429, 'gamma': 0.8957120191202825, 'reg_alpha': 0.4384776237256572, 'reg_lambda': 0.18043691974788612}. Best is trial 42 with value: -24.5082.\n",
      "[I 2024-08-29 13:17:29,934] Trial 80 finished with value: -25.6993 and parameters: {'n_estimators': 300, 'max_depth': 4, 'learning_rate': 0.00925664920062108, 'subsample': 0.8939445968774966, 'colsample_bytree': 0.7186215479182244, 'gamma': 0.8211260440180105, 'reg_alpha': 0.3661865840599448, 'reg_lambda': 0.23881537765528188}. Best is trial 42 with value: -24.5082.\n",
      "[I 2024-08-29 13:17:46,904] Trial 81 finished with value: -24.6235 and parameters: {'n_estimators': 500, 'max_depth': 6, 'learning_rate': 0.03371848363296407, 'subsample': 0.7807313654257753, 'colsample_bytree': 0.6036887134435085, 'gamma': 0.9333057340671755, 'reg_alpha': 0.24613609516020196, 'reg_lambda': 0.05217910637417835}. Best is trial 42 with value: -24.5082.\n",
      "[I 2024-08-29 13:18:08,789] Trial 82 finished with value: -24.607 and parameters: {'n_estimators': 500, 'max_depth': 7, 'learning_rate': 0.04050272439552153, 'subsample': 0.808472428352265, 'colsample_bytree': 0.6271547603817947, 'gamma': 0.9165945791193205, 'reg_alpha': 0.19353432224558254, 'reg_lambda': 0.26867059039616686}. Best is trial 42 with value: -24.5082.\n",
      "[I 2024-08-29 13:18:31,085] Trial 83 finished with value: -24.9083 and parameters: {'n_estimators': 500, 'max_depth': 7, 'learning_rate': 0.05703085649740759, 'subsample': 0.7910701104180926, 'colsample_bytree': 0.6668439830811588, 'gamma': 0.9823590634276825, 'reg_alpha': 0.974646278059792, 'reg_lambda': 0.34824057009194526}. Best is trial 42 with value: -24.5082.\n",
      "[I 2024-08-29 13:18:59,656] Trial 84 finished with value: -25.0078 and parameters: {'n_estimators': 500, 'max_depth': 8, 'learning_rate': 0.02571019672264759, 'subsample': 0.8423798284251592, 'colsample_bytree': 0.6470830638357274, 'gamma': 0.46244980897552956, 'reg_alpha': 0.0991958864726214, 'reg_lambda': 0.38951385331851013}. Best is trial 42 with value: -24.5082.\n",
      "[I 2024-08-29 13:19:18,970] Trial 85 finished with value: -25.3858 and parameters: {'n_estimators': 500, 'max_depth': 7, 'learning_rate': 0.08755393578723944, 'subsample': 0.7723089452229152, 'colsample_bytree': 0.5564070680807117, 'gamma': 0.8491849162040611, 'reg_alpha': 0.3004902177411972, 'reg_lambda': 0.32481619251106214}. Best is trial 42 with value: -24.5082.\n",
      "[I 2024-08-29 13:19:21,736] Trial 86 finished with value: -28.1957 and parameters: {'n_estimators': 50, 'max_depth': 6, 'learning_rate': 0.01855612896722791, 'subsample': 0.7986494884592266, 'colsample_bytree': 0.6877526995432444, 'gamma': 0.772643972887093, 'reg_alpha': 5.331728406010594e-05, 'reg_lambda': 0.21897988027592014}. Best is trial 42 with value: -24.5082.\n",
      "[I 2024-08-29 13:19:38,563] Trial 87 finished with value: -26.1023 and parameters: {'n_estimators': 500, 'max_depth': 8, 'learning_rate': 0.15561011673501907, 'subsample': 0.7579425881138254, 'colsample_bytree': 0.5856978959780471, 'gamma': 0.8875650001702305, 'reg_alpha': 0.0483619411499962, 'reg_lambda': 0.12140865125466715}. Best is trial 42 with value: -24.5082.\n",
      "[I 2024-08-29 13:19:57,703] Trial 88 finished with value: -24.8494 and parameters: {'n_estimators': 500, 'max_depth': 6, 'learning_rate': 0.031684596059743254, 'subsample': 0.740020359997982, 'colsample_bytree': 0.5427226932049217, 'gamma': 0.7284835926620294, 'reg_alpha': 0.8647307972797529, 'reg_lambda': 0.29286764624189526}. Best is trial 42 with value: -24.5082.\n",
      "[I 2024-08-29 13:20:22,131] Trial 89 finished with value: -24.6644 and parameters: {'n_estimators': 500, 'max_depth': 7, 'learning_rate': 0.02147164905873434, 'subsample': 0.8206295900709369, 'colsample_bytree': 0.6309007506474399, 'gamma': 0.8095233150611629, 'reg_alpha': 0.13122486698884872, 'reg_lambda': 0.17790907253453667}. Best is trial 42 with value: -24.5082.\n",
      "[I 2024-08-29 13:20:48,271] Trial 90 finished with value: -25.0533 and parameters: {'n_estimators': 500, 'max_depth': 7, 'learning_rate': 0.04888611277948388, 'subsample': 0.7827293884354751, 'colsample_bytree': 0.8438436362475819, 'gamma': 0.9413088104451497, 'reg_alpha': 0.33328050850060614, 'reg_lambda': 0.4052584944713792}. Best is trial 42 with value: -24.5082.\n",
      "[I 2024-08-29 13:21:09,715] Trial 91 finished with value: -24.7442 and parameters: {'n_estimators': 500, 'max_depth': 7, 'learning_rate': 0.040735574401248066, 'subsample': 0.807676418709339, 'colsample_bytree': 0.623343024220725, 'gamma': 0.9066915144952051, 'reg_alpha': 0.1886566468491605, 'reg_lambda': 0.25807802852210204}. Best is trial 42 with value: -24.5082.\n",
      "[I 2024-08-29 13:21:48,921] Trial 92 finished with value: -24.7296 and parameters: {'n_estimators': 500, 'max_depth': 7, 'learning_rate': 0.039303649104839224, 'subsample': 0.8029465877405517, 'colsample_bytree': 0.6511527636487944, 'gamma': 0.9151203559570436, 'reg_alpha': 0.1800535676509746, 'reg_lambda': 0.2809366838071548}. Best is trial 42 with value: -24.5082.\n",
      "[I 2024-08-29 13:22:39,155] Trial 93 finished with value: -24.6794 and parameters: {'n_estimators': 500, 'max_depth': 8, 'learning_rate': 0.02657519571581965, 'subsample': 0.8167401562362309, 'colsample_bytree': 0.6011452523279551, 'gamma': 0.9772606714606986, 'reg_alpha': 0.23283264788185415, 'reg_lambda': 0.31616252725093935}. Best is trial 42 with value: -24.5082.\n",
      "[I 2024-08-29 13:23:01,591] Trial 94 finished with value: -24.6955 and parameters: {'n_estimators': 500, 'max_depth': 7, 'learning_rate': 0.05469469026101044, 'subsample': 0.8641549296068793, 'colsample_bytree': 0.6263689502945003, 'gamma': 0.8695960823964384, 'reg_alpha': 0.2772480586805123, 'reg_lambda': 0.3667797250483671}. Best is trial 42 with value: -24.5082.\n",
      "[I 2024-08-29 13:23:30,553] Trial 95 finished with value: -24.7719 and parameters: {'n_estimators': 500, 'max_depth': 5, 'learning_rate': 0.03617298338468873, 'subsample': 0.7753900956414755, 'colsample_bytree': 0.6118685663594751, 'gamma': 0.9494127737673093, 'reg_alpha': 0.06809958676913634, 'reg_lambda': 0.2631257781875991}. Best is trial 42 with value: -24.5082.\n",
      "[I 2024-08-29 13:23:43,750] Trial 96 finished with value: -24.91 and parameters: {'n_estimators': 200, 'max_depth': 6, 'learning_rate': 0.030569239875487618, 'subsample': 0.7912346148630289, 'colsample_bytree': 0.7713712078234322, 'gamma': 0.8325270448262042, 'reg_alpha': 0.20174736600137957, 'reg_lambda': 0.22761242844651214}. Best is trial 42 with value: -24.5082.\n",
      "[I 2024-08-29 13:24:20,761] Trial 97 finished with value: -25.1983 and parameters: {'n_estimators': 400, 'max_depth': 8, 'learning_rate': 0.043653987148429364, 'subsample': 0.8306920692302621, 'colsample_bytree': 0.5153818937124394, 'gamma': 0.6564889047519927, 'reg_alpha': 0.3904014881142336, 'reg_lambda': 0.0887174946495849}. Best is trial 42 with value: -24.5082.\n",
      "[I 2024-08-29 13:24:50,270] Trial 98 finished with value: -24.6918 and parameters: {'n_estimators': 500, 'max_depth': 6, 'learning_rate': 0.016762461818569364, 'subsample': 0.8451338645093629, 'colsample_bytree': 0.5754170193993849, 'gamma': 0.8613490412855916, 'reg_alpha': 0.15297555638222834, 'reg_lambda': 0.03386730443665295}. Best is trial 42 with value: -24.5082.\n",
      "[I 2024-08-29 13:25:16,810] Trial 99 finished with value: -25.3498 and parameters: {'n_estimators': 500, 'max_depth': 7, 'learning_rate': 0.10441597151086374, 'subsample': 0.7537933160373776, 'colsample_bytree': 0.6961239104598497, 'gamma': 0.9265570281954637, 'reg_alpha': 0.48876406086254204, 'reg_lambda': 0.44207529845440363}. Best is trial 42 with value: -24.5082.\n"
     ]
    }
   ],
   "execution_count": 110
  },
  {
   "metadata": {
    "ExecuteTime": {
     "end_time": "2024-08-29T11:25:16.838624Z",
     "start_time": "2024-08-29T11:25:16.818865Z"
    }
   },
   "cell_type": "code",
   "source": "study.best_params",
   "id": "8bbc24b3d193e12",
   "outputs": [
    {
     "data": {
      "text/plain": [
       "{'n_estimators': 500,\n",
       " 'max_depth': 7,\n",
       " 'learning_rate': 0.03009296959769392,\n",
       " 'subsample': 0.8097241149092725,\n",
       " 'colsample_bytree': 0.6696687175682526,\n",
       " 'gamma': 0.8402157425699277,\n",
       " 'reg_alpha': 0.26489296857909234,\n",
       " 'reg_lambda': 0.35085412588178566}"
      ]
     },
     "execution_count": 111,
     "metadata": {},
     "output_type": "execute_result"
    }
   ],
   "execution_count": 111
  }
 ],
 "metadata": {
  "kernelspec": {
   "display_name": "Python 3",
   "language": "python",
   "name": "python3"
  },
  "language_info": {
   "codemirror_mode": {
    "name": "ipython",
    "version": 2
   },
   "file_extension": ".py",
   "mimetype": "text/x-python",
   "name": "python",
   "nbconvert_exporter": "python",
   "pygments_lexer": "ipython2",
   "version": "2.7.6"
  }
 },
 "nbformat": 4,
 "nbformat_minor": 5
}
