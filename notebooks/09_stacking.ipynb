{
 "cells": [
  {
   "cell_type": "code",
   "execution_count": 2,
   "id": "ec336dfe0190b2b",
   "metadata": {
    "ExecuteTime": {
     "end_time": "2024-08-29T08:41:57.320783Z",
     "start_time": "2024-08-29T08:41:57.309507Z"
    }
   },
   "outputs": [],
   "source": [
    "%load_ext autoreload\n",
    "%autoreload 2\n",
    "\n",
    "import sys\n",
    "sys.path.append('../')"
   ]
  },
  {
   "cell_type": "code",
   "execution_count": 3,
   "id": "6be5ea060c77271e",
   "metadata": {
    "ExecuteTime": {
     "end_time": "2024-08-29T08:41:57.662845Z",
     "start_time": "2024-08-29T08:41:57.322517Z"
    }
   },
   "outputs": [],
   "source": [
    "import pandas as pd\n",
    "import numpy as np\n",
    "from src.utils import get_fps_offset, OffsetScaler\n",
    "from src import config\n",
    "\n",
    "train = pd.read_csv('../data/processed/X_train.csv')\n",
    "test = pd.read_csv('../data/processed/X_test.csv')\n",
    "y_train = pd.read_csv('../data/processed/y_train.csv').values.ravel()\n",
    "\n",
    "FPS_OFFSET = get_fps_offset(train.columns)\n",
    "fps_cols = [str(c) for c in range(FPS_OFFSET)]\n",
    "rd_cols = [c for c in train.columns if 'rd_' in str(c)]\n",
    "md_cols = [c for c in train.columns if 'md_' in str(c)]\n",
    "features = list(set(train.columns) - set(rd_cols + md_cols + fps_cols))\n",
    "top_50_feats = ['rd_MolLogP',\n",
    "                'md_FilterItLogS',\n",
    "                'md_SMR_VSA9',\n",
    "                'ALogPS_logP',\n",
    "                'ALogPS_logS',\n",
    "                'md_SlogP_VSA11',\n",
    "                'md_AATS0v',\n",
    "                'md_ATSC1i',\n",
    "                'md_BertzCT',\n",
    "                'SsOH(phen)',\n",
    "                'md_ATSC1pe',\n",
    "                'md_NaasC',\n",
    "                'md_piPC2',\n",
    "                'md_ATS8dv',\n",
    "                'md_Mv',\n",
    "                'md_ATSC1p',\n",
    "                'rd_NOCount',\n",
    "                'MW',\n",
    "                'md_JGI6',\n",
    "                'md_SsOH',\n",
    "                'md_ATSC3Z',\n",
    "                'md_AATS0i',\n",
    "                'md_ATSC1m',\n",
    "                'md_nBondsKD',\n",
    "                'md_ATSC1v',\n",
    "                'md_PEOE_VSA6',\n",
    "                'md_SMR_VSA3',\n",
    "                'md_CIC5',\n",
    "                'md_NsssCH',\n",
    "                'rd_VSA_EState5',\n",
    "                'rd_VSA_EState8',\n",
    "                'md_JGI7',\n",
    "                'md_ATS8i',\n",
    "                'rd_NumHAcceptors',\n",
    "                'rd_VSA_EState9',\n",
    "                'md_ATSC8m',\n",
    "                'rd_VSA_EState3',\n",
    "                'md_nHBDon',\n",
    "                'Se1C2C3sd',\n",
    "                'md_nAcid',\n",
    "                'md_MIC5',\n",
    "                'md_ATSC3i',\n",
    "                'SdO(amid)',\n",
    "                'rd_NumAliphaticHeterocycles',\n",
    "                'md_JGI8',\n",
    "                'md_IC5',\n",
    "                'SeaC3C3aa',\n",
    "                'md_ATSC5pe',\n",
    "                'md_nS',\n",
    "                'md_SMR_VSA4']\n",
    "\n",
    "scaler = OffsetScaler(FPS_OFFSET)\n",
    "\n",
    "X_train = scaler.fit_transform(train[fps_cols + top_50_feats].values)\n",
    "X_test = scaler.transform(test[fps_cols + top_50_feats].values)"
   ]
  },
  {
   "cell_type": "code",
   "execution_count": 5,
   "id": "initial_id",
   "metadata": {
    "ExecuteTime": {
     "end_time": "2024-08-29T08:41:57.678370Z",
     "start_time": "2024-08-29T08:41:57.664454Z"
    }
   },
   "outputs": [],
   "source": [
    "import time\n",
    "\n",
    "import numpy as np\n",
    "import pandas as pd\n",
    "\n",
    "from sklearn.linear_model import Lasso, Ridge, LinearRegression\n",
    "from sklearn.cross_decomposition import PLSRegression\n",
    "from sklearn.tree import DecisionTreeRegressor\n",
    "from sklearn.ensemble import RandomForestRegressor\n",
    "from sklearn.svm import SVR\n",
    "from sklearn.neighbors import KNeighborsRegressor\n",
    "from sklearn.model_selection import cross_val_score, KFold\n",
    "from sklearn.preprocessing import StandardScaler\n",
    "\n",
    "from src.utils import OffsetScaler, get_fps_offset\n",
    "import xgboost as xgb\n",
    "from catboost import CatBoostRegressor\n",
    "import seaborn as sns\n",
    "\n",
    "\n",
    "mae = 'neg_mean_absolute_error'\n",
    "mse = 'neg_mean_squared_error'\n",
    "rmse = 'neg_root_mean_squared_error'\n",
    "\n",
    "RANDOM_SEED = 42\n",
    "N_JOBS = 40\n",
    "\n",
    "# prepare models\n",
    "models = {}\n",
    "\n",
    "# models['LR'] = LinearRegression()\n",
    "# models['Ridge'] = Ridge()\n",
    "models['PLS'] = PLSRegression()\n",
    "models['DT'] = DecisionTreeRegressor(random_state=RANDOM_SEED)\n",
    "models['Lasso'] = Lasso()\n",
    "models['KNN'] = KNeighborsRegressor(n_jobs=N_JOBS)\n",
    "models['SVR'] = SVR()\n",
    "models['RF'] = RandomForestRegressor(n_estimators=200, random_state=RANDOM_SEED, n_jobs=N_JOBS)\n",
    "models['XGB'] = xgb.XGBRegressor(n_estimators=1000, random_state=RANDOM_SEED, n_jobs=N_JOBS, verbosity=0)\n",
    "models['CATB'] = CatBoostRegressor(loss_function='RMSE', verbose=False, random_seed=RANDOM_SEED, thread_count=N_JOBS)\n",
    "# models['CATB GPU'] = CatBoostRegressor(loss_function='RMSE', verbose=False, random_seed=RANDOM_SEED, thread_count=N_JOBS, task_type='GPU')\n",
    "\n",
    "scaler = OffsetScaler(offset=FPS_OFFSET)\n",
    "ss = StandardScaler()"
   ]
  },
  {
   "cell_type": "code",
   "execution_count": 6,
   "id": "b5f33e49db2c55bb",
   "metadata": {
    "ExecuteTime": {
     "end_time": "2024-08-29T08:41:57.690367Z",
     "start_time": "2024-08-29T08:41:57.679767Z"
    }
   },
   "outputs": [],
   "source": [
    "from sklearn.pipeline import make_pipeline\n",
    "from sklearn.ensemble import StackingRegressor"
   ]
  },
  {
   "cell_type": "code",
   "execution_count": 7,
   "id": "e7641cb70e08f19c",
   "metadata": {
    "ExecuteTime": {
     "end_time": "2024-08-29T08:53:38.723054Z",
     "start_time": "2024-08-29T08:53:38.675602Z"
    }
   },
   "outputs": [],
   "source": [
    "def evaluate(X, seed=RANDOM_SEED):\n",
    "    results = {}\n",
    "\n",
    "    for name in models.keys():\n",
    "        tic = time.time()\n",
    "        \n",
    "        model = models[name]\n",
    "        kfold = KFold(n_splits=5, shuffle=True, random_state=seed)\n",
    "        results[name] = cross_val_score(model, X, y_train, cv=kfold, scoring=rmse)\n",
    "        \n",
    "        toc = time.time()\n",
    "        mean = results[name].mean()\n",
    "        std = results[name].std()\n",
    "        final_score = mean - std\n",
    "        print(\"%5s: %3.3f     %3.3f ± %3.3f      %.1fs\" % (name, final_score, mean, std, toc - tic))\n",
    "        \n",
    "    return pd.DataFrame(results)\n",
    "\n",
    "def evaluate_single(model, X, name=None, seed=RANDOM_SEED):\n",
    "    tic = time.time()\n",
    "    \n",
    "    kfold = KFold(n_splits=5, shuffle=True, random_state=seed)\n",
    "    cv_res = cross_val_score(model, X, y_train, cv=kfold, scoring=rmse)\n",
    "    \n",
    "    toc = time.time()\n",
    "    final_score = cv_res.mean() - cv_res.std()\n",
    "    name = '' if name is None else name\n",
    "    print(\"%5s: %3.3f     %3.3f ± %3.3f      %.1fs\" % (name, final_score, cv_res.mean(), cv_res.std(), toc - tic))\n",
    "    return cv_res"
   ]
  },
  {
   "cell_type": "code",
   "execution_count": 40,
   "id": "3cc071f7e2ab4f84",
   "metadata": {
    "ExecuteTime": {
     "end_time": "2024-08-29T08:44:04.603706Z",
     "start_time": "2024-08-29T08:42:00.390729Z"
    }
   },
   "outputs": [
    {
     "name": "stdout",
     "output_type": "stream",
     "text": [
      "  PLS: -30.922     -29.249 ± 1.673      0.2s\n",
      "   DT: -33.612     -32.761 ± 0.851      0.8s\n",
      "Lasso: -29.341     -28.264 ± 1.077      1.1s\n",
      "  KNN: -29.000     -27.593 ± 1.407      0.2s\n",
      "  SVR: -35.017     -34.298 ± 0.718      2.7s\n",
      "   RF: -25.241     -23.391 ± 1.849      12.6s\n",
      "  XGB: -26.694     -24.906 ± 1.788      13.6s\n",
      " CATB: -24.281     -22.882 ± 1.399      93.1s\n"
     ]
    }
   ],
   "source": [
    "evaluate(X_train);"
   ]
  },
  {
   "cell_type": "code",
   "execution_count": 25,
   "id": "d602b721fe100392",
   "metadata": {
    "ExecuteTime": {
     "end_time": "2024-08-29T08:32:09.643904Z",
     "start_time": "2024-08-29T08:25:00.874130Z"
    }
   },
   "outputs": [
    {
     "name": "stdout",
     "output_type": "stream",
     "text": [
      " None: -24.352     -22.818 ± 1.534      428.7s\n"
     ]
    },
    {
     "data": {
      "text/plain": [
       "array([-23.85412768, -25.06966055, -22.77018122, -20.76684548,\n",
       "       -21.62735586])"
      ]
     },
     "execution_count": 25,
     "metadata": {},
     "output_type": "execute_result"
    }
   ],
   "source": [
    "estimators = [\n",
    "    ('CATB', models['CATB']),\n",
    "    ('RF', models['RF']),\n",
    "    ('XGB', models['XGB']),\n",
    "    ('KNN', models['KNN']),\n",
    "    ('Lasso', models['Lasso']),\n",
    "]\n",
    "\n",
    "clf = StackingRegressor(\n",
    "    estimators=estimators, final_estimator=LinearRegression()\n",
    ")\n",
    "\n",
    "evaluate_single(clf, X_train);"
   ]
  },
  {
   "cell_type": "code",
   "execution_count": 41,
   "id": "d851bbc067b01bf2",
   "metadata": {
    "ExecuteTime": {
     "end_time": "2024-08-29T08:53:38.674143Z",
     "start_time": "2024-08-29T08:51:08.197915Z"
    }
   },
   "outputs": [
    {
     "name": "stdout",
     "output_type": "stream",
     "text": [
      " None: -25.134     -23.297 ± 1.838      150.5s\n"
     ]
    }
   ],
   "source": [
    "estimators = [\n",
    "    ('RF', models['RF']),\n",
    "    ('XGB', models['XGB']),\n",
    "    ('KNN', models['KNN']),\n",
    "    ('Lasso', models['Lasso']),\n",
    "]\n",
    "\n",
    "clf = StackingRegressor(\n",
    "    estimators=estimators, final_estimator=LinearRegression()\n",
    ")\n",
    "\n",
    "evaluate_single(clf, X_train);"
   ]
  },
  {
   "cell_type": "code",
   "execution_count": 43,
   "id": "2e40110ac6347a6a",
   "metadata": {
    "ExecuteTime": {
     "end_time": "2024-08-29T08:53:54.165593Z",
     "start_time": "2024-08-29T08:53:38.724865Z"
    }
   },
   "outputs": [
    {
     "name": "stdout",
     "output_type": "stream",
     "text": [
      "     : -25.241     -23.391 ± 1.849      15.4s\n"
     ]
    }
   ],
   "source": [
    "evaluate_single(models['RF'], X_train);"
   ]
  },
  {
   "cell_type": "code",
   "execution_count": 44,
   "id": "d04cfed6c28e726e",
   "metadata": {
    "ExecuteTime": {
     "end_time": "2024-08-29T08:55:25.329379Z",
     "start_time": "2024-08-29T08:53:54.167416Z"
    }
   },
   "outputs": [
    {
     "name": "stdout",
     "output_type": "stream",
     "text": [
      "     : -24.281     -22.882 ± 1.399      91.1s\n"
     ]
    }
   ],
   "source": [
    "evaluate_single(models['CATB'], X_train);"
   ]
  },
  {
   "cell_type": "code",
   "execution_count": 18,
   "id": "87e955451f5e7992",
   "metadata": {
    "ExecuteTime": {
     "end_time": "2024-08-29T09:05:19.062423Z",
     "start_time": "2024-08-29T09:05:19.048240Z"
    }
   },
   "outputs": [],
   "source": [
    "import numpy as np\n",
    "from sklearn.base import BaseEstimator, RegressorMixin\n",
    "from sklearn.linear_model import LinearRegression\n",
    "from sklearn.tree import DecisionTreeRegressor\n",
    "from sklearn.ensemble import RandomForestRegressor\n",
    "\n",
    "class BlendingRegressor(BaseEstimator, RegressorMixin):\n",
    "    def __init__(self, models, weights=None):\n",
    "        self.models = models\n",
    "        self.weights = weights if weights is not None else [1/len(models)] * len(models)\n",
    "    \n",
    "    def fit(self, X, y):\n",
    "        for name, model in self.models:\n",
    "            model.fit(X, y)\n",
    "        return self\n",
    "    \n",
    "    def predict(self, X):\n",
    "        predictions = np.array([model.predict(X) for name, model in self.models])\n",
    "        weighted_avg_predictions = np.average(predictions, axis=0, weights=self.weights)\n",
    "        return weighted_avg_predictions"
   ]
  },
  {
   "cell_type": "markdown",
   "id": "10e16ba9f9d67cba",
   "metadata": {},
   "source": [
    "  PLS: -30.922     -29.249 ± 1.673      0.2s\n",
    "  \n",
    "   DT: -33.612     -32.761 ± 0.851      0.8s\n",
    "   \n",
    "Lasso: -29.341     -28.264 ± 1.077      1.1s\n",
    "\n",
    "  KNN: -29.000     -27.593 ± 1.407      0.2s\n",
    "  \n",
    "  SVR: -35.017     -34.298 ± 0.718      2.7s\n",
    "  \n",
    "   RF: -25.241     -23.391 ± 1.849      12.6s\n",
    "   \n",
    "  XGB: -26.694     -24.906 ± 1.788      13.6s\n",
    "  \n",
    " CATB: -24.281     -22.882 ± 1.399      93.1s"
   ]
  },
  {
   "cell_type": "code",
   "execution_count": 10,
   "id": "344b14bcd3a490cf",
   "metadata": {
    "ExecuteTime": {
     "end_time": "2024-08-29T09:05:54.594628Z",
     "start_time": "2024-08-29T09:05:53.573131Z"
    }
   },
   "outputs": [
    {
     "name": "stdout",
     "output_type": "stream",
     "text": [
      "     : -29.000     -27.593 ± 1.407      0.3s\n",
      "     : -29.341     -28.264 ± 1.077      0.9s\n"
     ]
    }
   ],
   "source": [
    "evaluate_single(models['KNN'], X_train);\n",
    "evaluate_single(models['Lasso'], X_train);"
   ]
  },
  {
   "cell_type": "code",
   "execution_count": 64,
   "id": "2fbfdbda22ad0d25",
   "metadata": {
    "ExecuteTime": {
     "end_time": "2024-08-29T09:06:01.878928Z",
     "start_time": "2024-08-29T09:06:00.387255Z"
    }
   },
   "outputs": [
    {
     "name": "stdout",
     "output_type": "stream",
     "text": [
      "     : -27.715     -26.515 ± 1.200      1.5s\n"
     ]
    }
   ],
   "source": [
    "estimators = [\n",
    "    ('KNN', models['KNN']),\n",
    "    ('Lasso', models['Lasso']),\n",
    "]\n",
    "\n",
    "clf = BlendingRegressor(estimators, weights=[0.5, 0.5])\n",
    "\n",
    "evaluate_single(clf, X_train);"
   ]
  },
  {
   "cell_type": "code",
   "execution_count": 68,
   "id": "fb318503e79f5cec",
   "metadata": {
    "ExecuteTime": {
     "end_time": "2024-08-29T09:10:36.857878Z",
     "start_time": "2024-08-29T09:10:07.403419Z"
    }
   },
   "outputs": [
    {
     "name": "stdout",
     "output_type": "stream",
     "text": [
      "     : -25.144     -23.388 ± 1.756      29.4s\n"
     ]
    }
   ],
   "source": [
    "estimators = [\n",
    "    ('RF', models['RF']),\n",
    "    ('XGB', models['XGB']),        \n",
    "    ('KNN', models['KNN']),\n",
    "    ('Lasso', models['Lasso']),\n",
    "]\n",
    "\n",
    "clf = BlendingRegressor(estimators, weights=[1, 0.2, 0.1, 0.1])\n",
    "\n",
    "evaluate_single(clf, X_train);"
   ]
  },
  {
   "cell_type": "code",
   "execution_count": 69,
   "id": "6add47cb34b52747",
   "metadata": {
    "ExecuteTime": {
     "end_time": "2024-08-29T09:10:52.647494Z",
     "start_time": "2024-08-29T09:10:36.859697Z"
    }
   },
   "outputs": [
    {
     "name": "stdout",
     "output_type": "stream",
     "text": [
      "     : -25.194     -23.393 ± 1.801      15.8s\n"
     ]
    }
   ],
   "source": [
    "estimators = [\n",
    "    ('RF', models['RF']),\n",
    "    ('KNN', models['KNN']),\n",
    "]\n",
    "\n",
    "clf = BlendingRegressor(estimators, weights=[1, 0.1])\n",
    "evaluate_single(clf, X_train);"
   ]
  },
  {
   "cell_type": "code",
   "execution_count": 70,
   "id": "fd8982f1aa6f5871",
   "metadata": {
    "ExecuteTime": {
     "end_time": "2024-08-29T09:11:27.463168Z",
     "start_time": "2024-08-29T09:11:14.839171Z"
    }
   },
   "outputs": [
    {
     "name": "stdout",
     "output_type": "stream",
     "text": [
      "     : -25.218     -23.457 ± 1.761      12.6s\n"
     ]
    }
   ],
   "source": [
    "clf = BlendingRegressor(estimators, weights=[1, 0.2])\n",
    "evaluate_single(clf, X_train);"
   ]
  },
  {
   "cell_type": "code",
   "execution_count": 72,
   "id": "de233d41923ed8f6",
   "metadata": {
    "ExecuteTime": {
     "end_time": "2024-08-29T09:12:00.570010Z",
     "start_time": "2024-08-29T09:11:44.761766Z"
    }
   },
   "outputs": [
    {
     "name": "stdout",
     "output_type": "stream",
     "text": [
      "     : -25.997     -24.405 ± 1.593      15.8s\n"
     ]
    }
   ],
   "source": [
    "clf = BlendingRegressor(estimators, weights=[1, 1])\n",
    "evaluate_single(clf, X_train);"
   ]
  },
  {
   "cell_type": "code",
   "execution_count": 71,
   "id": "1e843fbedfc0bc59",
   "metadata": {
    "ExecuteTime": {
     "end_time": "2024-08-29T09:11:44.759815Z",
     "start_time": "2024-08-29T09:11:29.100603Z"
    }
   },
   "outputs": [
    {
     "name": "stdout",
     "output_type": "stream",
     "text": [
      "     : -25.206     -23.382 ± 1.824      15.6s\n"
     ]
    }
   ],
   "source": [
    "clf = BlendingRegressor(estimators, weights=[1, 0.05])\n",
    "evaluate_single(clf, X_train);"
   ]
  },
  {
   "cell_type": "code",
   "execution_count": null,
   "id": "4caa7b20603f19a0",
   "metadata": {},
   "outputs": [],
   "source": [
    "estimators = [\n",
    "    ('RF', models['RF']),\n",
    "    ('KNN', models['KNN']),\n",
    "]\n",
    "\n",
    "clf = BlendingRegressor(estimators, weights=[1, 0.1])\n",
    "\n",
    "evaluate_single(clf, X_train);"
   ]
  },
  {
   "cell_type": "code",
   "execution_count": 76,
   "id": "4bf0eb88d08a1e3c",
   "metadata": {
    "ExecuteTime": {
     "end_time": "2024-08-29T09:20:10.892305Z",
     "start_time": "2024-08-29T09:18:22.877074Z"
    }
   },
   "outputs": [
    {
     "name": "stdout",
     "output_type": "stream",
     "text": [
      "     : -24.265     -22.845 ± 1.420      108.0s\n"
     ]
    }
   ],
   "source": [
    "estimators = [\n",
    "    ('CATB', models['CATB']),\n",
    "    ('RF', models['RF']),\n",
    "]\n",
    "\n",
    "clf = BlendingRegressor(estimators, weights=[1, 0.05])\n",
    "\n",
    "evaluate_single(clf, X_train);"
   ]
  },
  {
   "cell_type": "code",
   "execution_count": 73,
   "id": "f452e0f28a4310ec",
   "metadata": {
    "ExecuteTime": {
     "end_time": "2024-08-29T09:14:42.849226Z",
     "start_time": "2024-08-29T09:12:51.801672Z"
    }
   },
   "outputs": [
    {
     "name": "stdout",
     "output_type": "stream",
     "text": [
      "     : -24.256     -22.817 ± 1.439      111.0s\n"
     ]
    }
   ],
   "source": [
    "estimators = [\n",
    "    ('CATB', models['CATB']),\n",
    "    ('RF', models['RF']),\n",
    "]\n",
    "\n",
    "clf = BlendingRegressor(estimators, weights=[1, 0.1])\n",
    "\n",
    "evaluate_single(clf, X_train);"
   ]
  },
  {
   "cell_type": "code",
   "execution_count": 74,
   "id": "e71ca41a936351e1",
   "metadata": {
    "ExecuteTime": {
     "end_time": "2024-08-29T09:16:34.239840Z",
     "start_time": "2024-08-29T09:14:42.850962Z"
    }
   },
   "outputs": [
    {
     "name": "stdout",
     "output_type": "stream",
     "text": [
      "     : -24.252     -22.780 ± 1.473      111.4s\n"
     ]
    }
   ],
   "source": [
    "estimators = [\n",
    "    ('CATB', models['CATB']),\n",
    "    ('RF', models['RF']),\n",
    "]\n",
    "\n",
    "clf = BlendingRegressor(estimators, weights=[1, 0.2])\n",
    "\n",
    "evaluate_single(clf, X_train);"
   ]
  },
  {
   "cell_type": "code",
   "execution_count": 75,
   "id": "8a03d3b2a66ae83d",
   "metadata": {
    "ExecuteTime": {
     "end_time": "2024-08-29T09:18:22.875163Z",
     "start_time": "2024-08-29T09:16:34.241297Z"
    }
   },
   "outputs": [
    {
     "name": "stdout",
     "output_type": "stream",
     "text": [
      "     : -24.301     -22.753 ± 1.548      108.6s\n"
     ]
    }
   ],
   "source": [
    "estimators = [\n",
    "    ('CATB', models['CATB']),\n",
    "    ('RF', models['RF']),\n",
    "]\n",
    "\n",
    "clf = BlendingRegressor(estimators, weights=[1, 0.5])\n",
    "\n",
    "evaluate_single(clf, X_train);"
   ]
  },
  {
   "cell_type": "code",
   "execution_count": 77,
   "id": "6f944d7a7e784e53",
   "metadata": {
    "ExecuteTime": {
     "end_time": "2024-08-29T10:37:57.160179Z",
     "start_time": "2024-08-29T10:35:42.833712Z"
    }
   },
   "outputs": [
    {
     "name": "stdout",
     "output_type": "stream",
     "text": [
      "     : -24.293     -22.793 ± 1.500      134.2s\n"
     ]
    }
   ],
   "source": [
    "estimators = [\n",
    "    ('CATB', models['CATB']),\n",
    "    ('RF', models['RF']),\n",
    "    ('XGB', models['XGB']),\n",
    "    ('KNN', models['KNN']),\n",
    "    ('Lasso', models['Lasso']),\n",
    "]\n",
    "\n",
    "clf = BlendingRegressor(estimators, weights=[1, 0.1, 0.05, 0.01, 0.01])\n",
    "\n",
    "evaluate_single(clf, X_train);"
   ]
  },
  {
   "cell_type": "code",
   "execution_count": 15,
   "id": "d6112eaeff7a5954",
   "metadata": {
    "ExecuteTime": {
     "end_time": "2024-08-29T11:25:58.776295Z",
     "start_time": "2024-08-29T11:25:58.751474Z"
    }
   },
   "outputs": [],
   "source": [
    "best_params = {\n",
    "    'rf': {        \n",
    "        'n_estimators': 200,\n",
    "        'max_depth': 25,\n",
    "        'min_samples_split': 2,\n",
    "        'min_samples_leaf': 1,\n",
    "        'bootstrap': True,\n",
    "        'max_features': 0.2,\n",
    "        'random_state': RANDOM_SEED,\n",
    "        'n_jobs': N_JOBS,\n",
    "    },\n",
    "    'lasso': {\n",
    "        'alpha': 1.0531212524084377,\n",
    "    },\n",
    "    'knn': {\n",
    "        'n_neighbors': 10, \n",
    "        'weights': 'distance', \n",
    "        'algorithm': 'kd_tree',\n",
    "    },\n",
    "    'xgb': {\n",
    "        'n_estimators': 2000,\n",
    "        'max_depth': 3,\n",
    "        'learning_rate': 0.006929151892786309,\n",
    "        'subsample': 0.580956029244851,\n",
    "        'colsample_bytree': 0.5326676728408477,\n",
    "        'gamma': 0.638354307456016,\n",
    "        'reg_alpha': 0.7784317061199424,\n",
    "        'reg_lambda': 0.8587656947103454,\n",
    "        'random_state': RANDOM_SEED,\n",
    "        'n_jobs': N_JOBS,        \n",
    "    },\n",
    "    'cb': {\n",
    "        'n_estimators': 2000,\n",
    "        'depth': 4,\n",
    "        'learning_rate': 0.014471212873059244,\n",
    "        'l2_leaf_reg': 0.40949275910093563,\n",
    "        'subsample': 0.7134111640862024,\n",
    "        'colsample_bylevel': 0.7109836464817926,\n",
    "        'bootstrap_type': 'Bernoulli',\n",
    "        'verbose': False,\n",
    "        'random_seed': RANDOM_SEED,\n",
    "        'thread_count': N_JOBS,        \n",
    "    },\n",
    "}"
   ]
  },
  {
   "cell_type": "code",
   "execution_count": 16,
   "id": "38b862765bb51015",
   "metadata": {
    "ExecuteTime": {
     "end_time": "2024-08-29T11:27:26.650931Z",
     "start_time": "2024-08-29T11:27:09.332262Z"
    }
   },
   "outputs": [
    {
     "name": "stdout",
     "output_type": "stream",
     "text": [
      "  KNN: -28.103     -26.203 ± 1.900      3.7s\n",
      "Lasso: -29.335     -28.287 ± 1.048      0.7s\n",
      "   RF: -24.915     -23.320 ± 1.595      2.8s\n",
      "  XGB: -24.276     -22.854 ± 1.422      44.7s\n",
      "   CB: -24.204     -22.733 ± 1.471      75.7s\n"
     ]
    }
   ],
   "source": [
    "best_cb = CatBoostRegressor(**best_params['cb'])\n",
    "best_rf = RandomForestRegressor(**best_params['rf'])\n",
    "best_xgb = xgb.XGBRegressor(**best_params['xgb'])\n",
    "best_knn = KNeighborsRegressor(**best_params['knn'])\n",
    "best_lasso = Lasso(**best_params['lasso'])\n",
    "\n",
    "evaluate_single(best_knn, X_train, 'KNN');\n",
    "evaluate_single(best_lasso, X_train, 'Lasso');\n",
    "evaluate_single(best_rf, X_train, 'RF');\n",
    "evaluate_single(best_xgb, X_train, 'XGB');\n",
    "evaluate_single(best_cb, X_train, 'CB');"
   ]
  },
  {
   "cell_type": "code",
   "execution_count": 19,
   "id": "10a14ed7b5404d96",
   "metadata": {
    "ExecuteTime": {
     "end_time": "2024-08-29T11:39:16.464816Z",
     "start_time": "2024-08-29T11:37:23.605826Z"
    }
   },
   "outputs": [
    {
     "name": "stdout",
     "output_type": "stream",
     "text": [
      "     : -24.168     -22.682 ± 1.486      123.6s\n"
     ]
    }
   ],
   "source": [
    "estimators = [\n",
    "    ('CATB', best_cb),\n",
    "    ('XGB', best_xgb),\n",
    "    ('RF', best_rf),\n",
    "    # ('KNN', best_knn),\n",
    "    # ('Lasso', best_lasso),\n",
    "]\n",
    "\n",
    "clf = BlendingRegressor(estimators, weights=[1,  0.5,  0.2])\n",
    "\n",
    "evaluate_single(clf, X_train);"
   ]
  },
  {
   "cell_type": "code",
   "execution_count": 22,
   "id": "3685de19-8f5f-4cfd-ba8a-ad17183b4837",
   "metadata": {},
   "outputs": [
    {
     "name": "stdout",
     "output_type": "stream",
     "text": [
      "     : -24.169     -22.696 ± 1.473      123.2s\n"
     ]
    }
   ],
   "source": [
    "estimators = [\n",
    "    ('CATB', best_cb),\n",
    "    ('XGB', best_xgb),\n",
    "    ('RF', best_rf),\n",
    "    # ('KNN', best_knn),\n",
    "    # ('Lasso', best_lasso),\n",
    "]\n",
    "\n",
    "clf = BlendingRegressor(estimators, weights=[1,  0.5,  0.1])\n",
    "\n",
    "evaluate_single(clf, X_train);"
   ]
  },
  {
   "cell_type": "code",
   "execution_count": 21,
   "id": "894e1423-ec48-4084-a8e4-17511e083184",
   "metadata": {},
   "outputs": [
    {
     "name": "stdout",
     "output_type": "stream",
     "text": [
      "     : -24.171     -22.690 ± 1.481      123.2s\n"
     ]
    }
   ],
   "source": [
    "estimators = [\n",
    "    ('CATB', best_cb),\n",
    "    ('XGB', best_xgb),\n",
    "    ('RF', best_rf),\n",
    "    # ('KNN', best_knn),\n",
    "    # ('Lasso', best_lasso),\n",
    "]\n",
    "\n",
    "clf = BlendingRegressor(estimators, weights=[1,  0.25,  0.1])\n",
    "\n",
    "evaluate_single(clf, X_train);"
   ]
  },
  {
   "cell_type": "code",
   "execution_count": 20,
   "id": "cba1877c33f3c8b8",
   "metadata": {},
   "outputs": [
    {
     "name": "stdout",
     "output_type": "stream",
     "text": [
      "     : -24.173     -22.707 ± 1.466      123.4s\n"
     ]
    }
   ],
   "source": [
    "estimators = [\n",
    "    ('CATB', best_cb),\n",
    "    ('XGB', best_xgb),\n",
    "    ('RF', best_rf),\n",
    "    # ('KNN', best_knn),\n",
    "    # ('Lasso', best_lasso),\n",
    "]\n",
    "\n",
    "clf = BlendingRegressor(estimators, weights=[1,  0.8,  0.1])\n",
    "\n",
    "evaluate_single(clf, X_train);"
   ]
  },
  {
   "cell_type": "code",
   "execution_count": 25,
   "id": "f2f863af-0d1d-4c8d-8c86-55ed2b1319b2",
   "metadata": {},
   "outputs": [
    {
     "name": "stdout",
     "output_type": "stream",
     "text": [
      "     : -24.171     -22.685 ± 1.487      128.1s\n"
     ]
    }
   ],
   "source": [
    "estimators = [\n",
    "    ('CATB', best_cb),\n",
    "    ('XGB', best_xgb),\n",
    "    ('RF', best_rf),\n",
    "    ('KNN', best_knn),\n",
    "    ('Lasso', best_lasso),\n",
    "]\n",
    "\n",
    "clf = BlendingRegressor(estimators, weights=[1,  0.5,  0.2, 0.005, 0.005])\n",
    "\n",
    "evaluate_single(clf, X_train);"
   ]
  },
  {
   "cell_type": "code",
   "execution_count": 26,
   "id": "ea90a4f8-85bc-4827-82c8-ac2e5aa5175b",
   "metadata": {},
   "outputs": [],
   "source": [
    "estimators = [\n",
    "    ('CATB', best_cb),\n",
    "    ('XGB', best_xgb),\n",
    "    ('RF', best_rf),\n",
    "    # ('KNN', best_knn),\n",
    "    # ('Lasso', best_lasso),\n",
    "]\n",
    "\n",
    "clf = BlendingRegressor(estimators, weights=[1,  0.5,  0.2])"
   ]
  },
  {
   "cell_type": "code",
   "execution_count": 27,
   "id": "a7b6ba1d8f5b20e0",
   "metadata": {
    "ExecuteTime": {
     "end_time": "2024-08-29T11:41:27.003028Z",
     "start_time": "2024-08-29T11:41:02.413337Z"
    }
   },
   "outputs": [],
   "source": [
    "y_pred = clf.fit(X_train, y_train).predict(X_test)"
   ]
  },
  {
   "cell_type": "code",
   "execution_count": 29,
   "id": "54ec88341e19a364",
   "metadata": {
    "ExecuteTime": {
     "end_time": "2024-08-29T11:42:14.494355Z",
     "start_time": "2024-08-29T11:42:14.478725Z"
    }
   },
   "outputs": [],
   "source": [
    "pd.Series(y_pred, name='Results').to_csv('../data/submissions/opt_stack_xgb_cb_rf.csv', index=False)"
   ]
  }
 ],
 "metadata": {
  "kernelspec": {
   "display_name": "chem",
   "language": "python",
   "name": "chem"
  },
  "language_info": {
   "codemirror_mode": {
    "name": "ipython",
    "version": 3
   },
   "file_extension": ".py",
   "mimetype": "text/x-python",
   "name": "python",
   "nbconvert_exporter": "python",
   "pygments_lexer": "ipython3",
   "version": "3.10.0"
  }
 },
 "nbformat": 4,
 "nbformat_minor": 5
}
