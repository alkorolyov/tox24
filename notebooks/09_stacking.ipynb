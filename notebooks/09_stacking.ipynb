{
 "cells": [
  {
   "metadata": {
    "ExecuteTime": {
     "end_time": "2024-08-29T08:41:57.320783Z",
     "start_time": "2024-08-29T08:41:57.309507Z"
    }
   },
   "cell_type": "code",
   "source": [
    "%load_ext autoreload\n",
    "%autoreload 2\n",
    "\n",
    "import sys\n",
    "sys.path.append('../')"
   ],
   "id": "ec336dfe0190b2b",
   "outputs": [
    {
     "name": "stdout",
     "output_type": "stream",
     "text": [
      "The autoreload extension is already loaded. To reload it, use:\n",
      "  %reload_ext autoreload\n"
     ]
    }
   ],
   "execution_count": 35
  },
  {
   "metadata": {
    "ExecuteTime": {
     "end_time": "2024-08-29T08:41:57.662845Z",
     "start_time": "2024-08-29T08:41:57.322517Z"
    }
   },
   "cell_type": "code",
   "source": [
    "import pandas as pd\n",
    "import numpy as np\n",
    "from src.utils import get_fps_offset, OffsetScaler\n",
    "from src import config\n",
    "\n",
    "train = pd.read_csv('../data/processed/X_train.csv')\n",
    "test = pd.read_csv('../data/processed/X_test.csv')\n",
    "y_train = pd.read_csv('../data/processed/y_train.csv').values.ravel()\n",
    "\n",
    "FPS_OFFSET = get_fps_offset(train.columns)\n",
    "fps_cols = [str(c) for c in range(FPS_OFFSET)]\n",
    "rd_cols = [c for c in train.columns if 'rd_' in str(c)]\n",
    "md_cols = [c for c in train.columns if 'md_' in str(c)]\n",
    "features = list(set(train.columns) - set(rd_cols + md_cols + fps_cols))\n",
    "top_50_feats = ['rd_MolLogP',\n",
    "                'md_FilterItLogS',\n",
    "                'md_SMR_VSA9',\n",
    "                'ALogPS_logP',\n",
    "                'ALogPS_logS',\n",
    "                'md_SlogP_VSA11',\n",
    "                'md_AATS0v',\n",
    "                'md_ATSC1i',\n",
    "                'md_BertzCT',\n",
    "                'SsOH(phen)',\n",
    "                'md_ATSC1pe',\n",
    "                'md_NaasC',\n",
    "                'md_piPC2',\n",
    "                'md_ATS8dv',\n",
    "                'md_Mv',\n",
    "                'md_ATSC1p',\n",
    "                'rd_NOCount',\n",
    "                'MW',\n",
    "                'md_JGI6',\n",
    "                'md_SsOH',\n",
    "                'md_ATSC3Z',\n",
    "                'md_AATS0i',\n",
    "                'md_ATSC1m',\n",
    "                'md_nBondsKD',\n",
    "                'md_ATSC1v',\n",
    "                'md_PEOE_VSA6',\n",
    "                'md_SMR_VSA3',\n",
    "                'md_CIC5',\n",
    "                'md_NsssCH',\n",
    "                'rd_VSA_EState5',\n",
    "                'rd_VSA_EState8',\n",
    "                'md_JGI7',\n",
    "                'md_ATS8i',\n",
    "                'rd_NumHAcceptors',\n",
    "                'rd_VSA_EState9',\n",
    "                'md_ATSC8m',\n",
    "                'rd_VSA_EState3',\n",
    "                'md_nHBDon',\n",
    "                'Se1C2C3sd',\n",
    "                'md_nAcid',\n",
    "                'md_MIC5',\n",
    "                'md_ATSC3i',\n",
    "                'SdO(amid)',\n",
    "                'rd_NumAliphaticHeterocycles',\n",
    "                'md_JGI8',\n",
    "                'md_IC5',\n",
    "                'SeaC3C3aa',\n",
    "                'md_ATSC5pe',\n",
    "                'md_nS',\n",
    "                'md_SMR_VSA4']\n",
    "\n",
    "scaler = OffsetScaler(FPS_OFFSET)\n",
    "\n",
    "X_train = scaler.fit_transform(train[fps_cols + top_50_feats].values)\n",
    "X_test = scaler.transform(test[fps_cols + top_50_feats].values)"
   ],
   "id": "6be5ea060c77271e",
   "outputs": [],
   "execution_count": 36
  },
  {
   "cell_type": "code",
   "id": "initial_id",
   "metadata": {
    "collapsed": true,
    "ExecuteTime": {
     "end_time": "2024-08-29T08:41:57.678370Z",
     "start_time": "2024-08-29T08:41:57.664454Z"
    }
   },
   "source": [
    "import time\n",
    "\n",
    "import numpy as np\n",
    "import pandas as pd\n",
    "\n",
    "from sklearn.linear_model import Lasso, Ridge, LinearRegression\n",
    "from sklearn.cross_decomposition import PLSRegression\n",
    "from sklearn.tree import DecisionTreeRegressor\n",
    "from sklearn.ensemble import RandomForestRegressor\n",
    "from sklearn.svm import SVR\n",
    "from sklearn.neighbors import KNeighborsRegressor\n",
    "from sklearn.model_selection import cross_val_score, KFold\n",
    "from sklearn.preprocessing import StandardScaler\n",
    "\n",
    "from src.utils import OffsetScaler, get_fps_offset\n",
    "import xgboost as xgb\n",
    "from catboost import CatBoostRegressor\n",
    "import seaborn as sns\n",
    "\n",
    "\n",
    "mae = 'neg_mean_absolute_error'\n",
    "mse = 'neg_mean_squared_error'\n",
    "rmse = 'neg_root_mean_squared_error'\n",
    "\n",
    "RANDOM_SEED = 42\n",
    "N_JOBS = 12\n",
    "\n",
    "# prepare models\n",
    "models = {}\n",
    "\n",
    "# models['LR'] = LinearRegression()\n",
    "# models['Ridge'] = Ridge()\n",
    "models['PLS'] = PLSRegression()\n",
    "models['DT'] = DecisionTreeRegressor(random_state=RANDOM_SEED)\n",
    "models['Lasso'] = Lasso()\n",
    "models['KNN'] = KNeighborsRegressor(n_jobs=N_JOBS)\n",
    "models['SVR'] = SVR()\n",
    "models['RF'] = RandomForestRegressor(n_estimators=200, random_state=RANDOM_SEED, n_jobs=N_JOBS)\n",
    "models['XGB'] = xgb.XGBRegressor(n_estimators=1000, random_state=RANDOM_SEED, n_jobs=N_JOBS, verbosity=0)\n",
    "models['CATB'] = CatBoostRegressor(loss_function='RMSE', verbose=False, random_seed=RANDOM_SEED, thread_count=N_JOBS)\n",
    "# models['CATB GPU'] = CatBoostRegressor(loss_function='RMSE', verbose=False, random_seed=RANDOM_SEED, thread_count=N_JOBS, task_type='GPU')\n",
    "\n",
    "scaler = OffsetScaler(offset=FPS_OFFSET)\n",
    "ss = StandardScaler()"
   ],
   "outputs": [],
   "execution_count": 37
  },
  {
   "metadata": {
    "ExecuteTime": {
     "end_time": "2024-08-29T08:41:57.690367Z",
     "start_time": "2024-08-29T08:41:57.679767Z"
    }
   },
   "cell_type": "code",
   "source": [
    "from sklearn.pipeline import make_pipeline\n",
    "from sklearn.ensemble import StackingRegressor"
   ],
   "id": "b5f33e49db2c55bb",
   "outputs": [],
   "execution_count": 38
  },
  {
   "metadata": {
    "ExecuteTime": {
     "end_time": "2024-08-29T08:53:38.723054Z",
     "start_time": "2024-08-29T08:53:38.675602Z"
    }
   },
   "cell_type": "code",
   "source": [
    "def evaluate(X, seed=RANDOM_SEED):\n",
    "    results = {}\n",
    "\n",
    "    for name in models.keys():\n",
    "        tic = time.time()\n",
    "        \n",
    "        model = models[name]\n",
    "        kfold = KFold(n_splits=5, shuffle=True, random_state=seed)\n",
    "        results[name] = cross_val_score(model, X, y_train, cv=kfold, scoring=rmse)\n",
    "        \n",
    "        toc = time.time()\n",
    "        mean = results[name].mean()\n",
    "        std = results[name].std()\n",
    "        final_score = mean - std\n",
    "        print(\"%5s: %3.3f     %3.3f ± %3.3f      %.1fs\" % (name, final_score, mean, std, toc - tic))\n",
    "        \n",
    "    return pd.DataFrame(results)\n",
    "\n",
    "def evaluate_single(model, X, name=None, seed=RANDOM_SEED):\n",
    "    tic = time.time()\n",
    "    \n",
    "    kfold = KFold(n_splits=5, shuffle=True, random_state=seed)\n",
    "    cv_res = cross_val_score(model, X, y_train, cv=kfold, scoring=rmse)\n",
    "    \n",
    "    toc = time.time()\n",
    "    final_score = cv_res.mean() - cv_res.std()\n",
    "    name = '' if name is None else name\n",
    "    print(\"%5s: %3.3f     %3.3f ± %3.3f      %.1fs\" % (name, final_score, cv_res.mean(), cv_res.std(), toc - tic))\n",
    "    return cv_res"
   ],
   "id": "e7641cb70e08f19c",
   "outputs": [],
   "execution_count": 42
  },
  {
   "metadata": {
    "ExecuteTime": {
     "end_time": "2024-08-29T08:44:04.603706Z",
     "start_time": "2024-08-29T08:42:00.390729Z"
    }
   },
   "cell_type": "code",
   "source": "evaluate(X_train);",
   "id": "3cc071f7e2ab4f84",
   "outputs": [
    {
     "name": "stdout",
     "output_type": "stream",
     "text": [
      "  PLS: -30.922     -29.249 ± 1.673      0.2s\n",
      "   DT: -33.612     -32.761 ± 0.851      0.8s\n",
      "Lasso: -29.341     -28.264 ± 1.077      1.1s\n",
      "  KNN: -29.000     -27.593 ± 1.407      0.2s\n",
      "  SVR: -35.017     -34.298 ± 0.718      2.7s\n",
      "   RF: -25.241     -23.391 ± 1.849      12.6s\n",
      "  XGB: -26.694     -24.906 ± 1.788      13.6s\n",
      " CATB: -24.281     -22.882 ± 1.399      93.1s\n"
     ]
    }
   ],
   "execution_count": 40
  },
  {
   "metadata": {
    "ExecuteTime": {
     "end_time": "2024-08-29T08:32:09.643904Z",
     "start_time": "2024-08-29T08:25:00.874130Z"
    }
   },
   "cell_type": "code",
   "source": [
    "estimators = [\n",
    "    ('CATB', models['CATB']),\n",
    "    ('RF', models['RF']),\n",
    "    ('XGB', models['XGB']),\n",
    "    ('KNN', models['KNN']),\n",
    "    ('Lasso', models['Lasso']),\n",
    "]\n",
    "\n",
    "clf = StackingRegressor(\n",
    "    estimators=estimators, final_estimator=LinearRegression()\n",
    ")\n",
    "\n",
    "evaluate_single(clf, X_train);"
   ],
   "id": "d602b721fe100392",
   "outputs": [
    {
     "name": "stdout",
     "output_type": "stream",
     "text": [
      " None: -24.352     -22.818 ± 1.534      428.7s\n"
     ]
    },
    {
     "data": {
      "text/plain": [
       "array([-23.85412768, -25.06966055, -22.77018122, -20.76684548,\n",
       "       -21.62735586])"
      ]
     },
     "execution_count": 25,
     "metadata": {},
     "output_type": "execute_result"
    }
   ],
   "execution_count": 25
  },
  {
   "metadata": {
    "ExecuteTime": {
     "end_time": "2024-08-29T08:53:38.674143Z",
     "start_time": "2024-08-29T08:51:08.197915Z"
    }
   },
   "cell_type": "code",
   "source": [
    "estimators = [\n",
    "    ('RF', models['RF']),\n",
    "    ('XGB', models['XGB']),\n",
    "    ('KNN', models['KNN']),\n",
    "    ('Lasso', models['Lasso']),\n",
    "]\n",
    "\n",
    "clf = StackingRegressor(\n",
    "    estimators=estimators, final_estimator=LinearRegression()\n",
    ")\n",
    "\n",
    "evaluate_single(clf, X_train);"
   ],
   "id": "d851bbc067b01bf2",
   "outputs": [
    {
     "name": "stdout",
     "output_type": "stream",
     "text": [
      " None: -25.134     -23.297 ± 1.838      150.5s\n"
     ]
    }
   ],
   "execution_count": 41
  },
  {
   "metadata": {
    "ExecuteTime": {
     "end_time": "2024-08-29T08:53:54.165593Z",
     "start_time": "2024-08-29T08:53:38.724865Z"
    }
   },
   "cell_type": "code",
   "source": "evaluate_single(models['RF'], X_train);",
   "id": "2e40110ac6347a6a",
   "outputs": [
    {
     "name": "stdout",
     "output_type": "stream",
     "text": [
      "     : -25.241     -23.391 ± 1.849      15.4s\n"
     ]
    }
   ],
   "execution_count": 43
  },
  {
   "metadata": {
    "ExecuteTime": {
     "end_time": "2024-08-29T08:55:25.329379Z",
     "start_time": "2024-08-29T08:53:54.167416Z"
    }
   },
   "cell_type": "code",
   "source": "evaluate_single(models['CATB'], X_train);",
   "id": "d04cfed6c28e726e",
   "outputs": [
    {
     "name": "stdout",
     "output_type": "stream",
     "text": [
      "     : -24.281     -22.882 ± 1.399      91.1s\n"
     ]
    }
   ],
   "execution_count": 44
  },
  {
   "metadata": {
    "ExecuteTime": {
     "end_time": "2024-08-29T09:05:19.062423Z",
     "start_time": "2024-08-29T09:05:19.048240Z"
    }
   },
   "cell_type": "code",
   "source": [
    "import numpy as np\n",
    "from sklearn.base import BaseEstimator, RegressorMixin\n",
    "from sklearn.linear_model import LinearRegression\n",
    "from sklearn.tree import DecisionTreeRegressor\n",
    "from sklearn.ensemble import RandomForestRegressor\n",
    "\n",
    "class BlendingRegressor(BaseEstimator, RegressorMixin):\n",
    "    def __init__(self, models, weights=None):\n",
    "        self.models = models\n",
    "        self.weights = weights if weights is not None else [1/len(models)] * len(models)\n",
    "    \n",
    "    def fit(self, X, y):\n",
    "        for name, model in self.models:\n",
    "            model.fit(X, y)\n",
    "        return self\n",
    "    \n",
    "    def predict(self, X):\n",
    "        predictions = np.array([model.predict(X) for name, model in self.models])\n",
    "        weighted_avg_predictions = np.average(predictions, axis=0, weights=self.weights)\n",
    "        return weighted_avg_predictions"
   ],
   "id": "87e955451f5e7992",
   "outputs": [],
   "execution_count": 61
  },
  {
   "metadata": {},
   "cell_type": "markdown",
   "source": [
    "  PLS: -30.922     -29.249 ± 1.673      0.2s\n",
    "  \n",
    "   DT: -33.612     -32.761 ± 0.851      0.8s\n",
    "   \n",
    "Lasso: -29.341     -28.264 ± 1.077      1.1s\n",
    "\n",
    "  KNN: -29.000     -27.593 ± 1.407      0.2s\n",
    "  \n",
    "  SVR: -35.017     -34.298 ± 0.718      2.7s\n",
    "  \n",
    "   RF: -25.241     -23.391 ± 1.849      12.6s\n",
    "   \n",
    "  XGB: -26.694     -24.906 ± 1.788      13.6s\n",
    "  \n",
    " CATB: -24.281     -22.882 ± 1.399      93.1s"
   ],
   "id": "10e16ba9f9d67cba"
  },
  {
   "metadata": {
    "ExecuteTime": {
     "end_time": "2024-08-29T09:05:54.594628Z",
     "start_time": "2024-08-29T09:05:53.573131Z"
    }
   },
   "cell_type": "code",
   "source": [
    "evaluate_single(models['KNN'], X_train);\n",
    "evaluate_single(models['Lasso'], X_train);"
   ],
   "id": "344b14bcd3a490cf",
   "outputs": [
    {
     "name": "stdout",
     "output_type": "stream",
     "text": [
      "     : -29.000     -27.593 ± 1.407      0.1s\n",
      "     : -29.341     -28.264 ± 1.077      0.9s\n"
     ]
    }
   ],
   "execution_count": 63
  },
  {
   "metadata": {
    "ExecuteTime": {
     "end_time": "2024-08-29T09:06:01.878928Z",
     "start_time": "2024-08-29T09:06:00.387255Z"
    }
   },
   "cell_type": "code",
   "source": [
    "estimators = [\n",
    "    ('KNN', models['KNN']),\n",
    "    ('Lasso', models['Lasso']),\n",
    "]\n",
    "\n",
    "clf = BlendingRegressor(estimators, weights=[0.5, 0.5])\n",
    "\n",
    "evaluate_single(clf, X_train);"
   ],
   "id": "2fbfdbda22ad0d25",
   "outputs": [
    {
     "name": "stdout",
     "output_type": "stream",
     "text": [
      "     : -27.715     -26.515 ± 1.200      1.5s\n"
     ]
    }
   ],
   "execution_count": 64
  },
  {
   "metadata": {
    "ExecuteTime": {
     "end_time": "2024-08-29T09:10:36.857878Z",
     "start_time": "2024-08-29T09:10:07.403419Z"
    }
   },
   "cell_type": "code",
   "source": [
    "estimators = [\n",
    "    ('RF', models['RF']),\n",
    "    ('XGB', models['XGB']),        \n",
    "    ('KNN', models['KNN']),\n",
    "    ('Lasso', models['Lasso']),\n",
    "]\n",
    "\n",
    "clf = BlendingRegressor(estimators, weights=[1, 0.2, 0.1, 0.1])\n",
    "\n",
    "evaluate_single(clf, X_train);"
   ],
   "id": "fb318503e79f5cec",
   "outputs": [
    {
     "name": "stdout",
     "output_type": "stream",
     "text": [
      "     : -25.144     -23.388 ± 1.756      29.4s\n"
     ]
    }
   ],
   "execution_count": 68
  },
  {
   "metadata": {
    "ExecuteTime": {
     "end_time": "2024-08-29T09:10:52.647494Z",
     "start_time": "2024-08-29T09:10:36.859697Z"
    }
   },
   "cell_type": "code",
   "source": [
    "estimators = [\n",
    "    ('RF', models['RF']),\n",
    "    ('KNN', models['KNN']),\n",
    "]\n",
    "\n",
    "clf = BlendingRegressor(estimators, weights=[1, 0.1])\n",
    "evaluate_single(clf, X_train);"
   ],
   "id": "6add47cb34b52747",
   "outputs": [
    {
     "name": "stdout",
     "output_type": "stream",
     "text": [
      "     : -25.194     -23.393 ± 1.801      15.8s\n"
     ]
    }
   ],
   "execution_count": 69
  },
  {
   "metadata": {
    "ExecuteTime": {
     "end_time": "2024-08-29T09:11:27.463168Z",
     "start_time": "2024-08-29T09:11:14.839171Z"
    }
   },
   "cell_type": "code",
   "source": [
    "clf = BlendingRegressor(estimators, weights=[1, 0.2])\n",
    "evaluate_single(clf, X_train);"
   ],
   "id": "fd8982f1aa6f5871",
   "outputs": [
    {
     "name": "stdout",
     "output_type": "stream",
     "text": [
      "     : -25.218     -23.457 ± 1.761      12.6s\n"
     ]
    }
   ],
   "execution_count": 70
  },
  {
   "metadata": {
    "ExecuteTime": {
     "end_time": "2024-08-29T09:12:00.570010Z",
     "start_time": "2024-08-29T09:11:44.761766Z"
    }
   },
   "cell_type": "code",
   "source": [
    "clf = BlendingRegressor(estimators, weights=[1, 1])\n",
    "evaluate_single(clf, X_train);"
   ],
   "id": "de233d41923ed8f6",
   "outputs": [
    {
     "name": "stdout",
     "output_type": "stream",
     "text": [
      "     : -25.997     -24.405 ± 1.593      15.8s\n"
     ]
    }
   ],
   "execution_count": 72
  },
  {
   "metadata": {
    "ExecuteTime": {
     "end_time": "2024-08-29T09:11:44.759815Z",
     "start_time": "2024-08-29T09:11:29.100603Z"
    }
   },
   "cell_type": "code",
   "source": [
    "clf = BlendingRegressor(estimators, weights=[1, 0.05])\n",
    "evaluate_single(clf, X_train);"
   ],
   "id": "1e843fbedfc0bc59",
   "outputs": [
    {
     "name": "stdout",
     "output_type": "stream",
     "text": [
      "     : -25.206     -23.382 ± 1.824      15.6s\n"
     ]
    }
   ],
   "execution_count": 71
  },
  {
   "metadata": {},
   "cell_type": "code",
   "outputs": [],
   "execution_count": null,
   "source": [
    "estimators = [\n",
    "    ('RF', models['RF']),\n",
    "    ('KNN', models['KNN']),\n",
    "]\n",
    "\n",
    "clf = BlendingRegressor(estimators, weights=[1, 0.1])\n",
    "\n",
    "evaluate_single(clf, X_train);"
   ],
   "id": "4caa7b20603f19a0"
  },
  {
   "metadata": {
    "ExecuteTime": {
     "end_time": "2024-08-29T09:20:10.892305Z",
     "start_time": "2024-08-29T09:18:22.877074Z"
    }
   },
   "cell_type": "code",
   "source": [
    "estimators = [\n",
    "    ('CATB', models['CATB']),\n",
    "    ('RF', models['RF']),\n",
    "]\n",
    "\n",
    "clf = BlendingRegressor(estimators, weights=[1, 0.05])\n",
    "\n",
    "evaluate_single(clf, X_train);"
   ],
   "id": "4bf0eb88d08a1e3c",
   "outputs": [
    {
     "name": "stdout",
     "output_type": "stream",
     "text": [
      "     : -24.265     -22.845 ± 1.420      108.0s\n"
     ]
    }
   ],
   "execution_count": 76
  },
  {
   "metadata": {
    "ExecuteTime": {
     "end_time": "2024-08-29T09:14:42.849226Z",
     "start_time": "2024-08-29T09:12:51.801672Z"
    }
   },
   "cell_type": "code",
   "source": [
    "estimators = [\n",
    "    ('CATB', models['CATB']),\n",
    "    ('RF', models['RF']),\n",
    "]\n",
    "\n",
    "clf = BlendingRegressor(estimators, weights=[1, 0.1])\n",
    "\n",
    "evaluate_single(clf, X_train);"
   ],
   "id": "f452e0f28a4310ec",
   "outputs": [
    {
     "name": "stdout",
     "output_type": "stream",
     "text": [
      "     : -24.256     -22.817 ± 1.439      111.0s\n"
     ]
    }
   ],
   "execution_count": 73
  },
  {
   "metadata": {
    "ExecuteTime": {
     "end_time": "2024-08-29T09:16:34.239840Z",
     "start_time": "2024-08-29T09:14:42.850962Z"
    }
   },
   "cell_type": "code",
   "source": [
    "estimators = [\n",
    "    ('CATB', models['CATB']),\n",
    "    ('RF', models['RF']),\n",
    "]\n",
    "\n",
    "clf = BlendingRegressor(estimators, weights=[1, 0.2])\n",
    "\n",
    "evaluate_single(clf, X_train);"
   ],
   "id": "e71ca41a936351e1",
   "outputs": [
    {
     "name": "stdout",
     "output_type": "stream",
     "text": [
      "     : -24.252     -22.780 ± 1.473      111.4s\n"
     ]
    }
   ],
   "execution_count": 74
  },
  {
   "metadata": {
    "ExecuteTime": {
     "end_time": "2024-08-29T09:18:22.875163Z",
     "start_time": "2024-08-29T09:16:34.241297Z"
    }
   },
   "cell_type": "code",
   "source": [
    "estimators = [\n",
    "    ('CATB', models['CATB']),\n",
    "    ('RF', models['RF']),\n",
    "]\n",
    "\n",
    "clf = BlendingRegressor(estimators, weights=[1, 0.5])\n",
    "\n",
    "evaluate_single(clf, X_train);"
   ],
   "id": "8a03d3b2a66ae83d",
   "outputs": [
    {
     "name": "stdout",
     "output_type": "stream",
     "text": [
      "     : -24.301     -22.753 ± 1.548      108.6s\n"
     ]
    }
   ],
   "execution_count": 75
  },
  {
   "metadata": {
    "ExecuteTime": {
     "end_time": "2024-08-29T10:37:57.160179Z",
     "start_time": "2024-08-29T10:35:42.833712Z"
    }
   },
   "cell_type": "code",
   "source": [
    "estimators = [\n",
    "    ('CATB', models['CATB']),\n",
    "    ('RF', models['RF']),\n",
    "    ('XGB', models['XGB']),\n",
    "    ('KNN', models['KNN']),\n",
    "    ('Lasso', models['Lasso']),\n",
    "]\n",
    "\n",
    "clf = BlendingRegressor(estimators, weights=[1, 0.1, 0.05, 0.01, 0.01])\n",
    "\n",
    "evaluate_single(clf, X_train);"
   ],
   "id": "6f944d7a7e784e53",
   "outputs": [
    {
     "name": "stdout",
     "output_type": "stream",
     "text": [
      "     : -24.293     -22.793 ± 1.500      134.2s\n"
     ]
    }
   ],
   "execution_count": 77
  },
  {
   "metadata": {
    "ExecuteTime": {
     "end_time": "2024-08-29T11:25:58.776295Z",
     "start_time": "2024-08-29T11:25:58.751474Z"
    }
   },
   "cell_type": "code",
   "source": [
    "best_params = {\n",
    "    'rf': {        \n",
    "        'n_estimators': 200,\n",
    "        'max_depth': 25,\n",
    "        'min_samples_split': 2,\n",
    "        'min_samples_leaf': 1,\n",
    "        'bootstrap': True,\n",
    "        'max_features': 0.2,\n",
    "    },\n",
    "    'lasso': {\n",
    "        'alpha': 1.0531212524084377,\n",
    "    },\n",
    "    'knn': {\n",
    "        'n_neighbors': 10, \n",
    "        'weights': 'distance', \n",
    "        'algorithm': 'kd_tree',\n",
    "    },\n",
    "    'xgb': {\n",
    "        'n_estimators': 500,\n",
    "        'max_depth': 7,\n",
    "        'learning_rate': 0.03009296959769392,\n",
    "        'subsample': 0.8097241149092725,\n",
    "        'colsample_bytree': 0.6696687175682526,\n",
    "        'gamma': 0.8402157425699277,\n",
    "        'reg_alpha': 0.26489296857909234,\n",
    "        'reg_lambda': 0.35085412588178566\n",
    "    }     \n",
    "}"
   ],
   "id": "d6112eaeff7a5954",
   "outputs": [],
   "execution_count": 78
  },
  {
   "metadata": {
    "ExecuteTime": {
     "end_time": "2024-08-29T11:27:26.650931Z",
     "start_time": "2024-08-29T11:27:09.332262Z"
    }
   },
   "cell_type": "code",
   "source": [
    "best_rf = RandomForestRegressor(random_state=RANDOM_SEED, n_jobs=N_JOBS, **best_params['rf'])\n",
    "best_xgb = xgb.XGBRegressor(random_state=RANDOM_SEED, n_jobs=N_JOBS, **best_params['xgb'])\n",
    "best_knn = KNeighborsRegressor(**best_params['knn'])\n",
    "best_lasso = Lasso(**best_params['lasso'])\n",
    "\n",
    "evaluate_single('KNN', best_knn, X_train);\n",
    "evaluate_single('Lasso', best_lasso, X_train);\n",
    "evaluate_single('RF', best_rf, X_train);\n",
    "evaluate_single('XGB', best_xgb, X_train);"
   ],
   "id": "38b862765bb51015",
   "outputs": [
    {
     "name": "stdout",
     "output_type": "stream",
     "text": [
      "     : -28.103     -26.203 ± 1.900      1.9s\n",
      "     : -29.335     -28.287 ± 1.048      0.9s\n",
      "     : -24.915     -23.320 ± 1.595      3.3s\n",
      "     : -24.508     -22.662 ± 1.846      11.2s\n"
     ]
    }
   ],
   "execution_count": 80
  },
  {
   "metadata": {
    "ExecuteTime": {
     "end_time": "2024-08-29T11:39:16.464816Z",
     "start_time": "2024-08-29T11:37:23.605826Z"
    }
   },
   "cell_type": "code",
   "source": [
    "estimators = [\n",
    "    ('CATB', CatBoostRegressor(verbose=False, random_seed=RANDOM_SEED, thread_count=N_JOBS)),\n",
    "    ('XGB', best_xgb),\n",
    "    ('RF', best_rf),\n",
    "    # ('KNN', best_knn),\n",
    "    # ('Lasso', best_lasso),\n",
    "]\n",
    "\n",
    "clf = BlendingRegressor(estimators, weights=[1,  0.5,  0.2])\n",
    "\n",
    "evaluate_single(clf, X_train);"
   ],
   "id": "10a14ed7b5404d96",
   "outputs": [
    {
     "name": "stdout",
     "output_type": "stream",
     "text": [
      "     : -24.160     -22.601 ± 1.559      112.8s\n"
     ]
    }
   ],
   "execution_count": 82
  },
  {
   "metadata": {},
   "cell_type": "code",
   "outputs": [],
   "execution_count": null,
   "source": [
    "estimators = [\n",
    "    ('CATB', CatBoostRegressor(verbose=False, random_seed=RANDOM_SEED, thread_count=N_JOBS)),\n",
    "    ('XGB', best_xgb),\n",
    "    ('RF', best_rf),\n",
    "    # ('KNN', best_knn),\n",
    "    # ('Lasso', best_lasso),\n",
    "]\n",
    "\n",
    "clf = BlendingRegressor(estimators, weights=[1,  0.5,  0.2])\n",
    "\n",
    "evaluate_single(clf, X_train);"
   ],
   "id": "cba1877c33f3c8b8"
  },
  {
   "metadata": {
    "ExecuteTime": {
     "end_time": "2024-08-29T11:41:27.003028Z",
     "start_time": "2024-08-29T11:41:02.413337Z"
    }
   },
   "cell_type": "code",
   "source": "y_pred = clf.fit(X_train, y_train).predict(X_test)",
   "id": "a7b6ba1d8f5b20e0",
   "outputs": [],
   "execution_count": 83
  },
  {
   "metadata": {
    "ExecuteTime": {
     "end_time": "2024-08-29T11:42:14.494355Z",
     "start_time": "2024-08-29T11:42:14.478725Z"
    }
   },
   "cell_type": "code",
   "source": "pd.Series(y_pred, name='Results').to_csv('../data/submissions/stack_xgb_cb_rf.csv', index=False)",
   "id": "54ec88341e19a364",
   "outputs": [],
   "execution_count": 85
  }
 ],
 "metadata": {
  "kernelspec": {
   "display_name": "Python 3",
   "language": "python",
   "name": "python3"
  },
  "language_info": {
   "codemirror_mode": {
    "name": "ipython",
    "version": 2
   },
   "file_extension": ".py",
   "mimetype": "text/x-python",
   "name": "python",
   "nbconvert_exporter": "python",
   "pygments_lexer": "ipython2",
   "version": "2.7.6"
  }
 },
 "nbformat": 4,
 "nbformat_minor": 5
}
